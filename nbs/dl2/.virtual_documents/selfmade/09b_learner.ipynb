get_ipython().run_line_magic("load_ext", " autoreload")
get_ipython().run_line_magic("autoreload", " 2")

get_ipython().run_line_magic("matplotlib", " inline")


#export
from exp.nb_09 import * 


AvgStats


path = untar_data(URLs.IMAGENETTE_160)


tfms = [make_rgb, ResizeFixed(128), to_byte_tensor, to_float_tensor]
bs = 64


il = ImageList.from_files(path, tfms=tfms)
sd = SplitData.split_by_func(il, partial(grandparent_splitter, valid_name='val'))
ll = label_by_func(sd, parent_labeler, proc_y=CategoryProcessor())
data = ll.to_databunch(bs, c_in=3, c_out=10, num_workers=4)


cbfs = [CudaCallback,
        partial(AvgStatsCallback, accuracy),
       partial(BatchTransformXCallback, norm_imagenette)]


nfs = [32] * 4


#export
def param_getter(m): return m.parameters()


#export
class Learner():
