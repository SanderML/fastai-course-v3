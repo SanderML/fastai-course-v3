get_ipython().run_line_magic("load_ext", " autoreload")
get_ipython().run_line_magic("autoreload", " 2")

get_ipython().run_line_magic("matplotlib", " inline")


#export
from exp.nb_07a import *


URLs.IMAGENETTE_160


get_ipython().run_line_magic('pinfo2',  'untar_data')


get_ipython().run_line_magic('pinfo2',  'download_data')


get_ipython().run_line_magic('pinfo2',  'download_url')


path = untar_data(URLs.IMAGENETTE_160)
path


#export
import PIL, os, mimetypes
Path.ls = lambda x: list(x.iterdir())


path.ls()


(path/'val').ls()


path_tench = (path/'val'/'n01440764')


img_fn = path_tench.ls()[0]
img_fn


img = PIL.Image.open(img_fn)
img


plt.imshow(img);


import numpy
imga = numpy.array(img)


imga.shape


imga[:5,:5,0]


# mimetypes.types_map.items()


#export
image_extensions = set(k for k,v in mimetypes.types_map.items() if v.startswith('image/'))


' '.join(image_extensions)


#export
def setify(o): return o if isinstance(o, set) else set(listify(o))


test_eq(setify('aa'), {'aa'})
test_eq(setify(['aa',1]), {'aa',1})
test_eq(setify(None), set())
test_eq(setify(1), {1})
test_eq(setify({1}), {1})


#export
def _get_files(path, files, extensions=None):
    p = Path(path)
    res = [p/f for f in files if not f.startswith('.') and ((not extensions) or f'.{f.split(".")[-1].lower()}' in extensions)]
    return res


t = [o.name for o in os.scandir(path_tench)]
t[:3]


t_path = _get_files(path_tench, t, image_extensions)
t_path[:3]


#export
def get_files(path, extensions=None, recurse=False, include=None):
    path = Path(path)
    extensions = setify(extensions)
    extensions = {e.lower() for e in extensions}
    if recurse:
        res = []
        for i, (p,d,f) in enumerate(os.walk(path)): # returns (dirpath, dirnames, filesnames)
            if include is not None and i == 0:
                d[:] = [o for o in d if o in include]
            else:
                 d[:] = [o for o in d if not o.startswith('.')]
            res += _get_files(p, f, extensions)
        return res
        
    else:
        f = [o.name for o in os.scandir(path) if o.is_file()]
        return _get_files(path, f, extensions)


get_files(path_tench, image_extensions)[:3]


get_files(path, image_extensions, recurse=True)[:3]


all_fns = get_files(path, image_extensions, recurse=True)
len(all_fns)


get_ipython().run_line_magic("timeit", " -n 10 get_files(path, image_extensions, recurse=True)")


#export
def compose
