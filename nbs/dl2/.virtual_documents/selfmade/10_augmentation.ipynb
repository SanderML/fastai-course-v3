get_ipython().run_line_magic("load_ext", " autoreload")
get_ipython().run_line_magic("autoreload", " 2")

get_ipython().run_line_magic("matplotlib", " inline")


#export
from exp.nb_09c import *


#export
make_rgb._order = 0


path = untar_data(URLs.IMAGENETTE_160)
tfms = [make_rgb, ResizeFixed(128), to_byte_tensor, to_float_tensor]


def get_il(tfms): return ImageList.from_files(path, tfms=tfms)


il = get_il(tfms)


show_image(il[0])


img = PIL.Image.open(il.items[0])


img 


img.getpixel((1,1))


import numpy as np


get_ipython().run_line_magic("timeit", " -n 10 a = np.array(PIL.Image.open(il.items[0]))")


img.resize((128,128), resample=PIL.Image.ANTIALIAS)


img.resize((128,128), resample=PIL.Image.BILINEAR)


img.resize((128,128), resample=PIL.Image.NEAREST)


img.resize((256,256), resample=PIL.Image.BICUBIC).resize((128,128), resample=PIL.Image.NEAREST)


get_ipython().run_line_magic("timeit", " img.resize((224,224), resample=PIL.Image.BICUBIC)")


get_ipython().run_line_magic("timeit", " img.resize((224,224), resample=PIL.Image.BILINEAR)")


get_ipython().run_line_magic("timeit", " img.resize((224,224), resample=PIL.Image.NEAREST)")


#export
import random


def pil_random_flip(x):
    return x.transpose(PIL.Image.FLIP_LEFT_RIGHT) if random.random() < 0.5 else x


il1 = get_il(tfms)
il1.items[0]


il1.items = [il1.items[0]] * 64


dl = DataLoader(il1, 8)


x = next(iter(dl))


#export
def show_image(im, ax=None, figsize=(3,3)):
    if ax is None: _,ax = plt.subplots(1,1, figsize=figsize)
    ax.axis('off')
    ax.imshow(im.permute(1,2,0))
    
def show_batch(x, c=4, r=None, figsize=None):
    n = len(x)
    if r is None: r = int(math.ceil(n/c))
    if figsize is None: figsize=(c*3,r*3)
    fig, axes = plt.subplots(r,c, figsize=figsize)
    for xi,ax in zip(x, axes.flat): show_image(xi, ax)


show_image(x[0])


show_batch(x)


il1.tfms.append(pil_random_flip)


x = next(iter(dl))
show_batch(x)


class PilRandomFlip(Transform):
    _order = 11
    def __init__(self, p=0.5): self.p = p
    def __call__(self, x):
        return x.transpose(PIL.Image.FLIP_LEFT_RIGHT) if random.random() < self.p else x


#export
class PilTransform(Transform): _order = 11
    
class PilRandomFlip(PilTransform):
    def __init__(self, p=0.5): self.p = p
    def __call__(self, x): return x.transpose(PIL.Image.FLIP_LEFT_RIGHT) if random.random() < self.p else x


del(il1.tfms[-1])


il1.tfms


il1.tfms.append(PilRandomFlip(0.8))


x = next(iter(dl))
show_batch(x)


PIL.Image.FLIP_LEFT_RIGHT, PIL.Image.ROTATE_270, PIL.Image.TRANSVERSE


img = PIL.Image.open(il.items[0])
img = img.resize((128,128), resample=PIL.Image.NEAREST)
_, axs = plt.subplots(2,4, figsize=(12,6))
for i, ax in enumerate(axs.flatten()):
    if i == 0: ax.imshow(img)
    else: ax.imshow(img.transpose(i-1))
    ax.axis('off')


#export
class PILRandomDihedral(PilTransform):
    def __init__(self, p=0.75): self.p = p * 7/8
    def __call__(self, x):
        if random.random() > self.p: return x
        return x.transpose(random.randint(0,6))


del(il1.tfms[-1])
il1.tfms.append(PILRandomDihedral())


show_batch(next(iter(dl)))


img = PIL.Image.open(il.items[0])
img.size


img.crop((60,60,160,160)).resize((128,128), resample=PIL.Image.BILINEAR)


cnr2 = (60,60,160,160)
resample = PIL.Image.BILINEAR


get_ipython().run_line_magic("timeit", " -n 10 img.crop(cnr2).resize((128,128), resample=resample)")


img.transform((128,128), PIL.Image.EXTENT, cnr2, resample=resample)


get_ipython().run_line_magic("timeit", " -n 10 img.transform((128,128), PIL.Image.EXTENT, cnr2, resample=resample)")


#export
from random import randint

def process_sz(sz):
    sz = listify(sz)
    return tuple(sz if len(sz)==2 else [sz[0], sz[0]])


# from IPython.core.display import display, HTML
# display(HTML("<style>.container { width:75% !important; }</style>"))
process_sz((128,128)), process_sz(128)


#export
def default_crop_size(w,h): return [w,w] if w < h else [h,h]


#export
class GeneralCrop(PilTransform):
    def __init__(self, size, crop_size=None, resample=PIL.Image.BILINEAR):
        self.resample,self.size = resample,process_sz(size)
        self.crop_size = None if crop_size is None else process_sz(crop_size)
        
    def default_crop_size(self, w,h): return default_crop_size(w,h)
    def get_corners(self, w, h, wc, hc): return (0,0,w,h) # full image
    
    def __call__(self, x):
        csize = self.default_crop_size(*x.size) if self.crop_size is None else self.crop_size
        return x.transform(self.size, PIL.Image.EXTENT, self.get_corners(*x.size, *csize), resample=self.resample)
    


#export
class CenterCrop(GeneralCrop):
    def __init__(self, size, scale=1.14, resample=PIL.Image.BILINEAR):
        super().__init__(size, resample=resample)
        self.scale = scale
        
    def default_crop_size(self, w, h): return [w/self.scale, h/self.scale]
    
    def get_corners(self, w, h, wc, hc):
        return ((w-wc)//2, (h-hc)//2, (w-wc)//2+wc, (h-hc)//2+hc)


il1.tfms = [make_rgb, GeneralCrop(128), to_byte_tensor, to_float_tensor]


show_batch(next(iter(dl)))


#export
class RandomResizedCrop(GeneralCrop):
    def __init__(self, size, scale=(0.08,1.0), ratio=(3./4., 4./3.), resample=PIL.Image.BILINEAR):
        super().__init__(size, resample=resample)
        self.scale,self.ratio = scale,ratio
        
    def get_corners(self, w, h, wc, hc):
        area = w * h
        # Tries 10 times to get a proper crop inside the image
        for attempt in range(10):
            area = random.uniform(*self.scale) * area
            ratio = math.exp(random.uniform(math.log(self.ratio[0]), math.log(self.ratio[1])))
            new_w = int(round(math.sqrt(area * ratio)))
            new_h = int(round(math.sqrt(area / ratio)))
            if new_w <= w and new_h <= h:
                left = random.randint(0, w-new_w)
                top = random.randint(0, h-new_h)
                return (left, top, left + new_w, top + new_h)
            
        # Fallback to squish
        if w/h < self.ratio[0]: size = (w, int(w/self.ratio[0]))
        elif w/h > self.ratio[1]: size = (int(h*self.ratio[1]), h)
        else: size = (w,h)
        return ((w-size[0])//2, (h-size[1])//2, (w+size[0])//2, (h+size[1])//2)


il1.tfms = [make_rgb, RandomResizedCrop(128), to_byte_tensor, to_float_tensor]


show_batch(next(iter(dl)))


#export
from torch import FloatTensor, LongTensor


#export
def find_coeffs(orig_pts, targ_pts):
    matrix = []
    # The equations we'll need to solve.
    for p1, p2 in zip(targ_pts, orig_pts):
        matrix.append([p1[0], p1[1], 1, 0, 0, 0, -p2[0]*p1[0], -p2[0]*p1[1]])
        matrix.append([0, 0, 0, p1[0], p1[1], 1, -p2[1]*p1[0], -p2[1]*p1[1]])
        
    A = FloatTensor(matrix)
    B = FloatTensor(orig_pts).view(8,1)
    # The 8 scalars we seek are solution of AX = B
#     return list(torch.solve(B,A)[0][:,0])
    return list(torch.linalg.solve(A,B)[:,0])


#export
def warp(img, size, src_coords, resample=PIL.Image.BILINEAR):
    w,h = size
    targ_coords = ((0,0), (0,h), (w,h), (w,0))
    c = find_coeffs(src_coords, targ_coords)
    res = img.transform(size, PIL.Image.PERSPECTIVE, list(c), resample=resample)
    return res


targ = ((0,0),(0,128),(128,128),(128,0))
src  = ((90,60),(30,280),(310,280),(250,60))


c = find_coeffs(src, targ)
img.transform((128,128), PIL.Image.PERSPECTIVE, list(c), resample=resample)


get_ipython().run_line_magic("timeit", " -n 10 warp(img, (128,128), src)")


get_ipython().run_line_magic("timeit", " -n 10 warp(img, (128,128), src, resample=PIL.Image.NEAREST)")


warp(img, (64,64), src, resample=PIL.Image.BICUBIC)


warp(img, (64,64), src, resample=PIL.Image.NEAREST)


#export
def uniform(a,b): return a + (b-a) * random.random()


class PilTiltRandomCrop(PilTransform):
    def __init__(self, size, crop_size=None, magnitude=0., resample=PIL.Image.NEAREST):
        self.size,self.magnitude,self.resample = process_sz(size),magnitude,resample
        self.crop_size = None if crop_size is None else process_sz(crop_size)
        
    def __call__(self, x):
        csize = default_crop_size(*x.size) if self.crop_size is None else self.crop_size
        up_t, lr_t = uniform(-self.magnitude, self.magnitude), uniform(-self.magnitude, self.magnitude)
        left, top = randint(0, x.size[0] - csize[0]), randint(0, x.size[1] - csize[1])
        src_corners = tensor([[-up_t, -lr_t], [up_t, 1+lr_t], [1-up_t, 1-lr_t], [1+up_t, lr_t]])
        src_corners = src_corners * tensor(csize).float() + tensor([left, top]).float()
        src_corners = tuple([(int(o[0].item()), int(o[1].item())) for o in src_corners])
        return warp(x, self.size, src_corners, resample=self.resample)


il1.tfms = [make_rgb, PilTiltRandomCrop(128, magnitude=0.1), to_byte_tensor, to_float_tensor]


x = next(iter(dl))
show_batch(x)


# export
class PilTiltRandomCrop(PilTransform):
    def __init__(self, size, crop_size=None, magnitude=0., resample=PIL.Image.BILINEAR): 
        self.resample,self.size,self.magnitude = resample,process_sz(size),magnitude
        self.crop_size = None if crop_size is None else process_sz(crop_size)
        
    def __call__(self, x):
        csize = default_crop_size(*x.size) if self.crop_size is None else self.crop_size
        left,top = randint(0,x.size[0]-csize[0]),randint(0,x.size[1]-csize[1])
        top_magn = min(self.magnitude, left/csize[0], (x.size[0]-left)/csize[0]-1)
        lr_magn  = min(self.magnitude, top /csize[1], (x.size[1]-top) /csize[1]-1)
        up_t,lr_t = uniform(-top_magn, top_magn),uniform(-lr_magn, lr_magn)
        src_corners = tensor([[-up_t, -lr_t], [up_t, 1+lr_t], [1-up_t, 1-lr_t], [1+up_t, lr_t]])
        src_corners = src_corners * tensor(csize).float() + tensor([left,top]).float()
        src_corners = tuple([(int(o[0].item()), int(o[1].item())) for o in src_corners])
        return warp(x, self.size, src_corners, resample=self.resample)


il1.tfms = [make_rgb, PilTiltRandomCrop(128, magnitude=0.1), to_byte_tensor, to_float_tensor]


x = next(iter(dl))
show_batch(x)


[(o._order, o) for o in sorted(tfms, key=lambda x: x._order)]


#export
import numpy as np

def np_to_float(x): return torch.from_numpy(np.array(x, dtype=np.float32, copy=False)).permute(2,0,1).contiguous()/255.
np_to_float._order = 30


get_ipython().run_line_magic("timeit", " -n 10 to_float_tensor(to_byte_tensor(img))")


get_ipython().run_line_magic("timeit", " -n 10 np_to_float(img)")


il1.tfms = [make_rgb, PilTiltRandomCrop(128, magnitude=0.2), to_byte_tensor, to_float_tensor]


dl = DataLoader(il1, 64)


x = next(iter(dl))


from torch import FloatTensor


def affine_grid_cpu(size):
    N, C, H, W = size
    grid = FloatTensor(N, H, W, 2)
    linear_points = torch.linspace(-1, 1, W) if W > 1 else tensor([-1])
    grid[:,:,:,0] = torch.outer(torch.ones(H), linear_points).expand_as(grid[:,:,:,0])
    linear_points = torch.linspace(-1,1,H) if H > 1 else tensor([-1])
    grid[:,:,:,1] = torch.outer(linear_points, torch.ones(W)).expand_as(grid[:,:,:,1])
    return grid


grid = affine_grid_cpu(x.size())


grid.shape


grid[0,:5,:5]


get_ipython().run_line_magic("timeit", " -n 10 grid = affine_grid_cpu(x.size())")


m = tensor([[1., 0., 0.], [0., 1., 0.]])
theta = m.expand(x.size(0), 2, 3)


theta.shape


get_ipython().run_line_magic("timeit", " -n 10 grid = F.affine_grid(theta, x.size())")


get_ipython().run_line_magic("timeit", " -n 10 grid = F.affine_grid(theta.cuda(), x.size())")


def affine_grid(x, size):
    size = (size,size) if isinstance(size, int) else tuple(size)
    size = (x.size(0), x.size(1)) + size
    if x.device.type == 'cpu': return affine_grid_cpu(size)
    m = tensor([[1.,0.,0.], [0.,1.,0.]], device=x.device)
    return F.affine_grid(m.expand(x.size(0), 2, 3), size)


grid = affine_grid(x, 128)


from torch import stack,zeros_like,ones_like


def rotation_matrix(thetas):
    thetas.mul_(math.pi/180)
    rows = [stack([thetas.cos(),             thetas.sin(),             torch.zeros_like(thetas)], dim=1),
            stack([-thetas.sin(),            thetas.cos(),             torch.zeros_like(thetas)], dim=1),
            stack([torch.zeros_like(thetas), torch.zeros_like(thetas), torch.ones_like(thetas)], dim=1)]
    return stack(rows, dim=1)


thetas = torch.empty(x.size(0)).uniform_(-30,30)


thetas[:5]


m = rotation_matrix(thetas)


m.shape, m[:,None].shape, grid.shape


grid.view(64, -1, 2).shape


a = m[:,:2,:2]
b = m[:,2:,:2]
a.shape, b.shape


tfm_grid = (grid.view(64,-1,2) @ a + b).view(64, 128, 128, 2)


get_ipython().run_line_magic("timeit", " -n 10 tfm_grid = grid @ m[:,None,:2,:2] + m[:,2,:2][:,None,None]")


get_ipython().run_line_magic("timeit", " -n 10 tfm_grid = torch.einsum('bijk,bkl->bijl', grid, m[:,:2,:2]) + m[:,2,:2][:,None,None]")


get_ipython().run_line_magic("timeit", " -n 10 tfm_grid = torch.matmul(grid, m[:, :2, :2].unsqueeze(1)) + m[:, 2, :2][:, None, None]")


get_ipython().run_line_magic("timeit", " -n 10 tfm_grid = (torch.bmm(grid.view(64,-1,2), m[:, :2, :2]) + m[:, 2, :2][:, None]).view(-1, 128, 128, 2)")


grid = grid.cuda()
m = m.cuda()


get_ipython().run_line_magic("timeit", " -n 10 tfm_grid = grid @ m[:,None,:2,:2] + m[:,2,:2][:,None,None]")


get_ipython().run_line_magic("timeit", " -n 10 tfm_grid = torch.einsum('bijk,bkl->bijl', grid, m[:,:2,:2]) + m[:,2,:2][:,None,None]")


get_ipython().run_line_magic("timeit", " -n 10 tfm_grid = torch.matmul(grid, m[:, :2, :2].unsqueeze(1)) + m[:, 2, :2][:, None, None]")


get_ipython().run_line_magic("timeit", " -n 10 tfm_grid = (torch.bmm(grid.view(64,-1,2), m[:, :2, :2]) + m[:, 2, :2][:, None]).view(-1, 128, 128, 2)")


tfm_grid = torch.bmm(grid.view(64,-1,2), m[:,:2,:2]).view(-1, 128, 128, 2)


tfm_x = F.grid_sample(x, tfm_grid.cpu())


show_batch(tfm_x, r=2)


tfm_x = F.grid_sample(x, tfm_grid.cpu(), padding_mode='reflection')


show_batch(tfm_x, r=2)


def rotate_batch(x, size, degrees):
    grid = affine_grid(x, size)
    thetas = x.new(x.size(0)).uniform_(-degrees, degrees)
    m = rotation_matrix(thetas)
    tfm_grid = grid @ m[:, :2, :2].unsqueeze(1) + m[:, 2, :2][:, None, None]
    return F.grid_sample(x, tfm_grid)


show_batch(rotate_batch(x, 128, 30), r=2)


get_ipython().run_line_magic("timeit", " -n 10 tfm_x = rotate_batch(x, 128, 30)")


get_ipython().run_line_magic("timeit", " -n 10 tfm_x = rotate_batch(x.cuda(), 128, 30)")


from torch import Tensor


from torch.jit import script

@script
def rotate_batch(x:Tensor, size:int, degrees:float) -> Tensor:
    sz = (x.size(0),x.size(1)) + (size,size)
    idm = torch.zeros(2,3, device=x.device)
    idm[0,0] = 1.
    idm[1,1] = 1.
    grid = F.affine_grid(idm.expand(x.size(0), 2, 3), sz)
    thetas = torch.zeros(x.size(0), device=x.device).uniform_(-degrees,degrees)
    m = rotation_matrix(thetas)
    tfm_grid = torch.matmul(grid, m[:,:2,:2].unsqueeze(1)) + m[:,2,:2].unsqueeze(1).unsqueeze(2)
    return F.grid_sample(x, tfm_grid)


m = tensor([[1., 0., 0.], [0., 1., 0.]], device=x.device)


get_ipython().run_line_magic("timeit", " -n 10 tfm_x = rotate_batch(x.cuda(), 128, 30)")


def rotate_batch(x, size, degrees):
    size = (size,size) if isinstance(size, int) else tuple(size)
    size = (x.size(0), x.size(1)) + size
    thetas = x.new(x.size(0)).uniform_(-degrees, degrees)
    m = rotation_matrix(thetas)
    grid = F.affine_grid(m[:, :2], size)
    return F.grid_sample(x.cuda(), grid)


get_ipython().run_line_magic("timeit", " -n 10 tfm_x = rotate_batch(x.cuda(), 128, 30)")


get_ipython().getoutput("python notebook2script.py 10_augmentation.ipynb")



