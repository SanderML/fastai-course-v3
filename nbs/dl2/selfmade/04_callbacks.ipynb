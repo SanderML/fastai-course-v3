{
 "cells": [
  {
   "cell_type": "code",
   "execution_count": 1,
   "id": "fd0e9386-94ec-4659-9e5b-ec4541c95b21",
   "metadata": {},
   "outputs": [],
   "source": [
    "%load_ext autoreload\n",
    "%autoreload 2\n",
    "\n",
    "%matplotlib inline"
   ]
  },
  {
   "cell_type": "code",
   "execution_count": 2,
   "id": "de698203-6cbb-45c7-93d1-64de9b4307a3",
   "metadata": {},
   "outputs": [],
   "source": [
    "#export\n",
    "from exp.nb_03 import *"
   ]
  },
  {
   "cell_type": "markdown",
   "id": "0d025afb-b542-46d0-b6ae-f2933507232f",
   "metadata": {},
   "source": [
    "# DataBunch/ Learner"
   ]
  },
  {
   "cell_type": "code",
   "execution_count": 3,
   "id": "432bba9f-1db1-4ba6-957a-73362d40e137",
   "metadata": {},
   "outputs": [],
   "source": [
    "x_train, y_train, x_valid, y_valid = get_data()\n",
    "train_ds, valid_ds = Dataset(x_train, y_train), Dataset(x_valid, y_valid)\n",
    "nh, bs = 50, 64\n",
    "c = y_train.max().item() + 1\n",
    "loss_func = F.cross_entropy"
   ]
  },
  {
   "cell_type": "code",
   "execution_count": 4,
   "id": "3a05aed7-c074-453a-b42e-24e2544d4021",
   "metadata": {},
   "outputs": [],
   "source": [
    "#export\n",
    "class DataBunch():\n",
    "    def __init__(self, train_dl, valid_dl, c=None):\n",
    "        self.train_dl, self.valid_dl, self.c = train_dl, valid_dl, c\n",
    "        \n",
    "    @property\n",
    "    def train_ds(self): return self.train_dl.dataset\n",
    "    \n",
    "    @property\n",
    "    def valid_ds(self): return self.valid_dl.dataset"
   ]
  },
  {
   "cell_type": "code",
   "execution_count": 5,
   "id": "38773a3c-beb0-49ef-a436-f25befba3a78",
   "metadata": {},
   "outputs": [],
   "source": [
    "data = DataBunch(*get_dls(train_ds, valid_ds, bs), c)"
   ]
  },
  {
   "cell_type": "code",
   "execution_count": 6,
   "id": "6eaddab6-2977-45a5-ac65-7a19c4324785",
   "metadata": {},
   "outputs": [
    {
     "data": {
      "text/plain": [
       "<exp.nb_03.Dataset at 0x7f8757b93b20>"
      ]
     },
     "execution_count": 6,
     "metadata": {},
     "output_type": "execute_result"
    }
   ],
   "source": [
    "data.train_dl.dataset"
   ]
  },
  {
   "cell_type": "code",
   "execution_count": 7,
   "id": "f84ef01d-84b7-43a2-9a33-03e26920235b",
   "metadata": {},
   "outputs": [
    {
     "data": {
      "text/plain": [
       "torch.Size([60000, 784])"
      ]
     },
     "execution_count": 7,
     "metadata": {},
     "output_type": "execute_result"
    }
   ],
   "source": [
    "data.train_ds.x.shape"
   ]
  },
  {
   "cell_type": "code",
   "execution_count": 8,
   "id": "03bec473-e2ab-43d3-b427-a25cb53cf769",
   "metadata": {},
   "outputs": [],
   "source": [
    "#export \n",
    "def get_model(data, lr=0.1, nh=50):\n",
    "    m = data.train_ds.x.shape[1]\n",
    "    model = nn.Sequential(nn.Linear(m,nh), nn.ReLU(), nn.Linear(nh, data.c))\n",
    "    return model, optim.Adam(model.parameters(), lr=lr)\n",
    "\n",
    "class Learner():\n",
    "    def __init__(self, model, opt, loss_func, data):\n",
    "        self.model, self.opt, self.loss_func, self.data = model, opt, loss_func, data"
   ]
  },
  {
   "cell_type": "code",
   "execution_count": 9,
   "id": "4dd397a2-dd3f-4e7c-9a9b-50e9d85d6819",
   "metadata": {},
   "outputs": [],
   "source": [
    "learn = Learner(*get_model(data), loss_func, data)"
   ]
  },
  {
   "cell_type": "code",
   "execution_count": 10,
   "id": "285c74c5-6968-487c-a19e-9ac140b79f55",
   "metadata": {},
   "outputs": [],
   "source": [
    "xb, yb = train_ds[:bs]"
   ]
  },
  {
   "cell_type": "code",
   "execution_count": 11,
   "id": "6e067a6f-bdad-430f-bea5-f726970e5312",
   "metadata": {},
   "outputs": [
    {
     "data": {
      "text/plain": [
       "tensor(2.1768, grad_fn=<NllLossBackward>)"
      ]
     },
     "execution_count": 11,
     "metadata": {},
     "output_type": "execute_result"
    }
   ],
   "source": [
    "loss_func(learn.model(xb), yb)"
   ]
  },
  {
   "cell_type": "code",
   "execution_count": 12,
   "id": "a48112b4-4bbd-4cfb-bfa6-800309bf5e60",
   "metadata": {},
   "outputs": [],
   "source": [
    "def fit(epochs, learn):\n",
    "    for epoch in range(epochs):\n",
    "        learn.model.train()\n",
    "        for xb, yb in learn.data.train_dl:\n",
    "            pred = learn.model(xb)\n",
    "            loss = learn.loss_func(pred, yb)\n",
    "            loss.backward()\n",
    "            learn.opt.step()\n",
    "            learn.opt.zero_grad()\n",
    "            \n",
    "        learn.model.eval()\n",
    "        with torch.no_grad():\n",
    "            tot_loss, tot_acc = 0., 0.\n",
    "            for xb, yb in learn.data.valid_dl:\n",
    "                pred = learn.model(xb)\n",
    "                tot_loss += learn.loss_func(pred, yb)\n",
    "                tot_acc += accuracy(pred, yb)\n",
    "                \n",
    "        nv = len(learn.data.valid_dl)\n",
    "        print(epoch, tot_loss/nv, tot_acc/nv)\n",
    "    return tot_loss/nv, tot_acc/nv"
   ]
  },
  {
   "cell_type": "code",
   "execution_count": 13,
   "id": "bebf29e5-6838-47b1-b906-c568320dea7d",
   "metadata": {},
   "outputs": [
    {
     "name": "stdout",
     "output_type": "stream",
     "text": [
      "0 tensor(0.2660) tensor(0.9228)\n",
      "1 tensor(0.2639) tensor(0.9238)\n",
      "2 tensor(0.2644) tensor(0.9184)\n",
      "3 tensor(0.2323) tensor(0.9367)\n",
      "4 tensor(0.2094) tensor(0.9399)\n"
     ]
    }
   ],
   "source": [
    "loss, acc = fit(5, learn)"
   ]
  },
  {
   "cell_type": "code",
   "execution_count": 14,
   "id": "7dd18ccc-bc11-4952-acb4-4c1a2fa310c0",
   "metadata": {},
   "outputs": [
    {
     "data": {
      "text/plain": [
       "tensor(0.0498, grad_fn=<NllLossBackward>)"
      ]
     },
     "execution_count": 14,
     "metadata": {},
     "output_type": "execute_result"
    }
   ],
   "source": [
    "loss_func(learn.model(xb), yb)"
   ]
  },
  {
   "cell_type": "code",
   "execution_count": 15,
   "id": "4cdf5d4d-5a18-4a13-9a5d-345f8f657ade",
   "metadata": {},
   "outputs": [],
   "source": [
    "assert acc > 0.8"
   ]
  },
  {
   "cell_type": "markdown",
   "id": "beb43164-1724-4c11-8524-9029f1b39f66",
   "metadata": {},
   "source": [
    "# CallbackHandler"
   ]
  },
  {
   "cell_type": "code",
   "execution_count": 16,
   "id": "8d4da4a7-f31a-4b3f-ae8c-cc91a0db829c",
   "metadata": {},
   "outputs": [],
   "source": [
    "def one_batch(xb, yb, cb):\n",
    "    if not cb.begin_batch(xb,yb): return\n",
    "    loss = cb.learn.loss_func(cb.learn.model(xb), yb)\n",
    "    if not cb.after_loss(loss): return\n",
    "    loss.backward()\n",
    "    if cb.after_backward(): cb.learn.opt.step()\n",
    "    if cb.after_step(): cb.learn.opt.zero_grad()\n",
    "        \n",
    "def all_batches(dl, cb):\n",
    "    for xb,yb in dl:\n",
    "        one_batch(xb, yb, cb)\n",
    "        if cb.do_stop(): return\n",
    "        \n",
    "def fit(epochs, learn, cb):\n",
    "    if not cb.begin_fit(learn): return\n",
    "    for epoch in range(epochs):\n",
    "        if not cb.begin_epoch(epoch): continue\n",
    "        all_batches(learn.data.train_dl, cb) # why not cb.learn.data.train_dl??\n",
    "        \n",
    "        if cb.begin_validate():\n",
    "            with torch.no_grad(): all_batches(learn.data.valid_dl, cb)\n",
    "        if cb.do_stop() or not cb.after_epoch(): break\n",
    "        cb.after_fit()"
   ]
  },
  {
   "cell_type": "code",
   "execution_count": 17,
   "id": "df2a7355-92f3-4a70-8f3c-9cc6d3fc3e9e",
   "metadata": {},
   "outputs": [],
   "source": [
    "class Callback():\n",
    "    def begin_fit(self, learn):\n",
    "        self.learn = learn\n",
    "        return True\n",
    "    def after_fit(self): return True\n",
    "    def begin_epoch(self, epoch):\n",
    "        self.epoch = epoch\n",
    "        return True\n",
    "    def begin_validate(self): return True\n",
    "    def after_epoch(self): return True\n",
    "    def begin_batch(self, xb, yb):\n",
    "        self.xb, self.yb = xb, yb\n",
    "        return True\n",
    "    def after_loss(self, loss):\n",
    "        self.loss = loss\n",
    "        return True\n",
    "    def after_backward(self): return True\n",
    "    def after_step(self): return True"
   ]
  },
  {
   "cell_type": "code",
   "execution_count": 18,
   "id": "122ee911-2c63-4d52-9c6d-e6a1bfd876b5",
   "metadata": {},
   "outputs": [],
   "source": [
    "class TestCallback(Callback):\n",
    "    def begin_fit(self, learn):\n",
    "        super().begin_fit(learn)\n",
    "        self.n_iters = 0\n",
    "        return True\n",
    "    \n",
    "    def after_step(self):\n",
    "        self.n_iters += 1\n",
    "        if self.n_iters % 100 ==  0:\n",
    "            print(self.n_iters)\n",
    "        if self.n_iters >= 600: self.learn.stop = True\n",
    "        return True"
   ]
  },
  {
   "cell_type": "code",
   "execution_count": 19,
   "id": "1319ee1d-3f3f-4850-8e01-a01dd9828203",
   "metadata": {},
   "outputs": [],
   "source": [
    "class CallbackHandler():\n",
    "    def __init__(self, cbs=None):\n",
    "        self.cbs = cbs if cbs else []\n",
    "        \n",
    "    def begin_fit(self, learn):\n",
    "        self.learn, self.in_train = learn, True\n",
    "        learn.stop = False\n",
    "        res = True\n",
    "        for cb in self.cbs: res = res and cb.begin_fit(learn) # why write this with res = res?\n",
    "        return res\n",
    "    \n",
    "    def after_fit(self):\n",
    "        res = not self.in_train # why do this at all?\n",
    "        for cb in self.cbs: res = res and cb.after_fit()\n",
    "        return res\n",
    "    \n",
    "    def begin_epoch(self, epoch):\n",
    "        self.learn.model.train()\n",
    "        self.in_train = True\n",
    "        res = True\n",
    "        for cb in self.cbs: res = res and cb.begin_epoch(epoch)\n",
    "        return res\n",
    "    \n",
    "    def begin_validate(self):\n",
    "        self.learn.model.eval()\n",
    "        self.in_train = False\n",
    "        res = True\n",
    "        for cb in self.cbs: res = res and cb.begin_validate()\n",
    "        return res\n",
    "    \n",
    "    def after_epoch(self):\n",
    "        res = True\n",
    "        for cb in self.cbs: res = res and cb.after_epoch()\n",
    "        return res\n",
    "    \n",
    "    def begin_batch(self, xb, yb):\n",
    "        res = True\n",
    "        for cb in self.cbs: res = res and cb.begin_batch(xb, yb)\n",
    "        return res\n",
    "    \n",
    "    def after_loss(self, loss):\n",
    "        res = self.in_train\n",
    "        for cb in self.cbs: res = res and cb.after_loss(loss)\n",
    "        return res\n",
    "    \n",
    "    def after_backward(self):\n",
    "        res = True\n",
    "        for cb in self.cbs: res = res and cb.after_backward()\n",
    "        return res\n",
    "    \n",
    "    def after_step(self):\n",
    "        res = True\n",
    "        for cb in self.cbs: res = res and cb.after_step()\n",
    "        return res\n",
    "    \n",
    "    def do_stop(self):\n",
    "        try: return self.learn.stop\n",
    "        finally: self.learn.stop = False"
   ]
  },
  {
   "cell_type": "code",
   "execution_count": 20,
   "id": "652c28a2-752f-4eab-9a89-1f3e4a2b6a5b",
   "metadata": {},
   "outputs": [],
   "source": [
    "learn = Learner(*get_model(data), loss_func, data)"
   ]
  },
  {
   "cell_type": "code",
   "execution_count": 21,
   "id": "ee7dfb66-578e-4fbf-975a-87bc4631cf14",
   "metadata": {},
   "outputs": [
    {
     "name": "stdout",
     "output_type": "stream",
     "text": [
      "100\n",
      "200\n",
      "300\n",
      "400\n",
      "500\n",
      "600\n"
     ]
    }
   ],
   "source": [
    "fit(1, learn, cb=CallbackHandler([TestCallback()]))\n",
    "# fit(1, learn, cb=CallbackHandler([]))"
   ]
  },
  {
   "cell_type": "code",
   "execution_count": 29,
   "id": "85b754a6-7c39-424a-8117-906528461f50",
   "metadata": {},
   "outputs": [
    {
     "data": {
      "text/plain": [
       "tensor(0.9375)"
      ]
     },
     "execution_count": 29,
     "metadata": {},
     "output_type": "execute_result"
    }
   ],
   "source": [
    "accuracy(learn.model(xb), yb)"
   ]
  },
  {
   "cell_type": "markdown",
   "id": "0dd82eea-e3c6-4603-bd64-c3dd3a84085e",
   "metadata": {},
   "source": [
    "# Runner"
   ]
  },
  {
   "cell_type": "code",
   "execution_count": 23,
   "id": "1c5a1020-86ee-426b-bfa0-303c32bd011a",
   "metadata": {},
   "outputs": [],
   "source": [
    "#export \n",
    "import re\n",
    "\n",
    "_camel_re1 = re.compile('(.)([A-Z][a-z]+)')\n",
    "_camel_re2 = re.compile('([a-z0-9])([A-Z])')\n",
    "\n",
    "def camel2snake(name):\n",
    "    s1 = re.sub(_camel_re1, r'\\1_\\2', name)\n",
    "    return re.sub(_camel_re2, r'\\1_\\2', s1).lower()"
   ]
  },
  {
   "cell_type": "code",
   "execution_count": 24,
   "id": "60ab56c0-3965-408d-8159-42edb484f4a2",
   "metadata": {},
   "outputs": [
    {
     "data": {
      "text/plain": [
       "'train_eval_callback'"
      ]
     },
     "execution_count": 24,
     "metadata": {},
     "output_type": "execute_result"
    }
   ],
   "source": [
    "cbname = 'TrainEvalCallback'\n",
    "camel2snake(cbname)"
   ]
  },
  {
   "cell_type": "code",
   "execution_count": 25,
   "id": "d7f83cf7-975b-4a76-9af3-6eb2a7889967",
   "metadata": {},
   "outputs": [],
   "source": [
    "# self.__class__.__name__ why __class__ needed"
   ]
  },
  {
   "cell_type": "code",
   "execution_count": 32,
   "id": "5766f9e0-ad75-4ef5-bcb2-fe2ca7d3fab2",
   "metadata": {},
   "outputs": [],
   "source": [
    "#export\n",
    "class Callback():\n",
    "    _order = 0\n",
    "    def set_runner(self, run): self.run = run\n",
    "    def __getattr__(self, k): return getattr(self.run, k) # getattr gets called after the attribute was not found the first time so now the callback has all the attributes from the runner\n",
    "    @property\n",
    "    def name(self):\n",
    "        name = re.sub(r'Callback$', '', self.__class__.__name__)\n",
    "        return camel2snake(name or 'callback') # why the or 'callback'"
   ]
  },
  {
   "cell_type": "code",
   "execution_count": 204,
   "id": "6c2a0adc-2196-41b7-a550-23399e523dfd",
   "metadata": {},
   "outputs": [],
   "source": [
    "#export\n",
    "class TrainEvalCallback(Callback):\n",
    "    def begin_fit(self):\n",
    "        self.run.n_epochs = 0\n",
    "        self.run.n_iter = 0\n",
    "    \n",
    "    def after_batch(self):\n",
    "        if not self.in_train: return\n",
    "        self.run.n_epochs += 1. / self.iters # self.iters gets initialized in all_batches() with len(dl), so the amount of data; so its the percentage of data that went through the model\n",
    "        self.run.n_iter += 1\n",
    "        \n",
    "    def begin_epoch(self):\n",
    "        self.run.n_epochs = self.epoch\n",
    "        self.model.train()\n",
    "        self.run.in_train = True\n",
    "        \n",
    "    def begin_validate(self):\n",
    "        self.model.eval()\n",
    "        self.run.in_train = False"
   ]
  },
  {
   "cell_type": "raw",
   "id": "3d52b741-2e93-4ffc-a677-3883cde351fb",
   "metadata": {},
   "source": [
    "TrainEvalCallback().name"
   ]
  },
  {
   "cell_type": "code",
   "execution_count": 345,
   "id": "14c443de-f878-4a17-b24c-f389f6471a32",
   "metadata": {},
   "outputs": [
    {
     "data": {
      "text/plain": [
       "1874"
      ]
     },
     "execution_count": 345,
     "metadata": {},
     "output_type": "execute_result"
    }
   ],
   "source": [
    "937 * 2"
   ]
  },
  {
   "cell_type": "code",
   "execution_count": 416,
   "id": "326f46ec-3f3a-4a68-ba3e-f5a3698cc29c",
   "metadata": {},
   "outputs": [],
   "source": [
    "class TestCallback(Callback):\n",
    "    def after_step(self):\n",
    "        if self.n_iter % 500 == 0: print(self.n_iter)\n",
    "#         print(self.run.n_iter) # prints from 0 to 937*2 (number of batches * 2)\n",
    "        # i think it should break after 10 iters but instead it still computes everything but after the if statement is True, the opt.step() step gets skipped\n",
    "        if self.n_iter >= 1850: # if the if-statement gets called before both epochs after processed, the accuracy drops immensely fast 24 batches skipped -> 70% accuracy reduction\n",
    "                                # makes no sense \n",
    "#             self.stop = True # makes no difference\n",
    "            return True #n_iter means number of batches"
   ]
  },
  {
   "cell_type": "code",
   "execution_count": 536,
   "id": "a620a2e9-1a53-4f29-a967-bdecc903b69f",
   "metadata": {},
   "outputs": [],
   "source": [
    "class TestCallback(Callback):\n",
    "#     def after_batch(self): doenst work\n",
    "#         if self.n_iter % 500 == 0: print(self.n_iter)\n",
    "        \n",
    "#         if self.n_iter >= 10: return True\n",
    "\n",
    "    def begin_batch(self): # DOES WORK!!\n",
    "        # after the if statement is True, the runner run still through every of the 1874 batches but every batch after the first 10 gets returned after the if self('begin_batch'): return line\n",
    "        if self.n_iter >= 10: return True"
   ]
  },
  {
   "cell_type": "code",
   "execution_count": 537,
   "id": "28eca1e3-a8e7-4c08-a7d5-6b2cb6dad6fc",
   "metadata": {},
   "outputs": [],
   "source": [
    "#export \n",
    "from typing import *\n",
    "\n",
    "def listify(o):\n",
    "    if o is None: return []\n",
    "    if isinstance(o, list): return o\n",
    "    if isinstance(o, str): return [o]\n",
    "    if isinstance(o, Iterable): return list(o)\n",
    "    return [o]"
   ]
  },
  {
   "cell_type": "code",
   "execution_count": 538,
   "id": "fb829b0e-b4f7-487b-aff3-c7e806806a6e",
   "metadata": {},
   "outputs": [],
   "source": [
    "#export\n",
    "class Runner():\n",
    "    def __init__(self, cbs=None, cb_funcs=None):\n",
    "        cbs = listify(cbs)\n",
    "        for cbf in listify(cb_funcs):\n",
    "            cb = cbf()\n",
    "            setattr(self, cb.name, cb) # what does that do?\n",
    "            cbs.append(cb)\n",
    "        self.stop, self.cbs = False, [TrainEvalCallback()] + cbs\n",
    "        \n",
    "    @property\n",
    "    def opt(self): return self.learn.opt\n",
    "    @property\n",
    "    def model(self): return self.learn.model\n",
    "    @property\n",
    "    def loss_func(self): return self.learn.loss_func\n",
    "    @property\n",
    "    def data(self): return self.learn.data\n",
    "    \n",
    "    def one_batch(self, xb, yb):\n",
    "        self.xb, self.yb = xb, yb\n",
    "        if self('begin_batch'): return\n",
    "        self.pred = self.model(self.xb)\n",
    "        if self('after_pred'): return\n",
    "        self.loss = self.loss_func(self.pred, self.yb)\n",
    "        if self('after_loss') or not self.in_train: return\n",
    "        self.loss.backward()\n",
    "        if self('after_backward'): return\n",
    "        self.opt.step()\n",
    "        if self('after_step'): return\n",
    "        self.opt.zero_grad()\n",
    "        \n",
    "    def all_batches(self, dl):\n",
    "        self.iters = len(dl)\n",
    "        for xb, yb in dl:\n",
    "            if self.stop: break\n",
    "            self.one_batch(xb, yb)\n",
    "            self('after_batch')\n",
    "        self.stop = False\n",
    "        \n",
    "    def fit(self, epochs, learn):\n",
    "        self.epochs, self.learn = epochs, learn\n",
    "        \n",
    "        try:\n",
    "            for cb in self.cbs: cb.set_runner(self)\n",
    "            if self('begin_fit'): return\n",
    "            for epoch in range(epochs):\n",
    "                self.epoch = epoch\n",
    "                if not self('begin_epoch'): self.all_batches(self.data.train_dl)\n",
    "                    \n",
    "                with torch.no_grad():\n",
    "                    if not self('begin_validate'): self.all_batches(self.data.valid_dl)\n",
    "                if self('after_epoch'): break\n",
    "                    \n",
    "        finally:\n",
    "            self('after_fit')\n",
    "            self.learn = None\n",
    "            \n",
    "    def __call__(self, cb_name):\n",
    "        for cb in sorted(self.cbs, key=lambda x: x._order):\n",
    "            f = getattr(cb, cb_name,  None) # checks whether the callback has an attribute called cb_name, eg. after_step as the TestCallback\n",
    "            if f and f(): return True # if f exists and the return value from f() is True, the call returns true and it hits a return or break in the if statement\n",
    "        return False"
   ]
  },
  {
   "cell_type": "code",
   "execution_count": 539,
   "id": "8acf42bc-a37a-4523-9e4b-38fda5d0f62c",
   "metadata": {},
   "outputs": [],
   "source": [
    "#export\n",
    "class AvgStats():\n",
    "    def __init__(self, metrics, in_train): self.metrics, self.in_train = listify(metrics), in_train\n",
    "        \n",
    "    def reset(self):\n",
    "        self.tot_loss, self.count = 0., 0\n",
    "        self.tot_mets = [0] * len(self.metrics)\n",
    "        \n",
    "    @property\n",
    "    def all_stats(self): return [self.tot_loss.item()] + self.tot_mets\n",
    "    @property\n",
    "    def avg_stats(self): return [o / self.count for o in self.all_stats]\n",
    "    \n",
    "    def __repr__(self):\n",
    "        if not self.count: return ''\n",
    "        return f'{\"train\" if self.in_train else \"valid\"}: {self.avg_stats}'\n",
    "    \n",
    "    def accumulate(self, run):\n",
    "        bn = run.xb.shape[0]\n",
    "        self.tot_loss += run.loss * bn\n",
    "        self.count += bn\n",
    "        for i,m in enumerate(self.metrics):\n",
    "            self.tot_mets[i] += m(run.pred, run.yb) * bn\n",
    "            \n",
    "class AvgStatsCallback(Callback):\n",
    "    def __init__(self, metrics):\n",
    "        self.train_stats, self.valid_stats = AvgStats(metrics, True), AvgStats(metrics, False)\n",
    "        \n",
    "    def begin_epoch(self):\n",
    "        self.train_stats.reset()\n",
    "        self.valid_stats.reset()\n",
    "        \n",
    "    def after_loss(self):\n",
    "        stats = self.train_stats if self.in_train else self.valid_stats # gets the self.in_train from Callback inherit and there from the runner + the __setattr__\n",
    "        with torch.no_grad(): stats.accumulate(self.run)\n",
    "            \n",
    "    def after_epoch(self):\n",
    "        print(self.train_stats)\n",
    "        print(self.valid_stats)"
   ]
  },
  {
   "cell_type": "code",
   "execution_count": 540,
   "id": "e01412a7-f23b-48da-9408-9e1f9fdf6154",
   "metadata": {},
   "outputs": [],
   "source": [
    "stats = AvgStatsCallback([accuracy])"
   ]
  },
  {
   "cell_type": "code",
   "execution_count": 541,
   "id": "cdaba26c-fb38-4abc-a09d-e3c0d8512686",
   "metadata": {},
   "outputs": [
    {
     "data": {
      "text/plain": [
       "(__main__.AvgStatsCallback, 'AvgStatsCallback')"
      ]
     },
     "execution_count": 541,
     "metadata": {},
     "output_type": "execute_result"
    }
   ],
   "source": [
    "stats.__class__, stats.__class__.__name__"
   ]
  },
  {
   "cell_type": "code",
   "execution_count": 542,
   "id": "310e3f44-edd0-4cfe-9687-2be1d5082ead",
   "metadata": {},
   "outputs": [],
   "source": [
    "learn = Learner(*get_model(data), loss_func, data)"
   ]
  },
  {
   "cell_type": "code",
   "execution_count": 543,
   "id": "5009fecb-4416-493b-ac47-5f635bf22e36",
   "metadata": {},
   "outputs": [],
   "source": [
    "run = Runner(cbs=TestCallback())"
   ]
  },
  {
   "cell_type": "code",
   "execution_count": 544,
   "id": "ae9a5f43-6ec6-4cc3-b282-ab17b7cd9213",
   "metadata": {},
   "outputs": [
    {
     "name": "stdout",
     "output_type": "stream",
     "text": [
      "0\n",
      "1\n",
      "2\n",
      "3\n",
      "4\n",
      "5\n",
      "6\n",
      "7\n",
      "8\n",
      "9\n",
      "10\n",
      "11\n",
      "12\n",
      "13\n",
      "14\n",
      "15\n",
      "16\n",
      "17\n",
      "18\n",
      "19\n",
      "20\n",
      "CPU times: user 2.22 s, sys: 79.9 ms, total: 2.3 s\n",
      "Wall time: 1.01 s\n"
     ]
    }
   ],
   "source": [
    "%time run.fit(2, learn)"
   ]
  },
  {
   "cell_type": "code",
   "execution_count": 545,
   "id": "edbde723-d8cb-42c9-b434-f5e539438762",
   "metadata": {},
   "outputs": [
    {
     "data": {
      "text/plain": [
       "tensor(0.3978)"
      ]
     },
     "execution_count": 545,
     "metadata": {},
     "output_type": "execute_result"
    }
   ],
   "source": [
    "accuracy(learn.model(x_valid), y_valid)"
   ]
  },
  {
   "cell_type": "code",
   "execution_count": null,
   "id": "f98026a6-c0dc-40b5-afe7-87e14c18d92c",
   "metadata": {},
   "outputs": [],
   "source": []
  }
 ],
 "metadata": {
  "kernelspec": {
   "display_name": "Python 3",
   "language": "python",
   "name": "python3"
  },
  "language_info": {
   "codemirror_mode": {
    "name": "ipython",
    "version": 3
   },
   "file_extension": ".py",
   "mimetype": "text/x-python",
   "name": "python",
   "nbconvert_exporter": "python",
   "pygments_lexer": "ipython3",
   "version": "3.8.8"
  }
 },
 "nbformat": 4,
 "nbformat_minor": 5
}
