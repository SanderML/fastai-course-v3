{
 "cells": [
  {
   "cell_type": "code",
   "execution_count": 1,
   "id": "405997f3-c3e2-488b-bebd-5c8d45d42d96",
   "metadata": {},
   "outputs": [],
   "source": [
    "%load_ext autoreload\n",
    "%autoreload 2\n",
    "%matplotlib inline"
   ]
  },
  {
   "cell_type": "code",
   "execution_count": 2,
   "id": "74fe907c-d8ca-41fc-b137-c3c9621dc87f",
   "metadata": {},
   "outputs": [],
   "source": [
    "#export\n",
    "from exp.nb_00 import *\n",
    "import operator\n",
    "\n",
    "def test(a,b,cmp,cname=None):\n",
    "    if cname is None: cname = cmp.__name__\n",
    "    assert cmp(a,b), f'{cname}:\\n{a}\\n{b}'\n",
    "    \n",
    "def test_eq(a,b): test(a,b,operator.eq, '==')"
   ]
  },
  {
   "cell_type": "code",
   "execution_count": null,
   "id": "6f733dab-6360-4322-9361-9e5eb3a5e8ef",
   "metadata": {},
   "outputs": [],
   "source": [
    "test_eq(TEST, 'test')\n",
    "#!python run_notebook.py 01_matmul.ipynb # to run tests in console:"
   ]
  },
  {
   "cell_type": "code",
   "execution_count": 4,
   "id": "839f36c2-efc9-4920-a6a9-0d9b24d70e68",
   "metadata": {},
   "outputs": [],
   "source": [
    "#export\n",
    "from pathlib import Path\n",
    "from IPython.core.debugger import set_trace\n",
    "# from fastai.torch_basics import *\n",
    "# from fastai.data.external import *\n",
    "from fastai.vision.all import *\n",
    "import pickle, gzip, math, torch, matplotlib as mpl \n",
    "import matplotlib.pyplot as plt\n",
    "from torch import tensor\n",
    "\n",
    "MNIST_URL = 'http://deeplearning.net/data/mnist/mnist.pkl'"
   ]
  },
  {
   "cell_type": "code",
   "execution_count": 5,
   "id": "8467815b-ba62-46ed-950e-8d8afc54f1f4",
   "metadata": {},
   "outputs": [],
   "source": [
    "path = untar_data(URLs.MNIST)"
   ]
  },
  {
   "cell_type": "code",
   "execution_count": 6,
   "id": "2e78a5b6-7fd4-4b7c-86da-f0302eb36143",
   "metadata": {},
   "outputs": [
    {
     "data": {
      "text/plain": [
       "(#2) [Path('/home/sandmann/.fastai/data/mnist_png/training'),Path('/home/sandmann/.fastai/data/mnist_png/testing')]"
      ]
     },
     "execution_count": 6,
     "metadata": {},
     "output_type": "execute_result"
    }
   ],
   "source": [
    "path.ls()"
   ]
  },
  {
   "cell_type": "code",
   "execution_count": 8,
   "id": "2877edc7-ef4d-4e56-9d1b-d7cdfc11c259",
   "metadata": {},
   "outputs": [
    {
     "data": {
      "text/plain": [
       "(#10) [Path('/home/sandmann/.fastai/data/mnist_png/training/4'),Path('/home/sandmann/.fastai/data/mnist_png/training/7'),Path('/home/sandmann/.fastai/data/mnist_png/training/9'),Path('/home/sandmann/.fastai/data/mnist_png/training/5'),Path('/home/sandmann/.fastai/data/mnist_png/training/8'),Path('/home/sandmann/.fastai/data/mnist_png/training/0'),Path('/home/sandmann/.fastai/data/mnist_png/training/2'),Path('/home/sandmann/.fastai/data/mnist_png/training/1'),Path('/home/sandmann/.fastai/data/mnist_png/training/6'),Path('/home/sandmann/.fastai/data/mnist_png/training/3')]"
      ]
     },
     "execution_count": 8,
     "metadata": {},
     "output_type": "execute_result"
    }
   ],
   "source": [
    "(path/'training').ls()"
   ]
  },
  {
   "cell_type": "code",
   "execution_count": 9,
   "id": "ef897bdc-8dff-4594-8727-1c1a873436fc",
   "metadata": {},
   "outputs": [],
   "source": [
    "files = get_image_files(path)"
   ]
  },
  {
   "cell_type": "code",
   "execution_count": 10,
   "id": "450a9cb8-9729-4e67-8560-833847e0266c",
   "metadata": {},
   "outputs": [
    {
     "data": {
      "text/plain": [
       "(#70000) [Path('/home/sandmann/.fastai/data/mnist_png/training/4/47823.png'),Path('/home/sandmann/.fastai/data/mnist_png/training/4/45709.png'),Path('/home/sandmann/.fastai/data/mnist_png/training/4/49105.png'),Path('/home/sandmann/.fastai/data/mnist_png/training/4/746.png'),Path('/home/sandmann/.fastai/data/mnist_png/training/4/13451.png'),Path('/home/sandmann/.fastai/data/mnist_png/training/4/54187.png'),Path('/home/sandmann/.fastai/data/mnist_png/training/4/30554.png'),Path('/home/sandmann/.fastai/data/mnist_png/training/4/30886.png'),Path('/home/sandmann/.fastai/data/mnist_png/training/4/52580.png'),Path('/home/sandmann/.fastai/data/mnist_png/training/4/38515.png')...]"
      ]
     },
     "execution_count": 10,
     "metadata": {},
     "output_type": "execute_result"
    }
   ],
   "source": [
    "files"
   ]
  },
  {
   "cell_type": "code",
   "execution_count": 14,
   "id": "c42170c8-9a6d-4f74-a5be-5b0025b27f11",
   "metadata": {},
   "outputs": [],
   "source": [
    "mnist = DataBlock(blocks=(ImageBlock(cls=PILImageBW), CategoryBlock),\n",
    "                  get_items = get_image_files,\n",
    "                  splitter = GrandparentSplitter('training', 'testing'),\n",
    "                  get_y = parent_label)"
   ]
  },
  {
   "cell_type": "code",
   "execution_count": 15,
   "id": "b0bf2355-8589-403c-834a-6e11dd23026e",
   "metadata": {},
   "outputs": [],
   "source": [
    "dls = mnist.dataloaders(untar_data(URLs.MNIST))"
   ]
  },
  {
   "cell_type": "code",
   "execution_count": 16,
   "id": "77a8b877-eb7d-473d-8fd0-213b4102d193",
   "metadata": {},
   "outputs": [
    {
     "data": {
      "image/png": "[encoded data removed]",
      "text/plain": [
       "<Figure size 648x648 with 9 Axes>"
      ]
     },
     "metadata": {
      "needs_background": "light"
     },
     "output_type": "display_data"
    }
   ],
   "source": [
    "dls.show_batch()"
   ]
  },
  {
   "cell_type": "code",
   "execution_count": 17,
   "id": "37856792-63c2-41eb-bf9f-c53d3076e9ea",
   "metadata": {},
   "outputs": [],
   "source": [
    "# learn = cnn_learner(dls, resnet34, metrics=error_rate)\n",
    "# learn.fine_tune(1)"
   ]
  },
  {
   "cell_type": "code",
   "execution_count": 18,
   "id": "caa973e6-b715-4a44-a0fe-c5643b621163",
   "metadata": {},
   "outputs": [
    {
     "data": {
      "text/plain": [
       "(#60000) [(PILImageBW mode=L size=28x28, TensorCategory(4)),(PILImageBW mode=L size=28x28, TensorCategory(4)),(PILImageBW mode=L size=28x28, TensorCategory(4)),(PILImageBW mode=L size=28x28, TensorCategory(4)),(PILImageBW mode=L size=28x28, TensorCategory(4)),(PILImageBW mode=L size=28x28, TensorCategory(4)),(PILImageBW mode=L size=28x28, TensorCategory(4)),(PILImageBW mode=L size=28x28, TensorCategory(4)),(PILImageBW mode=L size=28x28, TensorCategory(4)),(PILImageBW mode=L size=28x28, TensorCategory(4))...]"
      ]
     },
     "execution_count": 18,
     "metadata": {},
     "output_type": "execute_result"
    }
   ],
   "source": [
    "dls.train_ds"
   ]
  },
  {
   "cell_type": "code",
   "execution_count": 19,
   "id": "c028f353-ee4e-4796-908b-40c65067ff5b",
   "metadata": {},
   "outputs": [
    {
     "data": {
      "text/plain": [
       "(#10000) [(PILImageBW mode=L size=28x28, TensorCategory(4)),(PILImageBW mode=L size=28x28, TensorCategory(4)),(PILImageBW mode=L size=28x28, TensorCategory(4)),(PILImageBW mode=L size=28x28, TensorCategory(4)),(PILImageBW mode=L size=28x28, TensorCategory(4)),(PILImageBW mode=L size=28x28, TensorCategory(4)),(PILImageBW mode=L size=28x28, TensorCategory(4)),(PILImageBW mode=L size=28x28, TensorCategory(4)),(PILImageBW mode=L size=28x28, TensorCategory(4)),(PILImageBW mode=L size=28x28, TensorCategory(4))...]"
      ]
     },
     "execution_count": 19,
     "metadata": {},
     "output_type": "execute_result"
    }
   ],
   "source": [
    "dls.valid_ds"
   ]
  },
  {
   "cell_type": "code",
   "execution_count": 20,
   "id": "95299e66-8b08-4cdd-967e-b2531530be0d",
   "metadata": {},
   "outputs": [
    {
     "data": {
      "text/plain": [
       "fastai.data.core.Datasets"
      ]
     },
     "execution_count": 20,
     "metadata": {},
     "output_type": "execute_result"
    }
   ],
   "source": [
    "type(dls.train_ds)"
   ]
  },
  {
   "cell_type": "code",
   "execution_count": 21,
   "id": "36e24793-410a-4c0f-a219-24b64307e37d",
   "metadata": {},
   "outputs": [
    {
     "data": {
      "text/plain": [
       "(PILImageBW mode=L size=28x28, TensorCategory(4))"
      ]
     },
     "execution_count": 21,
     "metadata": {},
     "output_type": "execute_result"
    }
   ],
   "source": [
    "dls.train_ds[0]"
   ]
  },
  {
   "cell_type": "code",
   "execution_count": 22,
   "id": "5036ecbc-2c9c-4daf-9008-d59dbcaba97d",
   "metadata": {},
   "outputs": [
    {
     "data": {
      "image/png": "[encoded data removed]",
      "text/plain": [
       "PILImageBW mode=L size=28x28"
      ]
     },
     "execution_count": 22,
     "metadata": {},
     "output_type": "execute_result"
    }
   ],
   "source": [
    "dls.train_ds[0][0]"
   ]
  },
  {
   "cell_type": "code",
   "execution_count": 23,
   "id": "2577bc5c-cc9a-4317-86db-4e231d2ad81e",
   "metadata": {},
   "outputs": [
    {
     "data": {
      "text/plain": [
       "fastai.vision.core.PILImageBW"
      ]
     },
     "execution_count": 23,
     "metadata": {},
     "output_type": "execute_result"
    }
   ],
   "source": [
    "type(dls.train_ds[0][0])"
   ]
  },
  {
   "cell_type": "code",
   "execution_count": 24,
   "id": "9c3c4eda-0010-495e-bf6c-8c8506f47699",
   "metadata": {},
   "outputs": [
    {
     "data": {
      "text/plain": [
       "TensorCategory(4)"
      ]
     },
     "execution_count": 24,
     "metadata": {},
     "output_type": "execute_result"
    }
   ],
   "source": [
    "dls.train_ds[0][1]"
   ]
  },
  {
   "cell_type": "code",
   "execution_count": 37,
   "id": "a0aaf561-cffa-421f-86b5-e96451d63efb",
   "metadata": {},
   "outputs": [],
   "source": [
    "x_train, y_train, x_valid, y_valid = [], [], [], []"
   ]
  },
  {
   "cell_type": "code",
   "execution_count": 38,
   "id": "7126e080-3c8d-486a-9cb6-ed892b1891cd",
   "metadata": {},
   "outputs": [],
   "source": [
    "for elem in dls.train_ds:\n",
    "    x_train.append(elem[0])\n",
    "    y_train.append(elem[1])"
   ]
  },
  {
   "cell_type": "code",
   "execution_count": 39,
   "id": "5c8542f2-d15f-44a7-bcd2-437cec791de8",
   "metadata": {},
   "outputs": [],
   "source": [
    "for elem in dls.valid_ds:\n",
    "    x_valid.append(elem[0])\n",
    "    y_valid.append(elem[1])"
   ]
  },
  {
   "cell_type": "code",
   "execution_count": 40,
   "id": "fb71d188-4009-4f5a-98bb-0d750e6147db",
   "metadata": {},
   "outputs": [],
   "source": [
    "def x_to_tensor(listed):\n",
    "    return tensor(list(map(array, listed)), dtype=torch.float32).reshape(len(listed), -1)"
   ]
  },
  {
   "cell_type": "code",
   "execution_count": 41,
   "id": "405819f2-f5d9-4d8b-9862-7bd359d2662a",
   "metadata": {},
   "outputs": [],
   "source": [
    "def y_to_tensor(listed):\n",
    "    return tensor(array(listed))"
   ]
  },
  {
   "cell_type": "code",
   "execution_count": 42,
   "id": "71b9ef02-44d7-40f7-98a3-83ec41f2a1a4",
   "metadata": {},
   "outputs": [],
   "source": [
    "x_train = x_to_tensor(x_train)"
   ]
  },
  {
   "cell_type": "code",
   "execution_count": 43,
   "id": "7e8b62f2-212e-4122-adb7-cd031fceb3e1",
   "metadata": {},
   "outputs": [],
   "source": [
    "x_valid = x_to_tensor(x_valid)"
   ]
  },
  {
   "cell_type": "code",
   "execution_count": 44,
   "id": "864a48f7-2b50-4d49-9127-6e6fbae37829",
   "metadata": {},
   "outputs": [],
   "source": [
    "y_train = y_to_tensor(y_train)"
   ]
  },
  {
   "cell_type": "code",
   "execution_count": 45,
   "id": "a6c0ccf3-b178-4709-b736-3df0175f42ea",
   "metadata": {},
   "outputs": [],
   "source": [
    "y_valid = y_to_tensor(y_valid)"
   ]
  },
  {
   "cell_type": "code",
   "execution_count": 46,
   "id": "fb3100f9-2e10-4f8c-b05e-f02ffe0e709a",
   "metadata": {},
   "outputs": [],
   "source": [
    "n,c = x_train.shape"
   ]
  },
  {
   "cell_type": "code",
   "execution_count": 47,
   "id": "8d107a2f-e0c2-4ec7-8e9d-d6ebb3dce9c3",
   "metadata": {},
   "outputs": [
    {
     "data": {
      "text/plain": [
       "(tensor([[0., 0., 0.,  ..., 0., 0., 0.],\n",
       "         [0., 0., 0.,  ..., 0., 0., 0.],\n",
       "         [0., 0., 0.,  ..., 0., 0., 0.],\n",
       "         ...,\n",
       "         [0., 0., 0.,  ..., 0., 0., 0.],\n",
       "         [0., 0., 0.,  ..., 0., 0., 0.],\n",
       "         [0., 0., 0.,  ..., 0., 0., 0.]]),\n",
       " torch.Size([60000, 784]),\n",
       " tensor([4, 4, 4,  ..., 3, 3, 3]),\n",
       " torch.Size([60000]),\n",
       " tensor(0),\n",
       " tensor(9))"
      ]
     },
     "execution_count": 47,
     "metadata": {},
     "output_type": "execute_result"
    }
   ],
   "source": [
    "x_train, x_train.shape, y_train, y_train.shape, y_train.min(), y_train.max()"
   ]
  },
  {
   "cell_type": "code",
   "execution_count": 49,
   "id": "2a8121b4-f2d2-445f-ad51-2a203be8e7ed",
   "metadata": {},
   "outputs": [
    {
     "data": {
      "text/plain": [
       "torch.Size([10000, 784])"
      ]
     },
     "execution_count": 49,
     "metadata": {},
     "output_type": "execute_result"
    }
   ],
   "source": [
    "x_valid.shape"
   ]
  },
  {
   "cell_type": "code",
   "execution_count": 52,
   "id": "654e1b0a-c0aa-4c38-94da-468f4d8d3a44",
   "metadata": {},
   "outputs": [],
   "source": [
    "assert n == y_train.shape[0] == 60000\n",
    "test_eq(c, 28*28)\n",
    "test_eq(y_train.min(), 0)\n",
    "test_eq(y_train.max(), 9)"
   ]
  },
  {
   "cell_type": "code",
   "execution_count": 53,
   "id": "1940d428-b143-4feb-ae58-d8a6ee712d2c",
   "metadata": {},
   "outputs": [],
   "source": [
    "mpl.rcParams['image.cmap'] = 'gray'"
   ]
  },
  {
   "cell_type": "code",
   "execution_count": 54,
   "id": "ba7ee52a-c37f-4451-9bc8-549ec3640382",
   "metadata": {},
   "outputs": [],
   "source": [
    "img = x_train[0]"
   ]
  },
  {
   "cell_type": "code",
   "execution_count": 55,
   "id": "0274c267-2e6f-4640-b136-e6f3e1913a5f",
   "metadata": {},
   "outputs": [
    {
     "data": {
      "text/plain": [
       "'torch.FloatTensor'"
      ]
     },
     "execution_count": 55,
     "metadata": {},
     "output_type": "execute_result"
    }
   ],
   "source": [
    "img.view(28,28).type()"
   ]
  },
  {
   "cell_type": "code",
   "execution_count": 57,
   "id": "b81739b0-9544-43d0-91f5-7c275327e2b7",
   "metadata": {},
   "outputs": [
    {
     "data": {
      "image/png": "[encoded data removed]",
      "text/plain": [
       "<Figure size 432x288 with 1 Axes>"
      ]
     },
     "metadata": {
      "needs_background": "light"
     },
     "output_type": "display_data"
    }
   ],
   "source": [
    "plt.imshow(img.view(28,28));"
   ]
  },
  {
   "cell_type": "markdown",
   "id": "0f7ed86a-4bb2-41ea-889d-74c99170ede7",
   "metadata": {},
   "source": [
    "# Initial python model"
   ]
  },
  {
   "cell_type": "code",
   "execution_count": 58,
   "id": "13292b0c-172f-4afd-a50d-b66b3ff9c9e1",
   "metadata": {},
   "outputs": [],
   "source": [
    "weights = torch.randn(784,10)\n",
    "bias = torch.zeros(10)"
   ]
  },
  {
   "cell_type": "markdown",
   "id": "ef04bd1c-4917-415f-8d5e-b8fbca912b00",
   "metadata": {},
   "source": [
    "## Matrix multiplication"
   ]
  },
  {
   "cell_type": "code",
   "execution_count": 59,
   "id": "31a6ce87-468a-4076-a6ae-49679ae98c24",
   "metadata": {},
   "outputs": [],
   "source": [
    "def matmul(a,b):\n",
    "    ar,ac = a.shape\n",
    "    br,bc = b.shape\n",
    "    assert ac == br\n",
    "    c = torch.zeros(ar,bc)\n",
    "    for i in range(ar):\n",
    "        for j in range(bc):\n",
    "            for k in range(ac):\n",
    "                c[i,j] += a[i,k] * b[k,j]\n",
    "    return c"
   ]
  },
  {
   "cell_type": "code",
   "execution_count": 60,
   "id": "c42a094c-965d-412a-9b5d-31a508b2f1fe",
   "metadata": {},
   "outputs": [],
   "source": [
    "m1 = x_valid[:5]\n",
    "m2 = weights"
   ]
  },
  {
   "cell_type": "code",
   "execution_count": 61,
   "id": "98c85ae9-5a6d-4789-b0ec-435c21703490",
   "metadata": {},
   "outputs": [
    {
     "data": {
      "text/plain": [
       "(torch.Size([5, 784]), torch.Size([784, 10]))"
      ]
     },
     "execution_count": 61,
     "metadata": {},
     "output_type": "execute_result"
    }
   ],
   "source": [
    "m1.shape, m2.shape"
   ]
  },
  {
   "cell_type": "code",
   "execution_count": 62,
   "id": "60cf0a8d-1fc8-4d14-97e1-cf70879e32e4",
   "metadata": {},
   "outputs": [
    {
     "name": "stdout",
     "output_type": "stream",
     "text": [
      "CPU times: user 665 ms, sys: 6 µs, total: 665 ms\n",
      "Wall time: 664 ms\n"
     ]
    }
   ],
   "source": [
    "%time t1 = matmul(m1,m2)"
   ]
  },
  {
   "cell_type": "code",
   "execution_count": 63,
   "id": "eb5fc048-86c3-4aa6-8204-1f3a4278e4e0",
   "metadata": {},
   "outputs": [
    {
     "data": {
      "text/plain": [
       "torch.Size([5, 10])"
      ]
     },
     "execution_count": 63,
     "metadata": {},
     "output_type": "execute_result"
    }
   ],
   "source": [
    "t1.shape"
   ]
  },
  {
   "cell_type": "code",
   "execution_count": 64,
   "id": "9e114446-8bb6-4c4e-80c8-0a3779a81257",
   "metadata": {},
   "outputs": [
    {
     "data": {
      "text/plain": [
       "60000"
      ]
     },
     "execution_count": 64,
     "metadata": {},
     "output_type": "execute_result"
    }
   ],
   "source": [
    "len(x_train)"
   ]
  },
  {
   "cell_type": "markdown",
   "id": "d572a318-2098-43cc-8dbd-77d30ef0043a",
   "metadata": {},
   "source": [
    "## Elementwise ops"
   ]
  },
  {
   "cell_type": "code",
   "execution_count": 65,
   "id": "3e538851-95b0-4861-b9cd-3d2d4cb5250d",
   "metadata": {},
   "outputs": [
    {
     "data": {
      "text/plain": [
       "(tensor([10.,  6., -4.]), tensor([2., 8., 7.]))"
      ]
     },
     "execution_count": 65,
     "metadata": {},
     "output_type": "execute_result"
    }
   ],
   "source": [
    "a = tensor([10., 6, -4])\n",
    "b = tensor([2., 8, 7])\n",
    "a,b"
   ]
  },
  {
   "cell_type": "code",
   "execution_count": 68,
   "id": "f3ec6954-b419-4cdd-89be-055c2e5efbc0",
   "metadata": {},
   "outputs": [
    {
     "data": {
      "text/plain": [
       "tensor(0.6667)"
      ]
     },
     "execution_count": 68,
     "metadata": {},
     "output_type": "execute_result"
    }
   ],
   "source": [
    "(a < b).float().mean()"
   ]
  },
  {
   "cell_type": "code",
   "execution_count": 69,
   "id": "46083932-693e-4dc7-a580-9bb39aa7b597",
   "metadata": {},
   "outputs": [
    {
     "data": {
      "text/plain": [
       "tensor([[1., 2., 3.],\n",
       "        [4., 5., 6.],\n",
       "        [7., 8., 9.]])"
      ]
     },
     "execution_count": 69,
     "metadata": {},
     "output_type": "execute_result"
    }
   ],
   "source": [
    "m = tensor([[1., 2, 3], [4,5,6], [7,8,9]]); m"
   ]
  },
  {
   "cell_type": "code",
   "execution_count": 71,
   "id": "caeccc5c-7db8-48db-82d7-b151b0a75d7f",
   "metadata": {},
   "outputs": [
    {
     "data": {
      "text/plain": [
       "tensor(16.8819)"
      ]
     },
     "execution_count": 71,
     "metadata": {},
     "output_type": "execute_result"
    }
   ],
   "source": [
    "(m*m).sum().sqrt()"
   ]
  },
  {
   "cell_type": "markdown",
   "id": "880d290b-9582-4ae8-bcec-405fb073d15d",
   "metadata": {},
   "source": [
    "## Elementwise matmul"
   ]
  },
  {
   "cell_type": "code",
   "execution_count": 72,
   "id": "0c907196-f956-4837-9775-b30aac287d96",
   "metadata": {},
   "outputs": [],
   "source": [
    "def matmul(a,b):\n",
    "    ar,ac = a.shape\n",
    "    br,bc = b.shape\n",
    "    assert ac == br\n",
    "    c = torch.zeros(ar,bc)\n",
    "    for i in range(ar):\n",
    "        for j in range(bc):\n",
    "            c[i,j] = (a[i,:] * b[:,j]).sum()\n",
    "    return c"
   ]
  },
  {
   "cell_type": "code",
   "execution_count": 74,
   "id": "f15debc0-94cf-436e-bb94-434b4fefae0e",
   "metadata": {},
   "outputs": [
    {
     "name": "stdout",
     "output_type": "stream",
     "text": [
      "1.13 ms ± 111 µs per loop (mean ± std. dev. of 7 runs, 10 loops each)\n"
     ]
    }
   ],
   "source": [
    "%timeit -n 10 _=matmul(m1, m2)"
   ]
  },
  {
   "cell_type": "code",
   "execution_count": 75,
   "id": "f64621ff-1844-47a9-91d7-93db5244448e",
   "metadata": {},
   "outputs": [
    {
     "data": {
      "text/plain": [
       "588.4955752212389"
      ]
     },
     "execution_count": 75,
     "metadata": {},
     "output_type": "execute_result"
    }
   ],
   "source": [
    "665/1.13"
   ]
  },
  {
   "cell_type": "code",
   "execution_count": 76,
   "id": "e2af63af-b4f4-4149-a398-fd7570657fa1",
   "metadata": {},
   "outputs": [],
   "source": [
    "#export\n",
    "def near(a,b): return torch.allclose(a, b, rtol=1e-3, atol=1e-5)\n",
    "def test_near(a,b): test(a,b,near)"
   ]
  },
  {
   "cell_type": "code",
   "execution_count": 77,
   "id": "708e2876-4ed7-4d6b-a0f4-564afac5fa16",
   "metadata": {},
   "outputs": [],
   "source": [
    "test_near(t1, matmul(m1,m2))"
   ]
  },
  {
   "cell_type": "markdown",
   "id": "4da2f82b-305f-42a0-920b-8bfc9f3af822",
   "metadata": {},
   "source": [
    "## Broadcasting"
   ]
  },
  {
   "cell_type": "code",
   "execution_count": 81,
   "id": "a743ce15-f179-42e1-877b-6d6256d8b84e",
   "metadata": {},
   "outputs": [
    {
     "data": {
      "text/plain": [
       "tensor([10., 20., 30.])"
      ]
     },
     "execution_count": 81,
     "metadata": {},
     "output_type": "execute_result"
    }
   ],
   "source": [
    "c = tensor([10.,20,30]); c"
   ]
  },
  {
   "cell_type": "code",
   "execution_count": 82,
   "id": "56f1e603-583c-46a0-add0-edf83ce51bef",
   "metadata": {},
   "outputs": [
    {
     "data": {
      "text/plain": [
       "tensor([[1., 2., 3.],\n",
       "        [4., 5., 6.],\n",
       "        [7., 8., 9.]])"
      ]
     },
     "execution_count": 82,
     "metadata": {},
     "output_type": "execute_result"
    }
   ],
   "source": [
    "m"
   ]
  },
  {
   "cell_type": "code",
   "execution_count": 83,
   "id": "58ab8c3b-3a48-40db-a524-699f87d5b322",
   "metadata": {},
   "outputs": [
    {
     "data": {
      "text/plain": [
       "(torch.Size([3, 3]), torch.Size([3]))"
      ]
     },
     "execution_count": 83,
     "metadata": {},
     "output_type": "execute_result"
    }
   ],
   "source": [
    "m.shape, c.shape"
   ]
  },
  {
   "cell_type": "code",
   "execution_count": 84,
   "id": "78050525-2c00-4fff-baf9-436f363ff97b",
   "metadata": {},
   "outputs": [],
   "source": [
    "t = c.expand_as(m)"
   ]
  },
  {
   "cell_type": "code",
   "execution_count": 85,
   "id": "1de3a295-9a94-4c61-a184-5d7c3d657a4c",
   "metadata": {},
   "outputs": [
    {
     "data": {
      "text/plain": [
       "tensor([[10., 20., 30.],\n",
       "        [10., 20., 30.],\n",
       "        [10., 20., 30.]])"
      ]
     },
     "execution_count": 85,
     "metadata": {},
     "output_type": "execute_result"
    }
   ],
   "source": [
    "t"
   ]
  },
  {
   "cell_type": "code",
   "execution_count": 86,
   "id": "cb8c39a1-209d-4c71-a7a0-6e28d5573264",
   "metadata": {},
   "outputs": [
    {
     "data": {
      "text/plain": [
       " 10.0\n",
       " 20.0\n",
       " 30.0\n",
       "[torch.FloatStorage of size 3]"
      ]
     },
     "execution_count": 86,
     "metadata": {},
     "output_type": "execute_result"
    }
   ],
   "source": [
    "t.storage()"
   ]
  },
  {
   "cell_type": "code",
   "execution_count": 88,
   "id": "7ead841e-441e-4793-917f-d0f61bf9b13a",
   "metadata": {},
   "outputs": [
    {
     "data": {
      "text/plain": [
       "((0, 1), torch.Size([3, 3]))"
      ]
     },
     "execution_count": 88,
     "metadata": {},
     "output_type": "execute_result"
    }
   ],
   "source": [
    "t.stride(), t.shape"
   ]
  },
  {
   "cell_type": "code",
   "execution_count": 89,
   "id": "c148f33c-03b2-4f12-a636-f1334e5423a8",
   "metadata": {},
   "outputs": [
    {
     "data": {
      "text/plain": [
       "tensor([[10., 20., 30.]])"
      ]
     },
     "execution_count": 89,
     "metadata": {},
     "output_type": "execute_result"
    }
   ],
   "source": [
    "c.unsqueeze(0)"
   ]
  },
  {
   "cell_type": "code",
   "execution_count": 90,
   "id": "9b11ed7c-4aef-4f31-afa9-da6259f6985b",
   "metadata": {},
   "outputs": [
    {
     "data": {
      "text/plain": [
       "tensor([[10.],\n",
       "        [20.],\n",
       "        [30.]])"
      ]
     },
     "execution_count": 90,
     "metadata": {},
     "output_type": "execute_result"
    }
   ],
   "source": [
    "c.unsqueeze(1)"
   ]
  },
  {
   "cell_type": "code",
   "execution_count": 91,
   "id": "8a3a9e12-4057-4697-9853-698647fec47a",
   "metadata": {},
   "outputs": [
    {
     "data": {
      "text/plain": [
       "tensor([[10., 20., 30.]])"
      ]
     },
     "execution_count": 91,
     "metadata": {},
     "output_type": "execute_result"
    }
   ],
   "source": [
    "c[None]"
   ]
  },
  {
   "cell_type": "code",
   "execution_count": 92,
   "id": "bf1df271-63c9-4818-a872-0ebf18918028",
   "metadata": {},
   "outputs": [
    {
     "data": {
      "text/plain": [
       "tensor([[10.],\n",
       "        [20.],\n",
       "        [30.]])"
      ]
     },
     "execution_count": 92,
     "metadata": {},
     "output_type": "execute_result"
    }
   ],
   "source": [
    "c[:,None]"
   ]
  },
  {
   "cell_type": "code",
   "execution_count": 93,
   "id": "7e3fdae6-d772-4cfb-8b58-23aa1e97354c",
   "metadata": {},
   "outputs": [
    {
     "data": {
      "text/plain": [
       "tensor([[10.],\n",
       "        [20.],\n",
       "        [30.]])"
      ]
     },
     "execution_count": 93,
     "metadata": {},
     "output_type": "execute_result"
    }
   ],
   "source": [
    "c[...,None]"
   ]
  },
  {
   "cell_type": "code",
   "execution_count": 94,
   "id": "0939c5dd-848d-4b12-8380-567e4fb5b869",
   "metadata": {},
   "outputs": [
    {
     "data": {
      "text/plain": [
       "tensor([[10., 20., 30.]])"
      ]
     },
     "execution_count": 94,
     "metadata": {},
     "output_type": "execute_result"
    }
   ],
   "source": [
    "c[None,...]"
   ]
  },
  {
   "cell_type": "markdown",
   "id": "d67f6512-48bd-470b-838c-1d0aa69762b2",
   "metadata": {},
   "source": [
    "## matmul with broadcasting"
   ]
  },
  {
   "cell_type": "code",
   "execution_count": 103,
   "id": "0fa43ae3-221c-41c2-be79-52629fc72cd9",
   "metadata": {},
   "outputs": [
    {
     "data": {
      "text/plain": [
       "(torch.Size([5, 784]), torch.Size([784, 10]))"
      ]
     },
     "execution_count": 103,
     "metadata": {},
     "output_type": "execute_result"
    }
   ],
   "source": [
    "m1.shape, m2.shape"
   ]
  },
  {
   "cell_type": "code",
   "execution_count": 101,
   "id": "8a9ce5dd-9dcf-49c2-8c0c-91011cc41237",
   "metadata": {},
   "outputs": [],
   "source": [
    "def matmul(a,b):\n",
    "    ar,ac = a.shape\n",
    "    br,bc = b.shape\n",
    "    assert ac == br\n",
    "    c = torch.zeros(ar,bc)\n",
    "    for i in range(ar):\n",
    "        c[i] = (a[i,:,None] * b).sum(dim=0)\n",
    "    return c"
   ]
  },
  {
   "cell_type": "code",
   "execution_count": 102,
   "id": "fbe7ed87-1a16-4844-919b-4fe793219a5e",
   "metadata": {},
   "outputs": [
    {
     "name": "stdout",
     "output_type": "stream",
     "text": [
      "230 µs ± 37.9 µs per loop (mean ± std. dev. of 7 runs, 10 loops each)\n"
     ]
    }
   ],
   "source": [
    "%timeit -n 10 _ = matmul(m1,m2)"
   ]
  },
  {
   "cell_type": "code",
   "execution_count": 104,
   "id": "e55c891a-92cf-4e74-8896-71829587dbfd",
   "metadata": {},
   "outputs": [],
   "source": [
    "test_near(t1, matmul(m1,m2))"
   ]
  },
  {
   "cell_type": "markdown",
   "id": "cc5105fa-1eee-442c-adbe-a164e505fcc2",
   "metadata": {},
   "source": [
    "## Einstein summation"
   ]
  },
  {
   "cell_type": "code",
   "execution_count": 107,
   "id": "badb99af-9064-4c2c-be9f-734eb183da2d",
   "metadata": {},
   "outputs": [],
   "source": [
    "def matmul(a,b): return torch.einsum('ik,kj->ij', a, b)"
   ]
  },
  {
   "cell_type": "code",
   "execution_count": 108,
   "id": "692a3421-f459-4dd8-92df-b1d50ecd3643",
   "metadata": {},
   "outputs": [
    {
     "name": "stdout",
     "output_type": "stream",
     "text": [
      "The slowest run took 6.23 times longer than the fastest. This could mean that an intermediate result is being cached.\n",
      "72.1 µs ± 64.8 µs per loop (mean ± std. dev. of 7 runs, 10 loops each)\n"
     ]
    }
   ],
   "source": [
    "%timeit -n 10 _ = matmul(m1,m2)"
   ]
  },
  {
   "cell_type": "code",
   "execution_count": 109,
   "id": "e179bcba-9666-4875-aafe-6146e4b842b7",
   "metadata": {},
   "outputs": [],
   "source": [
    "test_near(t1, matmul(m1,m2))"
   ]
  },
  {
   "cell_type": "markdown",
   "id": "1aa5d318-90c2-4d7c-9c37-b692219bf24a",
   "metadata": {},
   "source": [
    "## pytorch op"
   ]
  },
  {
   "cell_type": "code",
   "execution_count": 110,
   "id": "188000dd-3728-4daa-ab90-0ad7c6abeff4",
   "metadata": {},
   "outputs": [
    {
     "name": "stdout",
     "output_type": "stream",
     "text": [
      "The slowest run took 10.61 times longer than the fastest. This could mean that an intermediate result is being cached.\n",
      "11.8 µs ± 16.4 µs per loop (mean ± std. dev. of 7 runs, 10 loops each)\n"
     ]
    }
   ],
   "source": [
    "%timeit -n 10 _ = m1.matmul(m2)"
   ]
  },
  {
   "cell_type": "code",
   "execution_count": 112,
   "id": "2f2e43ea-8994-4169-8e77-f0c0df9a406e",
   "metadata": {},
   "outputs": [
    {
     "name": "stdout",
     "output_type": "stream",
     "text": [
      "The slowest run took 7.41 times longer than the fastest. This could mean that an intermediate result is being cached.\n",
      "9.81 µs ± 11.2 µs per loop (mean ± std. dev. of 7 runs, 10 loops each)\n"
     ]
    }
   ],
   "source": [
    "%timeit -n 10 _ = m1 @ m2"
   ]
  },
  {
   "cell_type": "code",
   "execution_count": 113,
   "id": "b753e485-3b26-47d1-9cfe-e1cf058e962e",
   "metadata": {},
   "outputs": [],
   "source": [
    "test_near(t1, m1@m2)"
   ]
  },
  {
   "cell_type": "markdown",
   "id": "674f155d-9750-42c5-b988-58db3b6c015f",
   "metadata": {},
   "source": [
    "# Export"
   ]
  },
  {
   "cell_type": "code",
   "execution_count": 12,
   "id": "3dc78f78-563e-4f1a-bf22-722c42ea5bb1",
   "metadata": {},
   "outputs": [
    {
     "name": "stdout",
     "output_type": "stream",
     "text": [
      "Converted 01_matmul.ipynb to exp/nb_01.py\n"
     ]
    }
   ],
   "source": [
    "!python notebook2script.py 01_matmul.ipynb"
   ]
  },
  {
   "cell_type": "code",
   "execution_count": null,
   "id": "68a33e7f-b2ce-420e-b486-9582ab1c4a39",
   "metadata": {},
   "outputs": [],
   "source": []
  },
  {
   "cell_type": "code",
   "execution_count": null,
   "id": "1aec0a8b-1538-4a62-8d3a-7cf461305d74",
   "metadata": {},
   "outputs": [],
   "source": []
  }
 ],
 "metadata": {
  "kernelspec": {
   "display_name": "Python 3",
   "language": "python",
   "name": "python3"
  },
  "language_info": {
   "codemirror_mode": {
    "name": "ipython",
    "version": 3
   },
   "file_extension": ".py",
   "mimetype": "text/x-python",
   "name": "python",
   "nbconvert_exporter": "python",
   "pygments_lexer": "ipython3",
   "version": "3.8.8"
  }
 },
 "nbformat": 4,
 "nbformat_minor": 5
}
