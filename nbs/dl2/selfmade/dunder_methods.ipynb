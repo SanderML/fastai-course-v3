{
 "cells": [
  {
   "cell_type": "code",
   "execution_count": 15,
   "id": "3a0d8a51-9578-452e-ac6c-853fc458c516",
   "metadata": {},
   "outputs": [],
   "source": [
    "def strike(text):\n",
    "    \"\"\" Renders string with strike-through characters through it.\n",
    "\n",
    "        `strike('hello world')` -> '̶h̶e̶l̶l̶o̶ ̶w̶o̶r̶l̶d'\n",
    "\n",
    "        Notes\n",
    "        -----\n",
    "        \\u0336 is a special strike-through unicode character; it\n",
    "        is not unique to Python.\"\"\"\n",
    "    return ''.join('\\u0336{}'.format(c) for c in text)\n",
    "\n",
    "class ShoppingList:\n",
    "    def __init__(self, items):\n",
    "        self._needed = set(items)\n",
    "        self._purchased = set()\n",
    "\n",
    "    def __repr__(self):\n",
    "        \"\"\" Returns formatted shopping list as a string with\n",
    "            purchased items being crossed out.\n",
    "\n",
    "            Returns\n",
    "            -------\n",
    "            str\"\"\"\n",
    "        if self._needed or self._purchased:\n",
    "            remaining_items = [str(i) for i in self._needed]\n",
    "            purchased_items = [strike(str(i)) for i in self._purchased]\n",
    "            # You wont find the • character on your keyboard. I simply\n",
    "            # googled \"unicode bullet point\" and copied/pasted it here.\n",
    "            return \"• \" + \"\\n• \".join(remaining_items + purchased_items)\n",
    "\n",
    "    def add_new_items(self, items):\n",
    "        self._needed.update(items)\n",
    "\n",
    "    def mark_purchased_items(self, items):\n",
    "        self._purchased.update(set(items) & self._needed)\n",
    "        self._needed.difference_update(self._purchased)"
   ]
  },
  {
   "cell_type": "code",
   "execution_count": 22,
   "id": "452b4c20-0bca-4f54-9cff-9d77dfd13c0a",
   "metadata": {},
   "outputs": [
    {
     "data": {
      "text/plain": [
       "{'grapes'}"
      ]
     },
     "execution_count": 22,
     "metadata": {},
     "output_type": "execute_result"
    }
   ],
   "source": [
    "set([\"grapes\", \"beets\", \"apples\", \"milk\", \"melon\", \"coffee\"]) & set(['fdskj', 'fdsk', '3', 'grapes'])"
   ]
  },
  {
   "cell_type": "code",
   "execution_count": 16,
   "id": "9c3cebbe-2a46-490d-a3f8-47f03d616d80",
   "metadata": {},
   "outputs": [
    {
     "data": {
      "text/plain": [
       "• coffee\n",
       "• apples\n",
       "• melon\n",
       "• ̶g̶r̶a̶p̶e̶s\n",
       "• ̶b̶e̶e̶t̶s\n",
       "• ̶f̶a̶s̶d̶k̶f̶s̶k̶l̶j\n",
       "• ̶m̶i̶l̶k"
      ]
     },
     "execution_count": 16,
     "metadata": {},
     "output_type": "execute_result"
    }
   ],
   "source": [
    "# demonstrating `ShoppingList.__repr__`\n",
    ">>> l = ShoppingList([\"grapes\", \"beets\", \"apples\", \"milk\", \"melon\", \"coffee\"])\n",
    ">>> l.mark_purchased_items([\"grapes\", \"beets\", \"milk\", 'fasdkfsklj'])\n",
    ">>> l"
   ]
  },
  {
   "cell_type": "code",
   "execution_count": 4,
   "id": "825a956c-8675-4839-a671-34a402f893b0",
   "metadata": {},
   "outputs": [],
   "source": [
    "def __add__(self, other):\n",
    "    \"\"\" Add the unpurchased and purchased items from another shopping\n",
    "        list to the present one.\n",
    "\n",
    "        Parameters\n",
    "        ----------\n",
    "        other : ShoppingList\n",
    "            The shopping list whose items we will add to the present one.\n",
    "        Returns\n",
    "        -------\n",
    "        ShoppingList\n",
    "            The present shopping list, with items added to it.\"\"\"\n",
    "    new_list = ShoppingList([])\n",
    "    # populate new_list with items from `self` and `other`\n",
    "    for l in [self, other]:\n",
    "        new_list.add_new_items(l._needed)\n",
    "\n",
    "        # add purchased items to list, then mark as purchased\n",
    "        new_list.add_new_items(l._purchased)\n",
    "        new_list.mark_purchased_items(l._purchased)\n",
    "    return new_list"
   ]
  },
  {
   "cell_type": "code",
   "execution_count": 5,
   "id": "eba07fe3-1ccb-4e3e-8dee-3289c1deb690",
   "metadata": {},
   "outputs": [],
   "source": [
    "# set `__add__` as a method of `ShoppingList`\n",
    ">>> setattr(ShoppingList, \"__add__\", __add__)"
   ]
  },
  {
   "cell_type": "code",
   "execution_count": 6,
   "id": "5736c5c3-06a1-4f67-814a-f932a1c5a583",
   "metadata": {},
   "outputs": [
    {
     "data": {
      "text/plain": [
       "• staples\n",
       "• socks\n",
       "• t-shirts\n",
       "• eggs\n",
       "• pens\n",
       "• milk\n",
       "• ̶p̶e̶n̶c̶i̶l̶s\n",
       "• ̶f̶l̶o̶u̶r\n",
       "• ̶s̶a̶l̶t"
      ]
     },
     "execution_count": 6,
     "metadata": {},
     "output_type": "execute_result"
    }
   ],
   "source": [
    "food = ShoppingList([\"milk\", \"flour\", \"salt\", \"eggs\"])\n",
    "food.mark_purchased_items([\"flour\", \"salt\"])\n",
    "\n",
    "office_supplies = ShoppingList([\"staples\", \"pens\", \"pencils\"])\n",
    "office_supplies.mark_purchased_items([\"pencils\"])\n",
    "\n",
    "clothes = ShoppingList([\"t-shirts\", \"socks\"])\n",
    "\n",
    "# combine all three shopping lists\n",
    "food + office_supplies + clothes"
   ]
  },
  {
   "cell_type": "code",
   "execution_count": null,
   "id": "7e6980c9-d4ef-4544-a7f2-9f63e51bd07f",
   "metadata": {},
   "outputs": [],
   "source": []
  }
 ],
 "metadata": {
  "kernelspec": {
   "display_name": "Python 3 (ipykernel)",
   "language": "python",
   "name": "python3"
  },
  "language_info": {
   "codemirror_mode": {
    "name": "ipython",
    "version": 3
   },
   "file_extension": ".py",
   "mimetype": "text/x-python",
   "name": "python",
   "nbconvert_exporter": "python",
   "pygments_lexer": "ipython3",
   "version": "3.8.8"
  }
 },
 "nbformat": 4,
 "nbformat_minor": 5
}
