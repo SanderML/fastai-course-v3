{
 "cells": [
  {
   "cell_type": "code",
   "execution_count": 1,
   "id": "1ac25663-de5a-4467-be7b-578fdc05ae33",
   "metadata": {},
   "outputs": [],
   "source": [
    "%load_ext autoreload\n",
    "%autoreload 2\n",
    "\n",
    "%matplotlib inline"
   ]
  },
  {
   "cell_type": "code",
   "execution_count": 2,
   "id": "4bb87e63-ee8f-430a-9e3a-9f91160d9d77",
   "metadata": {},
   "outputs": [],
   "source": [
    "#export\n",
    "from exp.nb_06 import *"
   ]
  },
  {
   "cell_type": "markdown",
   "id": "434c1373-8059-4596-b1e6-e760b27db803",
   "metadata": {},
   "source": [
    "# ConvNet"
   ]
  },
  {
   "cell_type": "code",
   "execution_count": 3,
   "id": "11c0aad0-0345-433f-aa80-5fcbc4ff2c0b",
   "metadata": {},
   "outputs": [],
   "source": [
    "x_train, y_train, x_valid, y_valid = get_data()"
   ]
  },
  {
   "cell_type": "code",
   "execution_count": 4,
   "id": "88370758-d135-4923-8ec7-4eb670948e5d",
   "metadata": {},
   "outputs": [
    {
     "data": {
      "text/plain": [
       "(tensor(-9.9649e-10), tensor(1.0000))"
      ]
     },
     "execution_count": 4,
     "metadata": {},
     "output_type": "execute_result"
    }
   ],
   "source": [
    "x_train.mean(), x_train.std()"
   ]
  },
  {
   "cell_type": "code",
   "execution_count": 5,
   "id": "1a57a9af-be71-4b47-b263-3693b8b4eba8",
   "metadata": {},
   "outputs": [],
   "source": [
    "train_ds, valid_ds = Dataset(x_train, y_train), Dataset(x_valid, y_valid)"
   ]
  },
  {
   "cell_type": "code",
   "execution_count": 6,
   "id": "caa43b64-bd24-4dab-83da-021a1f6d13a9",
   "metadata": {},
   "outputs": [],
   "source": [
    "nh, bs = 50, 512\n",
    "c = y_train.max().item() + 1\n",
    "loss_func = F.cross_entropy"
   ]
  },
  {
   "cell_type": "code",
   "execution_count": 7,
   "id": "5762b3fd-6305-45c3-a705-d92111addfe2",
   "metadata": {},
   "outputs": [],
   "source": [
    "data = DataBunch(*get_dls(train_ds, valid_ds, bs), c)"
   ]
  },
  {
   "cell_type": "code",
   "execution_count": 8,
   "id": "a25018d2-6d4e-4dbf-beb7-1ed206afd709",
   "metadata": {},
   "outputs": [],
   "source": [
    "mnist_view = view_tfm(1,28,28)"
   ]
  },
  {
   "cell_type": "code",
   "execution_count": 9,
   "id": "52acfde0-6281-4ac2-9f42-2c55b98d4263",
   "metadata": {},
   "outputs": [],
   "source": [
    "cbfs = [Recorder,\n",
    "       partial(AvgStatsCallback, accuracy),\n",
    "       CudaCallback,\n",
    "       partial(BatchTransformXCallback, mnist_view)]"
   ]
  },
  {
   "cell_type": "code",
   "execution_count": 10,
   "id": "2b35cbfe-9f8d-4d83-80fd-80054b5aa25c",
   "metadata": {},
   "outputs": [],
   "source": [
    "nfs = [8, 16, 32, 64, 64]"
   ]
  },
  {
   "cell_type": "code",
   "execution_count": 11,
   "id": "79948648-80c9-43fa-af0f-39e4e9ba792a",
   "metadata": {},
   "outputs": [],
   "source": [
    "sched = combine_scheds([0.5, 0.5], [sched_cos(0.2, 1), sched_cos(1., 0.1)])"
   ]
  },
  {
   "cell_type": "code",
   "execution_count": 12,
   "id": "4d946476-35fe-4d3b-b6fe-e862c59721fe",
   "metadata": {},
   "outputs": [],
   "source": [
    "# learn, run = get_learn_run(nfs, data, 1., conv_layer, cbs=cbfs+[partial(ParamScheduler, 'lr', sched)])"
   ]
  },
  {
   "cell_type": "code",
   "execution_count": 13,
   "id": "a0e922c9-9b60-4f3e-abfc-35f6d0fbe6d8",
   "metadata": {},
   "outputs": [],
   "source": [
    "cbfs = [partial(BatchTransformXCallback, mnist_view),\n",
    "       Recorder,\n",
    "       partial(AvgStatsCallback, accuracy),\n",
    "       CudaCallback]"
   ]
  },
  {
   "cell_type": "code",
   "execution_count": 14,
   "id": "9d9f6945-cdc2-422a-8f2f-c35ed4f56297",
   "metadata": {},
   "outputs": [],
   "source": [
    "learn, run = get_learn_run(nfs, data, 0.4, conv_layer, cbs=cbfs + [partial(ParamScheduler, 'lr', sched)])"
   ]
  },
  {
   "cell_type": "code",
   "execution_count": 15,
   "id": "708731e7-bc50-44f6-bfef-60cb23b396a0",
   "metadata": {},
   "outputs": [
    {
     "name": "stdout",
     "output_type": "stream",
     "text": [
      "train: [1.1761963541666667, tensor(0.6383, device='cuda:0')]\n",
      "valid: [0.29950830078125, tensor(0.9097, device='cuda:0')]\n",
      "train: [0.11837305501302084, tensor(0.9646, device='cuda:0')]\n",
      "valid: [0.07549603881835938, tensor(0.9762, device='cuda:0')]\n"
     ]
    }
   ],
   "source": [
    "run.fit(2, learn)"
   ]
  },
  {
   "cell_type": "markdown",
   "id": "3bc110ea-49e8-4e91-8db4-7833651f34d9",
   "metadata": {},
   "source": [
    "# Batchnorm"
   ]
  },
  {
   "cell_type": "markdown",
   "id": "fb73fe7e-8db2-49a3-9855-b02da19a664a",
   "metadata": {},
   "source": [
    "## Custom"
   ]
  },
  {
   "cell_type": "code",
   "execution_count": 16,
   "id": "caa1cf96-3fa4-4574-af3d-9aa018c99562",
   "metadata": {},
   "outputs": [],
   "source": [
    "class BatchNorm(nn.Module):\n",
    "    def __init__(self, nf, mom=0.1, eps=1e-5):\n",
    "        super().__init__()\n",
    "        self.mom, self.eps = mom, eps\n",
    "        self.mults = nn.Parameter(torch.ones(nf,1,1))\n",
    "        self.adds = nn.Parameter(torch.zeros(nf,1,1))\n",
    "        self.register_buffer('means', torch.zeros(1, nf, 1, 1))\n",
    "        self.register_buffer('vars', torch.ones(1, nf, 1, 1))\n",
    "        \n",
    "    def forward(self, x):\n",
    "        if self.training:\n",
    "            with torch.no_grad(): m,v = self.update_stats(x)\n",
    "        else: m,v = self.means, self.vars\n",
    "        x = (x - m) / (v + self.eps).sqrt()\n",
    "        return x * self.mults + self.adds\n",
    "    \n",
    "    def update_stats(self, x):\n",
    "        m = x.mean((0,2,3), keepdim=True)\n",
    "        v = x.var((0,2,3), keepdim=True)\n",
    "        self.means.lerp_(m, self.mom)\n",
    "        self.vars.lerp_(v, self.mom)\n",
    "        return m,v"
   ]
  },
  {
   "cell_type": "code",
   "execution_count": 17,
   "id": "4b079e60-2f8c-4605-b884-a7e8cbcf0178",
   "metadata": {},
   "outputs": [],
   "source": [
    "def conv_layer(ni, nf, ks=3, stride=2, bn=True, **kwargs):\n",
    "    # no bias needed if using bn\n",
    "    layers = [nn.Conv2d(ni, nf, ks, stride, padding=ks//2, bias=not bn),\n",
    "             GeneralRelu(**kwargs)]\n",
    "    if bn: layers.append(BatchNorm(nf))\n",
    "    return nn.Sequential(*layers)"
   ]
  },
  {
   "cell_type": "code",
   "execution_count": 18,
   "id": "e418753c-3a93-44bc-8c40-55d8d7ea92f8",
   "metadata": {},
   "outputs": [],
   "source": [
    "#export\n",
    "def get_learn_run(nfs, data, lr, layer, cbs=None, opt_func=None, uniform=False, **kwargs):\n",
    "    model = get_cnn_model(data, nfs, layer, **kwargs)\n",
    "    init_cnn(model, uniform=uniform)\n",
    "    return get_runner(model, data, lr=lr, cbs=cbs, opt_func=opt_func)"
   ]
  },
  {
   "cell_type": "code",
   "execution_count": 19,
   "id": "48aa6cec-5fd3-4b0e-a72a-f15507548080",
   "metadata": {},
   "outputs": [],
   "source": [
    "#export\n",
    "def init_cnn(m, uniform=False):\n",
    "    f = init.kaiming_uniform_ if uniform else init.kaiming_uniform_\n",
    "    init_cnn_(m, f)"
   ]
  },
  {
   "cell_type": "code",
   "execution_count": 20,
   "id": "dfda3835-e4b7-41cc-93a2-a3969c97ae78",
   "metadata": {},
   "outputs": [],
   "source": [
    "#export\n",
    "def init_cnn_(m, f):\n",
    "    if isinstance(m, nn.Conv2d):\n",
    "        f(m.weight, a=0.1)\n",
    "        if getattr(m, 'bias', None) is not None: m.bias.data.zero_()\n",
    "    for l in m.children(): init_cnn_(l, f)"
   ]
  },
  {
   "cell_type": "code",
   "execution_count": 21,
   "id": "b8ec3415-9c71-411b-a57a-7d86f656fb7d",
   "metadata": {},
   "outputs": [],
   "source": [
    "learn, run = get_learn_run(nfs, data, 0.9, conv_layer, cbs=cbfs)"
   ]
  },
  {
   "cell_type": "code",
   "execution_count": 22,
   "id": "ee5e0c12-45c4-4faf-8763-d286411bc221",
   "metadata": {},
   "outputs": [
    {
     "name": "stdout",
     "output_type": "stream",
     "text": [
      "train: [0.24558063151041667, tensor(0.9233, device='cuda:0')]\n",
      "valid: [0.2298282958984375, tensor(0.9220, device='cuda:0')]\n"
     ]
    },
    {
     "data": {
      "image/png": "[encoded data removed]",
      "text/plain": [
       "<Figure size 720x288 with 2 Axes>"
      ]
     },
     "metadata": {
      "needs_background": "light"
     },
     "output_type": "display_data"
    },
    {
     "data": {
      "image/png": "[encoded data removed]",
      "text/plain": [
       "<Figure size 720x288 with 2 Axes>"
      ]
     },
     "metadata": {
      "needs_background": "light"
     },
     "output_type": "display_data"
    }
   ],
   "source": [
    "with Hooks(learn.model, append_stats) as hooks:\n",
    "    run.fit(1, learn)\n",
    "    \n",
    "    fig, (ax0,ax1) = plt.subplots(1,2, figsize=(10,4))\n",
    "    for h in hooks[:-1]:\n",
    "        ms, ss = h.stats\n",
    "        ax0.plot(ms[:10])\n",
    "        ax1.plot(ss[:10])\n",
    "        h.remove()\n",
    "    plt.legend(range(6));\n",
    "    \n",
    "    fig, (ax0,ax1) = plt.subplots(1,2, figsize=(10,4))\n",
    "    for h in hooks[:-1]:\n",
    "        ms, ss = h.stats\n",
    "        ax0.plot(ms)\n",
    "        ax1.plot(ss)\n",
    "    plt.legend(range(6));"
   ]
  },
  {
   "cell_type": "code",
   "execution_count": 23,
   "id": "a4d40134-fdff-48d5-9009-2f0a59703c50",
   "metadata": {},
   "outputs": [],
   "source": [
    "learn, run = get_learn_run(nfs, data, 1.0, conv_layer, cbs=cbfs)"
   ]
  },
  {
   "cell_type": "code",
   "execution_count": 24,
   "id": "5f250028-417c-4345-99ad-0c872daa3cc0",
   "metadata": {},
   "outputs": [
    {
     "name": "stdout",
     "output_type": "stream",
     "text": [
      "train: [0.23984812825520832, tensor(0.9260, device='cuda:0')]\n",
      "valid: [0.61205849609375, tensor(0.8318, device='cuda:0')]\n",
      "train: [0.07844217122395833, tensor(0.9760, device='cuda:0')]\n",
      "valid: [0.058468017578125, tensor(0.9814, device='cuda:0')]\n",
      "train: [0.05518968098958334, tensor(0.9830, device='cuda:0')]\n",
      "valid: [0.313597216796875, tensor(0.9233, device='cuda:0')]\n",
      "CPU times: user 4.65 s, sys: 493 ms, total: 5.14 s\n",
      "Wall time: 4.54 s\n"
     ]
    }
   ],
   "source": [
    "%time run.fit(3, learn)"
   ]
  },
  {
   "cell_type": "code",
   "execution_count": 25,
   "id": "642781a0-1e84-4ff3-bde8-2a718f2b7af1",
   "metadata": {},
   "outputs": [],
   "source": [
    "#export\n",
    "def conv_layer(ni, nf, ks=3, stride=2, bn=True, **kwargs):\n",
    "    layers = [nn.Conv2d(ni, nf, ks, stride, padding=ks//2, bias=not bn),\n",
    "             GeneralRelu(**kwargs)]\n",
    "    if bn: layers.append(nn.BatchNorm2d(nf, eps=1e-5, momentum=0.1))\n",
    "    return nn.Sequential(*layers)"
   ]
  },
  {
   "cell_type": "code",
   "execution_count": 26,
   "id": "1abf458d-e08a-406d-8d57-d8a51ed649c6",
   "metadata": {},
   "outputs": [],
   "source": [
    "learn, run = get_learn_run(nfs, data, 1.0, conv_layer, cbs=cbfs)"
   ]
  },
  {
   "cell_type": "code",
   "execution_count": 27,
   "id": "49570d47-52e4-4c52-ad16-87e3726acb70",
   "metadata": {},
   "outputs": [
    {
     "name": "stdout",
     "output_type": "stream",
     "text": [
      "train: [0.19976005859375, tensor(0.9385, device='cuda:0')]\n",
      "valid: [0.23870517578125, tensor(0.9179, device='cuda:0')]\n",
      "train: [0.06157894287109375, tensor(0.9805, device='cuda:0')]\n",
      "valid: [0.07486297607421875, tensor(0.9764, device='cuda:0')]\n",
      "train: [0.040831327311197915, tensor(0.9871, device='cuda:0')]\n",
      "valid: [0.044709988403320314, tensor(0.9853, device='cuda:0')]\n",
      "CPU times: user 4.17 s, sys: 512 ms, total: 4.69 s\n",
      "Wall time: 4.09 s\n"
     ]
    }
   ],
   "source": [
    "%time run.fit(3, learn)"
   ]
  },
  {
   "cell_type": "code",
   "execution_count": 28,
   "id": "eb87ef50-651d-40ed-819d-1f8e9ce8b3d2",
   "metadata": {},
   "outputs": [],
   "source": [
    "sched = combine_scheds([0.3, 0.7], [sched_lin(0.6, 2), sched_lin(2., 0.1)])"
   ]
  },
  {
   "cell_type": "code",
   "execution_count": 29,
   "id": "b45a9de0-bd68-40c1-94a2-a5cbd238088a",
   "metadata": {},
   "outputs": [],
   "source": [
    "learn, run = get_learn_run(nfs, data, 0.9, conv_layer, cbs=cbfs + [partial(ParamScheduler, 'lr', sched)])"
   ]
  },
  {
   "cell_type": "code",
   "execution_count": 30,
   "id": "dc669d72-2ead-4639-bbfc-54a686f584d3",
   "metadata": {},
   "outputs": [
    {
     "name": "stdout",
     "output_type": "stream",
     "text": [
      "train: [0.216532275390625, tensor(0.9352, device='cuda:0')]\n",
      "valid: [0.1842805908203125, tensor(0.9451, device='cuda:0')]\n",
      "train: [0.07254474283854166, tensor(0.9776, device='cuda:0')]\n",
      "valid: [0.1424078125, tensor(0.9604, device='cuda:0')]\n",
      "train: [0.05445105794270833, tensor(0.9831, device='cuda:0')]\n",
      "valid: [0.280080712890625, tensor(0.9259, device='cuda:0')]\n",
      "train: [0.04809547119140625, tensor(0.9852, device='cuda:0')]\n",
      "valid: [0.04421014404296875, tensor(0.9856, device='cuda:0')]\n",
      "train: [0.021032356770833333, tensor(0.9934, device='cuda:0')]\n",
      "valid: [0.040951129150390626, tensor(0.9861, device='cuda:0')]\n",
      "train: [0.011753427124023438, tensor(0.9968, device='cuda:0')]\n",
      "valid: [0.03609167175292969, tensor(0.9872, device='cuda:0')]\n",
      "train: [0.008031184895833333, tensor(0.9983, device='cuda:0')]\n",
      "valid: [0.03392394409179687, tensor(0.9883, device='cuda:0')]\n",
      "train: [0.0057138448079427084, tensor(0.9990, device='cuda:0')]\n",
      "valid: [0.03418860168457031, tensor(0.9887, device='cuda:0')]\n"
     ]
    }
   ],
   "source": [
    "run.fit(8, learn)"
   ]
  },
  {
   "cell_type": "markdown",
   "id": "e0d885f3-6206-4a66-a155-954d35f2c24d",
   "metadata": {},
   "source": [
    "## More norms"
   ]
  },
  {
   "cell_type": "markdown",
   "id": "cb50146c-f4ed-44c6-aea1-deb449675dab",
   "metadata": {},
   "source": [
    "### Layer norm"
   ]
  },
  {
   "cell_type": "code",
   "execution_count": 31,
   "id": "5909dc4e-4c41-46c3-bd05-856f84cf6e4b",
   "metadata": {},
   "outputs": [],
   "source": [
    "class LayerNorm(nn.Module):\n",
    "    __constants__ = ['eps']\n",
    "    def __init__(self, eps=1e-5):\n",
    "        super().__init__()\n",
    "        self.eps = eps\n",
    "        self.mult = nn.Parameter(tensor(1.))\n",
    "        self.add = nn.Parameter(tensor(0.))\n",
    "        \n",
    "    def forward(self, x):\n",
    "        m = x.mean((1,2,3), keepdim=True)\n",
    "        v = x.var((1,2,3), keepdim=True)\n",
    "        x = (x - m) / (v + self.eps).sqrt()\n",
    "        return x * self.mult + self.add"
   ]
  },
  {
   "cell_type": "code",
   "execution_count": 32,
   "id": "7ae5c111-e80b-4981-bc0f-b88e8f1d47dd",
   "metadata": {},
   "outputs": [],
   "source": [
    "def conv_ln(ni, nf, ks=3, stride=2, bn=True, **kwargs):\n",
    "    layers = [nn.Conv2d(ni, nf, ks, stride, padding=ks//2, bias=True),\n",
    "             GeneralRelu(**kwargs)]\n",
    "    if bn: layers.append(LayerNorm())\n",
    "    return nn.Sequential(*layers)"
   ]
  },
  {
   "cell_type": "code",
   "execution_count": 33,
   "id": "67633b29-8a52-4c07-bad9-e77a5dcb53d9",
   "metadata": {},
   "outputs": [],
   "source": [
    "learn,run = get_learn_run(nfs, data, 0.8, conv_ln, cbs=cbfs)"
   ]
  },
  {
   "cell_type": "code",
   "execution_count": 34,
   "id": "3729f077-2ed2-468c-a7c3-55ccf6694080",
   "metadata": {},
   "outputs": [
    {
     "name": "stdout",
     "output_type": "stream",
     "text": [
      "train: [nan, tensor(0.1081, device='cuda:0')]\n",
      "valid: [nan, tensor(0.0980, device='cuda:0')]\n",
      "train: [nan, tensor(0.0987, device='cuda:0')]\n",
      "valid: [nan, tensor(0.0980, device='cuda:0')]\n",
      "train: [nan, tensor(0.0987, device='cuda:0')]\n",
      "valid: [nan, tensor(0.0980, device='cuda:0')]\n",
      "CPU times: user 5.36 s, sys: 713 ms, total: 6.07 s\n",
      "Wall time: 5.47 s\n"
     ]
    }
   ],
   "source": [
    "%time run.fit(3, learn)"
   ]
  },
  {
   "cell_type": "markdown",
   "id": "65bac5c5-8dbc-4c4d-b7a0-9bbb5a80b4ab",
   "metadata": {},
   "source": [
    "### Instance Norm"
   ]
  },
  {
   "cell_type": "code",
   "execution_count": 35,
   "id": "406dd5e5-5ab8-4e4b-a6f4-eecdc15703c3",
   "metadata": {},
   "outputs": [],
   "source": [
    "class InstanceNorm(nn.Module):\n",
    "    __constans__ = ['eps']\n",
    "    def __init__(self, nf, eps=1e-0):\n",
    "        super().__init__()\n",
    "        self.eps = eps\n",
    "        self.mults = nn.Parameter(torch.ones(nf,1,1))\n",
    "        self.adds = nn.Parameter(torch.zeros(nf,1,1))\n",
    "        \n",
    "    def forward(self, x):\n",
    "        m = x.mean((2,3), keepdim=True)\n",
    "        v = x.var((2,3), keepdim=True)\n",
    "        res = (x - m) / (v + self.eps).sqrt()\n",
    "        return res * self.mults + self.adds"
   ]
  },
  {
   "cell_type": "code",
   "execution_count": 36,
   "id": "a3708d28-88e3-480f-bcf2-b850eb4fbc70",
   "metadata": {},
   "outputs": [],
   "source": [
    "def conv_in(ni, nf, ks=3, stride=2, bn=True, **kwargs):\n",
    "    layers = [nn.Conv2d(ni, nf, ks, stride, padding=ks//2, bias=True),\n",
    "             GeneralRelu(**kwargs)]\n",
    "    if bn: layers.append(InstanceNorm(nf))\n",
    "    return nn.Sequential(*layers)"
   ]
  },
  {
   "cell_type": "code",
   "execution_count": 37,
   "id": "69e37801-52bf-48f5-814f-faf6a836a5de",
   "metadata": {},
   "outputs": [],
   "source": [
    "learn,run = get_learn_run(nfs, data, 0.1, conv_in, cbs=cbfs)"
   ]
  },
  {
   "cell_type": "code",
   "execution_count": 38,
   "id": "e092ea4f-1625-4a1e-95e3-8df071f906cb",
   "metadata": {},
   "outputs": [
    {
     "name": "stdout",
     "output_type": "stream",
     "text": [
      "train: [nan, tensor(0.0987, device='cuda:0')]\n",
      "valid: [nan, tensor(0.0980, device='cuda:0')]\n",
      "train: [nan, tensor(0.0987, device='cuda:0')]\n",
      "valid: [nan, tensor(0.0980, device='cuda:0')]\n",
      "train: [nan, tensor(0.0987, device='cuda:0')]\n",
      "valid: [nan, tensor(0.0980, device='cuda:0')]\n",
      "CPU times: user 5.07 s, sys: 753 ms, total: 5.82 s\n",
      "Wall time: 5.22 s\n"
     ]
    }
   ],
   "source": [
    "%time run.fit(3, learn)"
   ]
  },
  {
   "cell_type": "markdown",
   "id": "f3f5363a-aa20-4259-b5bf-81e88aef9a9a",
   "metadata": {},
   "source": [
    "# Fix small batch sizes"
   ]
  },
  {
   "cell_type": "code",
   "execution_count": 39,
   "id": "6f9b2f45-4fd7-49a4-b702-19a11ab55548",
   "metadata": {},
   "outputs": [],
   "source": [
    "data = DataBunch(*get_dls(train_ds, valid_ds, 2), c)"
   ]
  },
  {
   "cell_type": "code",
   "execution_count": 40,
   "id": "5adc96b9-b142-4171-917a-38884cec22e6",
   "metadata": {},
   "outputs": [],
   "source": [
    "def conv_layer(ni, nf, ks=3, stride=2, bn=True, **kwargs):\n",
    "    layers = [nn.Conv2d(ni, nf, ks, padding=ks//2, stride=stride, bias=not bn),\n",
    "              GeneralRelu(**kwargs)]\n",
    "    if bn: layers.append(nn.BatchNorm2d(nf, eps=1e-5, momentum=0.1))\n",
    "    return nn.Sequential(*layers)"
   ]
  },
  {
   "cell_type": "code",
   "execution_count": 41,
   "id": "976145fe-d5f9-4a73-b864-093a16663db8",
   "metadata": {},
   "outputs": [],
   "source": [
    "learn,run = get_learn_run(nfs, data, 0.4, conv_layer, cbs=cbfs)"
   ]
  },
  {
   "cell_type": "code",
   "execution_count": 42,
   "id": "8a2a3093-4370-44bc-9fbc-affa8568ea10",
   "metadata": {},
   "outputs": [
    {
     "name": "stdout",
     "output_type": "stream",
     "text": [
      "train: [2.36285390625, tensor(0.1783, device='cuda:0')]\n",
      "valid: [3.120415234375, tensor(0.2302, device='cuda:0')]\n",
      "CPU times: user 1min 46s, sys: 7.11 s, total: 1min 53s\n",
      "Wall time: 1min 52s\n"
     ]
    }
   ],
   "source": [
    "%time run.fit(1, learn)"
   ]
  },
  {
   "cell_type": "markdown",
   "id": "074b58ed-cc32-4ef9-9344-5b84e2a8d008",
   "metadata": {},
   "source": [
    "## Running Batch Norm"
   ]
  },
  {
   "cell_type": "code",
   "execution_count": 43,
   "id": "5adf4aa1-1aa4-4d15-8357-05ff6c9c12c0",
   "metadata": {},
   "outputs": [],
   "source": [
    "class RunningBatchNorm(nn.Module):\n",
    "    def __init__(self, nf, mom=0.1, eps=1e-5):\n",
    "        super().__init__()\n",
    "        self.mom, self.eps = mom, eps\n",
    "        self.mults = nn.Parameter(torch.ones(nf,1,1))\n",
    "        self.adds = nn.Parameter(torch.zeros(nf,1,1))\n",
    "        self.register_buffer('sums', torch.zeros(1,nf,1,1))\n",
    "        self.register_buffer('sqrs', torch.zeros(1,nf,1,1))\n",
    "        self.register_buffer('batch', tensor(0.))\n",
    "        self.register_buffer('count', tensor(0.))\n",
    "        self.register_buffer('step', tensor(0.))\n",
    "        self.register_buffer('dbias', tensor(0.))\n",
    "        \n",
    "    def forward(self, x):\n",
    "        if self.training: self.update_stats(x)\n",
    "        sums = self.sums\n",
    "        sqrs = self.sqrs\n",
    "        c = self.count\n",
    "        if self.step < 100:\n",
    "            sums /= self.dbias\n",
    "            sqrs /= self.dbias\n",
    "            c /= self.dbias\n",
    "        means = sums / c\n",
    "        vars = (sqrs / c).sub_(means*means)\n",
    "        if bool(self.batch < 20): vars.clamp_min_(0.01)\n",
    "        x = (x - means).div_((vars.add_(self.eps)).sqrt())\n",
    "        return x.mul_(self.mults).add_(self.adds)\n",
    "    \n",
    "    def update_stats(self, x):\n",
    "        bs, nc, *_ = x.shape\n",
    "        self.sums.detach_()\n",
    "        self.sqrs.detach_()\n",
    "        dims = (0, 2, 3)\n",
    "        s = x.sum(dims, keepdim=True)\n",
    "        ss = (x*x).sum(dims, keepdim=True)\n",
    "        c = self.count.new_tensor(x.numel() / nc)\n",
    "        mom1 = 1 - (1 - self.mom) / math.sqrt(bs-1) # < 0.9 for self.mom=0.1\n",
    "        self.mom1 = self.dbias.new_tensor(mom1)\n",
    "        self.sums.lerp_(s, self.mom1)\n",
    "        self.sqrs.lerp_(ss, self.mom1)\n",
    "        self.count.lerp_(c, self.mom1)\n",
    "        self.dbias = self.dbias * (1 - self.mom1) + self.mom1\n",
    "        self.batch += bs\n",
    "        self.step += 1"
   ]
  },
  {
   "cell_type": "code",
   "execution_count": 44,
   "id": "82aa17e4-4926-4b20-aeaf-bd17a636d1cd",
   "metadata": {},
   "outputs": [],
   "source": [
    "def conv_rbn(ni, nf, ks=3, stride=2, bn=True, **kwargs):\n",
    "    layers = [nn.Conv2d(ni, nf, ks, padding=ks//2, stride=stride, bias=not bn),\n",
    "              GeneralRelu(**kwargs)]\n",
    "    if bn: layers.append(RunningBatchNorm(nf))\n",
    "    return nn.Sequential(*layers)"
   ]
  },
  {
   "cell_type": "code",
   "execution_count": 47,
   "id": "8e0cd816-be40-4954-a8b6-6173b7602a99",
   "metadata": {},
   "outputs": [],
   "source": [
    "data = DataBunch(*get_dls(train_ds, valid_ds, 32), c)"
   ]
  },
  {
   "cell_type": "code",
   "execution_count": 45,
   "id": "1f8ee46b-87f5-4ee5-9ca2-d656342316c2",
   "metadata": {},
   "outputs": [],
   "source": [
    "learn,run = get_learn_run(nfs, data, 0.4, conv_rbn, cbs=cbfs)"
   ]
  },
  {
   "cell_type": "code",
   "execution_count": 46,
   "id": "f6e9706d-fb84-4066-a9af-100351e6f49d",
   "metadata": {},
   "outputs": [
    {
     "name": "stdout",
     "output_type": "stream",
     "text": [
      "train: [nan, tensor(0.0988, device='cuda:0')]\n",
      "valid: [nan, tensor(0.0980, device='cuda:0')]\n",
      "CPU times: user 4min 42s, sys: 35.7 s, total: 5min 18s\n",
      "Wall time: 5min 16s\n"
     ]
    }
   ],
   "source": [
    "%time run.fit(1, learn)"
   ]
  },
  {
   "cell_type": "markdown",
   "id": "60603392-a11b-4613-b385-935442cc368b",
   "metadata": {},
   "source": [
    "# What can we do in a single epoch?"
   ]
  },
  {
   "cell_type": "code",
   "execution_count": 49,
   "id": "c509f071-b592-4f59-9251-9cf70f277a18",
   "metadata": {},
   "outputs": [],
   "source": [
    "learn, run = get_learn_run(nfs, data, 0.9, conv_rbn, cbs=cbfs + [partial(ParamScheduler, 'lr', sched_lin(1., 0.2))])"
   ]
  },
  {
   "cell_type": "code",
   "execution_count": 50,
   "id": "c17af1c4-a276-4489-97ed-b3afe1be8cb8",
   "metadata": {},
   "outputs": [
    {
     "name": "stdout",
     "output_type": "stream",
     "text": [
      "train: [0.14963732096354165, tensor(0.9527, device='cuda:0')]\n",
      "valid: [0.09634151000976562, tensor(0.9745, device='cuda:0')]\n",
      "CPU times: user 18 s, sys: 2.11 s, total: 20.1 s\n",
      "Wall time: 19.9 s\n"
     ]
    }
   ],
   "source": [
    "%time run.fit(1, learn)"
   ]
  },
  {
   "cell_type": "code",
   "execution_count": 52,
   "id": "871470e0-17b2-43da-803b-bab7ee72c547",
   "metadata": {},
   "outputs": [
    {
     "name": "stdout",
     "output_type": "stream",
     "text": [
      "Converted 07_batchnorm.ipynb to exp/nb_07.py\n"
     ]
    }
   ],
   "source": [
    "!python notebook2script.py 07_batchnorm.ipynb"
   ]
  }
 ],
 "metadata": {
  "kernelspec": {
   "display_name": "Python 3 (ipykernel)",
   "language": "python",
   "name": "python3"
  },
  "language_info": {
   "codemirror_mode": {
    "name": "ipython",
    "version": 3
   },
   "file_extension": ".py",
   "mimetype": "text/x-python",
   "name": "python",
   "nbconvert_exporter": "python",
   "pygments_lexer": "ipython3",
   "version": "3.8.8"
  }
 },
 "nbformat": 4,
 "nbformat_minor": 5
}
