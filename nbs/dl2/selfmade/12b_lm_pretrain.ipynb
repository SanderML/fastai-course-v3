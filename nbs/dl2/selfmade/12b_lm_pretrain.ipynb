{
 "cells": [
  {
   "cell_type": "code",
   "execution_count": 1,
   "id": "19f94828-fe7a-4e88-897a-b28284fccceb",
   "metadata": {},
   "outputs": [],
   "source": [
    "#export\n",
    "from exp.nb_12a import *"
   ]
  },
  {
   "cell_type": "markdown",
   "id": "3cabdbd7-6624-48b1-8888-78603d6bd61e",
   "metadata": {},
   "source": [
    "# Data"
   ]
  },
  {
   "cell_type": "code",
   "execution_count": 2,
   "id": "37c0005a-3fb5-4c67-9628-527cec9d6f28",
   "metadata": {},
   "outputs": [],
   "source": [
    "wiki = 'https://s3.amazonaws.com/research.metamind.io/wikitext/wikitext-103-v1.zip'"
   ]
  },
  {
   "cell_type": "code",
   "execution_count": 3,
   "id": "0f23be1a-872b-4973-8950-a5c3cc4458b6",
   "metadata": {},
   "outputs": [],
   "source": [
    "path = untar_data(wiki)"
   ]
  },
  {
   "cell_type": "code",
   "execution_count": 4,
   "id": "d9867062-3ba8-42b6-a7f3-083c07a4d692",
   "metadata": {},
   "outputs": [],
   "source": [
    "Path.BASE_PATH = path"
   ]
  },
  {
   "cell_type": "code",
   "execution_count": 5,
   "id": "93f47690-69d6-41ab-bf18-8341dbc1b809",
   "metadata": {},
   "outputs": [],
   "source": [
    "# !mv {path}/wiki.valid.tokens {path}/valid.txt\n",
    "# !mv {path}/wiki.test.tokens {path}/test.txt\n",
    "# !mv {path}/wiki.train.tokens {path}/train.txt"
   ]
  },
  {
   "cell_type": "code",
   "execution_count": 6,
   "id": "4ba7cf94-b20b-49dd-aca8-3274fbe63901",
   "metadata": {},
   "outputs": [
    {
     "data": {
      "text/plain": [
       "[Path('valid.txt'), Path('test.txt'), Path('train.txt')]"
      ]
     },
     "execution_count": 6,
     "metadata": {},
     "output_type": "execute_result"
    }
   ],
   "source": [
    "path.ls()"
   ]
  },
  {
   "cell_type": "code",
   "execution_count": 7,
   "id": "d553e82a-4592-46a9-9d53-7bdc543775db",
   "metadata": {},
   "outputs": [],
   "source": [
    "def istitle(line):\n",
    "    return len(re.findall(r'^ = [^=]* = $', line)) != 0"
   ]
  },
  {
   "cell_type": "code",
   "execution_count": 8,
   "id": "916c5661-b3a1-4eea-808c-cf3d4b6ccf6e",
   "metadata": {},
   "outputs": [],
   "source": [
    "def read_wiki(filename):\n",
    "    articles = []\n",
    "    with open(filename, encoding='utf8') as f:\n",
    "        lines = f.readlines()\n",
    "    current_article = ''\n",
    "    for i,line in enumerate(lines):\n",
    "        current_article += line\n",
    "        if i < len(lines) - 2 and lines[i+1] == ' \\n' and istitle(lines[i+2]):\n",
    "            current_article = current_article.replace('<unk>', UNK)\n",
    "            articles.append(current_article)\n",
    "            current_article = ''\n",
    "    current_article = current_article.replace('<unk>', UNK)\n",
    "    articles.append(current_article)\n",
    "    return articles"
   ]
  },
  {
   "cell_type": "code",
   "execution_count": 9,
   "id": "2f09e06e-cba8-4cca-9b4c-ba075d30d36c",
   "metadata": {},
   "outputs": [],
   "source": [
    "articles = read_wiki(path/'train.txt')"
   ]
  },
  {
   "cell_type": "code",
   "execution_count": 10,
   "id": "9e106b10-593c-4275-b649-fafc1121efbe",
   "metadata": {},
   "outputs": [
    {
     "data": {
      "text/plain": [
       "28476"
      ]
     },
     "execution_count": 10,
     "metadata": {},
     "output_type": "execute_result"
    }
   ],
   "source": [
    "len(articles)"
   ]
  },
  {
   "cell_type": "code",
   "execution_count": 11,
   "id": "56159251-75c4-4319-baab-44773d1e2430",
   "metadata": {},
   "outputs": [],
   "source": [
    "train = TextList(read_wiki(path/'train.txt'), path)\n",
    "valid = TextList(read_wiki(path/'valid.txt'))"
   ]
  },
  {
   "cell_type": "code",
   "execution_count": 12,
   "id": "91d17054-9307-4de6-91da-db17652dd057",
   "metadata": {},
   "outputs": [
    {
     "data": {
      "text/plain": [
       "(28476, 60)"
      ]
     },
     "execution_count": 12,
     "metadata": {},
     "output_type": "execute_result"
    }
   ],
   "source": [
    "len(train), len(valid)"
   ]
  },
  {
   "cell_type": "code",
   "execution_count": 13,
   "id": "f3abb0a1-e556-4ded-b764-5b0fd2efc922",
   "metadata": {},
   "outputs": [],
   "source": [
    "sd = SplitData(train, valid)"
   ]
  },
  {
   "cell_type": "code",
   "execution_count": 16,
   "id": "4c2649c7-a8ea-42b6-8dbe-fbc1d3a9bd8e",
   "metadata": {},
   "outputs": [],
   "source": [
    "proc_tok, proc_num = TokenizeProcessor(max_workers=1), NumericalizeProcessor()"
   ]
  },
  {
   "cell_type": "code",
   "execution_count": null,
   "id": "81af1f63-2e3d-41ec-96fd-367d7167ba5a",
   "metadata": {},
   "outputs": [
    {
     "name": "stdout",
     "output_type": "stream",
     "text": [
      "█\r"
     ]
    }
   ],
   "source": [
    "ll = label_by_func(sd, lambda x: 0, proc_x=[proc_tok, proc_num])"
   ]
  },
  {
   "cell_type": "code",
   "execution_count": null,
   "id": "309fd464-6890-4e7d-875e-46c064b52fa8",
   "metadata": {},
   "outputs": [],
   "source": [
    "pickle.dump(ll, open(path/'ld.pkl', 'wb'))"
   ]
  },
  {
   "cell_type": "code",
   "execution_count": null,
   "id": "68aab735-988e-4b32-9ca1-ba610f3cca00",
   "metadata": {},
   "outputs": [],
   "source": [
    "ll = pickle.load(open(path/'ld.pkl', 'rb'))"
   ]
  },
  {
   "cell_type": "code",
   "execution_count": null,
   "id": "2d6e7a28-c735-4944-8f83-b0181f222009",
   "metadata": {},
   "outputs": [],
   "source": [
    "bs,bptt = 128,70\n",
    "data = lm_databunchify(ll, bs, bptt)"
   ]
  },
  {
   "cell_type": "code",
   "execution_count": null,
   "id": "ab804cd0-089a-43e3-88df-b2849264df0e",
   "metadata": {},
   "outputs": [],
   "source": [
    "vocab = ll.train.proc_x[-1].vocab\n",
    "len(vocab)"
   ]
  },
  {
   "cell_type": "code",
   "execution_count": null,
   "id": "832b62be-f762-4644-81ec-0e2745dc0058",
   "metadata": {},
   "outputs": [],
   "source": [
    "ll.train.proc_x"
   ]
  },
  {
   "cell_type": "markdown",
   "id": "8a4905ee-1b70-44cf-b824-5257cfdda4a5",
   "metadata": {},
   "source": [
    "# Model"
   ]
  },
  {
   "cell_type": "code",
   "execution_count": null,
   "id": "6100adf9-cd81-460a-a640-5636058c14ab",
   "metadata": {},
   "outputs": [],
   "source": [
    "dps = np.array([0.1, 0.15, 0.25, 0.02, 0.2]) * 0.2\n",
    "tok_pad = vocab.index(PAD)"
   ]
  },
  {
   "cell_type": "code",
   "execution_count": null,
   "id": "5abc39a4-c5f8-4991-9674-73123e2edd7c",
   "metadata": {},
   "outputs": [],
   "source": [
    "emb_sz, nh, nl = 300, 300, 2"
   ]
  },
  {
   "cell_type": "code",
   "execution_count": null,
   "id": "5dee96f1-cb33-42d2-bf01-3fd5cea1fe8f",
   "metadata": {},
   "outputs": [],
   "source": [
    "model = get_language_model(len(vocab), emb_sz, nh, nl, tok_pad, *dps)"
   ]
  },
  {
   "cell_type": "code",
   "execution_count": null,
   "id": "77020f1a-ba4d-4f6b-b74e-8ecafb4b99c4",
   "metadata": {},
   "outputs": [],
   "source": [
    "cbs = [partial(AvgStatsCallback, accuracy_flat),\n",
    "      CudaCallback, Recorder, ProgressCallback,\n",
    "      partial(GradientClipping, 0.1),\n",
    "      partial(RNNTrainer, α=2., β=1.)]"
   ]
  },
  {
   "cell_type": "code",
   "execution_count": null,
   "id": "d278aaa5-3293-49f1-b156-4795366fc600",
   "metadata": {},
   "outputs": [],
   "source": [
    "learn = Learner(model, data, cross_entropy_flat, lr=5e-3, cb_funcs=cbs, opt_func=adam_opt())"
   ]
  },
  {
   "cell_type": "code",
   "execution_count": null,
   "id": "1b4545d9-1897-4e2f-a359-b10a0443ae0a",
   "metadata": {},
   "outputs": [],
   "source": [
    "lr = 5e-3\n",
    "sched_lr = combine_scheds([0.3, 0.7], cos_1_cycle_anneal(lr/10., lr, lr/1e5))\n",
    "sched_mom = combine_scheds([0.3, 0.7], cos_1_cycle_anneal(0.8, 0.7, 0.8))\n",
    "cbsched = [ParamScheduler('lr', sched_lr), ParamScheduler('mom', sched_mom)]"
   ]
  },
  {
   "cell_type": "code",
   "execution_count": null,
   "id": "3c75c485-06f1-43f1-9a90-8d00c1d220b7",
   "metadata": {},
   "outputs": [],
   "source": [
    "learn.fit(2, cbs=cbsched)"
   ]
  },
  {
   "cell_type": "code",
   "execution_count": null,
   "id": "0913187e-dfae-44cb-9d36-df209a4416de",
   "metadata": {},
   "outputs": [],
   "source": [
    "torch.save(learn.model.state_dict(), path/'pretrained.pth')\n",
    "pickle.dump(vocab, open(path/'vocab.pkl', 'wb'))"
   ]
  }
 ],
 "metadata": {
  "kernelspec": {
   "display_name": "Python 3.9 (XPython)",
   "language": "python",
   "name": "xpython"
  },
  "language_info": {
   "file_extension": ".py",
   "mimetype": "text/x-python",
   "name": "python",
   "version": "3.9.5"
  }
 },
 "nbformat": 4,
 "nbformat_minor": 5
}
