{
 "cells": [
  {
   "cell_type": "code",
   "execution_count": 1,
   "id": "cb7b82e0-e037-4184-a5ab-88bb8d37be92",
   "metadata": {},
   "outputs": [],
   "source": [
    "from fastai.vision.all import *"
   ]
  },
  {
   "cell_type": "code",
   "execution_count": 3,
   "id": "20b0c16c-273f-45d6-a5f5-527f94275a82",
   "metadata": {},
   "outputs": [],
   "source": [
    "path = untar_data(URLs.MNIST)"
   ]
  },
  {
   "cell_type": "code",
   "execution_count": 4,
   "id": "5dcdd4ba-675c-44ec-b4db-ccd821a7384d",
   "metadata": {},
   "outputs": [
    {
     "data": {
      "text/plain": [
       "Path('/home/sandmann/.fastai/data/mnist_png')"
      ]
     },
     "execution_count": 4,
     "metadata": {},
     "output_type": "execute_result"
    }
   ],
   "source": [
    "path"
   ]
  },
  {
   "cell_type": "code",
   "execution_count": 5,
   "id": "593e7618-1863-47c2-bfd9-8bbe4c0d8a40",
   "metadata": {},
   "outputs": [],
   "source": [
    "mnist = DataBlock(blocks=(ImageBlock(cls=PILImageBW), CategoryBlock),\n",
    "                     get_items = get_image_files,\n",
    "                     splitter = GrandparentSplitter('training', 'testing'),\n",
    "                     get_y = parent_label)"
   ]
  },
  {
   "cell_type": "code",
   "execution_count": 7,
   "id": "2196da1a-a707-4356-8a58-cfef0bb69316",
   "metadata": {},
   "outputs": [],
   "source": [
    " dls = mnist.dataloaders(path)"
   ]
  },
  {
   "cell_type": "code",
   "execution_count": 16,
   "id": "e74b3b62-9697-4fad-93be-ce393d84f279",
   "metadata": {},
   "outputs": [],
   "source": [
    "mnist_ds = mnist.datasets(path)"
   ]
  },
  {
   "cell_type": "code",
   "execution_count": 17,
   "id": "9c78192f-c362-4701-a557-e606faf29cde",
   "metadata": {},
   "outputs": [
    {
     "data": {
      "text/plain": [
       "(#70000) [(PILImageBW mode=L size=28x28, TensorCategory(4)),(PILImageBW mode=L size=28x28, TensorCategory(4)),(PILImageBW mode=L size=28x28, TensorCategory(4)),(PILImageBW mode=L size=28x28, TensorCategory(4)),(PILImageBW mode=L size=28x28, TensorCategory(4)),(PILImageBW mode=L size=28x28, TensorCategory(4)),(PILImageBW mode=L size=28x28, TensorCategory(4)),(PILImageBW mode=L size=28x28, TensorCategory(4)),(PILImageBW mode=L size=28x28, TensorCategory(4)),(PILImageBW mode=L size=28x28, TensorCategory(4))...]"
      ]
     },
     "execution_count": 17,
     "metadata": {},
     "output_type": "execute_result"
    }
   ],
   "source": [
    "mnist_ds"
   ]
  },
  {
   "cell_type": "code",
   "execution_count": 18,
   "id": "9b84bdea-f852-4816-a53c-b131def4f92b",
   "metadata": {},
   "outputs": [
    {
     "data": {
      "text/plain": [
       "fastai.data.core.Datasets"
      ]
     },
     "execution_count": 18,
     "metadata": {},
     "output_type": "execute_result"
    }
   ],
   "source": [
    "type(mnist_ds)"
   ]
  },
  {
   "cell_type": "code",
   "execution_count": 19,
   "id": "dc8f73a8-7466-40ae-906b-99263ad00a08",
   "metadata": {},
   "outputs": [
    {
     "data": {
      "text/plain": [
       "(PILImageBW mode=L size=28x28, TensorCategory(4))"
      ]
     },
     "execution_count": 19,
     "metadata": {},
     "output_type": "execute_result"
    }
   ],
   "source": [
    "mnist_ds[0]"
   ]
  },
  {
   "cell_type": "code",
   "execution_count": 20,
   "id": "630460f1-ff30-4308-8588-5205acff47be",
   "metadata": {},
   "outputs": [
    {
     "data": {
      "image/png": "[encoded data removed]",
      "text/plain": [
       "PILImageBW mode=L size=28x28"
      ]
     },
     "execution_count": 20,
     "metadata": {},
     "output_type": "execute_result"
    }
   ],
   "source": [
    "mnist_ds[0][0]"
   ]
  },
  {
   "cell_type": "code",
   "execution_count": 21,
   "id": "7a38df28-f0db-432e-baa1-434ff2fba666",
   "metadata": {},
   "outputs": [
    {
     "data": {
      "text/plain": [
       "TensorCategory(4)"
      ]
     },
     "execution_count": 21,
     "metadata": {},
     "output_type": "execute_result"
    }
   ],
   "source": [
    "mnist_ds[0][1]"
   ]
  },
  {
   "cell_type": "code",
   "execution_count": 22,
   "id": "98cf3230-b84c-4ee8-83cc-a1d818bfa495",
   "metadata": {},
   "outputs": [
    {
     "data": {
      "text/plain": [
       "(#60000) [(PILImageBW mode=L size=28x28, TensorCategory(4)),(PILImageBW mode=L size=28x28, TensorCategory(4)),(PILImageBW mode=L size=28x28, TensorCategory(4)),(PILImageBW mode=L size=28x28, TensorCategory(4)),(PILImageBW mode=L size=28x28, TensorCategory(4)),(PILImageBW mode=L size=28x28, TensorCategory(4)),(PILImageBW mode=L size=28x28, TensorCategory(4)),(PILImageBW mode=L size=28x28, TensorCategory(4)),(PILImageBW mode=L size=28x28, TensorCategory(4)),(PILImageBW mode=L size=28x28, TensorCategory(4))...]"
      ]
     },
     "execution_count": 22,
     "metadata": {},
     "output_type": "execute_result"
    }
   ],
   "source": [
    "mnist_ds.train"
   ]
  },
  {
   "cell_type": "code",
   "execution_count": 23,
   "id": "6c7cd23a-4016-479e-967a-e86c7fdb5071",
   "metadata": {},
   "outputs": [
    {
     "data": {
      "text/plain": [
       "(#10000) [(PILImageBW mode=L size=28x28, TensorCategory(4)),(PILImageBW mode=L size=28x28, TensorCategory(4)),(PILImageBW mode=L size=28x28, TensorCategory(4)),(PILImageBW mode=L size=28x28, TensorCategory(4)),(PILImageBW mode=L size=28x28, TensorCategory(4)),(PILImageBW mode=L size=28x28, TensorCategory(4)),(PILImageBW mode=L size=28x28, TensorCategory(4)),(PILImageBW mode=L size=28x28, TensorCategory(4)),(PILImageBW mode=L size=28x28, TensorCategory(4)),(PILImageBW mode=L size=28x28, TensorCategory(4))...]"
      ]
     },
     "execution_count": 23,
     "metadata": {},
     "output_type": "execute_result"
    }
   ],
   "source": [
    "mnist_ds.valid"
   ]
  },
  {
   "cell_type": "code",
   "execution_count": 26,
   "id": "ce1bb1b0-12da-4892-86b0-e5f09fbca84b",
   "metadata": {},
   "outputs": [
    {
     "ename": "ValueError",
     "evalue": "too many values to unpack (expected 2)",
     "output_type": "error",
     "traceback": [
      "\u001b[0;31m-----------------------------------------------------------\u001b[0m",
      "\u001b[0;31mValueError\u001b[0m                Traceback (most recent call last)",
      "\u001b[0;32m<ipython-input-26-9c8fd5a65f8b>\u001b[0m in \u001b[0;36m<module>\u001b[0;34m\u001b[0m\n\u001b[0;32m----> 1\u001b[0;31m \u001b[0mx_train\u001b[0m\u001b[0;34m,\u001b[0m \u001b[0my_train\u001b[0m \u001b[0;34m=\u001b[0m \u001b[0miter\u001b[0m\u001b[0;34m(\u001b[0m\u001b[0mmnist_ds\u001b[0m\u001b[0;34m.\u001b[0m\u001b[0mtrain\u001b[0m\u001b[0;34m)\u001b[0m\u001b[0;34m\u001b[0m\u001b[0;34m\u001b[0m\u001b[0m\n\u001b[0m",
      "\u001b[0;31mValueError\u001b[0m: too many values to unpack (expected 2)"
     ]
    }
   ],
   "source": [
    "x_train, y_train = iter(mnist_ds.train)"
   ]
  },
  {
   "cell_type": "code",
   "execution_count": null,
   "id": "52025f7a-5b98-4b08-9b8d-fabb28bab354",
   "metadata": {},
   "outputs": [],
   "source": []
  }
 ],
 "metadata": {
  "kernelspec": {
   "display_name": "Python 3",
   "language": "python",
   "name": "python3"
  },
  "language_info": {
   "codemirror_mode": {
    "name": "ipython",
    "version": 3
   },
   "file_extension": ".py",
   "mimetype": "text/x-python",
   "name": "python",
   "nbconvert_exporter": "python",
   "pygments_lexer": "ipython3",
   "version": "3.8.8"
  }
 },
 "nbformat": 4,
 "nbformat_minor": 5
}
