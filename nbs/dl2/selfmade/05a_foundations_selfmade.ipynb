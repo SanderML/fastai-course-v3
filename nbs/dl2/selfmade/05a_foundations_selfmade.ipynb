{
 "cells": [
  {
   "cell_type": "code",
   "execution_count": 1,
   "id": "9467decf-82ce-4896-9fd8-b081da0478ed",
   "metadata": {},
   "outputs": [],
   "source": [
    "%load_ext autoreload\n",
    "%autoreload 2\n",
    "\n",
    "%matplotlib inline"
   ]
  },
  {
   "cell_type": "code",
   "execution_count": 2,
   "id": "25056ef7-41b1-4963-a8d2-8e1dff944b05",
   "metadata": {},
   "outputs": [],
   "source": [
    "import torch\n",
    "import matplotlib.pyplot as plt"
   ]
  },
  {
   "cell_type": "code",
   "execution_count": 3,
   "id": "46cafc7c-a225-4589-a7d1-c45748c0685f",
   "metadata": {},
   "outputs": [],
   "source": [
    "import ipywidgets as widgets"
   ]
  },
  {
   "cell_type": "code",
   "execution_count": 4,
   "id": "214c2eee-460c-4f92-befc-45e164841eaf",
   "metadata": {},
   "outputs": [],
   "source": [
    "def f(o): print('hi')"
   ]
  },
  {
   "cell_type": "code",
   "execution_count": 8,
   "id": "63350fe0-7bfa-4d0c-bfd1-37afeb3c95c1",
   "metadata": {},
   "outputs": [
    {
     "name": "stdout",
     "output_type": "stream",
     "text": [
      "hi\n"
     ]
    }
   ],
   "source": [
    "f(1)"
   ]
  },
  {
   "cell_type": "code",
   "execution_count": 9,
   "id": "4d1d589c-e881-492e-af2c-0827d9fed3a7",
   "metadata": {},
   "outputs": [],
   "source": [
    "w = widgets.Button(description='Click me')"
   ]
  },
  {
   "cell_type": "code",
   "execution_count": 10,
   "id": "857e4689-2fc9-49e6-9187-2641ec085f5b",
   "metadata": {},
   "outputs": [
    {
     "data": {
      "application/vnd.jupyter.widget-view+json": {
       "model_id": "614841ed04754ed9890a010f04527fa8",
       "version_major": 2,
       "version_minor": 0
      },
      "text/plain": [
       "Button(description='Click me', style=ButtonStyle())"
      ]
     },
     "metadata": {},
     "output_type": "display_data"
    }
   ],
   "source": [
    "w"
   ]
  },
  {
   "cell_type": "code",
   "execution_count": 11,
   "id": "8f8d69a0-02df-4729-aec3-17b5ec6cfab8",
   "metadata": {},
   "outputs": [],
   "source": [
    "w.on_click(f)"
   ]
  },
  {
   "cell_type": "code",
   "execution_count": 22,
   "id": "77f7a65a-c50c-4964-9e7a-ad850a2fc328",
   "metadata": {},
   "outputs": [],
   "source": [
    "from time import sleep"
   ]
  },
  {
   "cell_type": "code",
   "execution_count": 23,
   "id": "855e52ee-3d5e-44bb-b0f7-d96c2888672a",
   "metadata": {},
   "outputs": [],
   "source": [
    "def slow_calculation(cb=None):\n",
    "    res = 0\n",
    "    for i in range(5):\n",
    "        if cb: cb.before_calc(i)\n",
    "        res += i*i\n",
    "        sleep(1)\n",
    "        if cb: cb.after_calc(i, val=res)\n",
    "    return res"
   ]
  },
  {
   "cell_type": "code",
   "execution_count": 47,
   "id": "bf974652-a83a-4a76-8681-0af2175c83b3",
   "metadata": {},
   "outputs": [],
   "source": [
    "class PrintStepCallback():\n",
    "    def __init__(self): pass\n",
    "    def before_calc(self, epoch, **kwargs): print(f'epoch: {epoch}')\n",
    "    def after_calc(self, epoch, val, **kwargs):\n",
    "        print(f\"epoch: {epoch}; Value: {val}\")\n",
    "        if val > 10: return True"
   ]
  },
  {
   "cell_type": "code",
   "execution_count": 48,
   "id": "b9801cd3-fd3c-4d83-85ba-1b747f35a48a",
   "metadata": {},
   "outputs": [],
   "source": [
    "def slow_calculation(cb=None): \n",
    "    res = 0\n",
    "    for i in range(5):\n",
    "        if cb and hasattr(cb, 'before_calc'): cb.before_calc(i)\n",
    "        res += i*i\n",
    "        sleep(0.2)\n",
    "        if cb and hasattr(cb, 'after_calc'):\n",
    "            if cb.after_calc(i, res):\n",
    "                print('stopping early')\n",
    "                break\n",
    "    return res"
   ]
  },
  {
   "cell_type": "code",
   "execution_count": 49,
   "id": "2d6641d2-8de6-4c41-8214-cf914b667687",
   "metadata": {},
   "outputs": [
    {
     "name": "stdout",
     "output_type": "stream",
     "text": [
      "epoch: 0\n",
      "epoch: 0; Value: 0\n",
      "epoch: 1\n",
      "epoch: 1; Value: 1\n",
      "epoch: 2\n",
      "epoch: 2; Value: 5\n",
      "epoch: 3\n",
      "epoch: 3; Value: 14\n",
      "stopping early\n"
     ]
    },
    {
     "data": {
      "text/plain": [
       "14"
      ]
     },
     "execution_count": 49,
     "metadata": {},
     "output_type": "execute_result"
    }
   ],
   "source": [
    "slow_calculation(PrintStepCallback())"
   ]
  },
  {
   "cell_type": "code",
   "execution_count": 52,
   "id": "e1eddc87-d7ee-4033-be90-597597b79256",
   "metadata": {},
   "outputs": [],
   "source": [
    "class SlowCalculator():\n",
    "    def __init__(self, cb=None): self.cb, self.res = cb, 0\n",
    "        \n",
    "    def calc(self):\n",
    "        for i in range(5):\n",
    "            self.callback('before_calc', i)\n",
    "            self.res += i*i\n",
    "            sleep(0.5)\n",
    "            if self.callback('after_calc', i):\n",
    "                print('Stopping early')\n",
    "                break\n",
    "                \n",
    "    def callback(self, cb_name, *args):\n",
    "        if not self.cb: return\n",
    "        cb = getattr(self.cb, cb_name, None)\n",
    "        if cb: return cb(self, *args)"
   ]
  },
  {
   "cell_type": "code",
   "execution_count": 53,
   "id": "f2ee4585-a2a6-49cc-bfc3-7fd53d4fc825",
   "metadata": {},
   "outputs": [],
   "source": [
    "class ModyfyingCallback():\n",
    "    def after_calc(self, calc, epoch):\n",
    "        print(f\"After {epoch}: {calc.res}\")\n",
    "        if calc.res > 10: return True\n",
    "        if calc.res < 3: calc.res = calc.res * 2"
   ]
  },
  {
   "cell_type": "code",
   "execution_count": 54,
   "id": "186ccc76-fe1f-4c4f-9b9c-9e81796c0e15",
   "metadata": {},
   "outputs": [],
   "source": [
    "calculator = SlowCalculator(ModyfyingCallback())"
   ]
  },
  {
   "cell_type": "code",
   "execution_count": 55,
   "id": "5504f4f4-5974-4fd8-8b77-0bee3af0c829",
   "metadata": {},
   "outputs": [
    {
     "data": {
      "text/plain": [
       "0"
      ]
     },
     "execution_count": 55,
     "metadata": {},
     "output_type": "execute_result"
    }
   ],
   "source": [
    "calculator.res"
   ]
  },
  {
   "cell_type": "code",
   "execution_count": 56,
   "id": "74bf34f8-ed07-4b32-9cb9-c632bda5e731",
   "metadata": {},
   "outputs": [
    {
     "name": "stdout",
     "output_type": "stream",
     "text": [
      "After 0: 0\n",
      "After 1: 1\n",
      "After 2: 6\n",
      "After 3: 15\n",
      "Stopping early\n"
     ]
    },
    {
     "data": {
      "text/plain": [
       "15"
      ]
     },
     "execution_count": 56,
     "metadata": {},
     "output_type": "execute_result"
    }
   ],
   "source": [
    "calculator.calc()\n",
    "calculator.res"
   ]
  },
  {
   "cell_type": "markdown",
   "id": "8ab36974-5574-4c11-9877-487f0e2d9bd0",
   "metadata": {},
   "source": [
    "# dunder thingies"
   ]
  },
  {
   "cell_type": "code",
   "execution_count": 64,
   "id": "05750ff4-feb3-48a8-b697-0ab222a26c8d",
   "metadata": {},
   "outputs": [],
   "source": [
    "class SloppyAdder():\n",
    "    def __init__(self, o): self.o = o\n",
    "    def __repr__(self): return str(self.o)\n",
    "    def __add__(self, b): return SloppyAdder(self.o + b.o + 0.01)"
   ]
  },
  {
   "cell_type": "code",
   "execution_count": 68,
   "id": "c9562241-e7b4-43d6-b748-1ce2db93c9e3",
   "metadata": {},
   "outputs": [
    {
     "data": {
      "text/plain": [
       "(3.01, 1, 2)"
      ]
     },
     "execution_count": 68,
     "metadata": {},
     "output_type": "execute_result"
    }
   ],
   "source": [
    "a = SloppyAdder(1)\n",
    "b = SloppyAdder(2)\n",
    "a + b, a, b"
   ]
  },
  {
   "cell_type": "markdown",
   "id": "7b00935e-f05e-4ed9-8c8c-d38aa092fe74",
   "metadata": {},
   "source": [
    "# Variance and stuff"
   ]
  },
  {
   "cell_type": "code",
   "execution_count": 69,
   "id": "6b7cfa7c-dbb8-4c57-94e6-64884924769c",
   "metadata": {},
   "outputs": [],
   "source": [
    "t = torch.tensor([1., 2, 4, 18])"
   ]
  },
  {
   "cell_type": "code",
   "execution_count": 70,
   "id": "566d33cc-523d-440c-a0d9-c7ed4694a978",
   "metadata": {},
   "outputs": [
    {
     "data": {
      "text/plain": [
       "tensor(6.2500)"
      ]
     },
     "execution_count": 70,
     "metadata": {},
     "output_type": "execute_result"
    }
   ],
   "source": [
    "m = t.mean(); m"
   ]
  },
  {
   "cell_type": "code",
   "execution_count": 71,
   "id": "4f60386e-75f1-4fd6-ae39-2e876ffb855a",
   "metadata": {},
   "outputs": [
    {
     "data": {
      "text/plain": [
       "tensor(0.)"
      ]
     },
     "execution_count": 71,
     "metadata": {},
     "output_type": "execute_result"
    }
   ],
   "source": [
    "(t-m).mean()"
   ]
  },
  {
   "cell_type": "code",
   "execution_count": 72,
   "id": "66207950-9c09-46fa-a6c4-d21ec590f4e2",
   "metadata": {},
   "outputs": [
    {
     "data": {
      "text/plain": [
       "tensor(47.1875)"
      ]
     },
     "execution_count": 72,
     "metadata": {},
     "output_type": "execute_result"
    }
   ],
   "source": [
    "(t-m).pow(2).mean()"
   ]
  },
  {
   "cell_type": "code",
   "execution_count": 75,
   "id": "2ed4d16f-5540-406b-96ce-477f1b851b83",
   "metadata": {},
   "outputs": [
    {
     "data": {
      "text/plain": [
       "tensor(6.8693)"
      ]
     },
     "execution_count": 75,
     "metadata": {},
     "output_type": "execute_result"
    }
   ],
   "source": [
    "(t-m).pow(2).mean().sqrt()"
   ]
  },
  {
   "cell_type": "code",
   "execution_count": 76,
   "id": "ed4e43ed-69f6-4c71-a280-8e490f2058ee",
   "metadata": {},
   "outputs": [
    {
     "data": {
      "text/plain": [
       "tensor(5.8750)"
      ]
     },
     "execution_count": 76,
     "metadata": {},
     "output_type": "execute_result"
    }
   ],
   "source": [
    "(t-m).abs().mean()"
   ]
  },
  {
   "cell_type": "code",
   "execution_count": 78,
   "id": "2f5f4625-cb0a-42b9-aa6c-a69ea02f9e35",
   "metadata": {},
   "outputs": [
    {
     "data": {
      "text/plain": [
       "(tensor(47.1875), tensor(47.1875))"
      ]
     },
     "execution_count": 78,
     "metadata": {},
     "output_type": "execute_result"
    }
   ],
   "source": [
    "(t-m).pow(2).mean(), (t*t).mean() - m*m"
   ]
  },
  {
   "cell_type": "code",
   "execution_count": 79,
   "id": "abd33fde-5e31-40ba-b95e-38d9da1da92e",
   "metadata": {},
   "outputs": [
    {
     "data": {
      "text/plain": [
       "tensor([ 1.,  2.,  4., 18.])"
      ]
     },
     "execution_count": 79,
     "metadata": {},
     "output_type": "execute_result"
    }
   ],
   "source": [
    "t "
   ]
  },
  {
   "cell_type": "code",
   "execution_count": 80,
   "id": "48506f4c-c525-4d48-8347-2d2853f169b7",
   "metadata": {},
   "outputs": [
    {
     "data": {
      "image/png": "[encoded data removed]",
      "text/plain": [
       "<Figure size 432x288 with 1 Axes>"
      ]
     },
     "metadata": {
      "needs_background": "light"
     },
     "output_type": "display_data"
    }
   ],
   "source": [
    "u = t*2\n",
    "u *= torch.randn_like(t) / 10 + 0.95\n",
    "\n",
    "plt.scatter(t, u);"
   ]
  },
  {
   "cell_type": "code",
   "execution_count": 81,
   "id": "d84df314-27bb-4d5b-8afa-6c51e5fdc09c",
   "metadata": {},
   "outputs": [
    {
     "data": {
      "text/plain": [
       "tensor([ 55.9585,  36.0703,   8.2739, 268.1721])"
      ]
     },
     "execution_count": 81,
     "metadata": {},
     "output_type": "execute_result"
    }
   ],
   "source": [
    "prod = (t-t.mean()) * (u-u.mean()); prod"
   ]
  },
  {
   "cell_type": "code",
   "execution_count": 82,
   "id": "f95f7aa8-eb04-4894-8499-cc2ef41d6fcb",
   "metadata": {},
   "outputs": [
    {
     "data": {
      "text/plain": [
       "tensor(92.1187)"
      ]
     },
     "execution_count": 82,
     "metadata": {},
     "output_type": "execute_result"
    }
   ],
   "source": [
    "prod.mean()"
   ]
  },
  {
   "cell_type": "code",
   "execution_count": 84,
   "id": "701d44af-6bc1-45e7-9758-df6888e56440",
   "metadata": {},
   "outputs": [
    {
     "data": {
      "image/png": "[encoded data removed]",
      "text/plain": [
       "<Figure size 432x288 with 1 Axes>"
      ]
     },
     "metadata": {
      "needs_background": "light"
     },
     "output_type": "display_data"
    }
   ],
   "source": [
    "v = torch.randn_like(t) * 10\n",
    "plt.scatter(t,v);"
   ]
  },
  {
   "cell_type": "code",
   "execution_count": 89,
   "id": "7844d8d4-0bbc-4f34-8d7d-d550ba50d48b",
   "metadata": {},
   "outputs": [
    {
     "data": {
      "text/plain": [
       "tensor(-0.5801)"
      ]
     },
     "execution_count": 89,
     "metadata": {},
     "output_type": "execute_result"
    }
   ],
   "source": [
    "((t-t.mean()) * (v-v.mean())).mean()"
   ]
  },
  {
   "cell_type": "code",
   "execution_count": 91,
   "id": "ffde16b6-ab79-42f8-a224-2e245ea7b648",
   "metadata": {},
   "outputs": [
    {
     "data": {
      "text/plain": [
       "tensor(-0.5801)"
      ]
     },
     "execution_count": 91,
     "metadata": {},
     "output_type": "execute_result"
    }
   ],
   "source": [
    "cov = ((t*v).mean() - (t.mean() * v.mean())).mean(); cov"
   ]
  },
  {
   "cell_type": "code",
   "execution_count": 92,
   "id": "2900b3ca-4f31-4733-8669-3dcdae68e883",
   "metadata": {},
   "outputs": [
    {
     "data": {
      "text/plain": [
       "tensor(-0.0126)"
      ]
     },
     "execution_count": 92,
     "metadata": {},
     "output_type": "execute_result"
    }
   ],
   "source": [
    "cov / (t.std() * v.std())"
   ]
  },
  {
   "cell_type": "code",
   "execution_count": 93,
   "id": "760e2a2f-5465-4cdc-a3c3-3b61989adc65",
   "metadata": {},
   "outputs": [],
   "source": [
    "def log_softmax(x): return x - x.exp().sum(-1, keepdim=True).log()"
   ]
  },
  {
   "cell_type": "code",
   "execution_count": null,
   "id": "2ac6c6c8-2fe4-414a-91dc-be6ec8a6846c",
   "metadata": {},
   "outputs": [],
   "source": []
  }
 ],
 "metadata": {
  "kernelspec": {
   "display_name": "Python 3 (ipykernel)",
   "language": "python",
   "name": "python3"
  },
  "language_info": {
   "codemirror_mode": {
    "name": "ipython",
    "version": 3
   },
   "file_extension": ".py",
   "mimetype": "text/x-python",
   "name": "python",
   "nbconvert_exporter": "python",
   "pygments_lexer": "ipython3",
   "version": "3.8.8"
  }
 },
 "nbformat": 4,
 "nbformat_minor": 5
}
