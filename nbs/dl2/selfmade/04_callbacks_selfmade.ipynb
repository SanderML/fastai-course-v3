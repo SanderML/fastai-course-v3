{
 "cells": [
  {
   "cell_type": "code",
   "execution_count": 2,
   "id": "9e3c4380-8449-49ac-b35a-7f1e147e7c43",
   "metadata": {},
   "outputs": [],
   "source": [
    "%load_ext autoreload\n",
    "%autoreload 2\n",
    "\n",
    "%matplotlib inline"
   ]
  },
  {
   "cell_type": "code",
   "execution_count": 3,
   "id": "24a65d0f-e1cb-4bbf-94f6-1c60f5bdc8a3",
   "metadata": {},
   "outputs": [],
   "source": [
    "#export\n",
    "from exp.nb_03 import *"
   ]
  },
  {
   "cell_type": "markdown",
   "id": "41c2e1dd-f1b1-428d-b315-3b3be5eb2720",
   "metadata": {
    "tags": []
   },
   "source": [
    "# DataBunch/ Learner"
   ]
  },
  {
   "cell_type": "code",
   "execution_count": 4,
   "id": "15abceee-180a-4391-adc9-508f555e3596",
   "metadata": {},
   "outputs": [],
   "source": [
    "x_train, y_train, x_valid, y_valid = get_data()\n",
    "train_ds, valid_ds = Dataset(x_train, y_train), Dataset(x_valid, y_valid)\n",
    "nh, bs = 50, 64\n",
    "c = y_train.max().item() + 1\n",
    "loss_func = F.cross_entropy"
   ]
  },
  {
   "cell_type": "code",
   "execution_count": 5,
   "id": "405dbe97-ebb0-4659-bfbf-951f76cbb512",
   "metadata": {},
   "outputs": [],
   "source": [
    "# loss, acc = fit(5, learn)"
   ]
  },
  {
   "cell_type": "code",
   "execution_count": 6,
   "id": "7a354724-bdb4-487a-bed9-849acc7b388d",
   "metadata": {},
   "outputs": [],
   "source": [
    "class DataBunch():\n",
    "    def __init__(self, train_dl, valid_dl, c=None): self.train_dl, self.valid_dl, self.c = train_dl, valid_dl, c\n",
    "        \n",
    "    @property\n",
    "    def train_ds(self): return self.train_dl.dataset\n",
    "    @property\n",
    "    def valid_ds(self): return self.valid_dl.dataset"
   ]
  },
  {
   "cell_type": "code",
   "execution_count": 7,
   "id": "843b1139-acf5-4643-8ca0-ab13b49fab58",
   "metadata": {},
   "outputs": [],
   "source": [
    "train_dl = DataLoader(train_ds, bs, True)\n",
    "valid_dl = DataLoader(valid_ds, bs, False)"
   ]
  },
  {
   "cell_type": "code",
   "execution_count": 8,
   "id": "36cc4bc4-7ee7-4d30-8955-7a652e97d0f1",
   "metadata": {},
   "outputs": [
    {
     "data": {
      "text/plain": [
       "(938, 157)"
      ]
     },
     "execution_count": 8,
     "metadata": {},
     "output_type": "execute_result"
    }
   ],
   "source": [
    "len(train_dl), len(valid_dl)"
   ]
  },
  {
   "cell_type": "code",
   "execution_count": 9,
   "id": "7c2b06a0-92ba-4cfd-b465-dfe329acab09",
   "metadata": {},
   "outputs": [],
   "source": [
    "data = DataBunch(train_dl, valid_dl, c)"
   ]
  },
  {
   "cell_type": "code",
   "execution_count": 10,
   "id": "92d848ab-9dda-4b39-8a84-6f11bbc7864b",
   "metadata": {},
   "outputs": [
    {
     "data": {
      "text/plain": [
       "<torch.utils.data.dataloader.DataLoader at 0x7f5a01da13d0>"
      ]
     },
     "execution_count": 10,
     "metadata": {},
     "output_type": "execute_result"
    }
   ],
   "source": [
    "data.train_dl"
   ]
  },
  {
   "cell_type": "code",
   "execution_count": 11,
   "id": "b356898c-0bb0-4ae4-802b-919e65371b2d",
   "metadata": {},
   "outputs": [
    {
     "data": {
      "text/plain": [
       "torch.Size([784])"
      ]
     },
     "execution_count": 11,
     "metadata": {},
     "output_type": "execute_result"
    }
   ],
   "source": [
    "data.train_ds[0][0].shape"
   ]
  },
  {
   "cell_type": "code",
   "execution_count": 12,
   "id": "46f930f9-c4a2-4e7d-9ade-f510b14ed653",
   "metadata": {},
   "outputs": [
    {
     "data": {
      "text/plain": [
       "(10, 10)"
      ]
     },
     "execution_count": 12,
     "metadata": {},
     "output_type": "execute_result"
    }
   ],
   "source": [
    "c, data.c"
   ]
  },
  {
   "cell_type": "code",
   "execution_count": 13,
   "id": "55e53fbd-aab7-4cc3-afeb-88190024e58d",
   "metadata": {},
   "outputs": [],
   "source": [
    "def get_model(data, lr=0.1, nh=50):\n",
    "    m = data.train_ds.x.shape[1]\n",
    "    model = nn.Sequential(nn.Linear(m,nh), nn.ReLU(), nn.Linear(nh,c))\n",
    "    return model, optim.Adam(model.parameters(), lr=lr)"
   ]
  },
  {
   "cell_type": "code",
   "execution_count": 14,
   "id": "4464603b-a5c1-4d90-bf7b-341bd8c0ea2d",
   "metadata": {},
   "outputs": [
    {
     "data": {
      "text/plain": [
       "784"
      ]
     },
     "execution_count": 14,
     "metadata": {},
     "output_type": "execute_result"
    }
   ],
   "source": [
    "data.train_ds.x.shape[1]"
   ]
  },
  {
   "cell_type": "code",
   "execution_count": 15,
   "id": "d3ad6ac7-2638-40f8-8cb1-ace2694e7277",
   "metadata": {},
   "outputs": [],
   "source": [
    "class Learner():\n",
    "    def __init__(self, model, opt, loss_func, data): self.model, self.opt, self.loss_func, self.data = model, opt, loss_func, data"
   ]
  },
  {
   "cell_type": "code",
   "execution_count": 16,
   "id": "1e4cbaba-ad66-485f-bbe7-55052a140975",
   "metadata": {},
   "outputs": [],
   "source": [
    "def fit(epochs, learn):\n",
    "    for epoch in range(epochs):\n",
    "        learn.model.train()\n",
    "        for xb, yb, in learn.data.train_dl:\n",
    "            loss = learn.loss_func(learn.model(xb), yb)\n",
    "            loss.backward()\n",
    "            learn.opt.step()\n",
    "            learn.opt.zero_grad()\n",
    "            \n",
    "        learn.model.eval()\n",
    "        with torch.no_grad():\n",
    "            tot_loss, tot_acc = 0., 0.\n",
    "            for xb, yb in learn.data.valid_dl:\n",
    "                pred = learn.model(xb)\n",
    "                tot_loss += learn.loss_func(pred, yb)\n",
    "                tot_acc += accuracy(pred, yb)\n",
    "                \n",
    "        nv = len(learn.data.valid_dl)\n",
    "        print(tot_loss / nv, tot_acc / nv)\n",
    "        \n",
    "    return tot_loss / nv, tot_acc / nv"
   ]
  },
  {
   "cell_type": "code",
   "execution_count": 17,
   "id": "2981e653-c202-4411-b729-5ce26741949f",
   "metadata": {},
   "outputs": [],
   "source": [
    "learn = Learner(*get_model(data), loss_func, data)"
   ]
  },
  {
   "cell_type": "code",
   "execution_count": 18,
   "id": "3aa999b3-2b08-403d-b28e-e02ec88be3e8",
   "metadata": {},
   "outputs": [
    {
     "name": "stdout",
     "output_type": "stream",
     "text": [
      "tensor(0.2899) tensor(0.9164)\n"
     ]
    }
   ],
   "source": [
    "loss, acc = fit(1, learn)"
   ]
  },
  {
   "cell_type": "markdown",
   "id": "e971ea8d-54e9-448d-88af-21ab830ab9bc",
   "metadata": {
    "tags": []
   },
   "source": [
    "# CallbackHandler"
   ]
  },
  {
   "cell_type": "code",
   "execution_count": 19,
   "id": "9fdc91b3-a875-449f-b3b4-4bfcdf4b71e4",
   "metadata": {},
   "outputs": [],
   "source": [
    "def fit(epochs, learn, cb):\n",
    "    if not cb.begin_fit(learn): return\n",
    "    for epoch in range(epochs):\n",
    "        if not cb.begin_epoch(epoch): continue\n",
    "        all_batches(learn.data.train_dl, cb)\n",
    "        \n",
    "        if cb.begin_validate():\n",
    "            with torch.no_grad(): all_batches(learn.data.valid_dl, cb)\n",
    "        if cb.do_stop() or not cb.after_epoch(): break\n",
    "        cb.after_fit()\n",
    "            \n",
    "def all_batches(dl, cb):\n",
    "    for xb, yb in dl:\n",
    "        one_batch(xb, yb, cb)\n",
    "        if cb.do_stop(): return\n",
    "\n",
    "def one_batch(xb, yb, cb):\n",
    "    if not cb.begin_batch(xb, yb): return\n",
    "    loss = cb.learn.loss_func(cb.learn.model(xb), yb)\n",
    "    if not cb.after_loss(loss): return\n",
    "    loss.backward()\n",
    "    if cb.after_backward(): cb.learn.opt.step()\n",
    "    if cb.after_step(): cb.learn.opt.zero_grad()"
   ]
  },
  {
   "cell_type": "code",
   "execution_count": 20,
   "id": "cd18d9d0-3ebc-431f-b119-c5d5be40a21d",
   "metadata": {},
   "outputs": [],
   "source": [
    "class Callback():\n",
    "    def begin_fit(self, learn):\n",
    "        self.learn = learn\n",
    "        return True\n",
    "    def after_fit(self):\n",
    "        return True\n",
    "    def begin_epoch(self, epoch):\n",
    "        self.epoch = epoch\n",
    "        return True\n",
    "    def after_epoch(self):\n",
    "        return True\n",
    "    def begin_validate(self):\n",
    "        return True\n",
    "    def begin_batch(self, xb, yb):\n",
    "        self.xb, self.yb = xb, yb\n",
    "        return True\n",
    "    def after_loss(self, loss):\n",
    "        self.loss = loss\n",
    "        return True\n",
    "    def after_backward(self): return True\n",
    "    def after_step(self): return True"
   ]
  },
  {
   "cell_type": "code",
   "execution_count": 21,
   "id": "bf5a4845-588d-4cd4-84ac-501cd9063c66",
   "metadata": {},
   "outputs": [],
   "source": [
    "class CallbackHandler():\n",
    "    def __init__(self, cbs=None):\n",
    "        self.cbs = cbs if cbs else []\n",
    "        \n",
    "    def begin_fit(self, learn):\n",
    "        self.learn, self.in_train = learn, True\n",
    "        learn.stop = False\n",
    "        res = True\n",
    "        for cb in self.cbs: res = res and cb.begin_fit(learn)\n",
    "        return res\n",
    "    \n",
    "    def after_fit(self):\n",
    "        res = not self.in_train\n",
    "        for cb in self.cbs: res = res and cb.after_fit()\n",
    "        return res\n",
    "    \n",
    "    def begin_epoch(self, epoch):\n",
    "        self.learn.model.train()\n",
    "        self.in_train = True\n",
    "        res = True\n",
    "        for cb in self.cbs: res = res and cb.begin_epoch(epoch)\n",
    "        return res\n",
    "    \n",
    "    def begin_validate(self):\n",
    "        self.learn.model.eval()\n",
    "        self.in_train = False\n",
    "        res = True\n",
    "        for cb in self.cbs: res = res and cb.begin_validate()\n",
    "        return res\n",
    "    \n",
    "    def after_epoch(self):\n",
    "        res = True\n",
    "        for cb in self.cbs: res = res and cb.after_epoch()\n",
    "        return res\n",
    "    \n",
    "    def begin_batch(self, xb, yb):\n",
    "        res = True\n",
    "        for cb in self.cbs: res = res and cb.begin_batch(xb, yb)\n",
    "        return res\n",
    "    \n",
    "    def after_loss(self, loss):\n",
    "        res = self.in_train\n",
    "        for cb in self.cbs: res = res and cb.after_loss(loss)\n",
    "        return res\n",
    "    \n",
    "    def after_backward(self):\n",
    "        res = True\n",
    "        for cb in self.cbs: res = res and cb.after_backward()\n",
    "        return res\n",
    "    \n",
    "    def after_step(self):\n",
    "        res = True\n",
    "        for cb in self.cbs: res = res and cb.after_step()\n",
    "        return res\n",
    "    \n",
    "    def do_stop(self):\n",
    "        try: return self.learn.stop\n",
    "        finally: self.learn.stop = False"
   ]
  },
  {
   "cell_type": "code",
   "execution_count": 22,
   "id": "e9d281c0-c7b6-4186-95bc-18e236e16e8b",
   "metadata": {},
   "outputs": [],
   "source": [
    "class TestCallback(Callback):\n",
    "    def begin_fit(self, learn):\n",
    "        super().begin_fit(learn)\n",
    "        self.n_iters = 0\n",
    "        return True\n",
    "    \n",
    "    def after_step(self):\n",
    "        self.n_iters += 1\n",
    "        print(self.n_iters)\n",
    "        if self.n_iters >= 10: self.learn.stop = True\n",
    "        return True"
   ]
  },
  {
   "cell_type": "code",
   "execution_count": 23,
   "id": "ccd03799-6b1c-44c7-bd56-2eea94763638",
   "metadata": {},
   "outputs": [
    {
     "name": "stdout",
     "output_type": "stream",
     "text": [
      "1\n",
      "2\n",
      "3\n",
      "4\n",
      "5\n",
      "6\n",
      "7\n",
      "8\n",
      "9\n",
      "10\n"
     ]
    }
   ],
   "source": [
    "fit(1, learn, cb=CallbackHandler([TestCallback()]))"
   ]
  },
  {
   "cell_type": "markdown",
   "id": "03b8e8a0-4bee-4e65-94c4-66d31311f962",
   "metadata": {
    "tags": []
   },
   "source": [
    "# Runner"
   ]
  },
  {
   "cell_type": "code",
   "execution_count": 24,
   "id": "321b2589-6611-44cc-8169-4cca09e714ea",
   "metadata": {},
   "outputs": [],
   "source": [
    "import re\n",
    "\n",
    "_camel_re1 = re.compile('(.)([A-Z][a-z]+)')\n",
    "_camel_re2 = re.compile('([a-z0-9])([A-Z])')\n",
    "\n",
    "def camel2snake(name):\n",
    "    s1 = re.sub(_camel_re1, r'\\1_\\2', name)\n",
    "    return re.sub(_camel_re2, r'\\1_\\2', s1).lower()"
   ]
  },
  {
   "cell_type": "code",
   "execution_count": 49,
   "id": "19f642f7-eff9-4cc3-ae0f-af7f3c51b98c",
   "metadata": {},
   "outputs": [],
   "source": [
    "def listify(o):\n",
    "    if o is None: return []\n",
    "    if isinstance(o, list): return o\n",
    "    if isinstance(o, str): return [o]\n",
    "    if isinstance(o, Iterable): return list(o)\n",
    "    return [o]"
   ]
  },
  {
   "cell_type": "code",
   "execution_count": 73,
   "id": "9dabf130-3fee-41e1-9bb0-7d265c693527",
   "metadata": {},
   "outputs": [],
   "source": [
    "class Callback():\n",
    "    _order = 0\n",
    "    def set_runner(self, run): self.run = run\n",
    "    def __getattr__(self, k): return getattr(self.run, k)\n",
    "    @property\n",
    "    def name(self):\n",
    "        name = re.sub(r'Callback$', '', self.__class__.__name__)\n",
    "        return camel2snake(name or 'callback')"
   ]
  },
  {
   "cell_type": "code",
   "execution_count": 74,
   "id": "9b0548cf-7d20-4c68-8ed8-9823e2cb617f",
   "metadata": {},
   "outputs": [],
   "source": [
    "class TrainEvalCallback(Callback):\n",
    "    'Main Callback'\n",
    "    def begin_fit(self):\n",
    "        self.run.n_epochs = 0.\n",
    "        self.run.n_iter = 0\n",
    "        \n",
    "    def after_batch(self):\n",
    "        if not self.in_train: return\n",
    "        self.run.n_epochs += 1./self.iters # self.iter = len(dl), amount of batches\n",
    "        self.run.n_iter += 1\n",
    "        \n",
    "    def begin_epoch(self):\n",
    "        self.run.n_epochs = self.epoch\n",
    "        self.model.train()\n",
    "        self.run.in_train = True\n",
    "        \n",
    "    def begin_validate(self):\n",
    "        self.model.eval()\n",
    "        self.run.in_train = False"
   ]
  },
  {
   "cell_type": "code",
   "execution_count": 75,
   "id": "5dd41a78-d7ac-47d4-a30f-6bbdfdfb3c16",
   "metadata": {},
   "outputs": [
    {
     "data": {
      "text/plain": [
       "(__main__.TrainEvalCallback, 'TrainEvalCallback')"
      ]
     },
     "execution_count": 75,
     "metadata": {},
     "output_type": "execute_result"
    }
   ],
   "source": [
    "TrainEvalCallback().__class__, TrainEvalCallback().__class__.__name__"
   ]
  },
  {
   "cell_type": "code",
   "execution_count": 76,
   "id": "3806ddea-1b11-46c4-8a1c-1b55c02e11c5",
   "metadata": {},
   "outputs": [
    {
     "data": {
      "text/plain": [
       "'train_eval'"
      ]
     },
     "execution_count": 76,
     "metadata": {},
     "output_type": "execute_result"
    }
   ],
   "source": [
    "TrainEvalCallback().name"
   ]
  },
  {
   "cell_type": "code",
   "execution_count": 89,
   "id": "4b81fabe-b731-4066-b857-54b35edf3f1c",
   "metadata": {},
   "outputs": [],
   "source": [
    "class TestCallback(Callback):\n",
    "    _order = 1\n",
    "    def begin_batch(self):\n",
    "        if self.n_iter >= 10:\n",
    "            self.stop = True\n",
    "            #print(self.run.n_iter)\n",
    "            return True # needs the return statement, otherwise if reaches the line self.stop = False before it gets a chance to break out"
   ]
  },
  {
   "cell_type": "code",
   "execution_count": 90,
   "id": "bfa94688-bfec-4584-99d2-d4202bce2c18",
   "metadata": {},
   "outputs": [],
   "source": [
    "class Runner():\n",
    "    def __init__(self, cbs=None, cb_funcs=None):\n",
    "        cbs = listify(cbs)\n",
    "        for cbf in listify(cb_funcs):\n",
    "            cb = cbf()\n",
    "            setattr(self, cb.name, cb)\n",
    "            cbs.append(cb)\n",
    "        self.stop, self.cbs = False, [TrainEvalCallback()] + cbs\n",
    "        \n",
    "    @property\n",
    "    def opt(self): return self.learn.opt\n",
    "    @property\n",
    "    def model(self): return self.learn.model\n",
    "    @property\n",
    "    def loss_func(self): return self.learn.loss_func\n",
    "    @property\n",
    "    def data(self): return self.learn.data\n",
    "    \n",
    "    def one_batch(self, xb, yb):\n",
    "#         import pdb; pdb.set_trace()\n",
    "        self.xb, self.yb = xb, yb\n",
    "        if self('begin_batch'): return\n",
    "        self.pred = self.model(self.xb)\n",
    "        if self('after_pred'): return\n",
    "        self.loss = self.loss_func(self.pred, self.yb)\n",
    "        if self('after_loss') or not self.in_train: return\n",
    "        self.loss.backward()\n",
    "        if self('after_backward'): return\n",
    "        self.opt.step()\n",
    "        if self('after_step'): return\n",
    "        self.opt.zero_grad()\n",
    "        \n",
    "    def all_batches(self, dl):\n",
    "        self.iters = len(dl)\n",
    "        for xb, yb in dl:\n",
    "            if self.stop: break\n",
    "            self.one_batch(xb, yb)\n",
    "            self('after_batch')\n",
    "        self.stop = False\n",
    "        \n",
    "        \n",
    "    def fit(self, epochs, learn):\n",
    "        self.epochs, self.learn = epochs, learn\n",
    "        \n",
    "        try:\n",
    "            for cb in self.cbs: cb.set_runner(self)\n",
    "            if self('begin_fit'): return\n",
    "            for epoch in range(epochs):\n",
    "                self.epoch = epoch\n",
    "                if not self('begin_epoch'): self.all_batches(self.data.train_dl)\n",
    "                \n",
    "                with torch.no_grad():\n",
    "                    if not self('begin_validate'): self.all_batches(self.data.valid_dl)\n",
    "                if self('after_epoch'): break\n",
    "                        \n",
    "        finally:\n",
    "            self('after_fit')\n",
    "            self.learn = None\n",
    "            \n",
    "    def __call__(self, cb_name):\n",
    "        for cb in sorted(self.cbs, key=lambda x: x._order):\n",
    "            f = getattr(cb, cb_name, None)\n",
    "            if f and f(): return True\n",
    "        return False"
   ]
  },
  {
   "cell_type": "code",
   "execution_count": 91,
   "id": "9b9527fe-863d-43ee-88c0-886ea0cf3ba8",
   "metadata": {},
   "outputs": [],
   "source": [
    "learn = Learner(*get_model(data), loss_func, data)"
   ]
  },
  {
   "cell_type": "code",
   "execution_count": 92,
   "id": "cc0146cc-5acf-4620-b6a7-92617d3a7bad",
   "metadata": {},
   "outputs": [],
   "source": [
    "run = Runner()"
   ]
  },
  {
   "cell_type": "code",
   "execution_count": 93,
   "id": "c09bd143-0948-42c7-b386-04cbd16d04ef",
   "metadata": {},
   "outputs": [
    {
     "name": "stdout",
     "output_type": "stream",
     "text": [
      "CPU times: user 8.1 s, sys: 306 ms, total: 8.4 s\n",
      "Wall time: 2.1 s\n"
     ]
    }
   ],
   "source": [
    "%time run.fit(1, learn)"
   ]
  },
  {
   "cell_type": "code",
   "execution_count": 94,
   "id": "ddb8ee3c-5c36-40d5-924e-f95d49d477ca",
   "metadata": {},
   "outputs": [
    {
     "data": {
      "text/plain": [
       "True"
      ]
     },
     "execution_count": 94,
     "metadata": {},
     "output_type": "execute_result"
    }
   ],
   "source": [
    "run.learn == None"
   ]
  },
  {
   "cell_type": "code",
   "execution_count": 95,
   "id": "38814ac9-11a7-4b4a-8689-452a836de1e9",
   "metadata": {},
   "outputs": [
    {
     "data": {
      "text/plain": [
       "tensor(0.9221)"
      ]
     },
     "execution_count": 95,
     "metadata": {},
     "output_type": "execute_result"
    }
   ],
   "source": [
    "accuracy(learn.model(x_valid), y_valid)"
   ]
  },
  {
   "cell_type": "code",
   "execution_count": 96,
   "id": "e00bd854-6007-4443-9a20-b86ca7ac3c18",
   "metadata": {},
   "outputs": [],
   "source": [
    "learn = Learner(*get_model(data), loss_func, data)"
   ]
  },
  {
   "cell_type": "code",
   "execution_count": 97,
   "id": "67dc5a6d-281d-4052-94bd-33688875351e",
   "metadata": {},
   "outputs": [],
   "source": [
    "run = Runner(cbs=[TestCallback()])"
   ]
  },
  {
   "cell_type": "code",
   "execution_count": 98,
   "id": "40ebd6e1-562a-4b91-9cf5-25d559db2100",
   "metadata": {},
   "outputs": [
    {
     "name": "stdout",
     "output_type": "stream",
     "text": [
      "CPU times: user 1.35 s, sys: 40 ms, total: 1.39 s\n",
      "Wall time: 689 ms\n"
     ]
    }
   ],
   "source": [
    "%time run.fit(1, learn)"
   ]
  },
  {
   "cell_type": "code",
   "execution_count": 99,
   "id": "6192611d-d47e-4db0-8905-b1651feca95e",
   "metadata": {},
   "outputs": [
    {
     "data": {
      "text/plain": [
       "tensor(0.2660)"
      ]
     },
     "execution_count": 99,
     "metadata": {},
     "output_type": "execute_result"
    }
   ],
   "source": [
    "accuracy(learn.model(x_valid), y_valid)"
   ]
  },
  {
   "cell_type": "code",
   "execution_count": 43,
   "id": "53ef6a49-ce6e-427a-a295-d5c03d55fada",
   "metadata": {},
   "outputs": [],
   "source": [
    "class AvgStats():\n",
    "    def __init__(self, metrics, in_train): self.metrics, self.in_train = listify(metrics), in_train\n",
    "        \n",
    "    def reset(self):\n",
    "        self.tot_loss, self.count = 0., 0\n",
    "        self.tot_mets = [0.] * len(self.metrics)\n",
    "        \n",
    "    @property\n",
    "    def all_stats(self): return [self.tot_loss.item()] + self.tot_mets\n",
    "    @property\n",
    "    def avg_stats(self): return [o / self.count for o in self.all_stats]\n",
    "    \n",
    "    def __repr__(self):\n",
    "        if not self.count: return ''\n",
    "        return f'{\"train\" if self.in_train else \"valid\"}: {self.avg_stats}'\n",
    "    \n",
    "    def accumulate(self, run):\n",
    "        bn = run.xb.shape[0]\n",
    "        self.tot_loss += run.loss * bn\n",
    "        self.count += bn\n",
    "        for i, m in enumerate(self.metrics):\n",
    "            self.tot_mets[i] += m(run.pred, run.yb) * bn"
   ]
  },
  {
   "cell_type": "code",
   "execution_count": 44,
   "id": "ece58a83-fbc7-4241-ad24-5354317738de",
   "metadata": {},
   "outputs": [],
   "source": [
    "class AvgStatsCallback(Callback):\n",
    "    def __init__(self, metrics):\n",
    "        self.train_stats, self.valid_stats = AvgStats(metrics, True), AvgStats(metrics, False)\n",
    "        \n",
    "    def begin_epoch(self):\n",
    "        self.train_stats.reset()\n",
    "        self.valid_stats.reset()\n",
    "        \n",
    "    def after_loss(self):\n",
    "        stats = self.train_stats if self.in_train else self.valid_stats\n",
    "        with torch.no_grad(): stats.accumulate(self.run)\n",
    "            \n",
    "    def after_epoch(self):\n",
    "        print(self.train_stats)\n",
    "        print(self.valid_stats)"
   ]
  },
  {
   "cell_type": "code",
   "execution_count": 45,
   "id": "6fa31fb3-23c4-418f-82ef-6a5632a81e17",
   "metadata": {},
   "outputs": [],
   "source": [
    "learn = Learner(*get_model(data), loss_func, data)"
   ]
  },
  {
   "cell_type": "code",
   "execution_count": 50,
   "id": "d380b8f0-3af5-442b-b07d-08d0cadbd5a9",
   "metadata": {},
   "outputs": [],
   "source": [
    "stats = AvgStatsCallback([accuracy])"
   ]
  },
  {
   "cell_type": "code",
   "execution_count": 51,
   "id": "249aa297-c939-40a2-b709-5fe207a0b054",
   "metadata": {},
   "outputs": [],
   "source": [
    "run = Runner(cbs=stats)"
   ]
  },
  {
   "cell_type": "code",
   "execution_count": 52,
   "id": "0ab05e4d-0c6e-47a5-b589-3c004e0d2086",
   "metadata": {},
   "outputs": [
    {
     "name": "stdout",
     "output_type": "stream",
     "text": [
      "train: [0.37213893229166667, tensor(0.8868)]\n",
      "valid: [0.299082373046875, tensor(0.9064)]\n",
      "train: [0.25218958333333336, tensor(0.9265)]\n",
      "valid: [0.224819775390625, tensor(0.9331)]\n",
      "train: [0.23099016927083332, tensor(0.9322)]\n",
      "valid: [0.24141611328125, tensor(0.9321)]\n"
     ]
    }
   ],
   "source": [
    "run.fit(3, learn)"
   ]
  },
  {
   "cell_type": "code",
   "execution_count": 60,
   "id": "aa572200-941e-4be4-8698-193e65009bc6",
   "metadata": {},
   "outputs": [],
   "source": [
    "learn = Learner(*get_model(data), loss_func, data)"
   ]
  },
  {
   "cell_type": "code",
   "execution_count": 61,
   "id": "0f21a883-191d-4692-be51-7950e70830ca",
   "metadata": {},
   "outputs": [],
   "source": [
    "from functools import partial"
   ]
  },
  {
   "cell_type": "code",
   "execution_count": 65,
   "id": "053102ef-2934-4fa8-8d42-c287af839ee5",
   "metadata": {},
   "outputs": [],
   "source": [
    "acc_cbf = partial(AvgStatsCallback, accuracy)"
   ]
  },
  {
   "cell_type": "code",
   "execution_count": 68,
   "id": "b9203286-fd47-46eb-a778-b8470469a8ce",
   "metadata": {},
   "outputs": [
    {
     "data": {
      "text/plain": [
       "<__main__.AvgStatsCallback at 0x7f5a027ebe20>"
      ]
     },
     "execution_count": 68,
     "metadata": {},
     "output_type": "execute_result"
    }
   ],
   "source": [
    "acc_cbf()"
   ]
  },
  {
   "cell_type": "code",
   "execution_count": 66,
   "id": "53234456-b469-4644-bdc9-231cb4f4f3b5",
   "metadata": {},
   "outputs": [
    {
     "data": {
      "text/plain": [
       "'avg_stats'"
      ]
     },
     "execution_count": 66,
     "metadata": {},
     "output_type": "execute_result"
    }
   ],
   "source": [
    "acc_cbf().name"
   ]
  },
  {
   "cell_type": "code",
   "execution_count": 56,
   "id": "df811da9-a0c1-4d97-82ce-ba8a92dbabfb",
   "metadata": {},
   "outputs": [],
   "source": [
    "run = Runner(cb_funcs=acc_cbf)"
   ]
  },
  {
   "cell_type": "code",
   "execution_count": 57,
   "id": "7fb63b86-9c16-4ca6-b72c-f71ce19ed268",
   "metadata": {},
   "outputs": [
    {
     "name": "stdout",
     "output_type": "stream",
     "text": [
      "train: [0.36030413411458334, tensor(0.8889)]\n",
      "valid: [0.277065673828125, tensor(0.9191)]\n",
      "train: [0.23399440104166666, tensor(0.9315)]\n",
      "valid: [0.2279352783203125, tensor(0.9354)]\n",
      "train: [0.21418986002604168, tensor(0.9358)]\n",
      "valid: [0.2210769775390625, tensor(0.9350)]\n"
     ]
    }
   ],
   "source": [
    "run.fit(3, learn)"
   ]
  },
  {
   "cell_type": "code",
   "execution_count": 71,
   "id": "22ebe048-b00c-470e-be90-feefb1962c7b",
   "metadata": {},
   "outputs": [
    {
     "data": {
      "text/plain": [
       "valid: [0.2210769775390625, tensor(0.9350)]"
      ]
     },
     "execution_count": 71,
     "metadata": {},
     "output_type": "execute_result"
    }
   ],
   "source": [
    "run.avg_stats.valid_stats"
   ]
  },
  {
   "cell_type": "code",
   "execution_count": 72,
   "id": "729e9509-3780-4f11-9d21-4e4d5d228137",
   "metadata": {},
   "outputs": [
    {
     "data": {
      "text/plain": [
       "[0.2210769775390625, tensor(0.9350)]"
      ]
     },
     "execution_count": 72,
     "metadata": {},
     "output_type": "execute_result"
    }
   ],
   "source": [
    "run.avg_stats.valid_stats.avg_stats"
   ]
  },
  {
   "cell_type": "code",
   "execution_count": null,
   "id": "450d2665-ec74-4100-825c-6f9da140bd0b",
   "metadata": {},
   "outputs": [],
   "source": []
  }
 ],
 "metadata": {
  "kernelspec": {
   "display_name": "Python 3 (ipykernel)",
   "language": "python",
   "name": "python3"
  },
  "language_info": {
   "codemirror_mode": {
    "name": "ipython",
    "version": 3
   },
   "file_extension": ".py",
   "mimetype": "text/x-python",
   "name": "python",
   "nbconvert_exporter": "python",
   "pygments_lexer": "ipython3",
   "version": "3.8.8"
  }
 },
 "nbformat": 4,
 "nbformat_minor": 5
}
