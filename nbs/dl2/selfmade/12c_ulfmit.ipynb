{
 "cells": [
  {
   "cell_type": "code",
   "execution_count": 1,
   "id": "1b0f81be-5100-4a20-bb09-876d09abdcf4",
   "metadata": {},
   "outputs": [],
   "source": [
    "#export\n",
    "from exp.nb_12a import *"
   ]
  },
  {
   "cell_type": "code",
   "execution_count": 2,
   "id": "bb7e9dc3-8f85-461c-aafe-3009a850382e",
   "metadata": {},
   "outputs": [],
   "source": [
    "from fastai.test_utils import *"
   ]
  },
  {
   "cell_type": "code",
   "execution_count": 3,
   "id": "2b751c79-7665-4ca4-83be-df6024fb61c7",
   "metadata": {},
   "outputs": [
    {
     "name": "stdout",
     "output_type": "stream",
     "text": [
      "\n",
      "\n",
      "```text\n",
      "=== Software === \n",
      "python        : 3.9.6\n",
      "fastai        : 2.5.0\n",
      "fastcore      : 1.3.26\n",
      "fastprogress  : 0.2.7\n",
      "torch         : 1.9.0\n",
      "nvidia driver : 471.41\n",
      "torch cuda    : 10.2 / is available\n",
      "torch cudnn   : 7605 / is enabled\n",
      "\n",
      "=== Hardware === \n",
      "nvidia gpus   : 1\n",
      "torch devices : 1\n",
      "  - gpu0      : NVIDIA GeForce GTX 970\n",
      "\n",
      "=== Environment === \n",
      "platform      : Linux-5.10.43.3-microsoft-standard-WSL2-x86_64-with-glibc2.31\n",
      "distro        : #1 SMP Wed Jun 16 23:47:55 UTC 2021\n",
      "conda env     : fastbook\n",
      "python        : /home/sandmann/anaconda3/envs/fastbook/bin/python\n",
      "sys.path      : /home/sandmann/repo/fastai-course-v3/nbs/dl2/selfmade\n",
      "/home/sandmann/anaconda3/envs/fastbook/lib/python39.zip\n",
      "/home/sandmann/anaconda3/envs/fastbook/lib/python3.9\n",
      "/home/sandmann/anaconda3/envs/fastbook/lib/python3.9/lib-dynload\n",
      "\n",
      "/home/sandmann/anaconda3/envs/fastbook/lib/python3.9/site-packages\n",
      "/home/sandmann/anaconda3/envs/fastbook/lib/python3.9/site-packages/IPython/extensions\n",
      "/home/sandmann/.ipython\n",
      "\n",
      "Tue Aug 17 17:43:41 2021       \n",
      "+-----------------------------------------------------------------------------+\n",
      "| NVIDIA-SMI 465.19.01    Driver Version: 471.41       CUDA Version: 11.4     |\n",
      "|-------------------------------+----------------------+----------------------+\n",
      "| GPU  Name        Persistence-M| Bus-Id        Disp.A | Volatile Uncorr. ECC |\n",
      "| Fan  Temp  Perf  Pwr:Usage/Cap|         Memory-Usage | GPU-Util  Compute M. |\n",
      "|                               |                      |               MIG M. |\n",
      "|===============================+======================+======================|\n",
      "|   0  NVIDIA GeForce ...  Off  | 00000000:05:00.0  On |                  N/A |\n",
      "|  0%   59C    P0    45W / 200W |   1322MiB /  4096MiB |    ERR!      Default |\n",
      "|                               |                      |                  N/A |\n",
      "+-------------------------------+----------------------+----------------------+\n",
      "                                                                               \n",
      "+-----------------------------------------------------------------------------+\n",
      "| Processes:                                                                  |\n",
      "|  GPU   GI   CI        PID   Type   Process name                  GPU Memory |\n",
      "|        ID   ID                                                   Usage      |\n",
      "|=============================================================================|\n",
      "+-----------------------------------------------------------------------------+\n",
      "```\n",
      "\n",
      "Please make sure to include opening/closing ``` when you paste into forums/github to make the reports appear formatted as code sections.\n",
      "\n",
      "Optional package(s) to enhance the diagnostics can be installed with:\n",
      "pip install distro\n",
      "Once installed, re-run this utility to get the additional information\n"
     ]
    }
   ],
   "source": [
    "show_install(True)"
   ]
  },
  {
   "cell_type": "markdown",
   "id": "3260ad99-0c38-4d31-9d9c-63da06839d5a",
   "metadata": {},
   "source": [
    "# Data"
   ]
  },
  {
   "cell_type": "code",
   "execution_count": 4,
   "id": "aade517b-0d28-4f9f-96a2-ab20ac85e504",
   "metadata": {},
   "outputs": [],
   "source": [
    "path = untar_data(URLs.IMDB)"
   ]
  },
  {
   "cell_type": "code",
   "execution_count": 5,
   "id": "ebbd151c-8f2f-4eaf-b342-7245a8dd8720",
   "metadata": {},
   "outputs": [],
   "source": [
    "ll = pickle.load(open(path/'ll_lm.pkl', 'rb'))"
   ]
  },
  {
   "cell_type": "code",
   "execution_count": 6,
   "id": "2f26f1e1-1f60-49b9-8572-aac5e153bc72",
   "metadata": {},
   "outputs": [],
   "source": [
    "bs,bptt = 64, 70\n",
    "data = lm_databunchify(ll, bs, bptt)"
   ]
  },
  {
   "cell_type": "code",
   "execution_count": 7,
   "id": "4b59eb3a-6ff7-414d-9f9c-8e7693317394",
   "metadata": {},
   "outputs": [],
   "source": [
    "vocab = ll.train.proc_x[1].vocab"
   ]
  },
  {
   "cell_type": "markdown",
   "id": "384ab326-18eb-4d92-ad94-e6bc62f55e4e",
   "metadata": {},
   "source": [
    "# Finetunig the LM"
   ]
  },
  {
   "cell_type": "code",
   "execution_count": 6,
   "id": "8faab0e0-b977-420f-a727-0dc2f23144b8",
   "metadata": {},
   "outputs": [],
   "source": [
    "# ! wget http://files.fast.ai/models/wt103_tiny.tgz -P {path}"
   ]
  },
  {
   "cell_type": "code",
   "execution_count": 7,
   "id": "8b79dbfb-36bf-42af-a54b-bfcfdd757792",
   "metadata": {},
   "outputs": [],
   "source": [
    "# ! tar xf {path}/wt103_tiny.tgz -C {path}"
   ]
  },
  {
   "cell_type": "code",
   "execution_count": 8,
   "id": "4a5845a9-2781-456a-a59a-b604f115de7b",
   "metadata": {},
   "outputs": [
    {
     "data": {
      "text/plain": [
       "[Path('/home/sandmann/.fastai/data/imdb/pretrained/vocab.pkl'),\n",
       " Path('/home/sandmann/.fastai/data/imdb/pretrained/pretrained.pth')]"
      ]
     },
     "execution_count": 8,
     "metadata": {},
     "output_type": "execute_result"
    }
   ],
   "source": [
    "(path/'pretrained').ls()"
   ]
  },
  {
   "cell_type": "code",
   "execution_count": 9,
   "id": "cc5e2aa1-ace9-497b-a017-6b8d9e7f409b",
   "metadata": {},
   "outputs": [],
   "source": [
    "dps = tensor([0.1, 0.15, 0.25, 0.02, 0.2]) * 0.5\n",
    "tok_pad = vocab.index(PAD)"
   ]
  },
  {
   "cell_type": "code",
   "execution_count": 10,
   "id": "e0b3f81f-f521-4f37-b311-2db5825bf1f8",
   "metadata": {},
   "outputs": [],
   "source": [
    "emb_sz, nh, nl = 300, 300, 2\n",
    "model = get_language_model(len(vocab), emb_sz, nh, nl, tok_pad, *dps)"
   ]
  },
  {
   "cell_type": "code",
   "execution_count": 11,
   "id": "319d0e56-0790-42f5-9f30-a61dcabf5e22",
   "metadata": {},
   "outputs": [],
   "source": [
    "old_wgts = torch.load(path/'pretrained'/'pretrained.pth')\n",
    "old_vocab = pickle.load(open(path/'pretrained'/'vocab.pkl', 'rb'))"
   ]
  },
  {
   "cell_type": "code",
   "execution_count": 12,
   "id": "b003879e-f593-41bb-833a-ed39749142fc",
   "metadata": {},
   "outputs": [],
   "source": [
    "idx_house_new, idx_house_old = vocab.index('house'), old_vocab.index('house')"
   ]
  },
  {
   "cell_type": "code",
   "execution_count": 13,
   "id": "f1e15da9-72ab-4063-a0db-e28aaba70c81",
   "metadata": {},
   "outputs": [
    {
     "data": {
      "text/plain": [
       "(348, 230)"
      ]
     },
     "execution_count": 13,
     "metadata": {},
     "output_type": "execute_result"
    }
   ],
   "source": [
    "idx_house_new, idx_house_old"
   ]
  },
  {
   "cell_type": "code",
   "execution_count": 14,
   "id": "81114e24-d12b-485a-b28e-c67e50034416",
   "metadata": {},
   "outputs": [
    {
     "data": {
      "text/plain": [
       "odict_keys(['0.emb.weight', '0.emb_dp.emb.weight', '0.rnns.0.weight_hh_l0_raw', '0.rnns.0.module.weight_ih_l0', '0.rnns.0.module.weight_hh_l0', '0.rnns.0.module.bias_ih_l0', '0.rnns.0.module.bias_hh_l0', '0.rnns.1.weight_hh_l0_raw', '0.rnns.1.module.weight_ih_l0', '0.rnns.1.module.weight_hh_l0', '0.rnns.1.module.bias_ih_l0', '0.rnns.1.module.bias_hh_l0', '1.decoder.weight', '1.decoder.bias'])"
      ]
     },
     "execution_count": 14,
     "metadata": {},
     "output_type": "execute_result"
    }
   ],
   "source": [
    "old_wgts.keys()"
   ]
  },
  {
   "cell_type": "code",
   "execution_count": 15,
   "id": "b26f0134-6e71-4d48-accc-f17a3eb9e63b",
   "metadata": {},
   "outputs": [],
   "source": [
    "house_wgt = old_wgts['0.emb.weight'][idx_house_old]\n",
    "house_bias = old_wgts['1.decoder.bias'][idx_house_old]"
   ]
  },
  {
   "cell_type": "code",
   "execution_count": 16,
   "id": "77d28c46-cb82-4a31-b037-b5748e1d8762",
   "metadata": {},
   "outputs": [
    {
     "data": {
      "text/plain": [
       "(torch.Size([300]), tensor(0.1079, device='cuda:0'))"
      ]
     },
     "execution_count": 16,
     "metadata": {},
     "output_type": "execute_result"
    }
   ],
   "source": [
    "house_wgt.shape, house_bias"
   ]
  },
  {
   "cell_type": "code",
   "execution_count": 17,
   "id": "32a3735a-7d4c-49f9-aab6-983c3f83efe4",
   "metadata": {},
   "outputs": [
    {
     "data": {
      "text/plain": [
       "torch.Size([60002, 300])"
      ]
     },
     "execution_count": 17,
     "metadata": {},
     "output_type": "execute_result"
    }
   ],
   "source": [
    "old_wgts['0.emb.weight'].shape"
   ]
  },
  {
   "cell_type": "code",
   "execution_count": 18,
   "id": "9be7f22e-753d-4f6e-9d21-69c8a62aa51e",
   "metadata": {},
   "outputs": [
    {
     "data": {
      "text/plain": [
       "torch.Size([60002])"
      ]
     },
     "execution_count": 18,
     "metadata": {},
     "output_type": "execute_result"
    }
   ],
   "source": [
    "old_wgts['1.decoder.bias'].shape"
   ]
  },
  {
   "cell_type": "code",
   "execution_count": 19,
   "id": "33eef480-72f1-4e7b-97ac-aa3a8d305e8d",
   "metadata": {},
   "outputs": [],
   "source": [
    "def match_embeds(old_wgts, old_vocab, new_vocab):\n",
    "    wgts = old_wgts['0.emb.weight']\n",
    "    bias = old_wgts['1.decoder.bias']\n",
    "    wgts_m, bias_m = wgts.mean(dim=0), bias.mean()\n",
    "    new_wgts = wgts.new_zeros(len(new_vocab), wgts.size(1))\n",
    "    new_bias = bias.new_zeros(len(new_vocab))\n",
    "    otoi = {v:k for k,v in enumerate(old_vocab)}\n",
    "    for i,w in enumerate(new_vocab):\n",
    "        if w in otoi:\n",
    "            idx = otoi[w]\n",
    "            new_wgts[i], new_bias[i] = wgts[idx], bias[idx]\n",
    "        else:\n",
    "            new_wgts[i], new_bias[i] = wgts_m, bias_m\n",
    "    \n",
    "    old_wgts['0.emb.weight'] = new_wgts\n",
    "    old_wgts['0.emb_dp.emb.weight'] = new_wgts\n",
    "    old_wgts['1.decoder.weight'] = new_wgts\n",
    "    old_wgts['1.decoder.bias'] = new_bias\n",
    "    return old_wgts"
   ]
  },
  {
   "cell_type": "code",
   "execution_count": 20,
   "id": "0e4e9fe1-d416-4595-89e8-73d8f0c01f1f",
   "metadata": {},
   "outputs": [],
   "source": [
    "wgts = match_embeds(old_wgts, old_vocab, vocab)"
   ]
  },
  {
   "cell_type": "code",
   "execution_count": 21,
   "id": "c9e131ed-8ea9-4cd9-9169-892a2e828539",
   "metadata": {},
   "outputs": [],
   "source": [
    "test_near(wgts['0.emb.weight'][idx_house_new], house_wgt)\n",
    "test_near(wgts['1.decoder.bias'][idx_house_new], house_bias)"
   ]
  },
  {
   "cell_type": "code",
   "execution_count": 22,
   "id": "697c6f33-76e3-4403-8153-02f4b11ca442",
   "metadata": {},
   "outputs": [
    {
     "data": {
      "text/plain": [
       "<All keys matched successfully>"
      ]
     },
     "execution_count": 22,
     "metadata": {},
     "output_type": "execute_result"
    }
   ],
   "source": [
    "model.load_state_dict(wgts)"
   ]
  },
  {
   "cell_type": "code",
   "execution_count": 23,
   "id": "76ce938c-f5c4-406f-9b64-7edb44097ff0",
   "metadata": {},
   "outputs": [
    {
     "data": {
      "text/plain": [
       "SequentialRNN(\n",
       "  (0): AWD_LSTM(\n",
       "    (emb): Embedding(60003, 300, padding_idx=1)\n",
       "    (emb_dp): EmbeddingDropout(\n",
       "      (emb): Embedding(60003, 300, padding_idx=1)\n",
       "    )\n",
       "    (rnns): ModuleList(\n",
       "      (0): WeightDropout(\n",
       "        (module): LSTM(300, 300, batch_first=True)\n",
       "      )\n",
       "      (1): WeightDropout(\n",
       "        (module): LSTM(300, 300, batch_first=True)\n",
       "      )\n",
       "    )\n",
       "    (input_dp): RNNDropout()\n",
       "    (hidden_dps): ModuleList(\n",
       "      (0): RNNDropout()\n",
       "      (1): RNNDropout()\n",
       "    )\n",
       "  )\n",
       "  (1): LinearDecoder(\n",
       "    (output_dp): RNNDropout()\n",
       "    (decoder): Linear(in_features=300, out_features=60003, bias=True)\n",
       "  )\n",
       ")"
      ]
     },
     "execution_count": 23,
     "metadata": {},
     "output_type": "execute_result"
    }
   ],
   "source": [
    "model"
   ]
  },
  {
   "cell_type": "code",
   "execution_count": 24,
   "id": "710db1b3-ea54-406c-acc4-4819c9faf03d",
   "metadata": {},
   "outputs": [
    {
     "data": {
      "text/plain": [
       "2"
      ]
     },
     "execution_count": 24,
     "metadata": {},
     "output_type": "execute_result"
    }
   ],
   "source": [
    "len(model[0].rnns)"
   ]
  },
  {
   "cell_type": "code",
   "execution_count": 25,
   "id": "78f25edc-18b8-470b-aeb0-f347960df5f8",
   "metadata": {},
   "outputs": [],
   "source": [
    "def lm_splitter(m):\n",
    "    groups = []\n",
    "    for i in range(len(m[0].rnns)): groups.append(nn.Sequential(m[0].rnns[i], m[0].hidden_dps[i]))\n",
    "    groups += [nn.Sequential(m[0].emb, m[0].emb_dp, m[0].input_dp, m[1])]\n",
    "    return [list(o.parameters()) for o in groups]"
   ]
  },
  {
   "cell_type": "code",
   "execution_count": 26,
   "id": "4abb72d6-d900-400d-bf78-374e96118c48",
   "metadata": {},
   "outputs": [],
   "source": [
    "for rnn in model[0].rnns:\n",
    "    for p in rnn.parameters(): p.requires_grad_(False)"
   ]
  },
  {
   "cell_type": "code",
   "execution_count": 27,
   "id": "f206c75e-29a1-47ce-8a29-d283c4a5eaf8",
   "metadata": {},
   "outputs": [],
   "source": [
    "cbs = [partial(AvgStatsCallback, accuracy_flat),\n",
    "      CudaCallback, Recorder, ProgressCallback,\n",
    "      partial(RNNTrainer, α=2., β=1.),\n",
    "      partial(GradientClipping, 0.1)]"
   ]
  },
  {
   "cell_type": "code",
   "execution_count": 28,
   "id": "a2afe460-5dc2-44cd-8e0c-4241722cfefe",
   "metadata": {},
   "outputs": [],
   "source": [
    "learn = Learner(model, data, cross_entropy_flat, adam_opt(), cb_funcs=cbs, splitter=lm_splitter)"
   ]
  },
  {
   "cell_type": "code",
   "execution_count": 29,
   "id": "23ef2d1f-30bf-4e49-989e-6f87fcf23c55",
   "metadata": {},
   "outputs": [],
   "source": [
    "lr = 2e-2\n",
    "cbsched = sched_1cycle(lr, pct_start=0.5, mom_start=0.8, mom_mid=0.7, mom_end=0.8)"
   ]
  },
  {
   "cell_type": "code",
   "execution_count": null,
   "id": "d9f3bee4-c3c6-4da2-9f1c-8d5f3570f0fe",
   "metadata": {},
   "outputs": [],
   "source": [
    "learn.fit(1, cbs=cbsched)"
   ]
  },
  {
   "cell_type": "code",
   "execution_count": null,
   "id": "8c6505a6-1ed9-4faf-bead-78c47badc3f4",
   "metadata": {},
   "outputs": [],
   "source": [
    "for rnn in model[0].rnns:\n",
    "    for p in rnn.parameters(): p.requires_grad_(True)"
   ]
  },
  {
   "cell_type": "code",
   "execution_count": null,
   "id": "4edb6628-12eb-4cc7-8268-51da17075941",
   "metadata": {},
   "outputs": [],
   "source": [
    "learn.fit(10, cbs=cbsched)"
   ]
  },
  {
   "cell_type": "code",
   "execution_count": null,
   "id": "b8e68ed0-4708-44d0-bf77-bfb4060dbe04",
   "metadata": {},
   "outputs": [],
   "source": [
    "torch.save(learn.model[0].state_dict(), path/'finetuned_enc.pth')"
   ]
  },
  {
   "cell_type": "code",
   "execution_count": null,
   "id": "6aeb2820-708f-472f-95e5-2f9998157eeb",
   "metadata": {},
   "outputs": [],
   "source": [
    "pickle.dump(vocab, open(path/'vocab_lm.pkl', 'wb'))"
   ]
  },
  {
   "cell_type": "code",
   "execution_count": null,
   "id": "31e8276b-c7f0-4fbd-976e-276e5b9d45d9",
   "metadata": {},
   "outputs": [],
   "source": [
    "torch.save(learn.model.state_dict(), path/'finetuned.pth')"
   ]
  },
  {
   "cell_type": "markdown",
   "id": "610e5c76-b7d0-4a91-8073-d82fcc00618f",
   "metadata": {},
   "source": [
    "# Classifier"
   ]
  },
  {
   "cell_type": "code",
   "execution_count": null,
   "id": "1ee2bf10-b299-44a7-b423-5c42603ac9ad",
   "metadata": {},
   "outputs": [],
   "source": [
    "vocab = pickle.load(open(path/'vocab_lm.pkl', 'rb'))\n",
    "proc_tok, proc_num, proc_cat = TokenizeProcessor(), NumericalizeProcessor(vocab), CategoryProcessor()"
   ]
  },
  {
   "cell_type": "code",
   "execution_count": null,
   "id": "034ea2e2-24b1-4a64-9c5c-582c918c3a89",
   "metadata": {},
   "outputs": [],
   "source": [
    "il = TextList.from_files(path, include=['train', 'test'])\n",
    "sd = SplitData.split_by_func(il, partial(grandparent_splitter, valid_name='test'))\n",
    "ll = label_by_func(sd, parent_labeler, [proc_tok, proc_num], proc_cat)"
   ]
  },
  {
   "cell_type": "code",
   "execution_count": null,
   "id": "ec4f7ff4-98a2-4cdd-af1a-138de4e0ac99",
   "metadata": {},
   "outputs": [],
   "source": [
    "pickle.dump(ll, open(path/'ll_clas.pkl', 'wb'))"
   ]
  },
  {
   "cell_type": "code",
   "execution_count": null,
   "id": "fe230aca-b7ed-43dc-981a-8ca8be547fe9",
   "metadata": {},
   "outputs": [],
   "source": [
    "ll = pickle.load(open(path/'ll_clas.pkl', 'rb'))\n",
    "vocab = pickle.load(open(path/'vocab_lm.pkl', 'rb'))"
   ]
  },
  {
   "cell_type": "code",
   "execution_count": null,
   "id": "43a97f0a-d45c-4f6e-988c-2a7d9fa5484c",
   "metadata": {},
   "outputs": [],
   "source": [
    "bs,bptt = 64,70\n",
    "data = lm_databunchify(ll, bs, bptt)"
   ]
  },
  {
   "cell_type": "markdown",
   "id": "833f6999-200c-45f5-a02e-b9a8c1297400",
   "metadata": {},
   "source": [
    "# Ignore Padding"
   ]
  },
  {
   "cell_type": "code",
   "execution_count": 8,
   "id": "8acb94b1-2337-4a63-adba-8b6da8c7d51c",
   "metadata": {},
   "outputs": [],
   "source": [
    "#export\n",
    "from torch.nn.utils.rnn import pack_padded_sequence, pad_packed_sequence"
   ]
  },
  {
   "cell_type": "code",
   "execution_count": 9,
   "id": "eda95cbb-df8e-493c-b86e-8ebf38e33b11",
   "metadata": {},
   "outputs": [],
   "source": [
    "x,y = next(iter(data.train_dl))"
   ]
  },
  {
   "cell_type": "code",
   "execution_count": 10,
   "id": "84af814c-f424-49aa-9ff3-bfc363502efc",
   "metadata": {},
   "outputs": [
    {
     "data": {
      "text/plain": [
       "torch.Size([64, 70])"
      ]
     },
     "execution_count": 10,
     "metadata": {},
     "output_type": "execute_result"
    }
   ],
   "source": [
    "x.size()"
   ]
  },
  {
   "cell_type": "code",
   "execution_count": 11,
   "id": "cae8edf7-c508-48cf-b887-9150f63ba694",
   "metadata": {},
   "outputs": [
    {
     "data": {
      "text/plain": [
       "tensor([[    2,    18,    25,  ...,   239,   189,    13],\n",
       "        [   17,     9,     7,  ...,   102,     9,     7],\n",
       "        [   16,  3005,    23,  ...,     8,    81,  1739],\n",
       "        ...,\n",
       "        [    8,   849,  1480,  ...,     3,     2,    18],\n",
       "        [  633,    22, 16201,  ...,    64,    83,   155],\n",
       "        [  345,    26,    21,  ...,   937,  4282,    57]])"
      ]
     },
     "execution_count": 11,
     "metadata": {},
     "output_type": "execute_result"
    }
   ],
   "source": [
    "x"
   ]
  },
  {
   "cell_type": "code",
   "execution_count": 12,
   "id": "640c9a38-f921-4f1f-b2ac-92914527e879",
   "metadata": {},
   "outputs": [
    {
     "data": {
      "text/plain": [
       "tensor([70, 70, 70, 70, 70, 70, 70, 70, 70, 70, 70, 70, 70, 70, 70, 70, 70, 70,\n",
       "        70, 70, 70, 70, 70, 70, 70, 70, 70, 70, 70, 70, 70, 70, 70, 70, 70, 70,\n",
       "        70, 70, 70, 70, 70, 70, 70, 70, 70, 70, 70, 70, 70, 70, 70, 70, 70, 70,\n",
       "        70, 70, 70, 70, 70, 70, 70, 70, 70, 70])"
      ]
     },
     "execution_count": 12,
     "metadata": {},
     "output_type": "execute_result"
    }
   ],
   "source": [
    "lengths = x.size(1) - (x == 1).sum(1)\n",
    "lengths"
   ]
  },
  {
   "cell_type": "code",
   "execution_count": 13,
   "id": "20d99b65-ee35-44ed-b3a9-b04252fa6551",
   "metadata": {},
   "outputs": [],
   "source": [
    "tst_emb = nn.Embedding(len(vocab), 300)"
   ]
  },
  {
   "cell_type": "code",
   "execution_count": 14,
   "id": "68398ccb-870c-4663-b66a-69e053610ac1",
   "metadata": {},
   "outputs": [
    {
     "data": {
      "text/plain": [
       "torch.Size([64, 70, 300])"
      ]
     },
     "execution_count": 14,
     "metadata": {},
     "output_type": "execute_result"
    }
   ],
   "source": [
    "tst_emb(x).shape"
   ]
  },
  {
   "cell_type": "code",
   "execution_count": 15,
   "id": "440b1c5f-cd02-4515-9f0c-e92a728214d9",
   "metadata": {},
   "outputs": [
    {
     "data": {
      "text/plain": [
       "4480"
      ]
     },
     "execution_count": 15,
     "metadata": {},
     "output_type": "execute_result"
    }
   ],
   "source": [
    "64*70"
   ]
  },
  {
   "cell_type": "code",
   "execution_count": 16,
   "id": "3fb3dc92-abbd-40fb-bccf-1bf008dba663",
   "metadata": {},
   "outputs": [],
   "source": [
    "packed = pack_padded_sequence(tst_emb(x), lengths, batch_first=True)"
   ]
  },
  {
   "cell_type": "code",
   "execution_count": 17,
   "id": "39adce0c-18ca-44ca-9a6c-1370de75b058",
   "metadata": {},
   "outputs": [
    {
     "data": {
      "text/plain": [
       "PackedSequence(data=tensor([[ 2.7952,  0.7422,  0.5680,  ..., -0.1471, -1.8697,  0.4242],\n",
       "        [ 0.7417, -0.5874, -2.2011,  ..., -0.1187, -0.4848,  0.6360],\n",
       "        [ 0.0952,  0.5742, -1.9913,  ...,  0.1504, -1.0225,  0.7398],\n",
       "        ...,\n",
       "        [-0.7464, -0.4574, -0.7304,  ..., -0.6532,  0.9528,  0.1058],\n",
       "        [-0.6127, -0.4057,  0.5029,  ...,  0.9360,  0.2939, -0.4825],\n",
       "        [-1.7341,  0.0349, -0.6919,  ..., -0.9535,  1.6054,  1.7652]],\n",
       "       grad_fn=<PackPaddedSequenceBackward>), batch_sizes=tensor([64, 64, 64, 64, 64, 64, 64, 64, 64, 64, 64, 64, 64, 64, 64, 64, 64, 64,\n",
       "        64, 64, 64, 64, 64, 64, 64, 64, 64, 64, 64, 64, 64, 64, 64, 64, 64, 64,\n",
       "        64, 64, 64, 64, 64, 64, 64, 64, 64, 64, 64, 64, 64, 64, 64, 64, 64, 64,\n",
       "        64, 64, 64, 64, 64, 64, 64, 64, 64, 64, 64, 64, 64, 64, 64, 64]), sorted_indices=None, unsorted_indices=None)"
      ]
     },
     "execution_count": 17,
     "metadata": {},
     "output_type": "execute_result"
    }
   ],
   "source": [
    "packed"
   ]
  },
  {
   "cell_type": "code",
   "execution_count": 18,
   "id": "9893a7d2-7516-4931-9fd9-d2b4909c7275",
   "metadata": {},
   "outputs": [
    {
     "data": {
      "text/plain": [
       "torch.Size([4480, 300])"
      ]
     },
     "execution_count": 18,
     "metadata": {},
     "output_type": "execute_result"
    }
   ],
   "source": [
    "packed.data.shape"
   ]
  },
  {
   "cell_type": "code",
   "execution_count": 19,
   "id": "9ed9b8d5-614c-4290-9a58-cd3012f9bfa6",
   "metadata": {},
   "outputs": [
    {
     "data": {
      "text/plain": [
       "70"
      ]
     },
     "execution_count": 19,
     "metadata": {},
     "output_type": "execute_result"
    }
   ],
   "source": [
    "len(packed.batch_sizes)"
   ]
  },
  {
   "cell_type": "code",
   "execution_count": 20,
   "id": "f77dec04-8803-4184-a07f-7704e412d299",
   "metadata": {},
   "outputs": [
    {
     "data": {
      "text/plain": [
       "64"
      ]
     },
     "execution_count": 20,
     "metadata": {},
     "output_type": "execute_result"
    }
   ],
   "source": [
    "4480 // 70"
   ]
  },
  {
   "cell_type": "code",
   "execution_count": 21,
   "id": "4ed2d27a-1bf2-46ec-9663-be3cc738ebaa",
   "metadata": {},
   "outputs": [],
   "source": [
    "tst = nn.LSTM(300, 300, 2)"
   ]
  },
  {
   "cell_type": "code",
   "execution_count": 22,
   "id": "1bb6d4a5-1d3f-4ac4-af61-66b37d15894d",
   "metadata": {},
   "outputs": [],
   "source": [
    "y,h = tst(packed)"
   ]
  },
  {
   "cell_type": "code",
   "execution_count": 23,
   "id": "1503960b-97da-4bad-a41e-1d8858cef793",
   "metadata": {},
   "outputs": [],
   "source": [
    "unpack = pad_packed_sequence(y, batch_first=True)"
   ]
  },
  {
   "cell_type": "code",
   "execution_count": 24,
   "id": "7a9c1109-ff22-4a1c-870b-9717bfcbedcb",
   "metadata": {},
   "outputs": [
    {
     "data": {
      "text/plain": [
       "(torch.Size([64, 70, 300]),\n",
       " tensor([70, 70, 70, 70, 70, 70, 70, 70, 70, 70, 70, 70, 70, 70, 70, 70, 70, 70,\n",
       "         70, 70, 70, 70, 70, 70, 70, 70, 70, 70, 70, 70, 70, 70, 70, 70, 70, 70,\n",
       "         70, 70, 70, 70, 70, 70, 70, 70, 70, 70, 70, 70, 70, 70, 70, 70, 70, 70,\n",
       "         70, 70, 70, 70, 70, 70, 70, 70, 70, 70]))"
      ]
     },
     "execution_count": 24,
     "metadata": {},
     "output_type": "execute_result"
    }
   ],
   "source": [
    "unpack[0].shape, unpack[1]"
   ]
  },
  {
   "cell_type": "code",
   "execution_count": 35,
   "id": "a936b522-3ed9-4943-9618-e587144847d5",
   "metadata": {},
   "outputs": [],
   "source": [
    "#export\n",
    "class AWD_LSTM1(nn.Module):\n",
    "    initrange = 0.1\n",
    "    \n",
    "    def __init__(self, vocab_sz, emb_sz, n_hid, n_layers, pad_token, hidden_p=0.2, input_p=0.6, embed_p=0.1, weight_p=0.5):\n",
    "        super().__init__()\n",
    "        self.bs,self.emb_sz,self.n_hid,self.n_layers,self.pad_token = 1,emb_sz,n_hid,n_layers,pad_token\n",
    "        self.emb = nn.Embedding(len(vocab), emb_sz, padding_idx=pad_token)\n",
    "        self.emb_dp = EmbeddingDropout(self.emb, embed_p)\n",
    "        self.rnns = [nn.LSTM(emb_sz if l == 0 else n_hid, (n_hid if l!= n_layers - 1 else emb_sz), 1, batch_first=True) for l in range(n_layers)]\n",
    "        self.rnns = nn.ModuleList([WeightDropout(rnn, weight_p) for rnn in self.rnns])\n",
    "        self.emb.weight.data.uniform_(-self.initrange, self.initrange)\n",
    "        self.input_dp = RNNDropout(input_p)\n",
    "        self.hidden_dps = nn.ModuleList([RNNDropout(hidden_p) for _ in range(n_layers)])\n",
    "        \n",
    "    def forward(self, input):\n",
    "        bs,sl = input.size()\n",
    "        mask = (input == self.pad_token)\n",
    "        lengths = sl - mask.long().sum(1)\n",
    "        n_empty = (lengths == 0).sum()\n",
    "        if n_empty > 0:\n",
    "            input = input[:-n_empty]\n",
    "            lengths = lengths[:-n_empty]\n",
    "            self.hidden = [(h[0][:,:input.size(0)], h[1][:,:input.size(0)]) for h in self.hidden]\n",
    "        \n",
    "        raw_output = self.input_dp(self.emb_dp(input))\n",
    "        new_hidden,raw_outputs,outputs = [],[],[]\n",
    "        for l, (rnn,hid_dp) in enumerate(zip(self.rnns, self.hidden_dps)):\n",
    "            raw_output = pack_padded_sequence(raw_output, lengths, batch_first=True)\n",
    "            raw_output, new_h = rnn(raw_output, self.hidden[l])\n",
    "            raw_output = pad_packed_sequence(raw_output, batch_first=True)[0]\n",
    "            raw_outputs.append(raw_output)\n",
    "            if l != self.n_layers - 1: raw_output = hid_dp(raw_output)\n",
    "            outputs.append(raw_output)\n",
    "            new_hidden.append(new_h)\n",
    "        self.hidden = to_detach(new_hidden)\n",
    "        return raw_outputs, outputs, mask\n",
    "    \n",
    "    def _one_hidden(self, l):\n",
    "        nh = self.n_hid if l != self.n_layers - 1 else self.emb_sz\n",
    "        return next(self.parameters()).new(1, self.bs, nh).zero_()\n",
    "    \n",
    "    def reset(self):\n",
    "        self.hidden = [(self._one_hidden(l), self._one_hidden(l)) for l in range(self.n_layers)]"
   ]
  },
  {
   "cell_type": "markdown",
   "id": "ab28e19f-2dfd-46f6-8fd3-ca0ae6a68388",
   "metadata": {},
   "source": [
    "# Concat Pooling"
   ]
  },
  {
   "cell_type": "code",
   "execution_count": 41,
   "id": "d493ed38-9a91-45d3-a350-b971151c4d83",
   "metadata": {},
   "outputs": [],
   "source": [
    "class Pooling(nn.Module):\n",
    "    def forward(self, input):\n",
    "        raw_outputs, outputs, mask = input\n",
    "        output = outputs[-1]\n",
    "        lengths = output.size(1) - mask.long().sum(dim=1)\n",
    "        \n",
    "        avg_pool = output.masked_fill(mask[:,:,None], 0).sum(dim=1)\n",
    "        avg_pool.div_(lengths.type(avg_pool.dtype)[:,None])\n",
    "        max_pool = output.masked_fill(mask[:,:,None], -float('inf')).max(dim=1)[0]\n",
    "        x = torch.cat([output[torch.arange(0, output.size(0)), lengths-1], max_pool, avg_pool], dim=1)\n",
    "        return output, x"
   ]
  },
  {
   "cell_type": "code",
   "execution_count": 42,
   "id": "9a1b9d0c-f4d5-4671-b161-09461b475c72",
   "metadata": {},
   "outputs": [],
   "source": [
    "emb_sz, nh, nl = 300, 300, 2\n",
    "tok_pad = vocab.index(PAD)"
   ]
  },
  {
   "cell_type": "code",
   "execution_count": 43,
   "id": "86504573-5217-4e2a-bcf7-86d9bf74c466",
   "metadata": {},
   "outputs": [],
   "source": [
    "enc = AWD_LSTM1(len(vocab), emb_sz, nh, nl, tok_pad)\n",
    "pool = Pooling()"
   ]
  },
  {
   "cell_type": "code",
   "execution_count": 44,
   "id": "ec808ac1-4c18-4abd-a2a2-d1ef7b93ffaf",
   "metadata": {},
   "outputs": [],
   "source": [
    "enc.bs = bs\n",
    "enc.reset()"
   ]
  },
  {
   "cell_type": "code",
   "execution_count": 45,
   "id": "deb67554-6731-4047-aac9-6b2ce64e8b86",
   "metadata": {},
   "outputs": [],
   "source": [
    "x,y = next(iter(data.train_dl))\n",
    "output, c = pool(enc(x))"
   ]
  },
  {
   "cell_type": "code",
   "execution_count": 48,
   "id": "1c4e49f6-a00a-433f-b262-2b7d407101e2",
   "metadata": {},
   "outputs": [
    {
     "data": {
      "text/plain": [
       "torch.Size([64, 70])"
      ]
     },
     "execution_count": 48,
     "metadata": {},
     "output_type": "execute_result"
    }
   ],
   "source": [
    "x.shape"
   ]
  },
  {
   "cell_type": "code",
   "execution_count": 47,
   "id": "921e2a01-28e2-4fa3-886b-4920d8de780f",
   "metadata": {},
   "outputs": [
    {
     "data": {
      "text/plain": [
       "torch.Size([64, 70, 300])"
      ]
     },
     "execution_count": 47,
     "metadata": {},
     "output_type": "execute_result"
    }
   ],
   "source": [
    "output.shape"
   ]
  },
  {
   "cell_type": "code",
   "execution_count": 49,
   "id": "44b01265-99df-4d2e-ba94-fc5a27702bb0",
   "metadata": {},
   "outputs": [],
   "source": [
    "test_near((output.sum(dim=2) == 0).float(), (x == tok_pad).float())"
   ]
  },
  {
   "cell_type": "code",
   "execution_count": 56,
   "id": "40170b18-9248-4473-8918-3d8679a9a9f1",
   "metadata": {},
   "outputs": [
    {
     "data": {
      "text/plain": [
       "torch.Size([64, 900])"
      ]
     },
     "execution_count": 56,
     "metadata": {},
     "output_type": "execute_result"
    }
   ],
   "source": [
    "c.shape"
   ]
  },
  {
   "cell_type": "code",
   "execution_count": 57,
   "id": "10da9c0a-ef6f-4ef8-b251-dd20ebed52f3",
   "metadata": {},
   "outputs": [],
   "source": [
    "for i in range(bs):\n",
    "    length = x.size(1) - (x[i] == 1).long().sum()\n",
    "    out_unpad = output[i, :length]\n",
    "    test_near(out_unpad[-1], c[i,:300])\n",
    "    test_near(out_unpad.max(0)[0], c[i,300:600])\n",
    "    test_near(out_unpad.mean(0), c[i,600:])"
   ]
  },
  {
   "cell_type": "code",
   "execution_count": 59,
   "id": "8039f988-3340-490b-b984-f5245b99bfbc",
   "metadata": {},
   "outputs": [],
   "source": [
    "def bn_drop_lin(n_in, n_out, bn=True, p=0., actn=None):\n",
    "    layers = [nn.BatchNorm1d(n_in)] if bn else []\n",
    "    if p != 0: layers.append(nn.Dropout(p))\n",
    "    layers.append(nn.Linear(n_in, n_out))\n",
    "    if actn is not None: layers.append(actn)\n",
    "    return layers"
   ]
  },
  {
   "cell_type": "code",
   "execution_count": 61,
   "id": "69fd0b25-049c-4716-8605-d01abfbd5af6",
   "metadata": {},
   "outputs": [],
   "source": [
    "class PoolingLinearClassifier(nn.Module):\n",
    "    \n",
    "    def __init__(self, layers, drops):\n",
    "        super().__init__()\n",
    "        mod_layers = []\n",
    "        activs = [nn.ReLU(inplace=True)] * (len(layers) - 2) + [None]\n",
    "        for n_in, n_out, p, actn in zip(layers[:-1], layers[1:], drops, activs):\n",
    "            mod_layers += bn_drop_lin(n_in, n_out, p=p, actn=actn)\n",
    "        self.layers = nn.Sequential(*mod_layers)\n",
    "        \n",
    "    def forward(self, input):\n",
    "        raw_outputs, output, mask = input\n",
    "        output = outputs[-1]\n",
    "        lengths = output.size(1) - mask.long().sum(dim=1)\n",
    "        \n",
    "        avg_pool = output.masked_fill(mask[:,:,None], 0).sum(dim=1)\n",
    "        avg_pool.div_(lengths.type(avg_pool.dtype)[:,None])\n",
    "        max_pool = output.masked_fill(mask[:,:,None], -float('inf')).max(dim=1)[0]\n",
    "        \n",
    "        x = torch.cat([output[torch.arange(0, output.size(0)), lengths-1], max_pool, avg_pool], dim=1)\n",
    "        x = self.layers(x)\n",
    "        return x"
   ]
  },
  {
   "cell_type": "code",
   "execution_count": 63,
   "id": "fb6ff320-b5ce-41ca-b649-d26d65f40c01",
   "metadata": {},
   "outputs": [],
   "source": [
    "def pad_tensor(t, bs, val=0.):\n",
    "    if t.size(0) < bs:\n",
    "        return torch.cat([t, val + t.new_zeros(bs-t.size(0), *t.shape[1:])])\n",
    "    return t"
   ]
  },
  {
   "cell_type": "code",
   "execution_count": 64,
   "id": "c88ff94d-905a-4880-86b3-9ac9e74ba532",
   "metadata": {},
   "outputs": [],
   "source": [
    "class SentenceEncoder(nn.Module):\n",
    "    def __init__(self, module, bptt, pad_idx=1):\n",
    "        super().__init__()\n",
    "        self.module,self.bptt,self.pad_idx = module,bptt,pad_idx\n",
    "        \n",
    "    def concat(self, arrs, bs):\n",
    "        return [torch.cat([pad_tensor(l[si],bs) for l in arrs], dim=1) for si in range(len(arrs[0]))]\n",
    "    \n",
    "    def forward(self, input):\n",
    "        bs,sl = input.size()\n",
    "        self.module.bs = bs\n",
    "        self.module.reset()\n",
    "        raw_outputs,outputs,mask = [],[],[]\n",
    "        for i in range(0, sl, self.bptt):\n",
    "            r,o,m = self.module(input[:, i: min(i + self.bptt, sl)])\n",
    "            masks.append(pad_tensor(m, bs, 1))\n",
    "            raw_outputs.append(r)\n",
    "            outputs.append(o)\n",
    "        return self.concat(raw_outputs, bs), self.concat(outputs, bs), torch.cat(masks, dim=1)"
   ]
  },
  {
   "cell_type": "code",
   "execution_count": 67,
   "id": "c4bac088-732f-4089-81d6-dccd7852011e",
   "metadata": {},
   "outputs": [],
   "source": [
    "def get_text_classifier(vocab_sz, emb_sz, n_hid, n_layers, n_out, pad_token, bptt, output_p=0.4, hidden_p=0.2, input_p=0.6, embed_p=0.1, weight_p=0.5,\n",
    "                       layers=None, drops=None):\n",
    "    rnn_enc = AWD_LSTM1(vocab_sz, emb_sz, n_hid, n_layers, pad_token, hidden_p, input_p, embed_p, weight_p)\n",
    "    enc = SentenceEncoder(rnn_enc, bptt)\n",
    "    if layers is None: layers = [50]\n",
    "    if drops is None: drops = [0.1] * len(layers)\n",
    "    layers = [3 * emb_sz] + layers + [n_out]\n",
    "    drops = [output_p] + drops\n",
    "    return SequentialRNN(enc, PoolingLinearClassifier(layers, drops))"
   ]
  },
  {
   "cell_type": "code",
   "execution_count": 68,
   "id": "aa103d72-44e1-4f3f-8e3d-7c7fceb0a53d",
   "metadata": {},
   "outputs": [],
   "source": [
    "emb_sz,nh,nl = 300,300,2\n",
    "dps = tensor([0.4, 0.3, 0.4, 0.05, 0.5]) * 0.25\n",
    "model = get_text_classifier(len(vocab), emb_sz, nh, nl, 2, 1, bptt, *dps)"
   ]
  },
  {
   "cell_type": "markdown",
   "id": "9a52c93f-e1a9-4816-b78c-bee54302270a",
   "metadata": {},
   "source": [
    "# Training"
   ]
  },
  {
   "cell_type": "code",
   "execution_count": 69,
   "id": "a2d657ce-9f02-494d-927f-4bb3fa96a176",
   "metadata": {},
   "outputs": [],
   "source": [
    "def class_splitter(m):\n",
    "    enc = m[0].module\n",
    "    groups = [nn.Sequential(enc.emb, enc.emb_dp, enc.input_db)]\n",
    "    for i in range(len(enc.rnns)): groups.append(nn.Sequential(enc_rnns[i], enc.hidden_dps[i]))\n",
    "    groups.append(m[1])\n",
    "    return [list(o.parameters()) for o in groups]"
   ]
  },
  {
   "cell_type": "code",
   "execution_count": 70,
   "id": "d5615357-2b5c-4301-abd3-fa24fe839600",
   "metadata": {},
   "outputs": [],
   "source": [
    "for p in model[0].parameters(): p.requires_grad_(False)"
   ]
  },
  {
   "cell_type": "code",
   "execution_count": 71,
   "id": "fee0ccf0-dfc4-451a-ac03-d5f7c94e653c",
   "metadata": {},
   "outputs": [],
   "source": [
    "cbs = [partial(AvgStatsCallback, accuracy_flat),\n",
    "      CudaCallback, Recorder, ProgressCallback,\n",
    "      partial(GradientClipping, clip=0.1)]"
   ]
  },
  {
   "cell_type": "code",
   "execution_count": null,
   "id": "0edc4fc8-3cf9-491b-9238-bbd48f40dd9c",
   "metadata": {},
   "outputs": [],
   "source": [
    "model[0].module.load_state_dict(torch.load(path/'finetuned_enc.pth'))"
   ]
  },
  {
   "cell_type": "code",
   "execution_count": null,
   "id": "1f9bbf81-2e63-4a1e-beb5-3cd688440acf",
   "metadata": {},
   "outputs": [],
   "source": [
    "learn = Learner(model, data, F.cross_entropy, adam_opt(), cb_funcs=cbs, splitter=class_splitter)"
   ]
  },
  {
   "cell_type": "code",
   "execution_count": 5,
   "id": "c1bff4de-f556-4fac-a144-8b66ece79cfd",
   "metadata": {},
   "outputs": [],
   "source": [
    "lr = 1e-2\n",
    "cbsched = sched_1cycle(lr, mom_start=0.8, mom_mid=0.7, mom_end=0.8)"
   ]
  },
  {
   "cell_type": "code",
   "execution_count": null,
   "id": "0e14ec78-a529-41d3-b5b1-e9ad09806d43",
   "metadata": {},
   "outputs": [],
   "source": [
    "learn.fit(1, cbs=cbsched)"
   ]
  },
  {
   "cell_type": "code",
   "execution_count": null,
   "id": "84eddea3-0b66-4d23-87f4-52e35bfd1f6c",
   "metadata": {},
   "outputs": [],
   "source": [
    "for p in model[0].module.rnns[-1].parameters(): p.requires_grad_(True)"
   ]
  },
  {
   "cell_type": "code",
   "execution_count": 6,
   "id": "16eeaf15-1903-4093-bd77-2a901870cdd3",
   "metadata": {},
   "outputs": [],
   "source": [
    "lr = 5e-3\n",
    "cbsched = sched_1cycle([lr/2., lr/2, lr/2, lr], mom_start=0.8, mom_mid=0.7, mom_end=0.8)"
   ]
  },
  {
   "cell_type": "code",
   "execution_count": null,
   "id": "f00e53ff-4f43-4337-9467-079d88b881d1",
   "metadata": {},
   "outputs": [],
   "source": [
    "learn.fit(1, cbs=cbsched)"
   ]
  },
  {
   "cell_type": "code",
   "execution_count": null,
   "id": "e68b3ec0-66be-446f-a0a2-d55865cea918",
   "metadata": {},
   "outputs": [],
   "source": [
    "for p in model[0].parameters(): p.requires_grad_(True)"
   ]
  },
  {
   "cell_type": "code",
   "execution_count": null,
   "id": "8b5da2ce-8038-47a4-9651-52606493eab5",
   "metadata": {},
   "outputs": [],
   "source": [
    "lr = 1e-3\n",
    "cbsched = sched_1cycle([lr/8, lr/4, lr/2, lr], mom_start=0.8, mom_mid=0.7, mom_end=0.8)"
   ]
  },
  {
   "cell_type": "code",
   "execution_count": null,
   "id": "e005f930-ffc6-43a0-9429-7f52ef837998",
   "metadata": {},
   "outputs": [],
   "source": [
    "learn.fit(2, cbsched)"
   ]
  },
  {
   "cell_type": "code",
   "execution_count": null,
   "id": "8ae3a97c-09d1-492f-b555-3f013fdc041c",
   "metadata": {},
   "outputs": [],
   "source": [
    "x,y = next(iter(data.valid_dl))"
   ]
  },
  {
   "cell_type": "code",
   "execution_count": null,
   "id": "f2829355-d030-4bd7-a405-3bc1f80336aa",
   "metadata": {},
   "outputs": [],
   "source": [
    "pred_batch = learn.model.eval()(x.cuda())"
   ]
  },
  {
   "cell_type": "code",
   "execution_count": null,
   "id": "ede3ab8d-9642-4966-83e9-34b674b707bd",
   "metadata": {},
   "outputs": [],
   "source": [
    "pred_ind = []\n",
    "for inp in x:\n",
    "    length = x.size(1) - (inp == 1).long().sum()\n",
    "    inp = inp[:length]\n",
    "    pred_ind.append(learn.model.eval()(inp[None].cuda()))"
   ]
  },
  {
   "cell_type": "code",
   "execution_count": null,
   "id": "375eecd0-3e1e-4163-b6aa-da1bd99c3d09",
   "metadata": {},
   "outputs": [],
   "source": [
    "test_near(pred_batch, torch.cat(pred_ind))"
   ]
  }
 ],
 "metadata": {
  "kernelspec": {
   "display_name": "Python 3 (ipykernel)",
   "language": "python",
   "name": "python3"
  },
  "language_info": {
   "codemirror_mode": {
    "name": "ipython",
    "version": 3
   },
   "file_extension": ".py",
   "mimetype": "text/x-python",
   "name": "python",
   "nbconvert_exporter": "python",
   "pygments_lexer": "ipython3",
   "version": "3.9.6"
  }
 },
 "nbformat": 4,
 "nbformat_minor": 5
}
