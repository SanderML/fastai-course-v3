{
 "cells": [
  {
   "cell_type": "code",
   "execution_count": 1,
   "id": "8e796aaa-06b4-4c07-9c05-9ebd5683c501",
   "metadata": {},
   "outputs": [],
   "source": [
    "import torch"
   ]
  },
  {
   "cell_type": "markdown",
   "id": "5ba64925-ef5d-4705-8496-0d74e1b9cd99",
   "metadata": {},
   "source": [
    "# Why you need a good init"
   ]
  },
  {
   "cell_type": "code",
   "execution_count": 10,
   "id": "365f0548-5f12-4591-8d96-07496bab9132",
   "metadata": {},
   "outputs": [],
   "source": [
    "x = torch.randn(512)\n",
    "w = torch.randn(512,512)"
   ]
  },
  {
   "cell_type": "code",
   "execution_count": 7,
   "id": "51eb9fd4-a7b5-4917-ad3f-ef66778fdf9e",
   "metadata": {},
   "outputs": [],
   "source": [
    "for i in range(100): x = w @ x"
   ]
  },
  {
   "cell_type": "code",
   "execution_count": 8,
   "id": "8ee399c4-4633-4e38-85f8-d4ea0f1f92a2",
   "metadata": {},
   "outputs": [
    {
     "data": {
      "text/plain": [
       "(tensor(3.2404e+10), tensor(3.4056e+13))"
      ]
     },
     "execution_count": 8,
     "metadata": {},
     "output_type": "execute_result"
    }
   ],
   "source": [
    "x.mean(), x.std()"
   ]
  },
  {
   "cell_type": "code",
   "execution_count": 31,
   "id": "4cfa472d-bae0-4a9f-ab60-9d68adfdd3c2",
   "metadata": {},
   "outputs": [],
   "source": [
    "x = torch.randn(512)\n",
    "w = torch.randn(512, 512)"
   ]
  },
  {
   "cell_type": "code",
   "execution_count": 32,
   "id": "f906c3b0-04f5-4cb5-a386-8abaf5f6839d",
   "metadata": {},
   "outputs": [
    {
     "data": {
      "text/plain": [
       "27"
      ]
     },
     "execution_count": 32,
     "metadata": {},
     "output_type": "execute_result"
    }
   ],
   "source": [
    "for i in range(100):\n",
    "    x = w @ x\n",
    "    if x.std() != x.std(): break\n",
    "i"
   ]
  },
  {
   "cell_type": "code",
   "execution_count": 36,
   "id": "470c05e2-aec5-4fa6-bb8c-7e23b6c9f29a",
   "metadata": {},
   "outputs": [],
   "source": [
    "x = torch.randn(512)\n",
    "w = torch.randn(512, 512) * 0.01"
   ]
  },
  {
   "cell_type": "code",
   "execution_count": 37,
   "id": "ce104c76-49d8-4ec9-bdc7-82ca88649413",
   "metadata": {},
   "outputs": [
    {
     "data": {
      "text/plain": [
       "68"
      ]
     },
     "execution_count": 37,
     "metadata": {},
     "output_type": "execute_result"
    }
   ],
   "source": [
    "for i in range(100):\n",
    "    x = w @ x\n",
    "    if x.std() == 0: break\n",
    "i"
   ]
  },
  {
   "cell_type": "markdown",
   "id": "87460330-2187-4629-90d0-7c8fa3dd4736",
   "metadata": {},
   "source": [
    "## the magic number for scaling"
   ]
  },
  {
   "cell_type": "code",
   "execution_count": 38,
   "id": "8d5ca262-e035-4a72-8fa1-0b71137c3115",
   "metadata": {},
   "outputs": [],
   "source": [
    "import math"
   ]
  },
  {
   "cell_type": "code",
   "execution_count": 39,
   "id": "e22f476b-3211-42ec-a543-c514a317a264",
   "metadata": {},
   "outputs": [],
   "source": [
    "x = torch.randn(512)\n",
    "w = torch.randn(512,512) / math.sqrt(512)"
   ]
  },
  {
   "cell_type": "code",
   "execution_count": 40,
   "id": "e38cc8ef-7d60-4272-bdbf-bd3558b778fd",
   "metadata": {},
   "outputs": [],
   "source": [
    "for i in range(100): x = w @ x"
   ]
  },
  {
   "cell_type": "code",
   "execution_count": 41,
   "id": "61539fcd-1a85-4670-a710-ca1826b4130d",
   "metadata": {},
   "outputs": [
    {
     "data": {
      "text/plain": [
       "(tensor(-0.0315), tensor(0.6832))"
      ]
     },
     "execution_count": 41,
     "metadata": {},
     "output_type": "execute_result"
    }
   ],
   "source": [
    "x.mean(), x.std()"
   ]
  },
  {
   "cell_type": "code",
   "execution_count": 42,
   "id": "89ee3d1c-053f-485b-abf0-70201ca7daf5",
   "metadata": {},
   "outputs": [
    {
     "data": {
      "text/plain": [
       "0.044194173824159216"
      ]
     },
     "execution_count": 42,
     "metadata": {},
     "output_type": "execute_result"
    }
   ],
   "source": [
    "1 / math.sqrt(512)"
   ]
  },
  {
   "cell_type": "code",
   "execution_count": 43,
   "id": "fe114e7f-9956-4e47-9627-4834c25f3370",
   "metadata": {},
   "outputs": [
    {
     "data": {
      "text/plain": [
       "(tensor(0.0367), tensor(1.0618))"
      ]
     },
     "execution_count": 43,
     "metadata": {},
     "output_type": "execute_result"
    }
   ],
   "source": [
    "x = torch.randn(512)\n",
    "x.mean(), x.std()"
   ]
  },
  {
   "cell_type": "code",
   "execution_count": 47,
   "id": "991d11a7-c65e-4d93-a983-4c25a6bb51a7",
   "metadata": {},
   "outputs": [
    {
     "data": {
      "text/plain": [
       "(-0.15844656057655812, 514.0014178466797)"
      ]
     },
     "execution_count": 47,
     "metadata": {},
     "output_type": "execute_result"
    }
   ],
   "source": [
    "mean, sqr = 0.,0.\n",
    "for i in range(100):\n",
    "    x = torch.randn(512)\n",
    "    w = torch.randn(512,512)\n",
    "    y = w @ x\n",
    "    mean += y.mean().item()\n",
    "    sqr += y.pow(2).mean().item()\n",
    "mean/100, sqr/100"
   ]
  },
  {
   "cell_type": "code",
   "execution_count": 49,
   "id": "f8af51f1-24a2-4b13-97ca-76a60734ad94",
   "metadata": {},
   "outputs": [
    {
     "data": {
      "text/plain": [
       "(tensor(-0.8002), tensor(22.0482))"
      ]
     },
     "execution_count": 49,
     "metadata": {},
     "output_type": "execute_result"
    }
   ],
   "source": [
    "y.mean(), y.std()"
   ]
  },
  {
   "cell_type": "code",
   "execution_count": 51,
   "id": "68e6777c-b836-46ea-820c-9656d43e1418",
   "metadata": {},
   "outputs": [
    {
     "data": {
      "text/plain": [
       "(0.0059313852496878094, 0.9659390640939737)"
      ]
     },
     "execution_count": 51,
     "metadata": {},
     "output_type": "execute_result"
    }
   ],
   "source": [
    "mean, sqr= 0., 0.\n",
    "for i in range(10000):\n",
    "    x = torch.randn(1)\n",
    "    w = torch.randn(1)\n",
    "    y = w @ x\n",
    "    mean += y.item()\n",
    "    sqr += y.pow(2).item()\n",
    "mean / 10000, sqr / 10000"
   ]
  },
  {
   "cell_type": "markdown",
   "id": "c6a75da4-5f19-4cc7-b2de-18b2c2a9687f",
   "metadata": {},
   "source": [
    "## adding ReLU in the mix"
   ]
  },
  {
   "cell_type": "code",
   "execution_count": 53,
   "id": "13e0bed9-4fe5-4a24-85f7-c8384775f77e",
   "metadata": {},
   "outputs": [
    {
     "data": {
      "text/plain": [
       "(0.32453193757519905, 0.5350790757055784)"
      ]
     },
     "execution_count": 53,
     "metadata": {},
     "output_type": "execute_result"
    }
   ],
   "source": [
    "mean, sqr = 0.,0.\n",
    "for i in range(10000):\n",
    "    x = torch.randn(1)\n",
    "    w = torch.randn(1)\n",
    "    y = w @ x\n",
    "    y = 0 if y < 0 else y.item()\n",
    "    mean += y\n",
    "    sqr += y ** 2\n",
    "mean / 10000, sqr / 10000"
   ]
  },
  {
   "cell_type": "code",
   "execution_count": 54,
   "id": "f820a608-4e36-47a4-8ef9-83269bfaa3a2",
   "metadata": {},
   "outputs": [
    {
     "data": {
      "text/plain": [
       "(8.991749482154846, 254.2585090637207)"
      ]
     },
     "execution_count": 54,
     "metadata": {},
     "output_type": "execute_result"
    }
   ],
   "source": [
    "mean ,sqr = 0., 0.\n",
    "for i in range(100):\n",
    "    x = torch.randn(512)\n",
    "    w = torch.randn(512, 512)\n",
    "    y = w @ x\n",
    "    y = y.clamp(min=0)\n",
    "    mean += y.mean().item()\n",
    "    sqr += y.pow(2).mean().item()\n",
    "mean / 100, sqr / 100"
   ]
  },
  {
   "cell_type": "code",
   "execution_count": 55,
   "id": "8360e44f-0c0e-40a9-930a-c3be28800a00",
   "metadata": {},
   "outputs": [
    {
     "data": {
      "text/plain": [
       "(0.5606747928261757, 0.9928559094667435)"
      ]
     },
     "execution_count": 55,
     "metadata": {},
     "output_type": "execute_result"
    }
   ],
   "source": [
    "mean, sqr = 0., 0.\n",
    "for i in range(100):\n",
    "    x = torch.randn(512)\n",
    "    w = torch.randn(512,512) * math.sqrt(2/512)\n",
    "    y = w @ x\n",
    "    y = y.clamp(min=0)\n",
    "    mean += y.mean().item()\n",
    "    sqr += y.pow(2).mean().item()\n",
    "mean / 100, sqr / 100"
   ]
  },
  {
   "cell_type": "code",
   "execution_count": null,
   "id": "1e1ca5fe-4483-47bf-9916-c1a3823e2495",
   "metadata": {},
   "outputs": [],
   "source": []
  }
 ],
 "metadata": {
  "kernelspec": {
   "display_name": "Python 3",
   "language": "python",
   "name": "python3"
  },
  "language_info": {
   "codemirror_mode": {
    "name": "ipython",
    "version": 3
   },
   "file_extension": ".py",
   "mimetype": "text/x-python",
   "name": "python",
   "nbconvert_exporter": "python",
   "pygments_lexer": "ipython3",
   "version": "3.8.8"
  }
 },
 "nbformat": 4,
 "nbformat_minor": 5
}
