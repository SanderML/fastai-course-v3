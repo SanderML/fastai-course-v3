{
 "cells": [
  {
   "cell_type": "code",
   "execution_count": 1,
   "id": "4bd1a1d2-7a28-4b6b-ac75-9fc3a5d9fb12",
   "metadata": {},
   "outputs": [],
   "source": [
    "%load_ext autoreload\n",
    "%autoreload 2\n",
    "\n",
    "%matplotlib inline"
   ]
  },
  {
   "cell_type": "code",
   "execution_count": 2,
   "id": "d0cb7ad8-ac7a-47cc-b343-ab7b9934be8a",
   "metadata": {},
   "outputs": [],
   "source": [
    "from exp.nb_04 import *"
   ]
  },
  {
   "cell_type": "markdown",
   "id": "f5a69d6b-a24a-402c-9729-1d7ac2bf44ae",
   "metadata": {},
   "source": [
    "# Inital setup"
   ]
  },
  {
   "cell_type": "code",
   "execution_count": null,
   "id": "6803c137-c2ff-4d66-b6f3-493ad1b6e89e",
   "metadata": {},
   "outputs": [],
   "source": [
    "x_train, y_train, x_valid, y_valid = get_data()\n",
    "train_ds, valid_ds = Dataset(x_train, y_train), Dataset(x_valid, y_valid)\n",
    "nh, bs = 50, 512\n",
    "c = y_train.max().item() + 1\n",
    "loss_func = F.cross_entropy"
   ]
  },
  {
   "cell_type": "code",
   "execution_count": null,
   "id": "dd1ef25e-d10f-4de6-aa3b-5eef6c148df9",
   "metadata": {},
   "outputs": [],
   "source": [
    "data = DataBunch(*get_dls(train_ds, valid_ds, bs), c)"
   ]
  },
  {
   "cell_type": "code",
   "execution_count": null,
   "id": "74214144-4154-41b0-bee8-0da5410994bf",
   "metadata": {},
   "outputs": [],
   "source": [
    "def create_learner(model_func, loss_func, data):\n",
    "    return Learner(*model_func(data), loss_func, data)"
   ]
  },
  {
   "cell_type": "code",
   "execution_count": null,
   "id": "44a1ae5d-4a4f-4a1f-9337-649a2a636c88",
   "metadata": {},
   "outputs": [],
   "source": [
    "learn = create_learner(get_model, loss_func, data)\n",
    "run = Runner(cbs=[AvgStatsCallback([accuracy])])\n",
    "\n",
    "run.fit(3, learn)"
   ]
  },
  {
   "cell_type": "code",
   "execution_count": null,
   "id": "82033d38-df6a-49cd-a006-0773eacfedd1",
   "metadata": {},
   "outputs": [],
   "source": [
    "def get_model_func(lr=0.1): return partial(get_model, lr=lr)"
   ]
  },
  {
   "cell_type": "code",
   "execution_count": null,
   "id": "1c861249-699f-41dc-a8ee-4b19163a29ef",
   "metadata": {},
   "outputs": [],
   "source": [
    "learn = create_learner(get_model_func(0.1), loss_func, data)\n",
    "run = Runner(cbs=[AvgStatsCallback([accuracy])])\n",
    "\n",
    "run.fit(3, learn)"
   ]
  },
  {
   "cell_type": "markdown",
   "id": "55dae2c0-4e99-4216-a316-f14f5e5e6883",
   "metadata": {},
   "source": [
    "# Annealing"
   ]
  },
  {
   "cell_type": "code",
   "execution_count": null,
   "id": "5a49846f-64d5-4126-9b18-148254970593",
   "metadata": {},
   "outputs": [],
   "source": [
    "# torch.optim.Adam().param_groups"
   ]
  },
  {
   "cell_type": "code",
   "execution_count": null,
   "id": "6d61f2be-ac39-4104-8392-1464c1dde984",
   "metadata": {},
   "outputs": [],
   "source": [
    "class Recorder(Callback):\n",
    "    def begin_fit(self): self.lrs, self.losses = [], []\n",
    "        \n",
    "    def after_batch(self): \n",
    "        if not self.in_train: return\n",
    "        self.lrs.append(self.opt.param_groups[-1]['lr'])\n",
    "        self.losses.append(self.loss.detach().cpu())\n",
    "        \n",
    "    def plot_lr(self): plt.plot(self.lrs)\n",
    "    \n",
    "    def plot_loss(self): plt.plot(self.losses)\n",
    "        \n",
    "class ParamScheduler(Callback):\n",
    "    _order = 1\n",
    "    def __init__(self, pname, sched_func): self.pname, self.sched_func = pname, sched_func\n",
    "\n",
    "    def begin_batch(self):\n",
    "        if self.in_train: self.set_params()\n",
    "            \n",
    "    def set_params(self):\n",
    "        if not self.in_train: return\n",
    "        for pg in self.opt.param_groups:\n",
    "            pg[self.pname] = self.sched_func(self.n_epochs / self.epochs)"
   ]
  },
  {
   "cell_type": "code",
   "execution_count": null,
   "id": "708feed1-aae5-4115-b412-b3f7e98d0f75",
   "metadata": {},
   "outputs": [],
   "source": [
    "def sched_lin(start, end):\n",
    "    def _inner(start, end, pos): return start + pos * (end - start)\n",
    "    \n",
    "    return partial(_inner, start, end)"
   ]
  },
  {
   "cell_type": "code",
   "execution_count": null,
   "id": "176e3c11-b01d-40e2-a425-06bc31ad1a3d",
   "metadata": {},
   "outputs": [],
   "source": [
    "sched = sched_lin(1,2)"
   ]
  },
  {
   "cell_type": "code",
   "execution_count": null,
   "id": "3fcc32de-c35a-4f5d-9c7c-1154b0ff5202",
   "metadata": {},
   "outputs": [],
   "source": [
    "sched(0.3)"
   ]
  },
  {
   "cell_type": "code",
   "execution_count": null,
   "id": "7febdb0a-8b36-4807-8b6f-07bd39e2bfc9",
   "metadata": {},
   "outputs": [],
   "source": [
    "def annealer(f):\n",
    "    def _inner(start, end): return partial(f, start, end)\n",
    "    \n",
    "    return _inner"
   ]
  },
  {
   "cell_type": "code",
   "execution_count": null,
   "id": "80c09cf1-c86f-4ad9-b0e5-c222cb2afd1c",
   "metadata": {},
   "outputs": [],
   "source": [
    "@annealer\n",
    "def sched_lin(start, end, pos): return start + pos * (end - start)"
   ]
  },
  {
   "cell_type": "code",
   "execution_count": null,
   "id": "539ffd23-f204-4d45-b96f-3971a4700c5a",
   "metadata": {},
   "outputs": [],
   "source": [
    "sched_lin(1,2)(0.3)"
   ]
  },
  {
   "cell_type": "code",
   "execution_count": null,
   "id": "a57b310d-a5b4-4e55-9879-86bf389338e2",
   "metadata": {},
   "outputs": [],
   "source": [
    "@annealer\n",
    "def sched_no(start, end, pos): return start\n",
    "@annealer\n",
    "def sched_cos(start, end, pos): return start + (1 + math.cos(math.pi * (1 - pos))) * (end - start) / 2 # \n",
    "@annealer\n",
    "def sched_exp(start, end, pos): return start * (end / start) ** pos"
   ]
  },
  {
   "cell_type": "code",
   "execution_count": null,
   "id": "909e3b89-824d-4284-8561-db7f9ac8b618",
   "metadata": {},
   "outputs": [],
   "source": [
    "def cos_1cycle_anneal(start, high, end):\n",
    "    return [sched_cos(start, high), sched_cos(high, end)]"
   ]
  },
  {
   "cell_type": "code",
   "execution_count": null,
   "id": "88318f60-a59e-4361-baaf-61feb548febd",
   "metadata": {},
   "outputs": [],
   "source": [
    "torch.Tensor.ndim = property(lambda x: len(x.shape))"
   ]
  },
  {
   "cell_type": "code",
   "execution_count": null,
   "id": "59236181-f01c-4822-a30e-699ea21fb61f",
   "metadata": {},
   "outputs": [],
   "source": [
    "annealings = 'NO LINEAR COS EXP'.split()\n",
    "fncs = [sched_no, sched_lin, sched_cos, sched_exp]\n",
    "\n",
    "x = torch.arange(0, 100)\n",
    "y = torch.linspace(0.01, 1, 100)\n",
    "\n",
    "for fnc, name in  zip(fncs, annealings):\n",
    "    sched = fnc(2, 1e-2)\n",
    "    plt.plot(x, [sched(o) for o in y], label=name)\n",
    "    \n",
    "plt.legend();"
   ]
  },
  {
   "cell_type": "code",
   "execution_count": null,
   "id": "a004c3ed-afc7-4087-b2c8-af53a8b6f0d5",
   "metadata": {},
   "outputs": [],
   "source": [
    "def combine_scheds(pcts, scheds): #combine_scheds([0.3, 0.7], [sched_cos(0.3, 0.6), sched_cos(0.6, 0.2)]) \n",
    "    assert sum(pcts) == 1\n",
    "    pcts = tensor([0] + listify(pcts))\n",
    "    assert torch.all(pcts >= 0)\n",
    "    pcts = torch.cumsum(pcts, 0)\n",
    "    \n",
    "    def _inner(pos):\n",
    "        idx = (pos >= pcts).nonzero().max()\n",
    "        if idx == 2: idx = 1\n",
    "        actual_pos = (pos - pcts[idx]) / (pcts[idx+1] - pcts[idx])\n",
    "        return scheds[idx](actual_pos)\n",
    "    \n",
    "    return _inner"
   ]
  },
  {
   "cell_type": "code",
   "execution_count": null,
   "id": "fb57e79b-ec80-401e-9271-0384693d9522",
   "metadata": {},
   "outputs": [],
   "source": [
    "sched = combine_scheds([0.3, 0.7], [sched_cos(0.3, 0.6), sched_cos(0.6, 0.2)]) "
   ]
  },
  {
   "cell_type": "code",
   "execution_count": null,
   "id": "cd587346-0185-47a8-9af4-e74c42f0a022",
   "metadata": {},
   "outputs": [],
   "source": [
    "plt.plot(x, [sched(o) for o in y]);"
   ]
  },
  {
   "cell_type": "code",
   "execution_count": null,
   "id": "4527956e-b392-4b2c-b573-d31b13bbaa7f",
   "metadata": {},
   "outputs": [],
   "source": [
    "cbfs = [Recorder,\n",
    "       partial(AvgStatsCallback, accuracy),\n",
    "       partial(ParamScheduler, 'lr', sched)]"
   ]
  },
  {
   "cell_type": "code",
   "execution_count": null,
   "id": "f371e1ab-5c74-410e-9b32-1523ed1e3e45",
   "metadata": {},
   "outputs": [],
   "source": [
    "learn = create_learner(get_model_func(lr=0.02), loss_func, data)"
   ]
  },
  {
   "cell_type": "code",
   "execution_count": null,
   "id": "7aed6e87-a4da-4d0b-8475-f2e346e73984",
   "metadata": {},
   "outputs": [],
   "source": [
    "run = Runner(cb_funcs=cbfs)"
   ]
  },
  {
   "cell_type": "code",
   "execution_count": null,
   "id": "5caccc4a-0e89-446c-8fe3-5f32ab6d9f7f",
   "metadata": {},
   "outputs": [],
   "source": [
    "run.fit(3, learn)"
   ]
  },
  {
   "cell_type": "code",
   "execution_count": null,
   "id": "82b1b0ba-8743-40f9-8e28-84d7785ab1b5",
   "metadata": {},
   "outputs": [],
   "source": [
    "run.recorder.plot_lr()"
   ]
  },
  {
   "cell_type": "code",
   "execution_count": null,
   "id": "e8d436fd-3c82-4e2d-b779-0ddfe0548b1a",
   "metadata": {},
   "outputs": [],
   "source": [
    "run.recorder.plot_loss()"
   ]
  },
  {
   "cell_type": "code",
   "execution_count": null,
   "id": "5e649176-47d9-4ced-a09a-a3b78c08f151",
   "metadata": {},
   "outputs": [],
   "source": []
  }
 ],
 "metadata": {
  "kernelspec": {
   "display_name": "Python 3 (ipykernel)",
   "language": "python",
   "name": "python3"
  },
  "language_info": {
   "codemirror_mode": {
    "name": "ipython",
    "version": 3
   },
   "file_extension": ".py",
   "mimetype": "text/x-python",
   "name": "python",
   "nbconvert_exporter": "python",
   "pygments_lexer": "ipython3",
   "version": "3.8.8"
  }
 },
 "nbformat": 4,
 "nbformat_minor": 5
}
