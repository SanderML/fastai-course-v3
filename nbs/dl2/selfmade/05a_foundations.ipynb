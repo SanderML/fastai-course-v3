{
 "cells": [
  {
   "cell_type": "code",
   "execution_count": 1,
   "id": "c63e8e60-955e-46ea-bd90-20d9de3d7b3c",
   "metadata": {},
   "outputs": [],
   "source": [
    "%load_ext autoreload\n",
    "%autoreload 2\n",
    "\n",
    "%matplotlib inline"
   ]
  },
  {
   "cell_type": "code",
   "execution_count": 2,
   "id": "ed027877-0a89-4beb-a7a9-17062d971c54",
   "metadata": {},
   "outputs": [],
   "source": [
    "import torch\n",
    "import matplotlib.pyplot as plt"
   ]
  },
  {
   "cell_type": "markdown",
   "id": "f59fc288-be87-4657-9f28-d00f09a46e6c",
   "metadata": {
    "tags": []
   },
   "source": [
    "# Callbacks"
   ]
  },
  {
   "cell_type": "markdown",
   "id": "a1adaa4a-a820-4ce3-afe3-d28a46d57ba9",
   "metadata": {
    "tags": []
   },
   "source": [
    "## Callbacks as GUI events"
   ]
  },
  {
   "cell_type": "code",
   "execution_count": 3,
   "id": "26e4d132-e3fb-4a79-a64d-321252246206",
   "metadata": {},
   "outputs": [],
   "source": [
    "import ipywidgets as widgets"
   ]
  },
  {
   "cell_type": "code",
   "execution_count": 4,
   "id": "114d28e2-1c49-4221-a495-4084d2263a65",
   "metadata": {},
   "outputs": [],
   "source": [
    "def f(o): print('hi')"
   ]
  },
  {
   "cell_type": "code",
   "execution_count": 5,
   "id": "4e0759a2-3bbe-405c-be1c-d843f7dad44d",
   "metadata": {},
   "outputs": [],
   "source": [
    "w = widgets.Button(description='Click me')"
   ]
  },
  {
   "cell_type": "code",
   "execution_count": 6,
   "id": "ce8912e0-78fa-4f57-a3d3-89cc11b40309",
   "metadata": {},
   "outputs": [
    {
     "data": {
      "application/vnd.jupyter.widget-view+json": {
       "model_id": "3a2ec79aaa434acd89f89775277c3fb4",
       "version_major": 2,
       "version_minor": 0
      },
      "text/plain": [
       "Button(description='Click me', style=ButtonStyle())"
      ]
     },
     "metadata": {},
     "output_type": "display_data"
    }
   ],
   "source": [
    "w"
   ]
  },
  {
   "cell_type": "code",
   "execution_count": 7,
   "id": "b6d433e3-270d-4e7f-9d25-4c274e9bfa7f",
   "metadata": {},
   "outputs": [],
   "source": [
    "w.on_click(f)"
   ]
  },
  {
   "cell_type": "markdown",
   "id": "9473c251-fd63-489f-9a5d-eea4334f572c",
   "metadata": {},
   "source": [
    "## Creating your own callback"
   ]
  },
  {
   "cell_type": "code",
   "execution_count": 8,
   "id": "08eb021e-8b30-478e-9e7b-5b934ea77079",
   "metadata": {},
   "outputs": [],
   "source": [
    "from time import sleep"
   ]
  },
  {
   "cell_type": "code",
   "execution_count": 9,
   "id": "9df9630d-2e60-4a6f-b07d-8fba5f42fd04",
   "metadata": {},
   "outputs": [],
   "source": [
    "def slow_calculation():\n",
    "    res = 0\n",
    "    for i in range(5):\n",
    "        res += i*i\n",
    "        sleep(1)\n",
    "    return res"
   ]
  },
  {
   "cell_type": "code",
   "execution_count": 10,
   "id": "9025658d-4e85-4b2d-bd11-51cb2fd2e3ae",
   "metadata": {},
   "outputs": [
    {
     "data": {
      "text/plain": [
       "30"
      ]
     },
     "execution_count": 10,
     "metadata": {},
     "output_type": "execute_result"
    }
   ],
   "source": [
    "slow_calculation()"
   ]
  },
  {
   "cell_type": "code",
   "execution_count": 11,
   "id": "c93b268e-0d13-439b-93b7-d05cda39cb5f",
   "metadata": {},
   "outputs": [],
   "source": [
    "def slow_calculation(cb=None):\n",
    "    res = 0\n",
    "    for i in range(5):\n",
    "        res += i*i\n",
    "        sleep(1)\n",
    "        if cb: cb(i)\n",
    "    return res"
   ]
  },
  {
   "cell_type": "code",
   "execution_count": 12,
   "id": "a4304925-bbe4-4eea-bab3-d94c4fbc5864",
   "metadata": {},
   "outputs": [],
   "source": [
    "def show_progress(epoch):\n",
    "    print(f'Awesome! We finished epoch {epoch}!')"
   ]
  },
  {
   "cell_type": "code",
   "execution_count": 13,
   "id": "d7d33c9b-1aab-443a-9d06-42079c3f6ed9",
   "metadata": {},
   "outputs": [
    {
     "name": "stdout",
     "output_type": "stream",
     "text": [
      "Awesome! We finished epoch 0!\n",
      "Awesome! We finished epoch 1!\n",
      "Awesome! We finished epoch 2!\n",
      "Awesome! We finished epoch 3!\n",
      "Awesome! We finished epoch 4!\n"
     ]
    },
    {
     "data": {
      "text/plain": [
       "30"
      ]
     },
     "execution_count": 13,
     "metadata": {},
     "output_type": "execute_result"
    }
   ],
   "source": [
    "slow_calculation(show_progress)"
   ]
  },
  {
   "cell_type": "code",
   "execution_count": 14,
   "id": "50c10efb-def0-4af1-805e-a0a11d477b63",
   "metadata": {},
   "outputs": [
    {
     "name": "stdout",
     "output_type": "stream",
     "text": [
      "Awesome! We finished epoch 0\n",
      "Awesome! We finished epoch 1\n",
      "Awesome! We finished epoch 2\n",
      "Awesome! We finished epoch 3\n",
      "Awesome! We finished epoch 4\n"
     ]
    },
    {
     "data": {
      "text/plain": [
       "30"
      ]
     },
     "execution_count": 14,
     "metadata": {},
     "output_type": "execute_result"
    }
   ],
   "source": [
    "slow_calculation(lambda epoch: print(f'Awesome! We finished epoch {epoch}'))"
   ]
  },
  {
   "cell_type": "code",
   "execution_count": 15,
   "id": "e13f52e1-ee61-4407-a220-76d9bf7cc438",
   "metadata": {},
   "outputs": [],
   "source": [
    "def show_progress(exclamation, epoch):\n",
    "    print(f\"{exclamation}! We've finished epoch {epoch}\")"
   ]
  },
  {
   "cell_type": "code",
   "execution_count": 16,
   "id": "3843060f-1bd2-41c5-b149-62569a6e5c52",
   "metadata": {},
   "outputs": [
    {
     "name": "stdout",
     "output_type": "stream",
     "text": [
      "Ok i guess! We've finished epoch 0\n",
      "Ok i guess! We've finished epoch 1\n",
      "Ok i guess! We've finished epoch 2\n",
      "Ok i guess! We've finished epoch 3\n",
      "Ok i guess! We've finished epoch 4\n"
     ]
    },
    {
     "data": {
      "text/plain": [
       "30"
      ]
     },
     "execution_count": 16,
     "metadata": {},
     "output_type": "execute_result"
    }
   ],
   "source": [
    "slow_calculation(lambda epoch: show_progress(\"Ok i guess\", epoch))"
   ]
  },
  {
   "cell_type": "code",
   "execution_count": 17,
   "id": "54d9472e-4d11-45b2-af76-ff11dc706e77",
   "metadata": {},
   "outputs": [],
   "source": [
    "def make_show_progress(exclamation):\n",
    "    def _inner(epoch): print(f\"{exclamation}! We've finished epoch {epoch}!\")\n",
    "    \n",
    "    return _inner"
   ]
  },
  {
   "cell_type": "code",
   "execution_count": 18,
   "id": "c7dc7f1e-68cf-409e-9f6b-32b8ef9e07fb",
   "metadata": {},
   "outputs": [
    {
     "name": "stdout",
     "output_type": "stream",
     "text": [
      "nice! We've finished epoch 0!\n",
      "nice! We've finished epoch 1!\n",
      "nice! We've finished epoch 2!\n",
      "nice! We've finished epoch 3!\n",
      "nice! We've finished epoch 4!\n"
     ]
    },
    {
     "data": {
      "text/plain": [
       "30"
      ]
     },
     "execution_count": 18,
     "metadata": {},
     "output_type": "execute_result"
    }
   ],
   "source": [
    "slow_calculation(make_show_progress(\"nice\"))"
   ]
  },
  {
   "cell_type": "code",
   "execution_count": 19,
   "id": "d5539351-a462-468f-96e9-a7f17221d493",
   "metadata": {},
   "outputs": [],
   "source": [
    "def make_show_progress(exclamation):\n",
    "    _inner = lambda epoch: print(f\"{exclamation}! We've finished epoch {epoch}\")\n",
    "    \n",
    "    return _inner"
   ]
  },
  {
   "cell_type": "code",
   "execution_count": 20,
   "id": "e031541f-0f70-424f-b096-7e4123755bca",
   "metadata": {},
   "outputs": [
    {
     "name": "stdout",
     "output_type": "stream",
     "text": [
      "Nice! We've finished epoch 0\n",
      "Nice! We've finished epoch 1\n",
      "Nice! We've finished epoch 2\n",
      "Nice! We've finished epoch 3\n",
      "Nice! We've finished epoch 4\n"
     ]
    },
    {
     "data": {
      "text/plain": [
       "30"
      ]
     },
     "execution_count": 20,
     "metadata": {},
     "output_type": "execute_result"
    }
   ],
   "source": [
    "slow_calculation(make_show_progress('Nice'))"
   ]
  },
  {
   "cell_type": "code",
   "execution_count": 21,
   "id": "41e785be-8ba2-4989-920a-a4dcb0c62253",
   "metadata": {},
   "outputs": [],
   "source": [
    "f2 = make_show_progress('Terrific')"
   ]
  },
  {
   "cell_type": "code",
   "execution_count": 22,
   "id": "735ad6fa-c430-4e7d-947b-3e5a696e8c77",
   "metadata": {},
   "outputs": [
    {
     "name": "stdout",
     "output_type": "stream",
     "text": [
      "Terrific! We've finished epoch 0\n",
      "Terrific! We've finished epoch 1\n",
      "Terrific! We've finished epoch 2\n",
      "Terrific! We've finished epoch 3\n",
      "Terrific! We've finished epoch 4\n"
     ]
    },
    {
     "data": {
      "text/plain": [
       "30"
      ]
     },
     "execution_count": 22,
     "metadata": {},
     "output_type": "execute_result"
    }
   ],
   "source": [
    "slow_calculation(f2)"
   ]
  },
  {
   "cell_type": "code",
   "execution_count": 23,
   "id": "723fd921-d1bb-4cd7-b070-978a11ddcdaf",
   "metadata": {},
   "outputs": [],
   "source": [
    "from functools import partial"
   ]
  },
  {
   "cell_type": "code",
   "execution_count": 24,
   "id": "9520de75-354d-4e90-abcf-2064a624b6eb",
   "metadata": {},
   "outputs": [],
   "source": [
    "f2 = partial(show_progress, 'terrific')"
   ]
  },
  {
   "cell_type": "code",
   "execution_count": 25,
   "id": "8a3066c8-6932-40db-9d05-a1db04238de4",
   "metadata": {},
   "outputs": [
    {
     "name": "stdout",
     "output_type": "stream",
     "text": [
      "terrific! We've finished epoch 0\n",
      "terrific! We've finished epoch 1\n",
      "terrific! We've finished epoch 2\n",
      "terrific! We've finished epoch 3\n",
      "terrific! We've finished epoch 4\n"
     ]
    },
    {
     "data": {
      "text/plain": [
       "30"
      ]
     },
     "execution_count": 25,
     "metadata": {},
     "output_type": "execute_result"
    }
   ],
   "source": [
    "slow_calculation(f2)"
   ]
  },
  {
   "cell_type": "markdown",
   "id": "ee99ed33-25b6-4de2-a7fb-b9b696093b52",
   "metadata": {},
   "source": [
    "## Callbacks as callable classes"
   ]
  },
  {
   "cell_type": "code",
   "execution_count": 26,
   "id": "8fc8e547-ad8b-4041-911f-9221d6572b8f",
   "metadata": {},
   "outputs": [],
   "source": [
    "class ProgressShowingCallback():\n",
    "    def __init__(self, exclamation='Awesome'): self.exclamation = exclamation\n",
    "    def __call__(self, epoch): print(f'{self.exclamation}! We have finished epoch {epoch}!')"
   ]
  },
  {
   "cell_type": "code",
   "execution_count": 29,
   "id": "e63e8f3e-f74e-49ee-b0eb-614f87602639",
   "metadata": {},
   "outputs": [],
   "source": [
    "cb = ProgressShowingCallback('Just super')"
   ]
  },
  {
   "cell_type": "code",
   "execution_count": 30,
   "id": "134c12ec-1373-42b7-b919-02cd8f79a5c2",
   "metadata": {},
   "outputs": [
    {
     "name": "stdout",
     "output_type": "stream",
     "text": [
      "Just super! We have finished epoch 0!\n",
      "Just super! We have finished epoch 1!\n",
      "Just super! We have finished epoch 2!\n",
      "Just super! We have finished epoch 3!\n",
      "Just super! We have finished epoch 4!\n"
     ]
    },
    {
     "data": {
      "text/plain": [
       "30"
      ]
     },
     "execution_count": 30,
     "metadata": {},
     "output_type": "execute_result"
    }
   ],
   "source": [
    "slow_calculation(cb)"
   ]
  },
  {
   "cell_type": "markdown",
   "id": "14d5872f-e077-473c-872b-97643a3224e0",
   "metadata": {},
   "source": [
    "## Multiple Callbacks funcs; *args and **kwargs"
   ]
  },
  {
   "cell_type": "code",
   "execution_count": 33,
   "id": "d99f48b9-f28d-440b-a2aa-3da79207e6af",
   "metadata": {},
   "outputs": [],
   "source": [
    "def f(*args, **kwargs): print(f\"args: {args}; kwargs: {kwargs}\")"
   ]
  },
  {
   "cell_type": "code",
   "execution_count": 34,
   "id": "900a2665-6ac2-4e8a-a98e-db237d420054",
   "metadata": {},
   "outputs": [
    {
     "name": "stdout",
     "output_type": "stream",
     "text": [
      "args: (3, 'a'); kwargs: {'testing': 'hello'}\n"
     ]
    }
   ],
   "source": [
    "f(3, 'a', testing='hello')"
   ]
  },
  {
   "cell_type": "code",
   "execution_count": 35,
   "id": "820376d5-afd5-47ee-bbee-9656b15e08a2",
   "metadata": {},
   "outputs": [],
   "source": [
    "def slow_calculation(cb=None):\n",
    "    res = 0\n",
    "    for i in range(5):\n",
    "        if cb: cb.before_calc(i)\n",
    "        res += i*i\n",
    "        sleep(1)\n",
    "        if cb: cb.after_calc(i, val=res)\n",
    "    return res"
   ]
  },
  {
   "cell_type": "code",
   "execution_count": 36,
   "id": "01d5151d-fb1a-46eb-9698-0d32d3848a0d",
   "metadata": {},
   "outputs": [],
   "source": [
    "class PrintStepCallback():\n",
    "    def __init__(self): pass\n",
    "    def before_calc(self, *args, **kwargs): print(\"About to start\")\n",
    "    def after_calc(self, *args, **kwargs): print(\"Done step\")"
   ]
  },
  {
   "cell_type": "code",
   "execution_count": 54,
   "id": "00de7f4b-631c-4d6e-b957-709aa9abd1b6",
   "metadata": {},
   "outputs": [
    {
     "name": "stdout",
     "output_type": "stream",
     "text": [
      "About to start\n",
      "Done step\n",
      "About to start\n",
      "Done step\n",
      "About to start\n",
      "Done step\n",
      "About to start\n",
      "Done step\n",
      "About to start\n",
      "Done step\n"
     ]
    },
    {
     "data": {
      "text/plain": [
       "30"
      ]
     },
     "execution_count": 54,
     "metadata": {},
     "output_type": "execute_result"
    }
   ],
   "source": [
    "slow_calculation(PrintStepCallback())"
   ]
  },
  {
   "cell_type": "code",
   "execution_count": 55,
   "id": "ffc1c41c-b8c6-45bb-b546-2822e195c57d",
   "metadata": {},
   "outputs": [],
   "source": [
    "class PrintStatusCallback():\n",
    "    def __init__(self): pass\n",
    "    def before_calc(self, epoch, **kwargs): print(f\"About to start: {epoch}\")\n",
    "    def after_calc(self, epoch, val, **kwargs): print(f\"After {epoch}: {val}\")"
   ]
  },
  {
   "cell_type": "code",
   "execution_count": 56,
   "id": "87b85c06-cb08-4818-a21d-6959c23dbd3c",
   "metadata": {},
   "outputs": [
    {
     "name": "stdout",
     "output_type": "stream",
     "text": [
      "About to start: 0\n",
      "After 0: 0\n",
      "About to start: 1\n",
      "After 1: 1\n",
      "About to start: 2\n",
      "After 2: 5\n",
      "About to start: 3\n",
      "After 3: 14\n",
      "About to start: 4\n",
      "After 4: 30\n"
     ]
    },
    {
     "data": {
      "text/plain": [
       "30"
      ]
     },
     "execution_count": 56,
     "metadata": {},
     "output_type": "execute_result"
    }
   ],
   "source": [
    "slow_calculation(PrintStatusCallback())"
   ]
  },
  {
   "cell_type": "code",
   "execution_count": 57,
   "id": "57818b2a-9a7a-4595-a151-452242a69d8f",
   "metadata": {},
   "outputs": [
    {
     "data": {
      "text/plain": [
       "__main__.PrintStatusCallback"
      ]
     },
     "execution_count": 57,
     "metadata": {},
     "output_type": "execute_result"
    }
   ],
   "source": [
    "PrintStatusCallback"
   ]
  },
  {
   "cell_type": "code",
   "execution_count": 58,
   "id": "dd41925a-0be2-44f6-8074-42a3614823c8",
   "metadata": {},
   "outputs": [
    {
     "data": {
      "text/plain": [
       "<__main__.PrintStatusCallback at 0x7f58bcb4a670>"
      ]
     },
     "execution_count": 58,
     "metadata": {},
     "output_type": "execute_result"
    }
   ],
   "source": [
    "PrintStatusCallback()"
   ]
  },
  {
   "cell_type": "markdown",
   "id": "41681bb1-bc92-4e67-9974-aa7a9bee2814",
   "metadata": {},
   "source": [
    "# Modyfing behaviour"
   ]
  },
  {
   "cell_type": "code",
   "execution_count": 59,
   "id": "fe3cffaa-0fc9-4a56-b76b-c1b03e532599",
   "metadata": {},
   "outputs": [],
   "source": [
    "def slow_calculation(cb=None):\n",
    "    res = 0\n",
    "    for i in range(5):\n",
    "        if cb and hasattr(cb, 'before_calc'): cb.before_calc(i)\n",
    "        res += i*i\n",
    "        sleep(1)\n",
    "        if cb and  hasattr(cb, 'after_calc'):\n",
    "            if cb.after_calc(i, res):\n",
    "                print('Stopping early')\n",
    "                break\n",
    "    return res"
   ]
  },
  {
   "cell_type": "code",
   "execution_count": 60,
   "id": "b6a7d2d6-8d89-429d-b3f2-d6ab3fb7a9b9",
   "metadata": {},
   "outputs": [],
   "source": [
    "class PrintAfterCallback():\n",
    "    def after_calc(self, epoch, val):\n",
    "        print(f\"After {epoch}: {val}\")\n",
    "        if val > 10: return True"
   ]
  },
  {
   "cell_type": "code",
   "execution_count": 62,
   "id": "6eb3379b-25ff-4653-b5b2-685c2c235492",
   "metadata": {},
   "outputs": [
    {
     "name": "stdout",
     "output_type": "stream",
     "text": [
      "After 0: 0\n",
      "After 1: 1\n",
      "After 2: 5\n",
      "After 3: 14\n",
      "Stopping early\n"
     ]
    },
    {
     "data": {
      "text/plain": [
       "14"
      ]
     },
     "execution_count": 62,
     "metadata": {},
     "output_type": "execute_result"
    }
   ],
   "source": [
    "slow_calculation(PrintAfterCallback())"
   ]
  },
  {
   "cell_type": "code",
   "execution_count": 86,
   "id": "e3388664-19f7-4f7c-9cfe-0b5c06c93683",
   "metadata": {},
   "outputs": [],
   "source": [
    "class SlowCalculator():\n",
    "    def __init__(self, cb=None): self.cb, self.res = cb, 0\n",
    "    \n",
    "    def callback(self, cb_name, *args):\n",
    "        if not self.cb: return\n",
    "        cb = getattr(self.cb, cb_name, None)\n",
    "        if cb: return cb(self, *args)\n",
    "        \n",
    "    def calc(self):\n",
    "        for i in range(5):\n",
    "            self.callback('before_calc', i)\n",
    "            self.res += i*i\n",
    "            sleep(1)\n",
    "            if self.callback('after_calc', i):\n",
    "                print('stopping early')\n",
    "                break"
   ]
  },
  {
   "cell_type": "code",
   "execution_count": 87,
   "id": "f76b0748-d229-4cc2-a0e9-c6091cec8801",
   "metadata": {},
   "outputs": [],
   "source": [
    "class ModyfyingCallback():\n",
    "    def after_calc(self, calc, epoch):\n",
    "        print(f\"After {epoch}: {calc.res}\")\n",
    "        if calc.res > 10: return True\n",
    "        if calc.res < 3:  calc.res = calc.res * 2"
   ]
  },
  {
   "cell_type": "code",
   "execution_count": 95,
   "id": "1cef7ad7-edeb-4e55-97c6-bd0293e00c9e",
   "metadata": {},
   "outputs": [],
   "source": [
    "calculator = SlowCalculator(ModyfyingCallback())"
   ]
  },
  {
   "cell_type": "code",
   "execution_count": 96,
   "id": "93dd1d6a-4b43-4c98-b065-9082ec00d673",
   "metadata": {},
   "outputs": [
    {
     "data": {
      "text/plain": [
       "0"
      ]
     },
     "execution_count": 96,
     "metadata": {},
     "output_type": "execute_result"
    }
   ],
   "source": [
    "calculator.res"
   ]
  },
  {
   "cell_type": "code",
   "execution_count": 97,
   "id": "8616e3bc-0c25-4c0f-b4ae-49e75fb7ab5b",
   "metadata": {},
   "outputs": [
    {
     "name": "stdout",
     "output_type": "stream",
     "text": [
      "After 0: 0\n",
      "After 1: 1\n",
      "After 2: 6\n",
      "After 3: 15\n",
      "stopping early\n"
     ]
    },
    {
     "data": {
      "text/plain": [
       "15"
      ]
     },
     "execution_count": 97,
     "metadata": {},
     "output_type": "execute_result"
    }
   ],
   "source": [
    "calculator.calc()\n",
    "calculator.res"
   ]
  },
  {
   "cell_type": "markdown",
   "id": "b71972fd-a00e-4f98-b367-309bf56b84cb",
   "metadata": {},
   "source": [
    "## `__dunder__` thingies"
   ]
  },
  {
   "cell_type": "code",
   "execution_count": 102,
   "id": "06c6ccf3-03a8-475c-933f-a479976c2565",
   "metadata": {},
   "outputs": [],
   "source": [
    "class SloppyAdder():\n",
    "    def __init__(self, o): self.o = o\n",
    "    def __add__(self, b): return SloppyAdder(self.o + b.o + 0.01)\n",
    "    def __repr__(self): return str(self.o)"
   ]
  },
  {
   "cell_type": "code",
   "execution_count": 103,
   "id": "e3fc8161-9468-47c1-b220-e89327dd014f",
   "metadata": {},
   "outputs": [
    {
     "data": {
      "text/plain": [
       "3.01"
      ]
     },
     "execution_count": 103,
     "metadata": {},
     "output_type": "execute_result"
    }
   ],
   "source": [
    "a = SloppyAdder(1)\n",
    "b = SloppyAdder(2)\n",
    "a + b"
   ]
  },
  {
   "cell_type": "code",
   "execution_count": 106,
   "id": "5b25fbd5-d6e5-4be3-8586-17a57b217a54",
   "metadata": {},
   "outputs": [
    {
     "data": {
      "text/plain": [
       "1"
      ]
     },
     "execution_count": 106,
     "metadata": {},
     "output_type": "execute_result"
    }
   ],
   "source": [
    "a"
   ]
  },
  {
   "cell_type": "markdown",
   "id": "e2d771c7-4ba4-409c-9d3f-34e07156efea",
   "metadata": {},
   "source": [
    "# Variance and stuff"
   ]
  },
  {
   "cell_type": "code",
   "execution_count": 107,
   "id": "5e84bb8f-321c-4ef9-a8f8-0c2ebe1963ae",
   "metadata": {},
   "outputs": [],
   "source": [
    "t = torch.tensor([1., 2, 4, 18])"
   ]
  },
  {
   "cell_type": "code",
   "execution_count": 108,
   "id": "be397162-3e63-464e-97c4-5477293858a1",
   "metadata": {},
   "outputs": [
    {
     "data": {
      "text/plain": [
       "tensor(6.2500)"
      ]
     },
     "execution_count": 108,
     "metadata": {},
     "output_type": "execute_result"
    }
   ],
   "source": [
    "m = t.mean(); m"
   ]
  },
  {
   "cell_type": "code",
   "execution_count": 109,
   "id": "b6b17640-6500-479e-ba11-c1ae48cd0798",
   "metadata": {},
   "outputs": [
    {
     "data": {
      "text/plain": [
       "tensor(0.)"
      ]
     },
     "execution_count": 109,
     "metadata": {},
     "output_type": "execute_result"
    }
   ],
   "source": [
    "(t-m).mean()"
   ]
  },
  {
   "cell_type": "code",
   "execution_count": 110,
   "id": "fc4de389-d567-42df-9faf-94fa05915e03",
   "metadata": {},
   "outputs": [
    {
     "data": {
      "text/plain": [
       "tensor(5.8750)"
      ]
     },
     "execution_count": 110,
     "metadata": {},
     "output_type": "execute_result"
    }
   ],
   "source": [
    "(t-m).abs().mean()"
   ]
  },
  {
   "cell_type": "code",
   "execution_count": 111,
   "id": "ec59356e-09f3-4bf7-a969-b413a2bc599c",
   "metadata": {},
   "outputs": [
    {
     "data": {
      "text/plain": [
       "tensor(47.1875)"
      ]
     },
     "execution_count": 111,
     "metadata": {},
     "output_type": "execute_result"
    }
   ],
   "source": [
    "(t-m).pow(2).mean()"
   ]
  },
  {
   "cell_type": "code",
   "execution_count": 113,
   "id": "f0fa76bb-5c0b-4135-b402-36baa9038744",
   "metadata": {},
   "outputs": [
    {
     "data": {
      "text/plain": [
       "tensor(6.8693)"
      ]
     },
     "execution_count": 113,
     "metadata": {},
     "output_type": "execute_result"
    }
   ],
   "source": [
    "(t-m).pow(2).mean().sqrt()"
   ]
  },
  {
   "cell_type": "code",
   "execution_count": 116,
   "id": "5496507f-39bd-488c-8316-877d981e1032",
   "metadata": {},
   "outputs": [
    {
     "data": {
      "text/plain": [
       "(tensor(47.1875), tensor(47.1875))"
      ]
     },
     "execution_count": 116,
     "metadata": {},
     "output_type": "execute_result"
    }
   ],
   "source": [
    "(t-m).pow(2).mean(), (t*t).mean() - (m*m)"
   ]
  },
  {
   "cell_type": "markdown",
   "id": "34d8e94e-e403-414d-999e-cf7506fd00cf",
   "metadata": {},
   "source": [
    "## Covariance and correlation"
   ]
  },
  {
   "cell_type": "code",
   "execution_count": 127,
   "id": "527fdce9-8280-42d6-b7b2-ed61ab315440",
   "metadata": {},
   "outputs": [
    {
     "data": {
      "text/plain": [
       "tensor([ 1.,  2.,  4., 18.])"
      ]
     },
     "execution_count": 127,
     "metadata": {},
     "output_type": "execute_result"
    }
   ],
   "source": [
    "t "
   ]
  },
  {
   "cell_type": "code",
   "execution_count": 128,
   "id": "d6ddbd00-ff44-4d45-99a1-a58a6cc62163",
   "metadata": {},
   "outputs": [
    {
     "data": {
      "text/plain": [
       "tensor([1.1389, 1.0991, 1.0308, 0.9407])"
      ]
     },
     "execution_count": 128,
     "metadata": {},
     "output_type": "execute_result"
    }
   ],
   "source": [
    "torch.randn_like(t)/10 + 0.95"
   ]
  },
  {
   "cell_type": "code",
   "execution_count": 132,
   "id": "03db073c-be73-4faf-afa0-d08add0ebbee",
   "metadata": {},
   "outputs": [
    {
     "data": {
      "image/png": "[encoded data removed]",
      "text/plain": [
       "<Figure size 432x288 with 1 Axes>"
      ]
     },
     "metadata": {
      "needs_background": "light"
     },
     "output_type": "display_data"
    }
   ],
   "source": [
    "u = 2 * t\n",
    "u *= torch.randn_like(t) / 10 + 0.95\n",
    "\n",
    "plt.scatter(t,u);"
   ]
  },
  {
   "cell_type": "code",
   "execution_count": 133,
   "id": "b05bbe9f-fa62-41cf-af65-f821f050813a",
   "metadata": {},
   "outputs": [
    {
     "data": {
      "text/plain": [
       "tensor([ 54.0734,  33.3165,  10.1432, 266.1020])"
      ]
     },
     "execution_count": 133,
     "metadata": {},
     "output_type": "execute_result"
    }
   ],
   "source": [
    "prod = (t-t.mean()) * (u-u.mean()); prod"
   ]
  },
  {
   "cell_type": "code",
   "execution_count": 134,
   "id": "54b47c05-c243-4157-a153-31111f0531cc",
   "metadata": {},
   "outputs": [
    {
     "data": {
      "text/plain": [
       "tensor(90.9088)"
      ]
     },
     "execution_count": 134,
     "metadata": {},
     "output_type": "execute_result"
    }
   ],
   "source": [
    "prod.mean()"
   ]
  },
  {
   "cell_type": "code",
   "execution_count": 135,
   "id": "87443663-cf5b-47f5-a3bb-e921bf3e28fb",
   "metadata": {},
   "outputs": [
    {
     "data": {
      "image/png": "[encoded data removed]",
      "text/plain": [
       "<Figure size 432x288 with 1 Axes>"
      ]
     },
     "metadata": {
      "needs_background": "light"
     },
     "output_type": "display_data"
    }
   ],
   "source": [
    "v = torch.randn_like(t)\n",
    "\n",
    "plt.scatter(t,v);"
   ]
  },
  {
   "cell_type": "code",
   "execution_count": 136,
   "id": "5ca322bf-00ed-48ec-8391-bdda422f23c5",
   "metadata": {},
   "outputs": [
    {
     "data": {
      "text/plain": [
       "tensor(-5.1353)"
      ]
     },
     "execution_count": 136,
     "metadata": {},
     "output_type": "execute_result"
    }
   ],
   "source": [
    "((t-t.mean()) * (v-v.mean())).mean()"
   ]
  },
  {
   "cell_type": "code",
   "execution_count": 137,
   "id": "018fd375-c162-4893-a513-ced90ca1eaaa",
   "metadata": {},
   "outputs": [
    {
     "data": {
      "text/plain": [
       "tensor(-5.1353)"
      ]
     },
     "execution_count": 137,
     "metadata": {},
     "output_type": "execute_result"
    }
   ],
   "source": [
    "cov = (t*v).mean() - t.mean()*v.mean(); cov"
   ]
  },
  {
   "cell_type": "code",
   "execution_count": 138,
   "id": "adb43a8a-b270-4bc6-94a9-2afa07fb9fc7",
   "metadata": {},
   "outputs": [
    {
     "data": {
      "text/plain": [
       "tensor(-0.6797)"
      ]
     },
     "execution_count": 138,
     "metadata": {},
     "output_type": "execute_result"
    }
   ],
   "source": [
    "cov / (t.std() * v.std())"
   ]
  },
  {
   "cell_type": "code",
   "execution_count": 139,
   "id": "5297e644-39cd-466a-9968-e9eb6f88514f",
   "metadata": {},
   "outputs": [],
   "source": [
    "def log_softmax(x): return x - x.exp().sum(-1, keepdim=True).log()"
   ]
  },
  {
   "cell_type": "code",
   "execution_count": null,
   "id": "7765f561-60ca-48a7-b9b0-67dbc48cf7d2",
   "metadata": {},
   "outputs": [],
   "source": []
  }
 ],
 "metadata": {
  "kernelspec": {
   "display_name": "Python 3 (ipykernel)",
   "language": "python",
   "name": "python3"
  },
  "language_info": {
   "codemirror_mode": {
    "name": "ipython",
    "version": 3
   },
   "file_extension": ".py",
   "mimetype": "text/x-python",
   "name": "python",
   "nbconvert_exporter": "python",
   "pygments_lexer": "ipython3",
   "version": "3.8.8"
  }
 },
 "nbformat": 4,
 "nbformat_minor": 5
}
