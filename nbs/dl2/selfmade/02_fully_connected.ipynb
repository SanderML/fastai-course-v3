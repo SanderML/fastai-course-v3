{
 "cells": [
  {
   "cell_type": "code",
   "execution_count": 1,
   "id": "929af577-b051-487f-8419-04587d68185d",
   "metadata": {},
   "outputs": [],
   "source": [
    "%load_ext autoreload\n",
    "%autoreload 2\n",
    "%matplotlib inline"
   ]
  },
  {
   "cell_type": "markdown",
   "id": "de035e52-129b-42b8-ac54-eab8aee308d0",
   "metadata": {},
   "source": [
    "# The forward and backward passes"
   ]
  },
  {
   "cell_type": "code",
   "execution_count": 2,
   "id": "eee05712-a57e-41f9-a984-040d8545dbf9",
   "metadata": {},
   "outputs": [],
   "source": [
    "#export\n",
    "from exp.nb_01 import *"
   ]
  },
  {
   "cell_type": "code",
   "execution_count": 3,
   "id": "5715c8ba-e4f2-4300-9415-ab273705438c",
   "metadata": {},
   "outputs": [],
   "source": [
    "def x_to_tensor(listed):\n",
    "    return tensor(list(map(array, listed)), dtype=torch.float32).reshape(len(listed), -1)\n",
    "\n",
    "def y_to_tensor(listed):\n",
    "    return tensor(array(listed))"
   ]
  },
  {
   "cell_type": "code",
   "execution_count": 6,
   "id": "36d53310-eb1d-47ac-a76b-3d5014426d57",
   "metadata": {},
   "outputs": [],
   "source": [
    "def get_data():\n",
    "    mnist = DataBlock(blocks=(ImageBlock(cls=PILImageBW), CategoryBlock),\n",
    "                     get_items = get_image_files,\n",
    "                     splitter = GrandparentSplitter('training', 'testing'),\n",
    "                     get_y = parent_label)\n",
    "    dls = mnist.dataloaders(untar_data(URLs.MNIST))\n",
    "    \n",
    "    x_train, y_train, x_valid, y_valid = [], [], [], []\n",
    "    \n",
    "    for elem in dls.train_ds:\n",
    "        x_train.append(elem[0])\n",
    "        y_train.append(elem[1])\n",
    "    for elem in dls.valid_ds:\n",
    "        x_valid.append(elem[0])\n",
    "        y_valid.append(elem[1])\n",
    "        \n",
    "    return x_to_tensor(x_train), y_to_tensor(y_train), x_to_tensor(x_valid), y_to_tensor(y_valid)\n",
    "    \n",
    "def normalize(x, m, s): return (x-m)/s"
   ]
  },
  {
   "cell_type": "code",
   "execution_count": 24,
   "id": "69382fc3-c233-4e8e-98aa-8f10dcf6942a",
   "metadata": {},
   "outputs": [
    {
     "name": "stdout",
     "output_type": "stream",
     "text": [
      "CPU times: user 42 s, sys: 1.18 s, total: 43.2 s\n",
      "Wall time: 42.8 s\n"
     ]
    }
   ],
   "source": [
    "%time x_train, y_train, x_valid, y_valid = get_data()"
   ]
  },
  {
   "cell_type": "code",
   "execution_count": 25,
   "id": "5569f089-38d7-43eb-a09e-610ec01f491d",
   "metadata": {},
   "outputs": [],
   "source": [
    "x_train, x_valid = x_train / 255.0, x_valid / 255.0"
   ]
  },
  {
   "cell_type": "code",
   "execution_count": 26,
   "id": "46873bc9-8eb5-4545-bd1b-8efdbf2437cd",
   "metadata": {},
   "outputs": [
    {
     "data": {
      "text/plain": [
       "(tensor(0.1307), tensor(0.3081))"
      ]
     },
     "execution_count": 26,
     "metadata": {},
     "output_type": "execute_result"
    }
   ],
   "source": [
    "train_mean, train_std = x_train.mean(), x_train.std()\n",
    "train_mean, train_std"
   ]
  },
  {
   "cell_type": "code",
   "execution_count": 27,
   "id": "b3341580-70bb-493b-b2f8-b76cea28272a",
   "metadata": {},
   "outputs": [],
   "source": [
    "x_train = normalize(x_train, train_mean, train_std)\n",
    "x_valid = normalize(x_valid, train_mean, train_std)"
   ]
  },
  {
   "cell_type": "code",
   "execution_count": 28,
   "id": "7c257fb2-a0e8-4379-abd8-5a22beae4e76",
   "metadata": {},
   "outputs": [
    {
     "data": {
      "text/plain": [
       "(tensor(-5.9790e-09), tensor(1.0000))"
      ]
     },
     "execution_count": 28,
     "metadata": {},
     "output_type": "execute_result"
    }
   ],
   "source": [
    "train_mean, train_std = x_train.mean(), x_train.std()\n",
    "train_mean, train_std"
   ]
  },
  {
   "cell_type": "code",
   "execution_count": 29,
   "id": "0e9aae31-f6a0-46ae-91ef-15582a32239c",
   "metadata": {},
   "outputs": [],
   "source": [
    "#export\n",
    "def test_near_zero(a, tol=1e-3): assert a.abs() < tol, f'Not Near zero: {a}'"
   ]
  },
  {
   "cell_type": "code",
   "execution_count": 31,
   "id": "80ded089-891a-4418-96e8-8072714a23d5",
   "metadata": {},
   "outputs": [],
   "source": [
    "test_near_zero(train_mean)\n",
    "test_near_zero(1 - train_std)"
   ]
  },
  {
   "cell_type": "code",
   "execution_count": 32,
   "id": "f56ee4b2-e7f5-41a9-bb78-89fd67388a0e",
   "metadata": {},
   "outputs": [
    {
     "data": {
      "text/plain": [
       "(60000, 784, tensor(10))"
      ]
     },
     "execution_count": 32,
     "metadata": {},
     "output_type": "execute_result"
    }
   ],
   "source": [
    "n, m = x_train.shape\n",
    "c = y_train.max() + 1\n",
    "n, m, c"
   ]
  },
  {
   "cell_type": "markdown",
   "id": "cd9193a7-5878-465f-99e4-d5eddadfb1e1",
   "metadata": {},
   "source": [
    "# Foundations version"
   ]
  },
  {
   "cell_type": "markdown",
   "id": "ec6ef05b-5090-4f23-b2bf-3b1693175acd",
   "metadata": {},
   "source": [
    "## Basic architecture"
   ]
  },
  {
   "cell_type": "code",
   "execution_count": 33,
   "id": "c3b78d65-3935-4fb1-a114-d104ff267c5b",
   "metadata": {},
   "outputs": [],
   "source": [
    "# num hidden\n",
    "nh = 50"
   ]
  },
  {
   "cell_type": "code",
   "execution_count": 34,
   "id": "bb5ada73-5df9-4c98-8d94-ef80ba36ff7e",
   "metadata": {},
   "outputs": [],
   "source": [
    "# standard xavier init\n",
    "w1 = torch.randn(m,nh) / math.sqrt(m)\n",
    "b1 = torch.zeros(nh)\n",
    "w2 = torch.randn(nh,1) / math.sqrt(nh)\n",
    "b2 = torch.zeros(1)"
   ]
  },
  {
   "cell_type": "code",
   "execution_count": 36,
   "id": "4cfb684d-03d7-4a90-8972-d32ef713eb88",
   "metadata": {},
   "outputs": [],
   "source": [
    "test_near_zero(w1.mean())\n",
    "test_near_zero(w1.std() - 1 / math.sqrt(m))"
   ]
  },
  {
   "cell_type": "code",
   "execution_count": 41,
   "id": "32ae1ae8-2cb8-436b-8b33-cbf5796fcab7",
   "metadata": {},
   "outputs": [
    {
     "data": {
      "text/plain": [
       "(tensor(0.0357), 0.03571428571428571)"
      ]
     },
     "execution_count": 41,
     "metadata": {},
     "output_type": "execute_result"
    }
   ],
   "source": [
    "w1.std(), 1 / math.sqrt(m)"
   ]
  },
  {
   "cell_type": "code",
   "execution_count": 42,
   "id": "474c1402-fd9d-4638-b353-a021874a8764",
   "metadata": {},
   "outputs": [
    {
     "data": {
      "text/plain": [
       "(tensor(0.0060), tensor(1.0077))"
      ]
     },
     "execution_count": 42,
     "metadata": {},
     "output_type": "execute_result"
    }
   ],
   "source": [
    "x_valid.mean(), x_valid.std() # ~ 0, 1"
   ]
  },
  {
   "cell_type": "code",
   "execution_count": 43,
   "id": "55cd645d-c4c5-4ad6-96c2-8392a9e553d2",
   "metadata": {},
   "outputs": [],
   "source": [
    "def lin(x, w, b): return x@w + b"
   ]
  },
  {
   "cell_type": "code",
   "execution_count": 44,
   "id": "bfeef2e3-f864-4b07-98ad-6bbfc1f44048",
   "metadata": {},
   "outputs": [],
   "source": [
    "t = lin(x_valid, w1, b1)"
   ]
  },
  {
   "cell_type": "code",
   "execution_count": 45,
   "id": "7170c246-55dc-440c-b025-e8f3c12d5f05",
   "metadata": {},
   "outputs": [
    {
     "data": {
      "text/plain": [
       "(tensor(0.1280), tensor(0.9558))"
      ]
     },
     "execution_count": 45,
     "metadata": {},
     "output_type": "execute_result"
    }
   ],
   "source": [
    "t.mean(), t.std() # ~ 0, 1"
   ]
  },
  {
   "cell_type": "code",
   "execution_count": 46,
   "id": "6604091b-5202-456c-81bd-8c26d54b10ff",
   "metadata": {},
   "outputs": [],
   "source": [
    "def relu(x): return x.clamp_min(0.)"
   ]
  },
  {
   "cell_type": "code",
   "execution_count": 47,
   "id": "6a236b30-d57d-45e0-8320-c383c7c1890b",
   "metadata": {},
   "outputs": [],
   "source": [
    "t = relu(lin(x_valid, w1, b1))"
   ]
  },
  {
   "cell_type": "code",
   "execution_count": 48,
   "id": "22e39780-6a93-4776-b83a-d479af3d5b80",
   "metadata": {},
   "outputs": [
    {
     "data": {
      "text/plain": [
       "(tensor(0.4466), tensor(0.6024))"
      ]
     },
     "execution_count": 48,
     "metadata": {},
     "output_type": "execute_result"
    }
   ],
   "source": [
    "t.mean(), t.std() # ~ pretty bad thanks to the relu"
   ]
  },
  {
   "cell_type": "code",
   "execution_count": 53,
   "id": "00e8760f-d9f9-4843-a847-cb418feddc23",
   "metadata": {},
   "outputs": [],
   "source": [
    "# kaiming init / he init for relu\n",
    "w1 = torch.randn(m,nh) * math.sqrt(2/m)"
   ]
  },
  {
   "cell_type": "code",
   "execution_count": 54,
   "id": "a5c73bc5-b934-4491-8f69-b739b719b2fa",
   "metadata": {},
   "outputs": [
    {
     "data": {
      "text/plain": [
       "(tensor(-2.8252e-05), tensor(0.0507))"
      ]
     },
     "execution_count": 54,
     "metadata": {},
     "output_type": "execute_result"
    }
   ],
   "source": [
    "w1.mean(), w1.std()"
   ]
  },
  {
   "cell_type": "code",
   "execution_count": 55,
   "id": "05d4e020-c757-4938-9ac2-e108c7ee5f99",
   "metadata": {},
   "outputs": [],
   "source": [
    "t = relu(lin(x_valid, w1, b1))"
   ]
  },
  {
   "cell_type": "code",
   "execution_count": 56,
   "id": "39ae72f3-6a14-47dd-805b-25f73926554a",
   "metadata": {},
   "outputs": [
    {
     "data": {
      "text/plain": [
       "(tensor(0.4951), tensor(0.7637))"
      ]
     },
     "execution_count": 56,
     "metadata": {},
     "output_type": "execute_result"
    }
   ],
   "source": [
    "t.mean(), t.std()"
   ]
  },
  {
   "cell_type": "code",
   "execution_count": 57,
   "id": "a259e5c3-3d57-4846-bc58-502a33f6e95b",
   "metadata": {},
   "outputs": [],
   "source": [
    "# export\n",
    "from torch.nn import init"
   ]
  },
  {
   "cell_type": "code",
   "execution_count": 58,
   "id": "f01cbf9b-5193-465e-983d-c5500ae48955",
   "metadata": {},
   "outputs": [],
   "source": [
    "w1 = torch.zeros(m,nh)\n",
    "init.kaiming_normal_(w1, mode='fan_out') # fan_out because in pytorch the tensors are batchsize first!\n",
    "t = relu(lin(x_valid, w1, b1))"
   ]
  },
  {
   "cell_type": "code",
   "execution_count": 61,
   "id": "5abc610d-e35a-4487-99b8-0a0060b8f2e0",
   "metadata": {},
   "outputs": [
    {
     "data": {
      "text/plain": [
       "(tensor(-9.2173e-06), tensor(0.0504))"
      ]
     },
     "execution_count": 61,
     "metadata": {},
     "output_type": "execute_result"
    }
   ],
   "source": [
    "w1.mean(), w1.std()"
   ]
  },
  {
   "cell_type": "code",
   "execution_count": 62,
   "id": "6e10b10a-7385-46cf-8b3e-0385add5c3f6",
   "metadata": {},
   "outputs": [
    {
     "data": {
      "text/plain": [
       "(tensor(0.5189), tensor(0.7690))"
      ]
     },
     "execution_count": 62,
     "metadata": {},
     "output_type": "execute_result"
    }
   ],
   "source": [
    "t.mean(), t.std()"
   ]
  },
  {
   "cell_type": "code",
   "execution_count": 63,
   "id": "f597f4c8-bba9-4a78-ad6a-b874d6b72b7d",
   "metadata": {},
   "outputs": [
    {
     "data": {
      "text/plain": [
       "torch.Size([784, 50])"
      ]
     },
     "execution_count": 63,
     "metadata": {},
     "output_type": "execute_result"
    }
   ],
   "source": [
    "w1.shape"
   ]
  },
  {
   "cell_type": "code",
   "execution_count": 60,
   "id": "d6f73df4-6541-4134-9d24-65cf1c08d317",
   "metadata": {},
   "outputs": [
    {
     "data": {
      "text/plain": [
       "\u001b[0;31mSignature:\u001b[0m \u001b[0minit\u001b[0m\u001b[0;34m.\u001b[0m\u001b[0mkaiming_normal_\u001b[0m\u001b[0;34m(\u001b[0m\u001b[0mtensor\u001b[0m\u001b[0;34m,\u001b[0m \u001b[0ma\u001b[0m\u001b[0;34m=\u001b[0m\u001b[0;36m0\u001b[0m\u001b[0;34m,\u001b[0m \u001b[0mmode\u001b[0m\u001b[0;34m=\u001b[0m\u001b[0;34m'fan_in'\u001b[0m\u001b[0;34m,\u001b[0m \u001b[0mnonlinearity\u001b[0m\u001b[0;34m=\u001b[0m\u001b[0;34m'leaky_relu'\u001b[0m\u001b[0;34m)\u001b[0m\u001b[0;34m\u001b[0m\u001b[0;34m\u001b[0m\u001b[0m\n",
       "\u001b[0;31mSource:\u001b[0m   \n",
       "\u001b[0;32mdef\u001b[0m \u001b[0mkaiming_normal_\u001b[0m\u001b[0;34m(\u001b[0m\u001b[0mtensor\u001b[0m\u001b[0;34m,\u001b[0m \u001b[0ma\u001b[0m\u001b[0;34m=\u001b[0m\u001b[0;36m0\u001b[0m\u001b[0;34m,\u001b[0m \u001b[0mmode\u001b[0m\u001b[0;34m=\u001b[0m\u001b[0;34m'fan_in'\u001b[0m\u001b[0;34m,\u001b[0m \u001b[0mnonlinearity\u001b[0m\u001b[0;34m=\u001b[0m\u001b[0;34m'leaky_relu'\u001b[0m\u001b[0;34m)\u001b[0m\u001b[0;34m:\u001b[0m\u001b[0;34m\u001b[0m\n",
       "\u001b[0;34m\u001b[0m    \u001b[0;34mr\"\"\"Fills the input `Tensor` with values according to the method\u001b[0m\n",
       "\u001b[0;34m    described in `Delving deep into rectifiers: Surpassing human-level\u001b[0m\n",
       "\u001b[0;34m    performance on ImageNet classification` - He, K. et al. (2015), using a\u001b[0m\n",
       "\u001b[0;34m    normal distribution. The resulting tensor will have values sampled from\u001b[0m\n",
       "\u001b[0;34m    :math:`\\mathcal{N}(0, \\text{std}^2)` where\u001b[0m\n",
       "\u001b[0;34m\u001b[0m\n",
       "\u001b[0;34m    .. math::\u001b[0m\n",
       "\u001b[0;34m        \\text{std} = \\frac{\\text{gain}}{\\sqrt{\\text{fan\\_mode}}}\u001b[0m\n",
       "\u001b[0;34m\u001b[0m\n",
       "\u001b[0;34m    Also known as He initialization.\u001b[0m\n",
       "\u001b[0;34m\u001b[0m\n",
       "\u001b[0;34m    Args:\u001b[0m\n",
       "\u001b[0;34m        tensor: an n-dimensional `torch.Tensor`\u001b[0m\n",
       "\u001b[0;34m        a: the negative slope of the rectifier used after this layer (only\u001b[0m\n",
       "\u001b[0;34m            used with ``'leaky_relu'``)\u001b[0m\n",
       "\u001b[0;34m        mode: either ``'fan_in'`` (default) or ``'fan_out'``. Choosing ``'fan_in'``\u001b[0m\n",
       "\u001b[0;34m            preserves the magnitude of the variance of the weights in the\u001b[0m\n",
       "\u001b[0;34m            forward pass. Choosing ``'fan_out'`` preserves the magnitudes in the\u001b[0m\n",
       "\u001b[0;34m            backwards pass.\u001b[0m\n",
       "\u001b[0;34m        nonlinearity: the non-linear function (`nn.functional` name),\u001b[0m\n",
       "\u001b[0;34m            recommended to use only with ``'relu'`` or ``'leaky_relu'`` (default).\u001b[0m\n",
       "\u001b[0;34m\u001b[0m\n",
       "\u001b[0;34m    Examples:\u001b[0m\n",
       "\u001b[0;34m        >>> w = torch.empty(3, 5)\u001b[0m\n",
       "\u001b[0;34m        >>> nn.init.kaiming_normal_(w, mode='fan_out', nonlinearity='relu')\u001b[0m\n",
       "\u001b[0;34m    \"\"\"\u001b[0m\u001b[0;34m\u001b[0m\n",
       "\u001b[0;34m\u001b[0m    \u001b[0mfan\u001b[0m \u001b[0;34m=\u001b[0m \u001b[0m_calculate_correct_fan\u001b[0m\u001b[0;34m(\u001b[0m\u001b[0mtensor\u001b[0m\u001b[0;34m,\u001b[0m \u001b[0mmode\u001b[0m\u001b[0;34m)\u001b[0m\u001b[0;34m\u001b[0m\n",
       "\u001b[0;34m\u001b[0m    \u001b[0mgain\u001b[0m \u001b[0;34m=\u001b[0m \u001b[0mcalculate_gain\u001b[0m\u001b[0;34m(\u001b[0m\u001b[0mnonlinearity\u001b[0m\u001b[0;34m,\u001b[0m \u001b[0ma\u001b[0m\u001b[0;34m)\u001b[0m\u001b[0;34m\u001b[0m\n",
       "\u001b[0;34m\u001b[0m    \u001b[0mstd\u001b[0m \u001b[0;34m=\u001b[0m \u001b[0mgain\u001b[0m \u001b[0;34m/\u001b[0m \u001b[0mmath\u001b[0m\u001b[0;34m.\u001b[0m\u001b[0msqrt\u001b[0m\u001b[0;34m(\u001b[0m\u001b[0mfan\u001b[0m\u001b[0;34m)\u001b[0m\u001b[0;34m\u001b[0m\n",
       "\u001b[0;34m\u001b[0m    \u001b[0;32mwith\u001b[0m \u001b[0mtorch\u001b[0m\u001b[0;34m.\u001b[0m\u001b[0mno_grad\u001b[0m\u001b[0;34m(\u001b[0m\u001b[0;34m)\u001b[0m\u001b[0;34m:\u001b[0m\u001b[0;34m\u001b[0m\n",
       "\u001b[0;34m\u001b[0m        \u001b[0;32mreturn\u001b[0m \u001b[0mtensor\u001b[0m\u001b[0;34m.\u001b[0m\u001b[0mnormal_\u001b[0m\u001b[0;34m(\u001b[0m\u001b[0;36m0\u001b[0m\u001b[0;34m,\u001b[0m \u001b[0mstd\u001b[0m\u001b[0;34m)\u001b[0m\u001b[0;34m\u001b[0m\u001b[0;34m\u001b[0m\u001b[0m\n",
       "\u001b[0;31mFile:\u001b[0m      ~/anaconda3/envs/fastbook/lib/python3.8/site-packages/torch/nn/init.py\n",
       "\u001b[0;31mType:\u001b[0m      function\n"
      ]
     },
     "metadata": {},
     "output_type": "display_data"
    }
   ],
   "source": [
    "init.kaiming_normal_??"
   ]
  },
  {
   "cell_type": "code",
   "execution_count": 67,
   "id": "d01b3368-5a4c-40ae-8f9b-32bbef360c25",
   "metadata": {},
   "outputs": [],
   "source": [
    "import torch.nn"
   ]
  },
  {
   "cell_type": "code",
   "execution_count": 69,
   "id": "fe0c4d05-19aa-4f71-8443-8552e9d2e419",
   "metadata": {},
   "outputs": [
    {
     "data": {
      "text/plain": [
       "(784, 50)"
      ]
     },
     "execution_count": 69,
     "metadata": {},
     "output_type": "execute_result"
    }
   ],
   "source": [
    "m, nh"
   ]
  },
  {
   "cell_type": "code",
   "execution_count": 68,
   "id": "62a99ce4-6c81-43cb-b275-3cb4693f717d",
   "metadata": {},
   "outputs": [
    {
     "data": {
      "text/plain": [
       "torch.Size([50, 784])"
      ]
     },
     "execution_count": 68,
     "metadata": {},
     "output_type": "execute_result"
    }
   ],
   "source": [
    "torch.nn.Linear(m,nh).weight.shape"
   ]
  },
  {
   "cell_type": "code",
   "execution_count": 70,
   "id": "76cd63c4-7088-4928-9ffb-2257970604ea",
   "metadata": {},
   "outputs": [],
   "source": [
    "# what if...\n",
    "def relu(x): return x.clamp_min(0.) - 0.5"
   ]
  },
  {
   "cell_type": "code",
   "execution_count": 71,
   "id": "12767f08-7b2d-47b4-aa12-bac5c6804474",
   "metadata": {},
   "outputs": [
    {
     "data": {
      "text/plain": [
       "(tensor(0.0384), tensor(0.7900))"
      ]
     },
     "execution_count": 71,
     "metadata": {},
     "output_type": "execute_result"
    }
   ],
   "source": [
    "w1 = torch.randn(m,nh) * math.sqrt(2./m)\n",
    "t1 = relu(lin(x_valid, w1, b1))\n",
    "t1.mean(), t1.std()"
   ]
  },
  {
   "cell_type": "code",
   "execution_count": 72,
   "id": "8d52f031-8760-4840-bbf5-d757d32358a0",
   "metadata": {},
   "outputs": [],
   "source": [
    "def model(xb):\n",
    "    l1 = lin(xb, w1, b1)\n",
    "    l2 = relu(l1)\n",
    "    l3 = lin(l2, w2, b2)\n",
    "    return l3"
   ]
  },
  {
   "cell_type": "code",
   "execution_count": 73,
   "id": "4b545d35-b69e-412d-a9a5-bef0d7131370",
   "metadata": {},
   "outputs": [
    {
     "name": "stdout",
     "output_type": "stream",
     "text": [
      "6.92 ms ± 427 µs per loop (mean ± std. dev. of 7 runs, 10 loops each)\n"
     ]
    }
   ],
   "source": [
    "%timeit -n 10 _ = model(x_valid)"
   ]
  },
  {
   "cell_type": "code",
   "execution_count": 74,
   "id": "02aa89e0-9561-47f5-85a1-69d6be5e42ba",
   "metadata": {},
   "outputs": [],
   "source": [
    "assert model(x_valid).shape == torch.Size([x_valid.shape[0], 1])"
   ]
  },
  {
   "cell_type": "markdown",
   "id": "5c244202-b494-414d-81e3-8c8dc598e793",
   "metadata": {},
   "source": [
    "# Loss function: MSE"
   ]
  },
  {
   "cell_type": "code",
   "execution_count": 75,
   "id": "eaea575f-3f90-4bec-862b-66850eb34b35",
   "metadata": {},
   "outputs": [
    {
     "data": {
      "text/plain": [
       "torch.Size([10000, 1])"
      ]
     },
     "execution_count": 75,
     "metadata": {},
     "output_type": "execute_result"
    }
   ],
   "source": [
    "model(x_valid).shape"
   ]
  },
  {
   "cell_type": "code",
   "execution_count": 76,
   "id": "ab5cca7f-321d-44d3-a930-a85329a4dc2c",
   "metadata": {},
   "outputs": [],
   "source": [
    "#export\n",
    "def mse(output, target): return (output.squeeze(-1) - target).pow(2).mean()"
   ]
  },
  {
   "cell_type": "code",
   "execution_count": 77,
   "id": "1c96f23c-0c11-40d1-ab71-70763be755a7",
   "metadata": {},
   "outputs": [],
   "source": [
    "y_train, y_valid = y_train.float(), y_valid.float()"
   ]
  },
  {
   "cell_type": "code",
   "execution_count": 78,
   "id": "c76d4f15-f157-42a9-8808-959a2d9256e7",
   "metadata": {},
   "outputs": [],
   "source": [
    "preds = model(x_train)"
   ]
  },
  {
   "cell_type": "code",
   "execution_count": 79,
   "id": "b8b7e6ed-3f15-4d45-af5f-90025a255959",
   "metadata": {},
   "outputs": [
    {
     "data": {
      "text/plain": [
       "torch.Size([60000, 1])"
      ]
     },
     "execution_count": 79,
     "metadata": {},
     "output_type": "execute_result"
    }
   ],
   "source": [
    "preds.shape"
   ]
  },
  {
   "cell_type": "code",
   "execution_count": 80,
   "id": "fd975d10-0d1b-40de-99f0-c7c081c780c8",
   "metadata": {},
   "outputs": [
    {
     "data": {
      "text/plain": [
       "tensor(26.8211)"
      ]
     },
     "execution_count": 80,
     "metadata": {},
     "output_type": "execute_result"
    }
   ],
   "source": [
    "mse(preds, y_train)"
   ]
  },
  {
   "cell_type": "markdown",
   "id": "fb90c835-7dfe-45d7-92a4-6f749e28ab67",
   "metadata": {},
   "source": [
    "# Gradients and backward pass"
   ]
  },
  {
   "cell_type": "code",
   "execution_count": null,
   "id": "3ddffb36-2a6c-4e3e-9c2f-518e536e915f",
   "metadata": {},
   "outputs": [],
   "source": []
  }
 ],
 "metadata": {
  "kernelspec": {
   "display_name": "Python 3",
   "language": "python",
   "name": "python3"
  },
  "language_info": {
   "codemirror_mode": {
    "name": "ipython",
    "version": 3
   },
   "file_extension": ".py",
   "mimetype": "text/x-python",
   "name": "python",
   "nbconvert_exporter": "python",
   "pygments_lexer": "ipython3",
   "version": "3.8.8"
  }
 },
 "nbformat": 4,
 "nbformat_minor": 5
}
