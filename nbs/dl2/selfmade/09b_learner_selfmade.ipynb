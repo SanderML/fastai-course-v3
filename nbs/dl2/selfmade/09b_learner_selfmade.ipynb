{
 "cells": [
  {
   "cell_type": "code",
   "execution_count": 1,
   "id": "08a5254a-cbd3-4c68-a96f-43dc36c54725",
   "metadata": {},
   "outputs": [],
   "source": [
    "%load_ext autoreload\n",
    "%autoreload 2\n",
    "\n",
    "%matplotlib inline"
   ]
  },
  {
   "cell_type": "code",
   "execution_count": 2,
   "id": "5eb45c57-f565-4ee3-9f6b-04e88c7055b8",
   "metadata": {},
   "outputs": [],
   "source": [
    "#export\n",
    "from exp.nb_09 import *"
   ]
  },
  {
   "cell_type": "code",
   "execution_count": 3,
   "id": "89fc5a6e-15c7-4815-a2b1-a96055f8410c",
   "metadata": {},
   "outputs": [
    {
     "data": {
      "text/plain": [
       "exp.nb_04.AvgStats"
      ]
     },
     "execution_count": 3,
     "metadata": {},
     "output_type": "execute_result"
    }
   ],
   "source": [
    "AvgStats"
   ]
  },
  {
   "cell_type": "markdown",
   "id": "93f64b7f-e937-4b54-ab53-75896e96e97b",
   "metadata": {},
   "source": [
    "# Imagenette Data"
   ]
  },
  {
   "cell_type": "code",
   "execution_count": 4,
   "id": "8322037a-31cb-4cfa-9d6d-101e96019dc0",
   "metadata": {},
   "outputs": [],
   "source": [
    "path = untar_data(URLs.IMAGENETTE_160)"
   ]
  },
  {
   "cell_type": "code",
   "execution_count": 7,
   "id": "106f7487-69dd-4248-80d2-7339becb4324",
   "metadata": {},
   "outputs": [],
   "source": [
    "tfms = [make_rgb, ResizeFixed(128), to_byte_tensor, to_float_tensor]\n",
    "bs = 64\n",
    "\n",
    "il = ImageList.from_files(path, tfms=tfms)\n",
    "sd = SplitData.split_by_func(il, partial(grandparent_splitter, valid_name='val'))\n",
    "ll = label_by_func(sd, parent_labeler, proc_y=CategoryProcessor())\n",
    "data = ll.to_databunch(bs, c_in=3, c_out=10, num_workers=4)"
   ]
  },
  {
   "cell_type": "code",
   "execution_count": 8,
   "id": "e35d4d84-614d-481e-8d05-f7e120088561",
   "metadata": {},
   "outputs": [],
   "source": [
    "cbfs = [CudaCallback, Recorder,\n",
    "       partial(AvgStatsCallback, accuracy),\n",
    "       partial(BatchTransformXCallback, norm_imagenette)]"
   ]
  },
  {
   "cell_type": "code",
   "execution_count": 9,
   "id": "59acb904-39e8-416b-b782-8e447cfbe06e",
   "metadata": {},
   "outputs": [],
   "source": [
    "nfs = [32] * 4"
   ]
  },
  {
   "cell_type": "code",
   "execution_count": 10,
   "id": "2f62c2f7-ae0c-42e6-8106-85c5d4584430",
   "metadata": {},
   "outputs": [],
   "source": [
    "#export\n",
    "def param_getter(m): return m.parameters()"
   ]
  },
  {
   "cell_type": "code",
   "execution_count": 19,
   "id": "d958a0ce-866a-4edc-9d4b-a21a27f97564",
   "metadata": {},
   "outputs": [],
   "source": [
    "#export\n",
    "class Learner():\n",
    "    def __init__(self, model, data, loss_func, opt_func=sgd_opt, lr=1e-2, splitter=param_getter, cbs=None, cb_funcs=None):\n",
    "        self.model, self.data, self.loss_func, self.opt_func, self.lr, self.splitter = model, data, loss_func, opt_func, lr, splitter\n",
    "        self.in_train, self.logger, self.opt = False, print, None\n",
    "        \n",
    "        self.cbs = []\n",
    "        self.add_cb(TrainEvalCallback())\n",
    "        self.add_cbs(cbs)\n",
    "        self.add_cbs(cbf() for cbf in listify(cb_funcs))\n",
    "        \n",
    "    def add_cbs(self, cbs):\n",
    "        for cb in listify(cbs): self.add_cb(cb)\n",
    "            \n",
    "    def add_cb(self, cb):\n",
    "        cb.set_runner(self)\n",
    "        setattr(self, cb.name, cb)\n",
    "        self.cbs.append(cb)\n",
    "        \n",
    "    def remove_cbs(self, cbs):\n",
    "        for cb in listify(cbs): self.cbs.remove(cb)\n",
    "            \n",
    "    def __call__(self, cb_name):\n",
    "        res = False\n",
    "        assert cb_name in self.ALL_CBS\n",
    "        for cb in sorted(self.cbs, key=lambda o: o._order): res = cb(cb_name) and res\n",
    "        return res\n",
    "    \n",
    "    def one_batch(self, i, xb, yb):\n",
    "        try:\n",
    "            self.iter = i\n",
    "            self.xb, self.yb = xb, yb\n",
    "            self('begin_batch')\n",
    "            self.pred = self.model(self.xb)\n",
    "            self('after_pred')\n",
    "            self.loss = self.loss_func(self.pred, self.yb)\n",
    "            self('after_loss')\n",
    "            if not self.in_train: return\n",
    "            self.loss.backward()\n",
    "            self('after_backward')\n",
    "            self.opt.step()\n",
    "            self('after_step')\n",
    "            self.opt.zero_grad()\n",
    "            \n",
    "        except CancelBatchException: self('after_cancel_batch')\n",
    "        finally: self('after_batch')\n",
    "            \n",
    "    def all_batches(self):\n",
    "        self.iters = len(self.dl)\n",
    "        try:\n",
    "            for i, (xb,yb) in enumerate(self.dl): self.one_batch(i, xb, yb)\n",
    "                \n",
    "        except CancelEpochException: self('after_cancel_epoch')\n",
    "            \n",
    "    def do_begin_fit(self, epochs):\n",
    "        self.epochs, self.loss = epochs, tensor(0.)\n",
    "        self('begin_fit')\n",
    "        \n",
    "    def do_begin_epoch(self, epoch):\n",
    "        self.epoch, self.dl = epoch, self.data.train_dl\n",
    "        return self('begin_epoch')\n",
    "    \n",
    "    def fit(self, epochs, cbs=None, reset_opt=False):\n",
    "        self.add_cbs(cbs)\n",
    "        if reset_opt or not self.opt: self.opt = self.opt_func(self.splitter(self.model), lr=self.lr)\n",
    "            \n",
    "        try:\n",
    "            self.do_begin_fit(epochs)\n",
    "            for epoch in range(epochs):\n",
    "                if not self.do_begin_epoch(epoch): self.all_batches()\n",
    "                    \n",
    "                with torch.no_grad():\n",
    "                    self.dl = self.data.valid_dl\n",
    "                    if not self('begin_validate'): self.all_batches()\n",
    "                self('after_epoch')\n",
    "        except CancelTrainException: self('after_cancel_train')\n",
    "        finally:\n",
    "            self('after_fit')\n",
    "            self.remove_cbs(cbs)\n",
    "            \n",
    "    ALL_CBS = {'begin_batch', 'after_pred', 'after_loss', 'after_backward', 'after_step',\n",
    "        'after_cancel_batch', 'after_batch', 'after_cancel_epoch', 'begin_fit',\n",
    "        'begin_epoch', 'begin_validate', 'after_epoch',\n",
    "        'after_cancel_train', 'after_fit'}"
   ]
  },
  {
   "cell_type": "code",
   "execution_count": 20,
   "id": "308396f6-f91b-4475-ac1f-825562e00d60",
   "metadata": {},
   "outputs": [],
   "source": [
    "#export\n",
    "class AvgStatsCallback(Callback):\n",
    "    def __init__(self, metrics):\n",
    "        self.train_stats, self.valid_stats = AvgStats(metrics, True), AvgStats(metrics, False)\n",
    "        \n",
    "    def begin_epoch(self):\n",
    "        self.train_stats.reset()\n",
    "        self.valid_stats.reset()\n",
    "        \n",
    "    def after_loss(self):\n",
    "        stats = self.train_stats if self.in_train else self.valid_stats\n",
    "        with torch.no_grad(): stats.accumulate(self.run)\n",
    "            \n",
    "    def after_epoch(self):\n",
    "        self.logger(self.train_stats)\n",
    "        self.logger(self.valid_stats)"
   ]
  },
  {
   "cell_type": "code",
   "execution_count": 29,
   "id": "e5d1d28b-cad6-4eb9-985e-408ec477b479",
   "metadata": {},
   "outputs": [],
   "source": [
    "cbfs = [partial(AvgStatsCallback,accuracy),\n",
    "        CudaCallback, Recorder,\n",
    "        partial(BatchTransformXCallback, norm_imagenette)]"
   ]
  },
  {
   "cell_type": "code",
   "execution_count": 30,
   "id": "b728c05b-2ee8-4f4e-8cd4-fc99388ef8eb",
   "metadata": {},
   "outputs": [],
   "source": [
    "#export\n",
    "def get_learner(nfs, data, lr, layer, loss_func=F.cross_entropy, opt_func=sgd_opt, cb_funcs=None, **kwargs):\n",
    "    model = get_cnn_model(data, nfs, layer, **kwargs)\n",
    "    init_cnn(model)\n",
    "    return Learner(model, data, loss_func, opt_func, lr, cb_funcs=cb_funcs)"
   ]
  },
  {
   "cell_type": "code",
   "execution_count": 31,
   "id": "3445efeb-c871-40cc-8869-07670111db18",
   "metadata": {},
   "outputs": [],
   "source": [
    "learn = get_learner(nfs, data, 0.4, conv_layer, cb_funcs=cbfs)"
   ]
  },
  {
   "cell_type": "code",
   "execution_count": 32,
   "id": "21e47ac2-0600-46bd-807e-50a183b14be9",
   "metadata": {},
   "outputs": [
    {
     "name": "stdout",
     "output_type": "stream",
     "text": [
      "train: [1.8218652642834512, tensor(0.3677, device='cuda:0')]\n",
      "valid: [1.8177121068869426, tensor(0.3625, device='cuda:0')]\n",
      "CPU times: user 14.2 s, sys: 7.44 s, total: 21.6 s\n",
      "Wall time: 22.5 s\n"
     ]
    }
   ],
   "source": [
    "%time learn.fit(1)"
   ]
  },
  {
   "cell_type": "code",
   "execution_count": 33,
   "id": "08bb0353-61d0-45fb-bfa8-4d7cc0c2c8a8",
   "metadata": {},
   "outputs": [],
   "source": [
    "learn = get_learner(nfs, data, 0.4, conv_layer, cb_funcs=cbfs)"
   ]
  },
  {
   "cell_type": "code",
   "execution_count": 34,
   "id": "b5241c34-5748-45d1-818b-dfcb1783a9d5",
   "metadata": {},
   "outputs": [],
   "source": [
    "phases = combine_scheds([0.3, 0.7], cos_1cycle_anneal(0.2, 0.6, 0.2))\n",
    "sched = ParamScheduler('lr', phases)"
   ]
  },
  {
   "cell_type": "code",
   "execution_count": 35,
   "id": "608ca493-41fe-4fee-b0e2-308bdaf363ca",
   "metadata": {},
   "outputs": [
    {
     "name": "stdout",
     "output_type": "stream",
     "text": [
      "train: [1.8485747488515154, tensor(0.3441, device='cuda:0')]\n",
      "valid: [1.777149930334395, tensor(0.3832, device='cuda:0')]\n"
     ]
    }
   ],
   "source": [
    "learn.fit(1, sched)"
   ]
  },
  {
   "cell_type": "code",
   "execution_count": 36,
   "id": "e498b7f4-2e32-4a40-b939-12be5e108ddc",
   "metadata": {},
   "outputs": [
    {
     "data": {
      "image/png": "[encoded data removed]",
      "text/plain": [
       "<Figure size 432x288 with 1 Axes>"
      ]
     },
     "metadata": {
      "needs_background": "light"
     },
     "output_type": "display_data"
    }
   ],
   "source": [
    "learn.recorder.plot_lr()"
   ]
  },
  {
   "cell_type": "code",
   "execution_count": 38,
   "id": "88410d76-8b34-4b9e-a201-185cc8960c9f",
   "metadata": {},
   "outputs": [
    {
     "data": {
      "image/png": "[encoded data removed]",
      "text/plain": [
       "<Figure size 432x288 with 1 Axes>"
      ]
     },
     "metadata": {
      "needs_background": "light"
     },
     "output_type": "display_data"
    }
   ],
   "source": [
    "learn.recorder.plot_loss()"
   ]
  },
  {
   "cell_type": "code",
   "execution_count": null,
   "id": "96ae0cf4-2054-4da9-8593-c124466f0f68",
   "metadata": {},
   "outputs": [],
   "source": []
  }
 ],
 "metadata": {
  "kernelspec": {
   "display_name": "Python 3 (ipykernel)",
   "language": "python",
   "name": "python3"
  },
  "language_info": {
   "codemirror_mode": {
    "name": "ipython",
    "version": 3
   },
   "file_extension": ".py",
   "mimetype": "text/x-python",
   "name": "python",
   "nbconvert_exporter": "python",
   "pygments_lexer": "ipython3",
   "version": "3.8.8"
  }
 },
 "nbformat": 4,
 "nbformat_minor": 5
}
