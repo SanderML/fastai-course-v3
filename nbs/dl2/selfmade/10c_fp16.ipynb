{
 "cells": [
  {
   "cell_type": "code",
   "execution_count": 1,
   "id": "a219d632-8fe4-4bf2-8d08-d1629b204c6e",
   "metadata": {},
   "outputs": [],
   "source": [
    "%config Completer.use_jedi = False"
   ]
  },
  {
   "cell_type": "code",
   "execution_count": 2,
   "id": "efa19540-5abc-4337-9373-6c66973e79de",
   "metadata": {},
   "outputs": [
    {
     "name": "stdout",
     "output_type": "stream",
     "text": [
      "The autoreload extension is already loaded. To reload it, use:\n",
      "  %reload_ext autoreload\n"
     ]
    }
   ],
   "source": [
    "%load_ext autoreload\n",
    "%autoreload 2\n",
    "\n",
    "%matplotlib inline"
   ]
  },
  {
   "cell_type": "code",
   "execution_count": 3,
   "id": "f2ad886a-7e00-4782-81ac-d304546acf75",
   "metadata": {},
   "outputs": [],
   "source": [
    "#export\n",
    "from exp.nb_10b import *"
   ]
  },
  {
   "cell_type": "code",
   "execution_count": 4,
   "id": "fcd4d11d-8989-40e9-9656-8b5c1fb61d68",
   "metadata": {},
   "outputs": [
    {
     "data": {
      "text/plain": [
       "True"
      ]
     },
     "execution_count": 4,
     "metadata": {},
     "output_type": "execute_result"
    }
   ],
   "source": [
    "torch.cuda.is_available()"
   ]
  },
  {
   "cell_type": "code",
   "execution_count": 5,
   "id": "16a23088-18ed-4e4c-94c0-e3b826d3fe0f",
   "metadata": {},
   "outputs": [],
   "source": [
    "#export\n",
    "import apex.fp16_utils as fp16"
   ]
  },
  {
   "cell_type": "markdown",
   "id": "42c21c0f-37ff-4e2f-8afa-3c2187880e55",
   "metadata": {},
   "source": [
    "# Converting the model to FP16"
   ]
  },
  {
   "cell_type": "code",
   "execution_count": 6,
   "id": "1b4a5ef3-d4b4-4403-9278-f2c4ed086195",
   "metadata": {},
   "outputs": [],
   "source": [
    "bn_types = (nn.BatchNorm1d, nn.BatchNorm2d, nn.BatchNorm3d)"
   ]
  },
  {
   "cell_type": "code",
   "execution_count": 7,
   "id": "eb5832c4-6ad6-4d00-af7f-f101fdfad6d4",
   "metadata": {},
   "outputs": [],
   "source": [
    "def bn_to_float(model):\n",
    "    if isinstance(model, bn_types): model.float()\n",
    "    for child in model.children(): bn_to_float(child)\n",
    "    return model"
   ]
  },
  {
   "cell_type": "code",
   "execution_count": 8,
   "id": "ee0e01d0-8938-4906-90ae-a779c7ccf9e4",
   "metadata": {},
   "outputs": [],
   "source": [
    "def model_to_half(model):\n",
    "    model = model.half()\n",
    "    return bn_to_float(model)"
   ]
  },
  {
   "cell_type": "code",
   "execution_count": 9,
   "id": "7ad4a9f6-ec15-48c1-b1c6-83e04ac0b74c",
   "metadata": {},
   "outputs": [],
   "source": [
    "model = nn.Sequential(nn.Linear(10,30), nn.BatchNorm2d(30), nn.Linear(30,2)).cuda()\n",
    "model = model_to_half(model)"
   ]
  },
  {
   "cell_type": "code",
   "execution_count": 10,
   "id": "ed0f8617-270a-41a5-b5b3-92b5c3e27c46",
   "metadata": {},
   "outputs": [],
   "source": [
    "def check_weights(model):\n",
    "    for i,t in enumerate([torch.float16, torch.float32, torch.float16]):\n",
    "        assert model[i].weight.dtype == t\n",
    "        assert model[i].bias.dtype == t"
   ]
  },
  {
   "cell_type": "code",
   "execution_count": 11,
   "id": "58e53db9-69a2-4026-be72-196ef9125608",
   "metadata": {},
   "outputs": [],
   "source": [
    "check_weights(model)"
   ]
  },
  {
   "cell_type": "code",
   "execution_count": 12,
   "id": "0fe556f3-55a8-476c-b1b2-780031343c87",
   "metadata": {},
   "outputs": [],
   "source": [
    "model = nn.Sequential(nn.Linear(10,30), nn.BatchNorm2d(30), nn.Linear(30,2)).cuda()\n",
    "model = fp16.convert_network(model, torch.float16)\n",
    "check_weights(model)"
   ]
  },
  {
   "cell_type": "markdown",
   "id": "71ae95a7-4e8d-4edf-87cc-04a566a8ebcb",
   "metadata": {},
   "source": [
    "# Creating the master copy of parameters"
   ]
  },
  {
   "cell_type": "code",
   "execution_count": 13,
   "id": "99e20f37-991d-48aa-b2ba-874941801d23",
   "metadata": {},
   "outputs": [],
   "source": [
    "def same_lists(ps1, ps2):\n",
    "    assert len(ps1) == len(ps2)\n",
    "    for (p1,p2) in zip (ps1,ps2):\n",
    "        assert p1.requires_grad == p2.requires_grad\n",
    "        assert torch.allclose(p1.data.float(), p2.data.float())"
   ]
  },
  {
   "cell_type": "code",
   "execution_count": 14,
   "id": "11bf6edd-a2a4-438c-a98e-8df08afdbca3",
   "metadata": {},
   "outputs": [],
   "source": [
    "def check_grads(m1, m2):\n",
    "    for p1,p2 in  zip(m1,m2):\n",
    "        if p1.grad is None: assert p2.grad is None\n",
    "        else: assert torch.allclose(p1.grad.data, p2.grad.data)"
   ]
  },
  {
   "cell_type": "code",
   "execution_count": 15,
   "id": "f98965a8-ab6b-44eb-be66-77e90be990b7",
   "metadata": {},
   "outputs": [],
   "source": [
    "from torch._utils import _unflatten_dense_tensors"
   ]
  },
  {
   "cell_type": "code",
   "execution_count": 16,
   "id": "3b494901-2606-4239-b980-678ca0923179",
   "metadata": {},
   "outputs": [],
   "source": [
    "#export\n",
    "from torch.nn.utils import parameters_to_vector"
   ]
  },
  {
   "cell_type": "code",
   "execution_count": 17,
   "id": "c6141076-89c3-464f-bdb8-0cd54ac9bc49",
   "metadata": {},
   "outputs": [],
   "source": [
    "#export\n",
    "def get_master(opt, flat_master=False):\n",
    "    model_pgs = [[param for param in pg if param.requires_grad] for pg in opt.param_groups]\n",
    "    if flat_master:\n",
    "        master_pgs = []\n",
    "        for pg in model_pgs:\n",
    "            mp = parameters_to_vector([param.data.float() for param in pg])\n",
    "            mp = torch.nn.Parameter(mp, requires_grad=True)\n",
    "            if mp.grad is None: mp.grad = mp.new(*mp.size())\n",
    "            master_pgs.append([mp])\n",
    "    else:\n",
    "        master_pgs = [[param.clone().float().detach() for param in pg] for pg in model_pgs]\n",
    "        for pg in master_pgs:\n",
    "            for param in pg: param.requires_grad_(True)\n",
    "    return model_pgs, master_pgs"
   ]
  },
  {
   "cell_type": "code",
   "execution_count": 18,
   "id": "3bafdab2-0c85-4b18-9cfd-4f7560e5e157",
   "metadata": {},
   "outputs": [],
   "source": [
    "#export\n",
    "def to_master_grads(model_pgs, master_pgs, flat_master:bool=False)->None:\n",
    "    for (model_params, master_params) in zip(model_pgs, master_pgs):\n",
    "        fp16.model_grads_to_master_grads(model_params, master_params, flat_master)"
   ]
  },
  {
   "cell_type": "code",
   "execution_count": 19,
   "id": "7f2f3c37-4f7c-4b05-bbd5-6d3f00e3e990",
   "metadata": {},
   "outputs": [],
   "source": [
    "#export\n",
    "def to_model_params(model_pgs, master_pgs, flat_master:bool=False)->None:\n",
    "    for (model_params, master_params) in zip(model_pgs, master_pgs):\n",
    "        fp16.master_params_to_model_params(model_params, master_params, flat_master)"
   ]
  },
  {
   "cell_type": "markdown",
   "id": "08a29d0d-3971-4e7e-9dfa-c62b1c7765f9",
   "metadata": {},
   "source": [
    "# The main Callback"
   ]
  },
  {
   "cell_type": "code",
   "execution_count": 20,
   "id": "b85e9e45-42eb-4810-940d-718e1900eec1",
   "metadata": {},
   "outputs": [],
   "source": [
    "class MixedPrecision(Callback):\n",
    "    _order = 99\n",
    "    def __init__(self, loss_scale=512, flat_master=False):\n",
    "        assert torch.backends.cudnn.enabled, 'Mixed precision training requires cudnn.'\n",
    "        self.loss_scale,self.flat_master = loss_scale,flat_master\n",
    "        \n",
    "    def begin_fit(self):\n",
    "        self.run.model = fp16.convert_network(self.model, torch.float16)\n",
    "        self.model_pgs, self.master_pgs = get_master(self.opt, self.flat_master)\n",
    "        self.run.opt.param_groups = self.master_pgs\n",
    "        \n",
    "    def after_fit(self): self.model.float()\n",
    "    def begin_batch(self): self.run.xb = self.run.xb.half()\n",
    "    def after_pred(self): self.run.pred = self.run.pred.float()\n",
    "    def after_loss(self): self.run.loss *= self.loss_scale\n",
    "    \n",
    "    def after_backward(self):\n",
    "        to_master_grads(self.model_pgs, self.master_pgs, self.flat_master)\n",
    "        for master_params in self.master_pgs:\n",
    "            for param in master_params:\n",
    "                if param.grad is not None: param.grad.div_(self.loss_scale)\n",
    "                \n",
    "    def after_step(self):\n",
    "        self.model.zero_grad()\n",
    "        to_model_params(self.model_pgs, self.master_pgs, self.flat_master)"
   ]
  },
  {
   "cell_type": "code",
   "execution_count": 21,
   "id": "eada276d-5cc4-4b5b-a7c8-ffd8e58fc838",
   "metadata": {},
   "outputs": [],
   "source": [
    "path = untar_data(URLs.IMAGENETTE_160)"
   ]
  },
  {
   "cell_type": "code",
   "execution_count": 22,
   "id": "492c40d8-e3f1-4e8d-a18b-7bc0c969dca9",
   "metadata": {},
   "outputs": [],
   "source": [
    "tfms = [make_rgb, ResizeFixed(128), to_byte_tensor, to_float_tensor]\n",
    "bs = 64\n",
    "\n",
    "il = ImageList.from_files(path, tfms=tfms)\n",
    "sd = SplitData.split_by_func(il, partial(grandparent_splitter, valid_name='val'))\n",
    "ll = label_by_func(sd, parent_labeler, proc_y=CategoryProcessor())\n",
    "data = ll.to_databunch(bs, c_in=3, c_out=10, num_workers=4)"
   ]
  },
  {
   "cell_type": "code",
   "execution_count": 23,
   "id": "550f21a2-29e7-497f-b9e1-bcdf4e9e855e",
   "metadata": {},
   "outputs": [],
   "source": [
    "nfs = [32,64,128,256,512]"
   ]
  },
  {
   "cell_type": "code",
   "execution_count": 24,
   "id": "1928d117-ac1a-443d-ba3a-895c423106bb",
   "metadata": {},
   "outputs": [],
   "source": [
    "def get_learner(nfs, data, lr, layer, loss_func=F.cross_entropy,\n",
    "                cb_funcs=None, opt_func=adam_opt(), **kwargs):\n",
    "    model = get_cnn_model(data, nfs, layer, **kwargs)\n",
    "    init_cnn(model)\n",
    "    return Learner(model, data, loss_func, lr=lr, cb_funcs=cb_funcs, opt_func=opt_func)"
   ]
  },
  {
   "cell_type": "code",
   "execution_count": 25,
   "id": "948628e0-7e8c-49f4-801c-9007a53a1a51",
   "metadata": {},
   "outputs": [],
   "source": [
    "cbfs = [partial(AvgStatsCallback,accuracy),\n",
    "        ProgressCallback,\n",
    "        CudaCallback,\n",
    "        partial(BatchTransformXCallback, norm_imagenette)]"
   ]
  },
  {
   "cell_type": "code",
   "execution_count": 26,
   "id": "fb4a8c31-806c-4e4e-a5bc-863c9f8dda4b",
   "metadata": {},
   "outputs": [],
   "source": [
    "learn = get_learner(nfs, data, 1e-2, conv_layer, cb_funcs=cbfs)"
   ]
  },
  {
   "cell_type": "code",
   "execution_count": 27,
   "id": "0de04a7f-8aee-42a5-88b9-033f5cd8f629",
   "metadata": {},
   "outputs": [
    {
     "data": {
      "text/html": [
       "\n",
       "    <div>\n",
       "        <style>\n",
       "            /* Turns off some styling */\n",
       "            progress {\n",
       "                /* gets rid of default border in Firefox and Opera. */\n",
       "                border: none;\n",
       "                /* Needs to be in here for Safari polyfill so background images work as expected. */\n",
       "                background-size: auto;\n",
       "            }\n",
       "            .progress-bar-interrupted, .progress-bar-interrupted::-webkit-progress-bar {\n",
       "                background: #F44336;\n",
       "            }\n",
       "        </style>\n",
       "      <progress value='0' class='' max='1' style='width:300px; height:20px; vertical-align: middle;'></progress>\n",
       "      \n",
       "    </div>\n",
       "    \n"
      ],
      "text/plain": [
       "<IPython.core.display.HTML object>"
      ]
     },
     "metadata": {},
     "output_type": "display_data"
    },
    {
     "data": {
      "text/html": [
       "<table border=\"1\" class=\"dataframe\">\n",
       "  <thead>\n",
       "    <tr style=\"text-align: left;\">\n",
       "      <th>epoch</th>\n",
       "      <th>train_loss</th>\n",
       "      <th>train_accuracy</th>\n",
       "      <th>valid_loss</th>\n",
       "      <th>valid_accuracy</th>\n",
       "      <th>time</th>\n",
       "    </tr>\n",
       "  </thead>\n",
       "  <tbody>\n",
       "    <tr>\n",
       "      <td>0</td>\n",
       "      <td>2.032667</td>\n",
       "      <td>0.353575</td>\n",
       "      <td>2.310427</td>\n",
       "      <td>0.287643</td>\n",
       "      <td>00:12</td>\n",
       "    </tr>\n",
       "  </tbody>\n",
       "</table>"
      ],
      "text/plain": [
       "<IPython.core.display.HTML object>"
      ]
     },
     "metadata": {},
     "output_type": "display_data"
    },
    {
     "name": "stderr",
     "output_type": "stream",
     "text": [
      "[W pthreadpool-cpp.cc:90] Warning: Leaking Caffe2 thread-pool after fork. (function pthreadpool)\n",
      "[W pthreadpool-cpp.cc:90] Warning: Leaking Caffe2 thread-pool after fork. (function pthreadpool)\n",
      "[W pthreadpool-cpp.cc:90] Warning: Leaking Caffe2 thread-pool after fork. (function pthreadpool)\n",
      "[W pthreadpool-cpp.cc:90] Warning: Leaking Caffe2 thread-pool after fork. (function pthreadpool)\n",
      "[W pthreadpool-cpp.cc:90] Warning: Leaking Caffe2 thread-pool after fork. (function pthreadpool)\n",
      "[W pthreadpool-cpp.cc:90] Warning: Leaking Caffe2 thread-pool after fork. (function pthreadpool)\n",
      "[W pthreadpool-cpp.cc:90] Warning: Leaking Caffe2 thread-pool after fork. (function pthreadpool)\n",
      "[W pthreadpool-cpp.cc:90] Warning: Leaking Caffe2 thread-pool after fork. (function pthreadpool)\n"
     ]
    }
   ],
   "source": [
    "learn.fit(1)"
   ]
  },
  {
   "cell_type": "code",
   "execution_count": 28,
   "id": "45c1b78e-b68e-481f-ad50-add67b1cef49",
   "metadata": {},
   "outputs": [],
   "source": [
    "cbfs = [partial(AvgStatsCallback,accuracy),\n",
    "        CudaCallback,\n",
    "        ProgressCallback,\n",
    "        partial(BatchTransformXCallback, norm_imagenette),\n",
    "        MixedPrecision]"
   ]
  },
  {
   "cell_type": "code",
   "execution_count": 29,
   "id": "8b63b0f0-5857-45db-97a7-80a7bc891e19",
   "metadata": {},
   "outputs": [],
   "source": [
    "learn = get_learner(nfs, data, 1e-2, conv_layer, cb_funcs=cbfs)"
   ]
  },
  {
   "cell_type": "code",
   "execution_count": 30,
   "id": "dde546b8-ed4e-4a3b-8337-6b82dcc757de",
   "metadata": {},
   "outputs": [
    {
     "data": {
      "text/html": [
       "\n",
       "    <div>\n",
       "        <style>\n",
       "            /* Turns off some styling */\n",
       "            progress {\n",
       "                /* gets rid of default border in Firefox and Opera. */\n",
       "                border: none;\n",
       "                /* Needs to be in here for Safari polyfill so background images work as expected. */\n",
       "                background-size: auto;\n",
       "            }\n",
       "            .progress-bar-interrupted, .progress-bar-interrupted::-webkit-progress-bar {\n",
       "                background: #F44336;\n",
       "            }\n",
       "        </style>\n",
       "      <progress value='0' class='' max='1' style='width:300px; height:20px; vertical-align: middle;'></progress>\n",
       "      \n",
       "    </div>\n",
       "    \n"
      ],
      "text/plain": [
       "<IPython.core.display.HTML object>"
      ]
     },
     "metadata": {},
     "output_type": "display_data"
    },
    {
     "data": {
      "text/html": [
       "<table border=\"1\" class=\"dataframe\">\n",
       "  <thead>\n",
       "    <tr style=\"text-align: left;\">\n",
       "      <th>epoch</th>\n",
       "      <th>train_loss</th>\n",
       "      <th>train_accuracy</th>\n",
       "      <th>valid_loss</th>\n",
       "      <th>valid_accuracy</th>\n",
       "      <th>time</th>\n",
       "    </tr>\n",
       "  </thead>\n",
       "  <tbody>\n",
       "    <tr>\n",
       "      <td>0</td>\n",
       "      <td>1.986136</td>\n",
       "      <td>0.347978</td>\n",
       "      <td>6.497857</td>\n",
       "      <td>0.205350</td>\n",
       "      <td>00:10</td>\n",
       "    </tr>\n",
       "  </tbody>\n",
       "</table>"
      ],
      "text/plain": [
       "<IPython.core.display.HTML object>"
      ]
     },
     "metadata": {},
     "output_type": "display_data"
    },
    {
     "name": "stderr",
     "output_type": "stream",
     "text": [
      "[W pthreadpool-cpp.cc:90] Warning: Leaking Caffe2 thread-pool after fork. (function pthreadpool)\n",
      "[W pthreadpool-cpp.cc:90] Warning: Leaking Caffe2 thread-pool after fork. (function pthreadpool)\n",
      "[W pthreadpool-cpp.cc:90] Warning: Leaking Caffe2 thread-pool after fork. (function pthreadpool)\n",
      "[W pthreadpool-cpp.cc:90] Warning: Leaking Caffe2 thread-pool after fork. (function pthreadpool)\n",
      "[W pthreadpool-cpp.cc:90] Warning: Leaking Caffe2 thread-pool after fork. (function pthreadpool)\n",
      "[W pthreadpool-cpp.cc:90] Warning: Leaking Caffe2 thread-pool after fork. (function pthreadpool)\n",
      "[W pthreadpool-cpp.cc:90] Warning: Leaking Caffe2 thread-pool after fork. (function pthreadpool)\n",
      "[W pthreadpool-cpp.cc:90] Warning: Leaking Caffe2 thread-pool after fork. (function pthreadpool)\n"
     ]
    }
   ],
   "source": [
    "learn.fit(1)"
   ]
  },
  {
   "cell_type": "code",
   "execution_count": 31,
   "id": "6f36a6a3-179a-477e-91ee-69e9d94ce486",
   "metadata": {},
   "outputs": [],
   "source": [
    "test_eq(next(learn.model.parameters()).type(), 'torch.cuda.FloatTensor')"
   ]
  },
  {
   "cell_type": "markdown",
   "id": "2e4782d3-7af2-4d7d-8508-41ac09ef1fc0",
   "metadata": {},
   "source": [
    "# Dynamic loss scaling"
   ]
  },
  {
   "cell_type": "code",
   "execution_count": 32,
   "id": "d72c516b-1016-415d-bc31-3a9460ab35cf",
   "metadata": {},
   "outputs": [],
   "source": [
    "#export\n",
    "def test_overflow(x):\n",
    "    s = float(x.float().sum())\n",
    "    return (s == float('inf') or s == float('-inf') or s != s)"
   ]
  },
  {
   "cell_type": "code",
   "execution_count": 33,
   "id": "f35887ab-02a1-475c-9d56-6844c8a1662a",
   "metadata": {},
   "outputs": [],
   "source": [
    "x = torch.randn(512,1024).cuda()"
   ]
  },
  {
   "cell_type": "code",
   "execution_count": 34,
   "id": "9473f58d-55dc-4699-ad65-75f0a12f39d7",
   "metadata": {},
   "outputs": [
    {
     "data": {
      "text/plain": [
       "False"
      ]
     },
     "execution_count": 34,
     "metadata": {},
     "output_type": "execute_result"
    }
   ],
   "source": [
    "test_overflow(x)"
   ]
  },
  {
   "cell_type": "code",
   "execution_count": 35,
   "id": "5efbc70b-1b0c-4de8-842a-a938a460a671",
   "metadata": {},
   "outputs": [
    {
     "data": {
      "text/plain": [
       "True"
      ]
     },
     "execution_count": 35,
     "metadata": {},
     "output_type": "execute_result"
    }
   ],
   "source": [
    "x[123,145] = float('inf')\n",
    "test_overflow(x)"
   ]
  },
  {
   "cell_type": "code",
   "execution_count": 36,
   "id": "d9e0d638-f15b-40fd-b6ba-ba9fdc65a4ba",
   "metadata": {},
   "outputs": [
    {
     "name": "stdout",
     "output_type": "stream",
     "text": [
      "233 µs ± 16.2 µs per loop (mean ± std. dev. of 7 runs, 1000 loops each)\n"
     ]
    }
   ],
   "source": [
    "%timeit test_overflow(x)"
   ]
  },
  {
   "cell_type": "code",
   "execution_count": 37,
   "id": "e742b145-0f1f-4a7e-9f10-d10b6955e444",
   "metadata": {},
   "outputs": [
    {
     "name": "stdout",
     "output_type": "stream",
     "text": [
      "227 µs ± 41.9 µs per loop (mean ± std. dev. of 7 runs, 1000 loops each)\n"
     ]
    }
   ],
   "source": [
    "%timeit torch.isnan(x).any().item()"
   ]
  },
  {
   "cell_type": "code",
   "execution_count": 38,
   "id": "af369d61-1aef-40b5-8969-3fa103100807",
   "metadata": {},
   "outputs": [],
   "source": [
    "#export\n",
    "def grad_overflow(param_groups):\n",
    "    for pg in param_groups:\n",
    "        for param in pg:\n",
    "            if param.grad is not None:\n",
    "                s = float(param.grad.data.float().sum())\n",
    "                if s == float('inf') or s == float('-inf') or s != s: return True\n",
    "    return False"
   ]
  },
  {
   "cell_type": "code",
   "execution_count": 39,
   "id": "1747f5b9-ad67-4bdf-ac9f-ecef1381725f",
   "metadata": {},
   "outputs": [],
   "source": [
    "#export\n",
    "class MixedPrecision(Callback):\n",
    "    _order = 99\n",
    "    def __init__(self, loss_scale=512, flat_master=False, dynamic=True, max_loss_scale=2.**24, div_factor=2., scale_wait=500):\n",
    "        assert torch.backends.cudnn.enabled, 'Mixed precision training requires cudnn.'\n",
    "        \n",
    "        self.flat_master,self.dynamic,self.max_loss_scale = flat_master,dynamic,max_loss_scale\n",
    "        self.div_factor,self.scale_wait = div_factor,scale_wait\n",
    "        self.loss_scale = max_loss_scale if dynamic else loss_scale\n",
    "        \n",
    "    def begin_fit(self):\n",
    "        self.run.model = fp16.convert_network(self.model, torch.float16)\n",
    "        self.model_pgs, self.master_pgs = get_master(self.opt, self.flat_master)\n",
    "        self.run.opt.param_groups = self.master_pgs\n",
    "        if self.dynamic: self.count = 0\n",
    "        \n",
    "    def begin_batch(self): self.run.xb = self.run.xb.half()\n",
    "    def after_pred(self): self.run.pred = self.run.pred.float()\n",
    "    def after_loss(self): \n",
    "        if self.in_train: self.run.loss *= self.loss_scale\n",
    "    \n",
    "    def after_backward(self):\n",
    "        if self.dynamic and grad_overflow(self.model_pgs):\n",
    "            self.loss_scale /= self.div_factor\n",
    "            self.model.zero_grad()\n",
    "            return True # skip step and zero_grad\n",
    "        to_master_grads(self.model_pgs, self.master_pgs, self.flat_master)\n",
    "        for master_params in self.master_pgs:\n",
    "            for param in master_params:\n",
    "                if param.grad is not None: param.grad.div_(self.loss_scale)\n",
    "        if self.dynamic:\n",
    "            self.count += 1\n",
    "            if self.count == self.scale_wait:\n",
    "                self.count = 0\n",
    "                self.loss_scale *= self.div_factor\n",
    "                \n",
    "    def after_step(self):\n",
    "        self.model.zero_grad()\n",
    "        to_model_params(self.model_pgs, self.master_pgs, self.flat_master)"
   ]
  },
  {
   "cell_type": "code",
   "execution_count": 40,
   "id": "bee12c36-c2ae-463c-94d9-f2ae152d7a7e",
   "metadata": {},
   "outputs": [],
   "source": [
    "cbfs = [partial(AvgStatsCallback,accuracy),\n",
    "        CudaCallback,\n",
    "        ProgressCallback,\n",
    "        partial(BatchTransformXCallback, norm_imagenette),\n",
    "        MixedPrecision]"
   ]
  },
  {
   "cell_type": "code",
   "execution_count": 41,
   "id": "d816df53-7ac4-4523-8d4f-1165f4d25758",
   "metadata": {},
   "outputs": [],
   "source": [
    "learn = get_learner(nfs, data, 1e-2, conv_layer, cb_funcs=cbfs)"
   ]
  },
  {
   "cell_type": "code",
   "execution_count": 42,
   "id": "59e289e2-d5af-4c13-aebe-544d65c6ee78",
   "metadata": {},
   "outputs": [
    {
     "data": {
      "text/html": [
       "\n",
       "    <div>\n",
       "        <style>\n",
       "            /* Turns off some styling */\n",
       "            progress {\n",
       "                /* gets rid of default border in Firefox and Opera. */\n",
       "                border: none;\n",
       "                /* Needs to be in here for Safari polyfill so background images work as expected. */\n",
       "                background-size: auto;\n",
       "            }\n",
       "            .progress-bar-interrupted, .progress-bar-interrupted::-webkit-progress-bar {\n",
       "                background: #F44336;\n",
       "            }\n",
       "        </style>\n",
       "      <progress value='0' class='' max='1' style='width:300px; height:20px; vertical-align: middle;'></progress>\n",
       "      \n",
       "    </div>\n",
       "    \n"
      ],
      "text/plain": [
       "<IPython.core.display.HTML object>"
      ]
     },
     "metadata": {},
     "output_type": "display_data"
    },
    {
     "data": {
      "text/html": [
       "<table border=\"1\" class=\"dataframe\">\n",
       "  <thead>\n",
       "    <tr style=\"text-align: left;\">\n",
       "      <th>epoch</th>\n",
       "      <th>train_loss</th>\n",
       "      <th>train_accuracy</th>\n",
       "      <th>valid_loss</th>\n",
       "      <th>valid_accuracy</th>\n",
       "      <th>time</th>\n",
       "    </tr>\n",
       "  </thead>\n",
       "  <tbody>\n",
       "    <tr>\n",
       "      <td>0</td>\n",
       "      <td>1.996885</td>\n",
       "      <td>0.343120</td>\n",
       "      <td>2.570356</td>\n",
       "      <td>0.257834</td>\n",
       "      <td>00:12</td>\n",
       "    </tr>\n",
       "  </tbody>\n",
       "</table>"
      ],
      "text/plain": [
       "<IPython.core.display.HTML object>"
      ]
     },
     "metadata": {},
     "output_type": "display_data"
    },
    {
     "name": "stderr",
     "output_type": "stream",
     "text": [
      "[W pthreadpool-cpp.cc:90] Warning: Leaking Caffe2 thread-pool after fork. (function pthreadpool)\n",
      "[W pthreadpool-cpp.cc:90] Warning: Leaking Caffe2 thread-pool after fork. (function pthreadpool)\n",
      "[W pthreadpool-cpp.cc:90] Warning: Leaking Caffe2 thread-pool after fork. (function pthreadpool)\n",
      "[W pthreadpool-cpp.cc:90] Warning: Leaking Caffe2 thread-pool after fork. (function pthreadpool)\n",
      "[W pthreadpool-cpp.cc:90] Warning: Leaking Caffe2 thread-pool after fork. (function pthreadpool)\n",
      "[W pthreadpool-cpp.cc:90] Warning: Leaking Caffe2 thread-pool after fork. (function pthreadpool)\n",
      "[W pthreadpool-cpp.cc:90] Warning: Leaking Caffe2 thread-pool after fork. (function pthreadpool)\n",
      "[W pthreadpool-cpp.cc:90] Warning: Leaking Caffe2 thread-pool after fork. (function pthreadpool)\n",
      "[W pthreadpool-cpp.cc:90] Warning: Leaking Caffe2 thread-pool after fork. (function pthreadpool)\n"
     ]
    }
   ],
   "source": [
    "learn.fit(1)"
   ]
  },
  {
   "cell_type": "code",
   "execution_count": 43,
   "id": "ef1f5a36-df78-4ca5-b5e5-920793af1910",
   "metadata": {},
   "outputs": [
    {
     "data": {
      "text/plain": [
       "32768.0"
      ]
     },
     "execution_count": 43,
     "metadata": {},
     "output_type": "execute_result"
    }
   ],
   "source": [
    "learn.cbs[-1].loss_scale"
   ]
  },
  {
   "cell_type": "code",
   "execution_count": 44,
   "id": "690237a8-9dd1-47cd-a0b6-77fc83815b33",
   "metadata": {},
   "outputs": [
    {
     "name": "stdout",
     "output_type": "stream",
     "text": [
      "Traceback (most recent call last):\n",
      "  File \"/home/sandmann/repo/fastai-course-v3/nbs/dl2/selfmade/notebook2script.py\", line 3, in <module>\n",
      "    import json,fire,re\n",
      "ModuleNotFoundError: No module named 'fire'\n"
     ]
    }
   ],
   "source": [
    "!python notebook2script.py 10c_fp16.ipynb"
   ]
  },
  {
   "cell_type": "code",
   "execution_count": null,
   "id": "7718edba-8b2a-40ad-9c7b-63f4efabb74b",
   "metadata": {},
   "outputs": [],
   "source": []
  }
 ],
 "metadata": {
  "kernelspec": {
   "display_name": "Python 3 (ipykernel)",
   "language": "python",
   "name": "python3"
  },
  "language_info": {
   "codemirror_mode": {
    "name": "ipython",
    "version": 3
   },
   "file_extension": ".py",
   "mimetype": "text/x-python",
   "name": "python",
   "nbconvert_exporter": "python",
   "pygments_lexer": "ipython3",
   "version": "3.9.6"
  }
 },
 "nbformat": 4,
 "nbformat_minor": 5
}
