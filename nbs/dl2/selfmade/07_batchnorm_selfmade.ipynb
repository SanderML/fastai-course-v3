{
 "cells": [
  {
   "cell_type": "code",
   "execution_count": 1,
   "id": "8e7eb847-e780-4533-b83b-dfc18113bbfc",
   "metadata": {},
   "outputs": [],
   "source": [
    "%load_ext autoreload\n",
    "%autoreload 2\n",
    "\n",
    "%matplotlib inline"
   ]
  },
  {
   "cell_type": "code",
   "execution_count": 2,
   "id": "f2798974-b960-4e09-8647-ab2973208dcd",
   "metadata": {},
   "outputs": [],
   "source": [
    "#export\n",
    "from exp.nb_06 import *"
   ]
  },
  {
   "cell_type": "markdown",
   "id": "6433a655-0d70-4f33-bc85-33ba3927ec11",
   "metadata": {},
   "source": [
    "# ConvNet"
   ]
  },
  {
   "cell_type": "code",
   "execution_count": 3,
   "id": "bfaddeea-d2b3-454f-acd4-1ef11f9a233b",
   "metadata": {},
   "outputs": [],
   "source": [
    "x_train, y_train, x_valid, y_valid = get_data()"
   ]
  },
  {
   "cell_type": "code",
   "execution_count": 4,
   "id": "d77c8f3c-26b6-41b7-9466-07315869958f",
   "metadata": {},
   "outputs": [
    {
     "data": {
      "text/plain": [
       "(tensor(-9.9649e-10), tensor(1.0000))"
      ]
     },
     "execution_count": 4,
     "metadata": {},
     "output_type": "execute_result"
    }
   ],
   "source": [
    "x_train.mean(), x_train.std()"
   ]
  },
  {
   "cell_type": "code",
   "execution_count": 5,
   "id": "f8d8b0c3-b393-4afe-be14-64f1aadc3ec8",
   "metadata": {},
   "outputs": [],
   "source": [
    "train_ds, valid_ds = Dataset(x_train, y_train), Dataset(x_valid, y_valid)"
   ]
  },
  {
   "cell_type": "code",
   "execution_count": 6,
   "id": "7d3a9f17-0a33-4cf6-a8c0-eeeb66dc3468",
   "metadata": {},
   "outputs": [],
   "source": [
    "nh, bs = 50, 512\n",
    "c = y_train.max().item() + 1\n",
    "loss_func = F.cross_entropy"
   ]
  },
  {
   "cell_type": "code",
   "execution_count": 7,
   "id": "d645caf9-d98e-4b51-ba1c-cbd0e70e9547",
   "metadata": {},
   "outputs": [],
   "source": [
    "data = DataBunch(*get_dls(train_ds, valid_ds, bs), c)"
   ]
  },
  {
   "cell_type": "code",
   "execution_count": 8,
   "id": "85a52630-ce04-449d-b62d-2041467ffe02",
   "metadata": {},
   "outputs": [],
   "source": [
    "mnist_view = view_tfm(1,28,28)\n",
    "cbfs = [Recorder,\n",
    "        CudaCallback,\n",
    "       partial(AvgStatsCallback, accuracy),\n",
    "       partial(BatchTransformXCallback, mnist_view)]"
   ]
  },
  {
   "cell_type": "code",
   "execution_count": 9,
   "id": "7ecaef40-3813-4b38-ad28-b5f1ed6314ce",
   "metadata": {},
   "outputs": [],
   "source": [
    "nfs = [8, 16, 32, 64, 64]"
   ]
  },
  {
   "cell_type": "code",
   "execution_count": 10,
   "id": "688ffd30-41a9-4e49-8059-858f1c28dc66",
   "metadata": {},
   "outputs": [],
   "source": [
    "learn, run = get_learn_run(nfs, data, 0.5, conv_layer, cbs=cbfs)"
   ]
  },
  {
   "cell_type": "code",
   "execution_count": 11,
   "id": "7806ab67-3a84-4bc7-b5d9-01a28feaffd1",
   "metadata": {},
   "outputs": [
    {
     "name": "stdout",
     "output_type": "stream",
     "text": [
      "train: [1.2364951822916668, tensor(0.5838, device='cuda:0')]\n",
      "valid: [0.345661083984375, tensor(0.8990, device='cuda:0')]\n",
      "train: [0.21365442708333332, tensor(0.9351, device='cuda:0')]\n",
      "valid: [0.2468989013671875, tensor(0.9244, device='cuda:0')]\n",
      "CPU times: user 2.85 s, sys: 412 ms, total: 3.26 s\n",
      "Wall time: 2.88 s\n"
     ]
    }
   ],
   "source": [
    "%time run.fit(2, learn)"
   ]
  },
  {
   "cell_type": "code",
   "execution_count": 12,
   "id": "25443984-8f24-41b6-9329-e0a21dbd5086",
   "metadata": {},
   "outputs": [],
   "source": [
    "class BatchNorm(nn.Module):\n",
    "    def __init__(self, nf, mom=0.1, eps=1e-5):\n",
    "        super().__init__()\n",
    "        self.mom, self.eps = mom, eps\n",
    "        self.mults = nn.Parameter(torch.ones(nf, 1, 1))\n",
    "        self.adds = nn.Parameter(torch.zeros(nf, 1, 1))\n",
    "        self.register_buffer('means', torch.zeros(1,nf,1,1))\n",
    "        self.register_buffer('vars', torch.ones(1,nf,1,1))\n",
    "        \n",
    "    def update_stats(self, x):\n",
    "        m = x.mean((0,2,3), keepdim=True)\n",
    "        v = x.var((0,2,3), keepdim=True)\n",
    "        self.means.lerp_(m, self.mom)\n",
    "        self.vars.lerp_(v, self.mom)\n",
    "        return m, v\n",
    "    \n",
    "    def forward(self, x):\n",
    "        if self.training:\n",
    "            with torch.no_grad(): m,v = self.update_stats(x)\n",
    "        else: m, v = self.means, self.vars\n",
    "        x = (x - m) / (v + self.eps).sqrt()\n",
    "        return x * self.mults + self.adds"
   ]
  },
  {
   "cell_type": "code",
   "execution_count": 13,
   "id": "c13f12e0-29e2-4174-958c-19c4ee9d24c6",
   "metadata": {},
   "outputs": [],
   "source": [
    "def conv_layer(ni, nf, ks=3, stride=2, bn=True, **kwargs):\n",
    "    layers = [nn.Conv2d(ni, nf, ks, stride, padding=ks//2, bias=not bn),\n",
    "             GeneralRelu(**kwargs)]\n",
    "    if bn: layers.append(BatchNorm(nf))\n",
    "    return nn.Sequential(*layers)"
   ]
  },
  {
   "cell_type": "code",
   "execution_count": 14,
   "id": "0b2ef0b9-2cf6-476f-bd44-8a88f98c31c7",
   "metadata": {},
   "outputs": [],
   "source": [
    "def get_learn_run(nfs, data, lr, layer, cbs=None, opt_func=None, uniform=False, **kwargs):\n",
    "    model = get_cnn_model(data, nfs, layer)\n",
    "    init_cnn(model, uniform=uniform)\n",
    "    return get_runner(model, data, lr, cbs, opt_func)"
   ]
  },
  {
   "cell_type": "code",
   "execution_count": 15,
   "id": "94942c0c-bd62-48c7-ad73-9d926e08ec20",
   "metadata": {},
   "outputs": [],
   "source": [
    "def init_cnn(m, uniform=False):\n",
    "    f = init.kaiming_uniform_ if uniform else init.kaiming_normal_\n",
    "    init_cnn_(m, f)"
   ]
  },
  {
   "cell_type": "code",
   "execution_count": 16,
   "id": "10607f0b-8727-4cee-9466-76a7e7719b46",
   "metadata": {},
   "outputs": [],
   "source": [
    "def init_cnn_(m, f):\n",
    "    if isinstance(m, nn.Conv2d):\n",
    "        f(m.weight, a=0.1)\n",
    "        if getattr(m, 'bias', None) is not None: m.bias.data.zero_()\n",
    "    for l in m.children(): init_cnn_(l, f)"
   ]
  },
  {
   "cell_type": "code",
   "execution_count": 17,
   "id": "de8690c4-1ef3-42b5-bcdc-8c6629923523",
   "metadata": {},
   "outputs": [],
   "source": [
    "learn, run = get_learn_run(nfs, data, 0.9, conv_layer, cbfs)"
   ]
  },
  {
   "cell_type": "code",
   "execution_count": 18,
   "id": "59c261a4-1c3c-4a3c-a3c3-8071ece6b2a1",
   "metadata": {},
   "outputs": [
    {
     "data": {
      "text/plain": [
       "Sequential(\n",
       "  (0): Sequential(\n",
       "    (0): Conv2d(1, 8, kernel_size=(5, 5), stride=(2, 2), padding=(2, 2), bias=False)\n",
       "    (1): GeneralRelu()\n",
       "    (2): BatchNorm()\n",
       "  )\n",
       "  (1): Sequential(\n",
       "    (0): Conv2d(8, 16, kernel_size=(3, 3), stride=(2, 2), padding=(1, 1), bias=False)\n",
       "    (1): GeneralRelu()\n",
       "    (2): BatchNorm()\n",
       "  )\n",
       "  (2): Sequential(\n",
       "    (0): Conv2d(16, 32, kernel_size=(3, 3), stride=(2, 2), padding=(1, 1), bias=False)\n",
       "    (1): GeneralRelu()\n",
       "    (2): BatchNorm()\n",
       "  )\n",
       "  (3): Sequential(\n",
       "    (0): Conv2d(32, 64, kernel_size=(3, 3), stride=(2, 2), padding=(1, 1), bias=False)\n",
       "    (1): GeneralRelu()\n",
       "    (2): BatchNorm()\n",
       "  )\n",
       "  (4): Sequential(\n",
       "    (0): Conv2d(64, 64, kernel_size=(3, 3), stride=(2, 2), padding=(1, 1), bias=False)\n",
       "    (1): GeneralRelu()\n",
       "    (2): BatchNorm()\n",
       "  )\n",
       "  (5): AdaptiveAvgPool2d(output_size=1)\n",
       "  (6): Lambda()\n",
       "  (7): Linear(in_features=64, out_features=10, bias=True)\n",
       ")"
      ]
     },
     "execution_count": 18,
     "metadata": {},
     "output_type": "execute_result"
    }
   ],
   "source": [
    "learn.model"
   ]
  },
  {
   "cell_type": "code",
   "execution_count": 19,
   "id": "889e46e9-7a99-48d1-a3cc-1460d92fd340",
   "metadata": {},
   "outputs": [
    {
     "name": "stdout",
     "output_type": "stream",
     "text": [
      "train: [0.250506640625, tensor(0.9211, device='cuda:0')]\n",
      "valid: [0.2666080078125, tensor(0.9093, device='cuda:0')]\n"
     ]
    },
    {
     "data": {
      "image/png": "[encoded data removed]",
      "text/plain": [
       "<Figure size 720x288 with 2 Axes>"
      ]
     },
     "metadata": {
      "needs_background": "light"
     },
     "output_type": "display_data"
    },
    {
     "data": {
      "image/png": "[encoded data removed]",
      "text/plain": [
       "<Figure size 720x288 with 2 Axes>"
      ]
     },
     "metadata": {
      "needs_background": "light"
     },
     "output_type": "display_data"
    }
   ],
   "source": [
    "with Hooks(learn.model, append_stats) as hooks:\n",
    "    run.fit(1, learn)\n",
    "    \n",
    "    fig, (ax0, ax1) = plt.subplots(1, 2, figsize=(10,4))\n",
    "    for h in hooks[:-1]:\n",
    "        ms, ss = h.stats\n",
    "        ax0.plot(ms[:10])\n",
    "        ax1.plot(ss[:10])\n",
    "        h.remove()\n",
    "    plt.legend(range(6));\n",
    "    \n",
    "    fig, (ax0, ax1) = plt.subplots(1, 2, figsize=(10,4))\n",
    "    for h in hooks[:-1]:\n",
    "        ms, ss, = h.stats\n",
    "        ax0.plot(ms)\n",
    "        ax1.plot(ss)\n",
    "    plt.legend(range(6))"
   ]
  },
  {
   "cell_type": "code",
   "execution_count": 20,
   "id": "a207fa20-ab86-49bf-b01c-2048a1ef9c87",
   "metadata": {},
   "outputs": [],
   "source": [
    "learn, run = get_learn_run(nfs, data, 1.0, conv_layer, cbfs)"
   ]
  },
  {
   "cell_type": "code",
   "execution_count": 21,
   "id": "ced0f48a-3ad2-4ef3-bc0e-717a57233a16",
   "metadata": {},
   "outputs": [
    {
     "name": "stdout",
     "output_type": "stream",
     "text": [
      "train: [0.23168662109375, tensor(0.9285, device='cuda:0')]\n",
      "valid: [0.72807822265625, tensor(0.7890, device='cuda:0')]\n",
      "train: [0.08116021321614583, tensor(0.9745, device='cuda:0')]\n",
      "valid: [1.141934765625, tensor(0.7732, device='cuda:0')]\n",
      "train: [0.061000301106770835, tensor(0.9811, device='cuda:0')]\n",
      "valid: [0.08454840087890625, tensor(0.9721, device='cuda:0')]\n",
      "CPU times: user 4.34 s, sys: 684 ms, total: 5.02 s\n",
      "Wall time: 4.43 s\n"
     ]
    }
   ],
   "source": [
    "%time run.fit(3, learn)"
   ]
  },
  {
   "cell_type": "code",
   "execution_count": 22,
   "id": "6f545699-55e9-4354-8900-ae2a3a306f6a",
   "metadata": {},
   "outputs": [],
   "source": [
    "def conv_layer(ni, nf, ks=3, stride=2, bn=True, **kwargs):\n",
    "    layers = [nn.Conv2d(ni, nf, ks, stride, padding=ks//2, bias=not bn),\n",
    "             GeneralRelu(**kwargs)]\n",
    "    if bn: layers.append(nn.BatchNorm2d(nf))\n",
    "    return nn.Sequential(*layers)"
   ]
  },
  {
   "cell_type": "code",
   "execution_count": 23,
   "id": "20f52f6e-8eec-4a25-8a2f-cd95ee9fdb31",
   "metadata": {},
   "outputs": [],
   "source": [
    "learn, run = get_learn_run(nfs, data, 1., conv_layer, cbfs)"
   ]
  },
  {
   "cell_type": "code",
   "execution_count": 24,
   "id": "781e12e4-6eef-40ad-96b1-ca03193f98ed",
   "metadata": {},
   "outputs": [
    {
     "name": "stdout",
     "output_type": "stream",
     "text": [
      "train: [0.20127804361979168, tensor(0.9374, device='cuda:0')]\n",
      "valid: [0.1952510009765625, tensor(0.9389, device='cuda:0')]\n",
      "train: [0.06288533528645833, tensor(0.9804, device='cuda:0')]\n",
      "valid: [0.2620219482421875, tensor(0.9168, device='cuda:0')]\n",
      "train: [0.044371891276041665, tensor(0.9861, device='cuda:0')]\n",
      "valid: [0.04675069580078125, tensor(0.9839, device='cuda:0')]\n",
      "CPU times: user 3.97 s, sys: 623 ms, total: 4.59 s\n",
      "Wall time: 3.99 s\n"
     ]
    }
   ],
   "source": [
    "%time run.fit(3, learn)"
   ]
  },
  {
   "cell_type": "code",
   "execution_count": 25,
   "id": "96b5153e-c946-4d2a-b34f-aa3a6bf41432",
   "metadata": {},
   "outputs": [],
   "source": [
    "sched = combine_scheds([0.3, 0.7], [sched_lin(0.6, 2.), sched_lin(2., 0.1)]) "
   ]
  },
  {
   "cell_type": "code",
   "execution_count": 26,
   "id": "85b59eda-a565-4f27-94c9-ece983cb066f",
   "metadata": {},
   "outputs": [],
   "source": [
    "learn,run = get_learn_run(nfs, data, 0.9, conv_layer, cbs=cbfs\n",
    "                          +[partial(ParamScheduler,'lr', sched)])"
   ]
  },
  {
   "cell_type": "code",
   "execution_count": 27,
   "id": "f482268e-8750-458a-9cb4-0e7852777466",
   "metadata": {},
   "outputs": [
    {
     "name": "stdout",
     "output_type": "stream",
     "text": [
      "train: [0.21656790364583334, tensor(0.9344, device='cuda:0')]\n",
      "valid: [0.6639154296875, tensor(0.8461, device='cuda:0')]\n",
      "train: [0.07833378092447917, tensor(0.9762, device='cuda:0')]\n",
      "valid: [0.664198046875, tensor(0.8604, device='cuda:0')]\n",
      "train: [0.06516867268880208, tensor(0.9797, device='cuda:0')]\n",
      "valid: [0.20845068359375, tensor(0.9396, device='cuda:0')]\n",
      "train: [0.03388302205403646, tensor(0.9893, device='cuda:0')]\n",
      "valid: [0.04253231201171875, tensor(0.9861, device='cuda:0')]\n",
      "train: [0.020250750732421875, tensor(0.9938, device='cuda:0')]\n",
      "valid: [0.03288491516113281, tensor(0.9894, device='cuda:0')]\n",
      "train: [0.01224951171875, tensor(0.9965, device='cuda:0')]\n",
      "valid: [0.031375924682617184, tensor(0.9905, device='cuda:0')]\n",
      "train: [0.007890040588378906, tensor(0.9982, device='cuda:0')]\n",
      "valid: [0.0307600341796875, tensor(0.9906, device='cuda:0')]\n",
      "train: [0.005407067362467448, tensor(0.9991, device='cuda:0')]\n",
      "valid: [0.029102413940429686, tensor(0.9910, device='cuda:0')]\n"
     ]
    }
   ],
   "source": [
    "run.fit(8, learn)"
   ]
  },
  {
   "cell_type": "markdown",
   "id": "59c74a1e-4401-4844-bb89-c91e72d3f365",
   "metadata": {},
   "source": [
    "# More norms"
   ]
  },
  {
   "cell_type": "markdown",
   "id": "88ca378b-1981-4c27-a792-dd39935ab0a0",
   "metadata": {},
   "source": [
    "## Layer norms"
   ]
  },
  {
   "cell_type": "code",
   "execution_count": 29,
   "id": "c3a888f7-e719-41d4-81f2-dbf3addf9009",
   "metadata": {},
   "outputs": [],
   "source": [
    "class LayerNorm(nn.Module):\n",
    "    __constants__ = ['eps']\n",
    "    def __init__(self, eps=1e-5):\n",
    "        super().__init__()\n",
    "        self.eps = eps\n",
    "        self.mult = nn.Parameter(tensor(1.))\n",
    "        self.add = nn.Parameter(tensor(0.))\n",
    "        \n",
    "    def forward(self, x):\n",
    "        m = x.mean((1,2,3), keepdim=True)\n",
    "        v = x.var((1,2,3), keepdim=True)\n",
    "        x = (x - m) / (v + self.eps).sqrt()\n",
    "        return x * self.mult + self.add"
   ]
  },
  {
   "cell_type": "code",
   "execution_count": 30,
   "id": "556f1fe0-4719-4f92-bfb8-6ce05a7da2c7",
   "metadata": {},
   "outputs": [],
   "source": [
    "def conv_ln(ni, nf, ks=3, stride=2, bn=True, **kwargs):\n",
    "    layers = [nn.Conv2d(ni, nf, ks, stride, padding=ks//2, bias=True),\n",
    "             GeneralRelu(**kwargs)]\n",
    "    if bn: layers.append(LayerNorm())\n",
    "    return nn.Sequential(*layers)"
   ]
  },
  {
   "cell_type": "code",
   "execution_count": 34,
   "id": "ee286891-c410-40b5-84ea-9c8c69212329",
   "metadata": {},
   "outputs": [],
   "source": [
    "learn, run = get_learn_run(nfs, data, 0.8, conv_ln, cbfs)"
   ]
  },
  {
   "cell_type": "code",
   "execution_count": 35,
   "id": "5d48cbaf-ea9b-4613-8d13-2f1a71cd5285",
   "metadata": {},
   "outputs": [
    {
     "name": "stdout",
     "output_type": "stream",
     "text": [
      "train: [nan, tensor(0.1291, device='cuda:0')]\n",
      "valid: [nan, tensor(0.0980, device='cuda:0')]\n",
      "train: [nan, tensor(0.0987, device='cuda:0')]\n",
      "valid: [nan, tensor(0.0980, device='cuda:0')]\n",
      "train: [nan, tensor(0.0987, device='cuda:0')]\n",
      "valid: [nan, tensor(0.0980, device='cuda:0')]\n",
      "CPU times: user 6.14 s, sys: 632 ms, total: 6.77 s\n",
      "Wall time: 6.17 s\n"
     ]
    }
   ],
   "source": [
    "%time run.fit(3, learn)"
   ]
  },
  {
   "cell_type": "markdown",
   "id": "007d2b01-3e08-4963-a57d-5a1dfc98b57a",
   "metadata": {},
   "source": [
    "# Instance Norm"
   ]
  },
  {
   "cell_type": "code",
   "execution_count": 39,
   "id": "10b0a5a5-6b5a-4d24-8a22-9b5869fe6644",
   "metadata": {},
   "outputs": [],
   "source": [
    "class InstanceNorm(nn.Module):\n",
    "    __constants__ = ['eps']\n",
    "    def __init__(self, nf, eps=1e-5):\n",
    "        super().__init__()\n",
    "        self.eps = eps\n",
    "        self.mult = nn.Parameter(torch.ones(nf,1,1))\n",
    "        self.adds = nn.Parameter(torch.zeros(nf,1,1))\n",
    "        \n",
    "    def forward(self, x):\n",
    "        m = x.mean((2,3), keepdim=True)\n",
    "        v = x.var((2,3), keepdim=True)\n",
    "        x = (x - m) / (v + self.eps).sqrt()\n",
    "        return x * self.mult + self.adds"
   ]
  },
  {
   "cell_type": "code",
   "execution_count": 40,
   "id": "c8a3a608-e22a-4eec-bcd1-3a3a6729433e",
   "metadata": {},
   "outputs": [],
   "source": [
    "def conv_in(ni, nf, ks=3, stride=2, bn=True, **kwargs):\n",
    "    layers = [nn.Conv2d(ni, nf, ks, stride, padding=ks//2, bias=True),\n",
    "             GeneralRelu(**kwargs)]\n",
    "    if bn: layers.append(InstanceNorm(nf))\n",
    "    return nn.Sequential(*layers)"
   ]
  },
  {
   "cell_type": "code",
   "execution_count": 41,
   "id": "d59db183-60f8-46b7-841c-937bd0190548",
   "metadata": {},
   "outputs": [],
   "source": [
    "learn, run = get_learn_run(nfs, data, 0.1, conv_in, cbfs)"
   ]
  },
  {
   "cell_type": "code",
   "execution_count": 42,
   "id": "b774616a-72cf-4fd4-be2d-d0d01caf42fd",
   "metadata": {},
   "outputs": [
    {
     "name": "stdout",
     "output_type": "stream",
     "text": [
      "train: [nan, tensor(0.0987, device='cuda:0')]\n",
      "valid: [nan, tensor(0.0980, device='cuda:0')]\n",
      "train: [nan, tensor(0.0987, device='cuda:0')]\n",
      "valid: [nan, tensor(0.0980, device='cuda:0')]\n",
      "train: [nan, tensor(0.0987, device='cuda:0')]\n",
      "valid: [nan, tensor(0.0980, device='cuda:0')]\n"
     ]
    }
   ],
   "source": [
    "run.fit(3, learn)"
   ]
  },
  {
   "cell_type": "markdown",
   "id": "9c76ab4f-0c91-42e7-9633-b1b3dd945486",
   "metadata": {},
   "source": [
    "# Fix small batch sizes"
   ]
  },
  {
   "cell_type": "code",
   "execution_count": 45,
   "id": "9de04de7-b50c-449c-9284-6fe21fc17b5e",
   "metadata": {},
   "outputs": [],
   "source": [
    "data = DataBunch(*get_dls(train_ds, valid_ds, 2), c)"
   ]
  },
  {
   "cell_type": "code",
   "execution_count": 46,
   "id": "3bc09e19-9a6a-4c20-bbff-878411bd649d",
   "metadata": {},
   "outputs": [],
   "source": [
    "def conv_layer(ni, nf, ks=3, stride=2, bn=True, **kwargs):\n",
    "    layers = [nn.Conv2d(ni, nf, ks, padding=ks//2, stride=stride, bias=not bn),\n",
    "              GeneralRelu(**kwargs)]\n",
    "    if bn: layers.append(nn.BatchNorm2d(nf, eps=1e-5, momentum=0.1))\n",
    "    return nn.Sequential(*layers)"
   ]
  },
  {
   "cell_type": "code",
   "execution_count": 47,
   "id": "1764865f-4b5d-40dd-b028-b0d3d023c1e1",
   "metadata": {},
   "outputs": [],
   "source": [
    "learn,run = get_learn_run(nfs, data, 0.4, conv_layer, cbs=cbfs)"
   ]
  },
  {
   "cell_type": "code",
   "execution_count": 48,
   "id": "a8832a6f-85d6-483e-9a70-90cd80196869",
   "metadata": {},
   "outputs": [
    {
     "name": "stdout",
     "output_type": "stream",
     "text": [
      "train: [2.3072236979166667, tensor(0.1970, device='cuda:0')]\n",
      "valid: [4773628.3136, tensor(0.3419, device='cuda:0')]\n",
      "CPU times: user 2min, sys: 6.9 s, total: 2min 7s\n",
      "Wall time: 2min 5s\n"
     ]
    }
   ],
   "source": [
    "%time run.fit(1, learn)"
   ]
  },
  {
   "cell_type": "code",
   "execution_count": 51,
   "id": "843c5cb1-ff2d-4f74-ae79-0c6128814332",
   "metadata": {},
   "outputs": [],
   "source": [
    "class RunningBatchNorm(nn.Module):\n",
    "    def __init__(self, nf, mom=0.1, eps=1e-5):\n",
    "        super().__init__()\n",
    "        self.mom, self.eps = mom, eps\n",
    "        self.mults = nn.Parameter(torch.ones(nf,1,1))\n",
    "        self.adds = nn.Parameter(torch.zeros(nf,1,1))\n",
    "        self.register_buffer('sums', torch.zeros(1,nf,1,1))\n",
    "        self.register_buffer('sqrs', torch.zeros(1,nf,1,1))\n",
    "        self.register_buffer('batch', tensor(0.))\n",
    "        self.register_buffer('count', tensor(0.))\n",
    "        self.register_buffer('step', tensor(0.))\n",
    "        self.register_buffer('dbias', tensor(0.))\n",
    "     \n",
    "    def update_stats(self, x):\n",
    "        bs, nc, *_ = x.shape\n",
    "        self.sums.detach_()\n",
    "        self.sqrs.detach_()\n",
    "        dims = (0,2,3)\n",
    "        s = x.sum(dims, keepdim=True)\n",
    "        ss = (x*x).sum(dims, keepdim=True)\n",
    "        \n",
    "        c = self.count.new_tensor(x.numel() / nc)\n",
    "        mom1 = 1 - (1 - self.mom) / math.sqrt(bs-1)\n",
    "        self.mom1 = self.dbias.new_tensor(mom1)\n",
    "        self.sums.lerp_(s, self.mom1)\n",
    "        self.sqrs.lerp_(ss, self.mom1)\n",
    "        self.count.lerp_(c, self.mom1)\n",
    "        self.dbias = self.dbias * (1 - self.mom1) + self.mom1\n",
    "        self.batch += bs\n",
    "        self.step += 1\n",
    "    \n",
    "    def forward(self, x):\n",
    "        if self.training: self.update_stats(x)\n",
    "        sums = self.sums\n",
    "        sqrs = self.sqrs\n",
    "        c = self.count\n",
    "        if self.step < 100:\n",
    "            sums = sums / self.dbias\n",
    "            sqrs = sqrs / self.dbias\n",
    "            c = c / self.dbias\n",
    "        means = sums / c\n",
    "        vars = (sqrs/c).sub_(means*means)\n",
    "        \n",
    "        if bool(self.batch < 20): vars.clamp_min_(0.01)\n",
    "        x = (x - means).div_((vars.add_(self.eps)).sqrt())\n",
    "        return x.mul_(self.mults).add_(self.adds)"
   ]
  },
  {
   "cell_type": "code",
   "execution_count": 52,
   "id": "bc683822-afc5-4803-8e3a-3ca96db94b68",
   "metadata": {},
   "outputs": [],
   "source": [
    "def conv_rbn(ni, nf, ks=3, stride=2, bn=True, **kwargs):\n",
    "    layers = [nn.Conv2d(ni, nf, ks, padding=ks//2, stride=stride, bias=not bn),\n",
    "              GeneralRelu(**kwargs)]\n",
    "    if bn: layers.append(RunningBatchNorm(nf))\n",
    "    return nn.Sequential(*layers)"
   ]
  },
  {
   "cell_type": "code",
   "execution_count": 53,
   "id": "03127d83-5acf-48c2-b730-362d6c5d38c1",
   "metadata": {},
   "outputs": [],
   "source": [
    "learn,run = get_learn_run(nfs, data, 0.4, conv_rbn, cbs=cbfs)"
   ]
  },
  {
   "cell_type": "code",
   "execution_count": 54,
   "id": "f98bda38-82b2-4cbb-b505-9b1ca836ad5c",
   "metadata": {},
   "outputs": [
    {
     "name": "stdout",
     "output_type": "stream",
     "text": [
      "train: [0.37787610677083333, tensor(0.9003, device='cuda:0')]\n",
      "valid: [0.1390560546875, tensor(0.9625, device='cuda:0')]\n",
      "CPU times: user 5min 45s, sys: 39.6 s, total: 6min 24s\n",
      "Wall time: 6min 22s\n"
     ]
    }
   ],
   "source": [
    "%time run.fit(1, learn)"
   ]
  },
  {
   "cell_type": "code",
   "execution_count": 55,
   "id": "4a1ea605-4a96-4ee4-aa5a-56c4048a4153",
   "metadata": {},
   "outputs": [],
   "source": [
    "data = DataBunch(*get_dls(train_ds, valid_ds, 32), c)"
   ]
  },
  {
   "cell_type": "code",
   "execution_count": 56,
   "id": "2e6a63c7-6884-4aeb-b5b8-e669e5377a64",
   "metadata": {},
   "outputs": [],
   "source": [
    "learn,run = get_learn_run(nfs, data, 0.9, conv_rbn, cbs=cbfs\n",
    "                          +[partial(ParamScheduler,'lr', sched_lin(1., 0.2))])"
   ]
  },
  {
   "cell_type": "code",
   "execution_count": 57,
   "id": "01bcb1ce-c210-4e52-bc45-48104ad51823",
   "metadata": {},
   "outputs": [
    {
     "name": "stdout",
     "output_type": "stream",
     "text": [
      "train: [0.16644539388020832, tensor(0.9470, device='cuda:0')]\n",
      "valid: [0.0775959228515625, tensor(0.9820, device='cuda:0')]\n",
      "CPU times: user 23.2 s, sys: 2.84 s, total: 26.1 s\n",
      "Wall time: 25.8 s\n"
     ]
    }
   ],
   "source": [
    "%time run.fit(1, learn)"
   ]
  }
 ],
 "metadata": {
  "kernelspec": {
   "display_name": "Python 3 (ipykernel)",
   "language": "python",
   "name": "python3"
  },
  "language_info": {
   "codemirror_mode": {
    "name": "ipython",
    "version": 3
   },
   "file_extension": ".py",
   "mimetype": "text/x-python",
   "name": "python",
   "nbconvert_exporter": "python",
   "pygments_lexer": "ipython3",
   "version": "3.8.8"
  }
 },
 "nbformat": 4,
 "nbformat_minor": 5
}
