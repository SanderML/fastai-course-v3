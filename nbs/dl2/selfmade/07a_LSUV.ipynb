{
 "cells": [
  {
   "cell_type": "code",
   "execution_count": 1,
   "id": "481e2158-488f-45af-97bc-373dd737cdc1",
   "metadata": {},
   "outputs": [],
   "source": [
    "%load_ext autoreload\n",
    "%autoreload 2\n",
    "\n",
    "%matplotlib inline"
   ]
  },
  {
   "cell_type": "code",
   "execution_count": 2,
   "id": "a00f358e-cbb9-4e31-8d4e-b09d50726296",
   "metadata": {},
   "outputs": [],
   "source": [
    "#export\n",
    "from exp.nb_07 import *"
   ]
  },
  {
   "cell_type": "code",
   "execution_count": 3,
   "id": "9b0f0fe2-1126-4269-b3f7-359bd5892e42",
   "metadata": {},
   "outputs": [],
   "source": [
    "x_train,y_train,x_valid,y_valid = get_data()\n",
    "\n",
    "train_ds,valid_ds = Dataset(x_train, y_train),Dataset(x_valid, y_valid)\n",
    "\n",
    "nh,bs = 50,512\n",
    "c = y_train.max().item()+1\n",
    "loss_func = F.cross_entropy\n",
    "\n",
    "data = DataBunch(*get_dls(train_ds, valid_ds, bs), c)"
   ]
  },
  {
   "cell_type": "code",
   "execution_count": 4,
   "id": "491da8fb-4dda-4b7c-b2ff-0b3b293008f3",
   "metadata": {},
   "outputs": [],
   "source": [
    "mnist_view = view_tfm(1, 28, 28)\n",
    "cbfs = [Recorder,\n",
    "       partial(AvgStatsCallback, accuracy),\n",
    "       CudaCallback,\n",
    "       partial(BatchTransformXCallback, mnist_view)]"
   ]
  },
  {
   "cell_type": "code",
   "execution_count": 5,
   "id": "6f794107-3f81-4e5a-8ab8-6084a0e9350d",
   "metadata": {},
   "outputs": [],
   "source": [
    "nfs = [8, 16, 32, 64, 64]"
   ]
  },
  {
   "cell_type": "code",
   "execution_count": 8,
   "id": "1f64bc55-22fd-415f-98f4-355bacbbdc41",
   "metadata": {},
   "outputs": [],
   "source": [
    "class ConvLayer(nn.Module):\n",
    "    def __init__(self, ni, nf, ks=3, stride=2, sub=0., **kwargs):\n",
    "        super().__init__()\n",
    "        self.conv = nn.Conv2d(ni, nf, ks, stride, padding=ks//2, bias=True)\n",
    "        self.relu = GeneralRelu(sub=sub, **kwargs)\n",
    "        \n",
    "    def forward(self, x): return self.relu(self.conv(x))\n",
    "\n",
    "    @property\n",
    "    def bias(self): return -self.relu.sub\n",
    "    @bias.setter\n",
    "    def bias(self, v): self.relu.sub = -v\n",
    "    @property\n",
    "    def weight(self): return self.conv.weight"
   ]
  },
  {
   "cell_type": "code",
   "execution_count": 9,
   "id": "3307469f-5678-4929-82a7-0ba47943eb9a",
   "metadata": {},
   "outputs": [],
   "source": [
    "learn, run = get_learn_run(nfs, data, 0.6, ConvLayer, cbfs)"
   ]
  },
  {
   "cell_type": "code",
   "execution_count": 10,
   "id": "03a67afb-eb9b-47ba-b065-df16b2ed121e",
   "metadata": {},
   "outputs": [
    {
     "name": "stdout",
     "output_type": "stream",
     "text": [
      "train: [1.511159375, tensor(0.4879, device='cuda:0')]\n",
      "valid: [0.439822900390625, tensor(0.8708, device='cuda:0')]\n",
      "train: [0.17279075520833334, tensor(0.9460, device='cuda:0')]\n",
      "valid: [0.12580836181640626, tensor(0.9623, device='cuda:0')]\n"
     ]
    }
   ],
   "source": [
    "run.fit(2, learn)"
   ]
  },
  {
   "cell_type": "code",
   "execution_count": 11,
   "id": "8ca503f4-41eb-4414-8009-d91ee1707d92",
   "metadata": {},
   "outputs": [],
   "source": [
    "learn, run = get_learn_run(nfs, data, 0.6, ConvLayer, cbfs)"
   ]
  },
  {
   "cell_type": "code",
   "execution_count": 15,
   "id": "3de9c436-f005-4cfa-a8e7-441e457df64a",
   "metadata": {},
   "outputs": [],
   "source": [
    "#export \n",
    "def get_batch(dl, run):\n",
    "    run.xb, run.yb = next(iter(dl))\n",
    "    for cb in run.cbs: cb.set_runner(run)\n",
    "    run('begin_batch')\n",
    "    return run.xb, run.yb"
   ]
  },
  {
   "cell_type": "code",
   "execution_count": 16,
   "id": "c1939b10-52ed-4c2a-a606-0dc4e683350b",
   "metadata": {},
   "outputs": [],
   "source": [
    "xb, yb = get_batch(data.train_dl, run)"
   ]
  },
  {
   "cell_type": "code",
   "execution_count": 25,
   "id": "9ac1aeeb-642c-408e-a1de-b1159df8302d",
   "metadata": {},
   "outputs": [],
   "source": [
    "#export\n",
    "def find_modules(m, cond):\n",
    "    if cond(m): return [m]\n",
    "    return sum([find_modules(o, cond) for o in m.children()], [])"
   ]
  },
  {
   "cell_type": "code",
   "execution_count": 26,
   "id": "48047a02-a086-49eb-917c-c5318428de63",
   "metadata": {},
   "outputs": [],
   "source": [
    "#export\n",
    "def is_lin_layer(l):\n",
    "    lin_layers = (nn.Conv1d, nn.Conv2d, nn.Conv3d, nn.Linear, nn.ReLU)\n",
    "    return isinstance(l, lin_layers)"
   ]
  },
  {
   "cell_type": "code",
   "execution_count": 27,
   "id": "d083b726-102e-4cfe-a06a-30a98f34408d",
   "metadata": {},
   "outputs": [],
   "source": [
    "mods = find_modules(learn.model, lambda o: isinstance(o, ConvLayer))"
   ]
  },
  {
   "cell_type": "code",
   "execution_count": 28,
   "id": "ce98b6f7-0d4b-49b6-9d51-7e740802d4d3",
   "metadata": {},
   "outputs": [
    {
     "data": {
      "text/plain": [
       "[ConvLayer(\n",
       "   (conv): Conv2d(1, 8, kernel_size=(5, 5), stride=(2, 2), padding=(2, 2))\n",
       "   (relu): GeneralRelu()\n",
       " ),\n",
       " ConvLayer(\n",
       "   (conv): Conv2d(8, 16, kernel_size=(3, 3), stride=(2, 2), padding=(1, 1))\n",
       "   (relu): GeneralRelu()\n",
       " ),\n",
       " ConvLayer(\n",
       "   (conv): Conv2d(16, 32, kernel_size=(3, 3), stride=(2, 2), padding=(1, 1))\n",
       "   (relu): GeneralRelu()\n",
       " ),\n",
       " ConvLayer(\n",
       "   (conv): Conv2d(32, 64, kernel_size=(3, 3), stride=(2, 2), padding=(1, 1))\n",
       "   (relu): GeneralRelu()\n",
       " ),\n",
       " ConvLayer(\n",
       "   (conv): Conv2d(64, 64, kernel_size=(3, 3), stride=(2, 2), padding=(1, 1))\n",
       "   (relu): GeneralRelu()\n",
       " )]"
      ]
     },
     "execution_count": 28,
     "metadata": {},
     "output_type": "execute_result"
    }
   ],
   "source": [
    "mods"
   ]
  },
  {
   "cell_type": "code",
   "execution_count": 53,
   "id": "53ccac67-a041-4364-aace-64b1cfc0cd1e",
   "metadata": {},
   "outputs": [],
   "source": [
    "def append_stat(hook, mod, inp, outp):\n",
    "    d = outp.data\n",
    "    hook.mean, hook.std = d.mean().item(), d.std().item()"
   ]
  },
  {
   "cell_type": "code",
   "execution_count": 54,
   "id": "cdbd1dcd-ae53-483a-9b36-e6f9b9812475",
   "metadata": {},
   "outputs": [],
   "source": [
    "mdl = learn.model.cuda()"
   ]
  },
  {
   "cell_type": "code",
   "execution_count": 55,
   "id": "c9664674-233c-4140-9598-5e44c2b021ee",
   "metadata": {},
   "outputs": [
    {
     "name": "stdout",
     "output_type": "stream",
     "text": [
      "0.39001157879829407 0.7755716443061829\n",
      "0.4937850832939148 0.8303635716438293\n",
      "0.37032121419906616 0.6824780702590942\n",
      "0.3763061463832855 0.5989781618118286\n",
      "0.24864579737186432 0.3572244644165039\n",
      "0.24864579737186432 0.3572244644165039\n",
      "0.24864579737186432 0.3572244644165039\n",
      "0.07103578001260757 0.3224029839038849\n"
     ]
    }
   ],
   "source": [
    "with Hooks(mdl, append_stat) as hooks:\n",
    "    mdl(xb)\n",
    "    for hook in hooks: print(hook.mean, hook.std)"
   ]
  },
  {
   "cell_type": "code",
   "execution_count": 56,
   "id": "52d1cab9-f4e9-4cef-afac-d71ab84bf6e7",
   "metadata": {},
   "outputs": [
    {
     "data": {
      "text/plain": [
       "(tensor(0.0034, device='cuda:0'), tensor(1.0041, device='cuda:0'))"
      ]
     },
     "execution_count": 56,
     "metadata": {},
     "output_type": "execute_result"
    }
   ],
   "source": [
    "xb.mean(), xb.std()"
   ]
  },
  {
   "cell_type": "code",
   "execution_count": 58,
   "id": "559f158e-9616-4ee3-a914-0840964e0093",
   "metadata": {},
   "outputs": [],
   "source": [
    "#export\n",
    "def lsuv_module(m, xb):\n",
    "    h = Hook(m, append_stat)\n",
    "    \n",
    "    while mdl(xb) is not None and abs(h.mean) > 1e-3: m.bias -= h.mean\n",
    "    while mdl(xb) is not None and abs(h.std - 1) > 1e-3: m.weight.data /=h.std\n",
    "        \n",
    "    h.remove()\n",
    "    return h.mean, h.std"
   ]
  },
  {
   "cell_type": "code",
   "execution_count": 59,
   "id": "545210fa-5ec8-48bf-ad03-59f3700af965",
   "metadata": {},
   "outputs": [
    {
     "name": "stdout",
     "output_type": "stream",
     "text": [
      "(0.11285822838544846, 1.0)\n",
      "(0.01909920759499073, 0.9999998807907104)\n",
      "(0.15176896750926971, 0.9999999403953552)\n",
      "(0.1386193335056305, 0.9999999403953552)\n",
      "(0.28584790229797363, 1.0)\n"
     ]
    }
   ],
   "source": [
    "for m in mods: print(lsuv_module(m, xb))"
   ]
  },
  {
   "cell_type": "code",
   "execution_count": 60,
   "id": "e6f0c482-18b6-4727-a059-f893f62d8ed0",
   "metadata": {},
   "outputs": [
    {
     "name": "stdout",
     "output_type": "stream",
     "text": [
      "train: [0.4309011393229167, tensor(0.8622, device='cuda:0')]\n",
      "valid: [0.1174605224609375, tensor(0.9627, device='cuda:0')]\n",
      "train: [0.0897241455078125, tensor(0.9716, device='cuda:0')]\n",
      "valid: [0.11510345458984375, tensor(0.9636, device='cuda:0')]\n",
      "CPU times: user 2.79 s, sys: 382 ms, total: 3.17 s\n",
      "Wall time: 2.75 s\n"
     ]
    }
   ],
   "source": [
    "%time run.fit(2, learn)"
   ]
  },
  {
   "cell_type": "code",
   "execution_count": 61,
   "id": "8d36f783-3782-4506-b2cc-ff330a9517a6",
   "metadata": {},
   "outputs": [
    {
     "name": "stdout",
     "output_type": "stream",
     "text": [
      "Converted 07a_LSUV.ipynb to exp/nb_07a.py\n"
     ]
    }
   ],
   "source": [
    "!python notebook2script.py 07a_LSUV.ipynb"
   ]
  },
  {
   "cell_type": "code",
   "execution_count": null,
   "id": "f3819d60-c802-4451-b933-c0b699563f4e",
   "metadata": {},
   "outputs": [],
   "source": []
  }
 ],
 "metadata": {
  "kernelspec": {
   "display_name": "Python 3 (ipykernel)",
   "language": "python",
   "name": "python3"
  },
  "language_info": {
   "codemirror_mode": {
    "name": "ipython",
    "version": 3
   },
   "file_extension": ".py",
   "mimetype": "text/x-python",
   "name": "python",
   "nbconvert_exporter": "python",
   "pygments_lexer": "ipython3",
   "version": "3.8.8"
  }
 },
 "nbformat": 4,
 "nbformat_minor": 5
}
